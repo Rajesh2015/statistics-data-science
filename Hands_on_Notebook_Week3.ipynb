{
  "cells": [
    {
      "cell_type": "markdown",
      "metadata": {
        "id": "na3XXQqwxk4n"
      },
      "source": [
        "# **Concepts Covered:**\n",
        "\n",
        "- <a href = #link6>One Sample T-test for Population Mean $\\mu$</a>\n",
        "- <a href = #link7>Two Independent Sample Z-test for Equality of Means</a>\n",
        "- <a href = #link8>Two Independent Sample T-test for Equality of Means - Equal Std Dev</a>\n",
        "- <a href = #link9>Two Independent Sample T-test for Equality of Means - Unequal Std Dev</a>\n",
        "- <a href = #>Paired test for equality of means [*additional content*]</a>\n",
        "- <a href = #link10>One Proportion Z-test</a>\n",
        "- <a href = #link11>Two Proportion Z-test</a>\n",
        "- <a href = #>Chi-Square Test for Variance [*additional content*]</a>\n",
        "- <a href = #>F-test for Equality of Variances [*additional content*]</a>\n",
        "- <a href = #link14>Chi-Square Test for Independence</a>\n",
        "- <a href = #link15>One-way ANOVA Test</a>\n",
        "\n",
        "\n",
        "\n",
        "\n",
        "\n",
        "\n",
        "\n",
        "\n",
        "\n"
      ]
    },
    {
      "cell_type": "markdown",
      "source": [
        "**Note** : The 'Paired test for equality of means', 'Chi-Square Test for Variance', and 'F-test for Equality of Variances' sections are available as additional content. Please refer the hands-on notebook in 'Week 3: Additional Learning Material'."
      ],
      "metadata": {
        "id": "oJNedOx_Gufg"
      }
    },
    {
      "cell_type": "markdown",
      "metadata": {
        "id": "HCF-DTRDSwRI"
      },
      "source": [
        "## **Note**: The parameter `'alternative'` has been introduced in the SciPy version 1.6.0. Hence, it is necessary to install the required Scipy version in the system to run the code without errors."
      ]
    },
    {
      "cell_type": "code",
      "execution_count": 5,
      "metadata": {
        "id": "BdAWOL87SwRJ",
        "outputId": "71399d19-2828-4702-b567-3b5cd30884ff",
        "colab": {
          "base_uri": "https://localhost:8080/",
          "height": 0
        }
      },
      "outputs": [
        {
          "output_type": "execute_result",
          "data": {
            "text/plain": [
              "'1.13.1'"
            ],
            "application/vnd.google.colaboratory.intrinsic+json": {
              "type": "string"
            }
          },
          "metadata": {},
          "execution_count": 5
        }
      ],
      "source": [
        "# import the scipy and check the version to be sure that the version is above 1.6.1.\n",
        "import scipy\n",
        "scipy.__version__"
      ]
    },
    {
      "cell_type": "code",
      "execution_count": 6,
      "metadata": {
        "scrolled": false,
        "id": "ITvV8NYGSwRM"
      },
      "outputs": [],
      "source": [
        "# if the scipy version is lower than 1.6.1, then uncomment the below code to update the scipy package.\n",
        "#!pip install --upgrade scipy"
      ]
    },
    {
      "cell_type": "markdown",
      "metadata": {
        "id": "TIWlL6waSwRN"
      },
      "source": [
        "## Import the required packages"
      ]
    },
    {
      "cell_type": "code",
      "execution_count": 7,
      "metadata": {
        "id": "n1269wHJF96t"
      },
      "outputs": [],
      "source": [
        "#import the important packages\n",
        "import pandas as pd #library used for data manipulation and analysis\n",
        "import numpy as np # library used for working with arrays.\n",
        "import matplotlib.pyplot as plt # library for plots and visualisations\n",
        "import seaborn as sns # library for visualisations\n",
        "%matplotlib inline\n",
        "\n",
        "import scipy.stats as stats # this library contains a large number of probability distributions as well as a growing library of statistical functions."
      ]
    },
    {
      "cell_type": "markdown",
      "metadata": {
        "id": "54uwRjj0wK0t"
      },
      "source": [
        "# <a name='link6'>**One Sample T-test for Population Mean $\\mu$**</a>"
      ]
    },
    {
      "cell_type": "markdown",
      "metadata": {
        "id": "9lpoQOzkw9cb"
      },
      "source": [
        "### Let's revisit the example\n",
        "A certain food aggregator ZYX is facing stiff competition from its main rival SWG during Corona period. To retain business, ZYX is advertising that, within a radius of 5 km from the restaurant where the order is placed, it can still deliver in 40 minutes or less on the average (and changed condition has not made any impact on them).\n",
        "\n",
        "The delivery times in minutes of 25 randomly selected deliveries are given in a CSV file.\n",
        "\n",
        "Assuming the delivery distribution is approximately normal, is there enough evidence that ZYX’s claim is false?\n"
      ]
    },
    {
      "cell_type": "markdown",
      "metadata": {
        "id": "daSTqeX01t1b"
      },
      "source": [
        "### Let's write the null and alternative hypothesis\n",
        "Let $\\mu$ be the mean delivery time of the ZYX food aggregator.\n",
        "\n",
        "We will test the null hypothesis\n",
        "\n",
        ">$H_0:\\mu = 40$\n",
        "\n",
        "against the alternate hypothesis\n",
        "\n",
        ">$H_a:\\mu > 40$\n",
        "\n"
      ]
    },
    {
      "cell_type": "code",
      "source": [
        "from google.colab import drive\n",
        "drive.mount('/content/drive')\n",
        "path='/content/drive/MyDrive/Python Course'"
      ],
      "metadata": {
        "colab": {
          "base_uri": "https://localhost:8080/"
        },
        "id": "FZU4HdlCKQvk",
        "outputId": "22c42eee-b92e-4185-a788-cd49242add26"
      },
      "execution_count": 8,
      "outputs": [
        {
          "output_type": "stream",
          "name": "stdout",
          "text": [
            "Mounted at /content/drive\n"
          ]
        }
      ]
    },
    {
      "cell_type": "markdown",
      "metadata": {
        "id": "JhRo1Ebg2_1H"
      },
      "source": [
        "### Let's have a look on the sample data"
      ]
    },
    {
      "cell_type": "code",
      "execution_count": 9,
      "metadata": {
        "colab": {
          "base_uri": "https://localhost:8080/",
          "height": 206
        },
        "id": "jbZ2TScA3NNC",
        "outputId": "caf14295-af2c-4c35-e078-ec08f0ee333e"
      },
      "outputs": [
        {
          "output_type": "execute_result",
          "data": {
            "text/plain": [
              "   Delivery  Time\n",
              "0         1  39.4\n",
              "1         2  39.5\n",
              "2         3  39.7\n",
              "3         4  40.7\n",
              "4         5  40.4"
            ],
            "text/html": [
              "\n",
              "  <div id=\"df-23134203-9017-47fd-8a2e-465d5242c4a3\" class=\"colab-df-container\">\n",
              "    <div>\n",
              "<style scoped>\n",
              "    .dataframe tbody tr th:only-of-type {\n",
              "        vertical-align: middle;\n",
              "    }\n",
              "\n",
              "    .dataframe tbody tr th {\n",
              "        vertical-align: top;\n",
              "    }\n",
              "\n",
              "    .dataframe thead th {\n",
              "        text-align: right;\n",
              "    }\n",
              "</style>\n",
              "<table border=\"1\" class=\"dataframe\">\n",
              "  <thead>\n",
              "    <tr style=\"text-align: right;\">\n",
              "      <th></th>\n",
              "      <th>Delivery</th>\n",
              "      <th>Time</th>\n",
              "    </tr>\n",
              "  </thead>\n",
              "  <tbody>\n",
              "    <tr>\n",
              "      <th>0</th>\n",
              "      <td>1</td>\n",
              "      <td>39.4</td>\n",
              "    </tr>\n",
              "    <tr>\n",
              "      <th>1</th>\n",
              "      <td>2</td>\n",
              "      <td>39.5</td>\n",
              "    </tr>\n",
              "    <tr>\n",
              "      <th>2</th>\n",
              "      <td>3</td>\n",
              "      <td>39.7</td>\n",
              "    </tr>\n",
              "    <tr>\n",
              "      <th>3</th>\n",
              "      <td>4</td>\n",
              "      <td>40.7</td>\n",
              "    </tr>\n",
              "    <tr>\n",
              "      <th>4</th>\n",
              "      <td>5</td>\n",
              "      <td>40.4</td>\n",
              "    </tr>\n",
              "  </tbody>\n",
              "</table>\n",
              "</div>\n",
              "    <div class=\"colab-df-buttons\">\n",
              "\n",
              "  <div class=\"colab-df-container\">\n",
              "    <button class=\"colab-df-convert\" onclick=\"convertToInteractive('df-23134203-9017-47fd-8a2e-465d5242c4a3')\"\n",
              "            title=\"Convert this dataframe to an interactive table.\"\n",
              "            style=\"display:none;\">\n",
              "\n",
              "  <svg xmlns=\"http://www.w3.org/2000/svg\" height=\"24px\" viewBox=\"0 -960 960 960\">\n",
              "    <path d=\"M120-120v-720h720v720H120Zm60-500h600v-160H180v160Zm220 220h160v-160H400v160Zm0 220h160v-160H400v160ZM180-400h160v-160H180v160Zm440 0h160v-160H620v160ZM180-180h160v-160H180v160Zm440 0h160v-160H620v160Z\"/>\n",
              "  </svg>\n",
              "    </button>\n",
              "\n",
              "  <style>\n",
              "    .colab-df-container {\n",
              "      display:flex;\n",
              "      gap: 12px;\n",
              "    }\n",
              "\n",
              "    .colab-df-convert {\n",
              "      background-color: #E8F0FE;\n",
              "      border: none;\n",
              "      border-radius: 50%;\n",
              "      cursor: pointer;\n",
              "      display: none;\n",
              "      fill: #1967D2;\n",
              "      height: 32px;\n",
              "      padding: 0 0 0 0;\n",
              "      width: 32px;\n",
              "    }\n",
              "\n",
              "    .colab-df-convert:hover {\n",
              "      background-color: #E2EBFA;\n",
              "      box-shadow: 0px 1px 2px rgba(60, 64, 67, 0.3), 0px 1px 3px 1px rgba(60, 64, 67, 0.15);\n",
              "      fill: #174EA6;\n",
              "    }\n",
              "\n",
              "    .colab-df-buttons div {\n",
              "      margin-bottom: 4px;\n",
              "    }\n",
              "\n",
              "    [theme=dark] .colab-df-convert {\n",
              "      background-color: #3B4455;\n",
              "      fill: #D2E3FC;\n",
              "    }\n",
              "\n",
              "    [theme=dark] .colab-df-convert:hover {\n",
              "      background-color: #434B5C;\n",
              "      box-shadow: 0px 1px 3px 1px rgba(0, 0, 0, 0.15);\n",
              "      filter: drop-shadow(0px 1px 2px rgba(0, 0, 0, 0.3));\n",
              "      fill: #FFFFFF;\n",
              "    }\n",
              "  </style>\n",
              "\n",
              "    <script>\n",
              "      const buttonEl =\n",
              "        document.querySelector('#df-23134203-9017-47fd-8a2e-465d5242c4a3 button.colab-df-convert');\n",
              "      buttonEl.style.display =\n",
              "        google.colab.kernel.accessAllowed ? 'block' : 'none';\n",
              "\n",
              "      async function convertToInteractive(key) {\n",
              "        const element = document.querySelector('#df-23134203-9017-47fd-8a2e-465d5242c4a3');\n",
              "        const dataTable =\n",
              "          await google.colab.kernel.invokeFunction('convertToInteractive',\n",
              "                                                    [key], {});\n",
              "        if (!dataTable) return;\n",
              "\n",
              "        const docLinkHtml = 'Like what you see? Visit the ' +\n",
              "          '<a target=\"_blank\" href=https://colab.research.google.com/notebooks/data_table.ipynb>data table notebook</a>'\n",
              "          + ' to learn more about interactive tables.';\n",
              "        element.innerHTML = '';\n",
              "        dataTable['output_type'] = 'display_data';\n",
              "        await google.colab.output.renderOutput(dataTable, element);\n",
              "        const docLink = document.createElement('div');\n",
              "        docLink.innerHTML = docLinkHtml;\n",
              "        element.appendChild(docLink);\n",
              "      }\n",
              "    </script>\n",
              "  </div>\n",
              "\n",
              "\n",
              "<div id=\"df-1f8bae12-731a-4a27-9e7a-d37b761809f4\">\n",
              "  <button class=\"colab-df-quickchart\" onclick=\"quickchart('df-1f8bae12-731a-4a27-9e7a-d37b761809f4')\"\n",
              "            title=\"Suggest charts\"\n",
              "            style=\"display:none;\">\n",
              "\n",
              "<svg xmlns=\"http://www.w3.org/2000/svg\" height=\"24px\"viewBox=\"0 0 24 24\"\n",
              "     width=\"24px\">\n",
              "    <g>\n",
              "        <path d=\"M19 3H5c-1.1 0-2 .9-2 2v14c0 1.1.9 2 2 2h14c1.1 0 2-.9 2-2V5c0-1.1-.9-2-2-2zM9 17H7v-7h2v7zm4 0h-2V7h2v10zm4 0h-2v-4h2v4z\"/>\n",
              "    </g>\n",
              "</svg>\n",
              "  </button>\n",
              "\n",
              "<style>\n",
              "  .colab-df-quickchart {\n",
              "      --bg-color: #E8F0FE;\n",
              "      --fill-color: #1967D2;\n",
              "      --hover-bg-color: #E2EBFA;\n",
              "      --hover-fill-color: #174EA6;\n",
              "      --disabled-fill-color: #AAA;\n",
              "      --disabled-bg-color: #DDD;\n",
              "  }\n",
              "\n",
              "  [theme=dark] .colab-df-quickchart {\n",
              "      --bg-color: #3B4455;\n",
              "      --fill-color: #D2E3FC;\n",
              "      --hover-bg-color: #434B5C;\n",
              "      --hover-fill-color: #FFFFFF;\n",
              "      --disabled-bg-color: #3B4455;\n",
              "      --disabled-fill-color: #666;\n",
              "  }\n",
              "\n",
              "  .colab-df-quickchart {\n",
              "    background-color: var(--bg-color);\n",
              "    border: none;\n",
              "    border-radius: 50%;\n",
              "    cursor: pointer;\n",
              "    display: none;\n",
              "    fill: var(--fill-color);\n",
              "    height: 32px;\n",
              "    padding: 0;\n",
              "    width: 32px;\n",
              "  }\n",
              "\n",
              "  .colab-df-quickchart:hover {\n",
              "    background-color: var(--hover-bg-color);\n",
              "    box-shadow: 0 1px 2px rgba(60, 64, 67, 0.3), 0 1px 3px 1px rgba(60, 64, 67, 0.15);\n",
              "    fill: var(--button-hover-fill-color);\n",
              "  }\n",
              "\n",
              "  .colab-df-quickchart-complete:disabled,\n",
              "  .colab-df-quickchart-complete:disabled:hover {\n",
              "    background-color: var(--disabled-bg-color);\n",
              "    fill: var(--disabled-fill-color);\n",
              "    box-shadow: none;\n",
              "  }\n",
              "\n",
              "  .colab-df-spinner {\n",
              "    border: 2px solid var(--fill-color);\n",
              "    border-color: transparent;\n",
              "    border-bottom-color: var(--fill-color);\n",
              "    animation:\n",
              "      spin 1s steps(1) infinite;\n",
              "  }\n",
              "\n",
              "  @keyframes spin {\n",
              "    0% {\n",
              "      border-color: transparent;\n",
              "      border-bottom-color: var(--fill-color);\n",
              "      border-left-color: var(--fill-color);\n",
              "    }\n",
              "    20% {\n",
              "      border-color: transparent;\n",
              "      border-left-color: var(--fill-color);\n",
              "      border-top-color: var(--fill-color);\n",
              "    }\n",
              "    30% {\n",
              "      border-color: transparent;\n",
              "      border-left-color: var(--fill-color);\n",
              "      border-top-color: var(--fill-color);\n",
              "      border-right-color: var(--fill-color);\n",
              "    }\n",
              "    40% {\n",
              "      border-color: transparent;\n",
              "      border-right-color: var(--fill-color);\n",
              "      border-top-color: var(--fill-color);\n",
              "    }\n",
              "    60% {\n",
              "      border-color: transparent;\n",
              "      border-right-color: var(--fill-color);\n",
              "    }\n",
              "    80% {\n",
              "      border-color: transparent;\n",
              "      border-right-color: var(--fill-color);\n",
              "      border-bottom-color: var(--fill-color);\n",
              "    }\n",
              "    90% {\n",
              "      border-color: transparent;\n",
              "      border-bottom-color: var(--fill-color);\n",
              "    }\n",
              "  }\n",
              "</style>\n",
              "\n",
              "  <script>\n",
              "    async function quickchart(key) {\n",
              "      const quickchartButtonEl =\n",
              "        document.querySelector('#' + key + ' button');\n",
              "      quickchartButtonEl.disabled = true;  // To prevent multiple clicks.\n",
              "      quickchartButtonEl.classList.add('colab-df-spinner');\n",
              "      try {\n",
              "        const charts = await google.colab.kernel.invokeFunction(\n",
              "            'suggestCharts', [key], {});\n",
              "      } catch (error) {\n",
              "        console.error('Error during call to suggestCharts:', error);\n",
              "      }\n",
              "      quickchartButtonEl.classList.remove('colab-df-spinner');\n",
              "      quickchartButtonEl.classList.add('colab-df-quickchart-complete');\n",
              "    }\n",
              "    (() => {\n",
              "      let quickchartButtonEl =\n",
              "        document.querySelector('#df-1f8bae12-731a-4a27-9e7a-d37b761809f4 button');\n",
              "      quickchartButtonEl.style.display =\n",
              "        google.colab.kernel.accessAllowed ? 'block' : 'none';\n",
              "    })();\n",
              "  </script>\n",
              "</div>\n",
              "\n",
              "    </div>\n",
              "  </div>\n"
            ],
            "application/vnd.google.colaboratory.intrinsic+json": {
              "type": "dataframe",
              "variable_name": "fastfood",
              "summary": "{\n  \"name\": \"fastfood\",\n  \"rows\": 25,\n  \"fields\": [\n    {\n      \"column\": \"Delivery\",\n      \"properties\": {\n        \"dtype\": \"number\",\n        \"std\": 7,\n        \"min\": 1,\n        \"max\": 25,\n        \"num_unique_values\": 25,\n        \"samples\": [\n          9,\n          17,\n          1\n        ],\n        \"semantic_type\": \"\",\n        \"description\": \"\"\n      }\n    },\n    {\n      \"column\": \"Time\",\n      \"properties\": {\n        \"dtype\": \"number\",\n        \"std\": 1.741484041461956,\n        \"min\": 39.4,\n        \"max\": 45.7,\n        \"num_unique_values\": 24,\n        \"samples\": [\n          40.3,\n          44.2,\n          39.4\n        ],\n        \"semantic_type\": \"\",\n        \"description\": \"\"\n      }\n    }\n  ]\n}"
            }
          },
          "metadata": {},
          "execution_count": 9
        }
      ],
      "source": [
        "fastfood = pd.read_csv(f\"{path}/FastFood1.csv\")\n",
        "fastfood.head()"
      ]
    },
    {
      "cell_type": "markdown",
      "metadata": {
        "id": "gZkj8dfp60mY"
      },
      "source": [
        "### Let's test whether the T-test assumptions are satisfied or not\n",
        "\n",
        "* Continuous data - Yes, the delivery time is measured on a continuous scale.\n",
        "\n",
        "*   Normally distributed population and Sample size < 30 - Yes, it is assumed that the population is normal and the sample size is 25 which is less than 30.\n",
        "*   Observations are from a simple random sample - Yes, we are informed that the collected sample a simple random sample.\n",
        "*   Population standard deviation is known - No\n",
        "\n",
        "Voila! We can use T-test for this problem."
      ]
    },
    {
      "cell_type": "markdown",
      "metadata": {
        "id": "kxeP-6rx7T63"
      },
      "source": [
        "### Let's find the p-value\n",
        "\n",
        "The [`ttest_1samp()`](https://docs.scipy.org/doc/scipy/reference/generated/scipy.stats.ttest_1samp.html) function of Scipy will be used to compute the test statistic and p-value."
      ]
    },
    {
      "cell_type": "code",
      "execution_count": 10,
      "metadata": {
        "colab": {
          "base_uri": "https://localhost:8080/"
        },
        "id": "TRmdVyRM7YUz",
        "outputId": "50cd854b-74b5-4048-c819-3e1d416a4d19"
      },
      "outputs": [
        {
          "output_type": "stream",
          "name": "stdout",
          "text": [
            "The p-value is  1.4822680927543513e-05\n"
          ]
        }
      ],
      "source": [
        "#import the required functions\n",
        "from scipy.stats import ttest_1samp\n",
        "\n",
        "# calculate the test statistic and p-value\n",
        "test_stat, p_value = ttest_1samp(fastfood['Time'], popmean = 40, alternative = 'greater')\n",
        "print('The p-value is ', p_value)"
      ]
    },
    {
      "cell_type": "markdown",
      "metadata": {
        "id": "uGVihRGE8RIq"
      },
      "source": [
        "### Insight\n",
        "As the p-value is much less than the level of significance, we can reject the null hypothesis. Hence, we do not have enough significance to conclude that the mean delivery time within 5 km radius is indeed 40 min or less, as claimed by ZYX in their advertisement."
      ]
    },
    {
      "cell_type": "markdown",
      "metadata": {
        "id": "23LuDgOiv5JU"
      },
      "source": [
        "\n",
        "\n",
        "# <a name='link7'>**Two Independent Sample Z-test for Equality of Means**</a>\n",
        "\n",
        "### Let's revisit the example\n",
        "\n",
        "To compare customer satisfaction levels of two competing media channels, 150 customers of Channel 1 and 300 customers of Channel 2 were randomly selected and were asked to rate their channels on a scale of 1-5, with 1 being least satisfied and 5 most satisfied (The survey results are summarized in a CSV file). Suppose we know that, $\\sigma_1$ = 0.48 and $\\sigma_2$ = 0.49.\n",
        "\n",
        "Test at 0.05 level of significance whether the data provide sufficient evidence to conclude that channel 1 has a higher mean satisfaction rating than channel 2.\n"
      ]
    },
    {
      "cell_type": "markdown",
      "metadata": {
        "id": "FD4tTSL2v5i6"
      },
      "source": [
        "### Let's write the null and alternative hypothesis\n",
        "Let $\\mu_1, \\mu_2$ be the mean customer rating of channel 1 and channel 2 respectively.\n",
        "\n",
        "We will test the null hypothesis\n",
        "\n",
        ">$H_0:\\mu_1=\\mu_2$\n",
        "\n",
        "against the alternate hypothesis\n",
        "\n",
        ">$H_a:\\mu_1>\\mu_2$"
      ]
    },
    {
      "cell_type": "markdown",
      "metadata": {
        "id": "k6SHWGjvqZbE"
      },
      "source": [
        "### Let's have a look on the sample data"
      ]
    },
    {
      "cell_type": "code",
      "execution_count": 11,
      "metadata": {
        "colab": {
          "base_uri": "https://localhost:8080/",
          "height": 0
        },
        "id": "QQF4Wfwwqgk2",
        "outputId": "5247df67-c000-4132-de9d-2c513e555c5d"
      },
      "outputs": [
        {
          "output_type": "execute_result",
          "data": {
            "text/plain": [
              "   channel1_rating  channel2_rating\n",
              "0              3.5              3.3\n",
              "1              3.7              3.3\n",
              "2              3.0              2.9\n",
              "3              3.8              3.7\n",
              "4              3.3              4.0"
            ],
            "text/html": [
              "\n",
              "  <div id=\"df-884b8a20-159f-4c40-a5fc-84f1436f2fe7\" class=\"colab-df-container\">\n",
              "    <div>\n",
              "<style scoped>\n",
              "    .dataframe tbody tr th:only-of-type {\n",
              "        vertical-align: middle;\n",
              "    }\n",
              "\n",
              "    .dataframe tbody tr th {\n",
              "        vertical-align: top;\n",
              "    }\n",
              "\n",
              "    .dataframe thead th {\n",
              "        text-align: right;\n",
              "    }\n",
              "</style>\n",
              "<table border=\"1\" class=\"dataframe\">\n",
              "  <thead>\n",
              "    <tr style=\"text-align: right;\">\n",
              "      <th></th>\n",
              "      <th>channel1_rating</th>\n",
              "      <th>channel2_rating</th>\n",
              "    </tr>\n",
              "  </thead>\n",
              "  <tbody>\n",
              "    <tr>\n",
              "      <th>0</th>\n",
              "      <td>3.5</td>\n",
              "      <td>3.3</td>\n",
              "    </tr>\n",
              "    <tr>\n",
              "      <th>1</th>\n",
              "      <td>3.7</td>\n",
              "      <td>3.3</td>\n",
              "    </tr>\n",
              "    <tr>\n",
              "      <th>2</th>\n",
              "      <td>3.0</td>\n",
              "      <td>2.9</td>\n",
              "    </tr>\n",
              "    <tr>\n",
              "      <th>3</th>\n",
              "      <td>3.8</td>\n",
              "      <td>3.7</td>\n",
              "    </tr>\n",
              "    <tr>\n",
              "      <th>4</th>\n",
              "      <td>3.3</td>\n",
              "      <td>4.0</td>\n",
              "    </tr>\n",
              "  </tbody>\n",
              "</table>\n",
              "</div>\n",
              "    <div class=\"colab-df-buttons\">\n",
              "\n",
              "  <div class=\"colab-df-container\">\n",
              "    <button class=\"colab-df-convert\" onclick=\"convertToInteractive('df-884b8a20-159f-4c40-a5fc-84f1436f2fe7')\"\n",
              "            title=\"Convert this dataframe to an interactive table.\"\n",
              "            style=\"display:none;\">\n",
              "\n",
              "  <svg xmlns=\"http://www.w3.org/2000/svg\" height=\"24px\" viewBox=\"0 -960 960 960\">\n",
              "    <path d=\"M120-120v-720h720v720H120Zm60-500h600v-160H180v160Zm220 220h160v-160H400v160Zm0 220h160v-160H400v160ZM180-400h160v-160H180v160Zm440 0h160v-160H620v160ZM180-180h160v-160H180v160Zm440 0h160v-160H620v160Z\"/>\n",
              "  </svg>\n",
              "    </button>\n",
              "\n",
              "  <style>\n",
              "    .colab-df-container {\n",
              "      display:flex;\n",
              "      gap: 12px;\n",
              "    }\n",
              "\n",
              "    .colab-df-convert {\n",
              "      background-color: #E8F0FE;\n",
              "      border: none;\n",
              "      border-radius: 50%;\n",
              "      cursor: pointer;\n",
              "      display: none;\n",
              "      fill: #1967D2;\n",
              "      height: 32px;\n",
              "      padding: 0 0 0 0;\n",
              "      width: 32px;\n",
              "    }\n",
              "\n",
              "    .colab-df-convert:hover {\n",
              "      background-color: #E2EBFA;\n",
              "      box-shadow: 0px 1px 2px rgba(60, 64, 67, 0.3), 0px 1px 3px 1px rgba(60, 64, 67, 0.15);\n",
              "      fill: #174EA6;\n",
              "    }\n",
              "\n",
              "    .colab-df-buttons div {\n",
              "      margin-bottom: 4px;\n",
              "    }\n",
              "\n",
              "    [theme=dark] .colab-df-convert {\n",
              "      background-color: #3B4455;\n",
              "      fill: #D2E3FC;\n",
              "    }\n",
              "\n",
              "    [theme=dark] .colab-df-convert:hover {\n",
              "      background-color: #434B5C;\n",
              "      box-shadow: 0px 1px 3px 1px rgba(0, 0, 0, 0.15);\n",
              "      filter: drop-shadow(0px 1px 2px rgba(0, 0, 0, 0.3));\n",
              "      fill: #FFFFFF;\n",
              "    }\n",
              "  </style>\n",
              "\n",
              "    <script>\n",
              "      const buttonEl =\n",
              "        document.querySelector('#df-884b8a20-159f-4c40-a5fc-84f1436f2fe7 button.colab-df-convert');\n",
              "      buttonEl.style.display =\n",
              "        google.colab.kernel.accessAllowed ? 'block' : 'none';\n",
              "\n",
              "      async function convertToInteractive(key) {\n",
              "        const element = document.querySelector('#df-884b8a20-159f-4c40-a5fc-84f1436f2fe7');\n",
              "        const dataTable =\n",
              "          await google.colab.kernel.invokeFunction('convertToInteractive',\n",
              "                                                    [key], {});\n",
              "        if (!dataTable) return;\n",
              "\n",
              "        const docLinkHtml = 'Like what you see? Visit the ' +\n",
              "          '<a target=\"_blank\" href=https://colab.research.google.com/notebooks/data_table.ipynb>data table notebook</a>'\n",
              "          + ' to learn more about interactive tables.';\n",
              "        element.innerHTML = '';\n",
              "        dataTable['output_type'] = 'display_data';\n",
              "        await google.colab.output.renderOutput(dataTable, element);\n",
              "        const docLink = document.createElement('div');\n",
              "        docLink.innerHTML = docLinkHtml;\n",
              "        element.appendChild(docLink);\n",
              "      }\n",
              "    </script>\n",
              "  </div>\n",
              "\n",
              "\n",
              "<div id=\"df-92dda12d-99fc-43c1-82f0-8ead5b997981\">\n",
              "  <button class=\"colab-df-quickchart\" onclick=\"quickchart('df-92dda12d-99fc-43c1-82f0-8ead5b997981')\"\n",
              "            title=\"Suggest charts\"\n",
              "            style=\"display:none;\">\n",
              "\n",
              "<svg xmlns=\"http://www.w3.org/2000/svg\" height=\"24px\"viewBox=\"0 0 24 24\"\n",
              "     width=\"24px\">\n",
              "    <g>\n",
              "        <path d=\"M19 3H5c-1.1 0-2 .9-2 2v14c0 1.1.9 2 2 2h14c1.1 0 2-.9 2-2V5c0-1.1-.9-2-2-2zM9 17H7v-7h2v7zm4 0h-2V7h2v10zm4 0h-2v-4h2v4z\"/>\n",
              "    </g>\n",
              "</svg>\n",
              "  </button>\n",
              "\n",
              "<style>\n",
              "  .colab-df-quickchart {\n",
              "      --bg-color: #E8F0FE;\n",
              "      --fill-color: #1967D2;\n",
              "      --hover-bg-color: #E2EBFA;\n",
              "      --hover-fill-color: #174EA6;\n",
              "      --disabled-fill-color: #AAA;\n",
              "      --disabled-bg-color: #DDD;\n",
              "  }\n",
              "\n",
              "  [theme=dark] .colab-df-quickchart {\n",
              "      --bg-color: #3B4455;\n",
              "      --fill-color: #D2E3FC;\n",
              "      --hover-bg-color: #434B5C;\n",
              "      --hover-fill-color: #FFFFFF;\n",
              "      --disabled-bg-color: #3B4455;\n",
              "      --disabled-fill-color: #666;\n",
              "  }\n",
              "\n",
              "  .colab-df-quickchart {\n",
              "    background-color: var(--bg-color);\n",
              "    border: none;\n",
              "    border-radius: 50%;\n",
              "    cursor: pointer;\n",
              "    display: none;\n",
              "    fill: var(--fill-color);\n",
              "    height: 32px;\n",
              "    padding: 0;\n",
              "    width: 32px;\n",
              "  }\n",
              "\n",
              "  .colab-df-quickchart:hover {\n",
              "    background-color: var(--hover-bg-color);\n",
              "    box-shadow: 0 1px 2px rgba(60, 64, 67, 0.3), 0 1px 3px 1px rgba(60, 64, 67, 0.15);\n",
              "    fill: var(--button-hover-fill-color);\n",
              "  }\n",
              "\n",
              "  .colab-df-quickchart-complete:disabled,\n",
              "  .colab-df-quickchart-complete:disabled:hover {\n",
              "    background-color: var(--disabled-bg-color);\n",
              "    fill: var(--disabled-fill-color);\n",
              "    box-shadow: none;\n",
              "  }\n",
              "\n",
              "  .colab-df-spinner {\n",
              "    border: 2px solid var(--fill-color);\n",
              "    border-color: transparent;\n",
              "    border-bottom-color: var(--fill-color);\n",
              "    animation:\n",
              "      spin 1s steps(1) infinite;\n",
              "  }\n",
              "\n",
              "  @keyframes spin {\n",
              "    0% {\n",
              "      border-color: transparent;\n",
              "      border-bottom-color: var(--fill-color);\n",
              "      border-left-color: var(--fill-color);\n",
              "    }\n",
              "    20% {\n",
              "      border-color: transparent;\n",
              "      border-left-color: var(--fill-color);\n",
              "      border-top-color: var(--fill-color);\n",
              "    }\n",
              "    30% {\n",
              "      border-color: transparent;\n",
              "      border-left-color: var(--fill-color);\n",
              "      border-top-color: var(--fill-color);\n",
              "      border-right-color: var(--fill-color);\n",
              "    }\n",
              "    40% {\n",
              "      border-color: transparent;\n",
              "      border-right-color: var(--fill-color);\n",
              "      border-top-color: var(--fill-color);\n",
              "    }\n",
              "    60% {\n",
              "      border-color: transparent;\n",
              "      border-right-color: var(--fill-color);\n",
              "    }\n",
              "    80% {\n",
              "      border-color: transparent;\n",
              "      border-right-color: var(--fill-color);\n",
              "      border-bottom-color: var(--fill-color);\n",
              "    }\n",
              "    90% {\n",
              "      border-color: transparent;\n",
              "      border-bottom-color: var(--fill-color);\n",
              "    }\n",
              "  }\n",
              "</style>\n",
              "\n",
              "  <script>\n",
              "    async function quickchart(key) {\n",
              "      const quickchartButtonEl =\n",
              "        document.querySelector('#' + key + ' button');\n",
              "      quickchartButtonEl.disabled = true;  // To prevent multiple clicks.\n",
              "      quickchartButtonEl.classList.add('colab-df-spinner');\n",
              "      try {\n",
              "        const charts = await google.colab.kernel.invokeFunction(\n",
              "            'suggestCharts', [key], {});\n",
              "      } catch (error) {\n",
              "        console.error('Error during call to suggestCharts:', error);\n",
              "      }\n",
              "      quickchartButtonEl.classList.remove('colab-df-spinner');\n",
              "      quickchartButtonEl.classList.add('colab-df-quickchart-complete');\n",
              "    }\n",
              "    (() => {\n",
              "      let quickchartButtonEl =\n",
              "        document.querySelector('#df-92dda12d-99fc-43c1-82f0-8ead5b997981 button');\n",
              "      quickchartButtonEl.style.display =\n",
              "        google.colab.kernel.accessAllowed ? 'block' : 'none';\n",
              "    })();\n",
              "  </script>\n",
              "</div>\n",
              "\n",
              "    </div>\n",
              "  </div>\n"
            ],
            "application/vnd.google.colaboratory.intrinsic+json": {
              "type": "dataframe",
              "variable_name": "rating",
              "summary": "{\n  \"name\": \"rating\",\n  \"rows\": 300,\n  \"fields\": [\n    {\n      \"column\": \"channel1_rating\",\n      \"properties\": {\n        \"dtype\": \"number\",\n        \"std\": 0.48301995549347826,\n        \"min\": 2.3,\n        \"max\": 4.7,\n        \"num_unique_values\": 24,\n        \"samples\": [\n          4.3,\n          3.4,\n          3.5\n        ],\n        \"semantic_type\": \"\",\n        \"description\": \"\"\n      }\n    },\n    {\n      \"column\": \"channel2_rating\",\n      \"properties\": {\n        \"dtype\": \"number\",\n        \"std\": 0.48477591968629413,\n        \"min\": 2.0,\n        \"max\": 4.6,\n        \"num_unique_values\": 26,\n        \"samples\": [\n          2.7,\n          2.2,\n          3.3\n        ],\n        \"semantic_type\": \"\",\n        \"description\": \"\"\n      }\n    }\n  ]\n}"
            }
          },
          "metadata": {},
          "execution_count": 11
        }
      ],
      "source": [
        "rating = pd.read_csv(f'{path}/rating.csv')\n",
        "rating.head()"
      ]
    },
    {
      "cell_type": "code",
      "execution_count": 12,
      "metadata": {
        "colab": {
          "base_uri": "https://localhost:8080/"
        },
        "id": "6TKSnS1-r0yk",
        "outputId": "2a996e32-1bfe-4ffc-db29-0c73c7770edc",
        "scrolled": true
      },
      "outputs": [
        {
          "output_type": "stream",
          "name": "stdout",
          "text": [
            "The mean rating for channel 1 is 3.5\n",
            "The mean rating for channel 2 is 3.2\n"
          ]
        }
      ],
      "source": [
        "# find the sample means and sample standard deviations for the two samples\n",
        "print('The mean rating for channel 1 is ' + str(round(rating['channel1_rating'].mean(),1)))\n",
        "print('The mean rating for channel 2 is ' + str(round(rating['channel2_rating'].mean(), 1)))"
      ]
    },
    {
      "cell_type": "markdown",
      "metadata": {
        "id": "On9IY1NDv5yJ"
      },
      "source": [
        "\n",
        "\n",
        "### Let's test whether the Z-test assumptions are satisfied or not\n",
        "\n",
        "* Continuous data - The ratings are measured on a continuous scale.\n",
        "* Normally distributed populations or Sample sizes > 30 - Since the sample sizes are greater than 30, Central Limit Theorem states that the distribution of sample means will be normal.\n",
        "* Independent populations - As we are taking samples for two different channels, the two samples are from two independent populations.\n",
        "* Known population standard deviation $\\sigma_1$ and $\\sigma_2$ - Yes, we know the population standard deviations of both the populations.\n",
        "* Random sampling from the population - Yes, we are informed that the collected sample is a simple random sample.\n",
        "\n",
        "Voila! We can use two sample Z-test for this problem."
      ]
    },
    {
      "cell_type": "markdown",
      "metadata": {
        "id": "xPyf-mDIqqTk"
      },
      "source": [
        "### Let's find the p-value"
      ]
    },
    {
      "cell_type": "markdown",
      "source": [
        "We are going to use the below formula to calculate the z score of the test using user defined function."
      ],
      "metadata": {
        "id": "M03HBmxW0PKO"
      }
    },
    {
      "cell_type": "markdown",
      "source": [
        "## $$z=\\frac{(\\bar{x_1} - \\bar{x_2}) - (\\mu_1 - \\mu_2 )}{\\sqrt{\\frac{\\sigma_1^2}{n_1}+\\frac{\\sigma_2^2}{n_2}}}$$\n",
        "\n",
        "where\n",
        "- $\\bar{x_1}$: Sample mean of the first independent sample (sample 1)\n",
        "- $\\bar{x_2}$: Sample mean of the second independent sample (sample 2)\n",
        "- $\\mu_1$: Population mean of the first population\n",
        "- $\\mu_2$: Population mean of the second population\n",
        "- $\\sigma_1$: Population standard deviation of the first population\n",
        "- $\\sigma_2$: Population standard deviation of the second population\n",
        "- $n_1$: Sample size of the sample from the first population\n",
        "- $n_2$: Sample size of the sample from the second population\n",
        "\n",
        "In the above formula, the denominator is calculating the standard error for the difference of means. For the calculation of standard error of a single sample, we use the following formula:\n",
        "\n",
        "$$\\text{Standard error} = \\sqrt{\\frac{\\sigma^2}{n}}$$\n",
        "\n",
        "As we have two populations, we cannot use the same formula in this case. So, we add the squares of the standard errors of the individual populations and then take it's square root to get the standard error for the difference of two means."
      ],
      "metadata": {
        "id": "GgtwVXK6z9U1"
      }
    },
    {
      "cell_type": "code",
      "execution_count": 13,
      "metadata": {
        "id": "Qv9w3qxDSwRb"
      },
      "outputs": [],
      "source": [
        "# user-defined function to compare the equality of two means from two independent populations, where population standard deviations are known\n",
        "# this function returns the p-value for one tailed test\n",
        "# for two-tailed test, multiply the p-value by 2\n",
        "# To know more about the derivation of test statistic and standard error formula, please refer to the monographs and additional materials\n",
        "def ztest_2samp(X1, X2, pop_sd1, pop_sd2, n1, n2):\n",
        "    '''\n",
        "    X1 - first of the two independent samples (sample 1)\n",
        "    X2 - second of the two independent samples (sample 2)\n",
        "    pop_sd1 - population standard deviation of sample 1\n",
        "    pop_sd2 - population standard deviation of sample 2\n",
        "    n1 - size of sample 1\n",
        "    n2 - size of sample 2\n",
        "    '''\n",
        "    from numpy import sqrt, abs # import the required functions\n",
        "    from scipy.stats import norm # import the required function\n",
        "    se = sqrt(pop_sd1**2/n1 + pop_sd2**2/n2) # calculate the standard error.\n",
        "    test_stat = ((X1.mean() - X2.mean()) - 0)/ se # calculate the test statistic\n",
        "    '''\n",
        "    For the problem at hand, the null hypothesis is that the two population means are equal, i.e., mu_1 = mu_2.\n",
        "    Thus, the difference (mu_1 - mu_2) becomes zero.\n",
        "    '''\n",
        "    pval = 1 - norm.cdf(abs(test_stat)) # calculate the one-tailed p-value\n",
        "    '''\n",
        "    The abs() function is used to calculate the absolute value of the input.\n",
        "    For example, abs(-5) = 5.\n",
        "    '''\n",
        "    return pval # return the p-value"
      ]
    },
    {
      "cell_type": "code",
      "execution_count": 14,
      "metadata": {
        "colab": {
          "base_uri": "https://localhost:8080/"
        },
        "id": "a_KDzzbLrXc6",
        "outputId": "37558f33-7144-41a7-bb35-46ab39c64b9f"
      },
      "outputs": [
        {
          "output_type": "stream",
          "name": "stdout",
          "text": [
            "The P-value is 5.87973714161194e-09\n"
          ]
        }
      ],
      "source": [
        "# find the p-value using the user defined ztest_2samp() function\n",
        "p_value = ztest_2samp(rating['channel1_rating'].dropna(), rating['channel2_rating'], 0.48, 0.49, 150 ,300)\n",
        "print('The P-value is', p_value)"
      ]
    },
    {
      "cell_type": "markdown",
      "metadata": {
        "id": "6YUHgI3hxjrC"
      },
      "source": [
        "### Insight\n",
        "\n",
        "As the p-value is much less than the level of significance 0.05, we reject the null hypothesis. Thus, we have enough statistical evidence to say that channel 1 has a higher mean satisfaction rating than channel 2."
      ]
    },
    {
      "cell_type": "markdown",
      "metadata": {
        "id": "gE3YTnBx54pI"
      },
      "source": [
        "# <a name='link8'>**Two Independent Sample T-test for Equality of Means - Equal Std Dev**</a>"
      ]
    },
    {
      "cell_type": "markdown",
      "metadata": {
        "id": "2VX0ny4f6a_B"
      },
      "source": [
        "\n",
        "### Let's revisit the example\n",
        "\n",
        "\n",
        "In the lockdown period, because of working from home and increased screen time, many opted for listening to FM Radio for entertainment rather than watching Cable TV. An advertisement agency randomly collected daily usage time data (in minutes) from both type of users and stored it in a CSV file.\n",
        "\n",
        "Assuming daily Radio and TV usage time are normally distributed, do we have enough evidence to conclude that there is any difference between daily TV and Radio usage time at 0.05 significance level?\n"
      ]
    },
    {
      "cell_type": "markdown",
      "metadata": {
        "id": "QQI62wCl9JEB"
      },
      "source": [
        "### Let's write the null and alternative hypothesis\n",
        "Let $\\mu_1, \\mu_2$ be the daily mean Radio usage time and TV usage time respectively.\n",
        "\n",
        "We will test the null hypothesis\n",
        "\n",
        ">$H_0:\\mu_1=\\mu_2$\n",
        "\n",
        "against the alternate hypothesis\n",
        "\n",
        ">$H_a:\\mu_1\\neq\\mu_2$\n",
        "\n"
      ]
    },
    {
      "cell_type": "markdown",
      "metadata": {
        "id": "Bq06ETuCYEey"
      },
      "source": [
        "### Let's have a look on the sample data"
      ]
    },
    {
      "cell_type": "code",
      "execution_count": 15,
      "metadata": {
        "colab": {
          "base_uri": "https://localhost:8080/",
          "height": 0
        },
        "id": "v63O6W_byo2Z",
        "outputId": "c9c74188-b79d-4a7c-8833-eaf8916bb605"
      },
      "outputs": [
        {
          "output_type": "execute_result",
          "data": {
            "text/plain": [
              "   Cable_TV  FM_Radio\n",
              "0        22        25\n",
              "1         8        10\n",
              "2        25        29\n",
              "3        22        19\n",
              "4        12        13"
            ],
            "text/html": [
              "\n",
              "  <div id=\"df-902055bb-30de-4a3f-96f5-27e6e6ed2e6f\" class=\"colab-df-container\">\n",
              "    <div>\n",
              "<style scoped>\n",
              "    .dataframe tbody tr th:only-of-type {\n",
              "        vertical-align: middle;\n",
              "    }\n",
              "\n",
              "    .dataframe tbody tr th {\n",
              "        vertical-align: top;\n",
              "    }\n",
              "\n",
              "    .dataframe thead th {\n",
              "        text-align: right;\n",
              "    }\n",
              "</style>\n",
              "<table border=\"1\" class=\"dataframe\">\n",
              "  <thead>\n",
              "    <tr style=\"text-align: right;\">\n",
              "      <th></th>\n",
              "      <th>Cable_TV</th>\n",
              "      <th>FM_Radio</th>\n",
              "    </tr>\n",
              "  </thead>\n",
              "  <tbody>\n",
              "    <tr>\n",
              "      <th>0</th>\n",
              "      <td>22</td>\n",
              "      <td>25</td>\n",
              "    </tr>\n",
              "    <tr>\n",
              "      <th>1</th>\n",
              "      <td>8</td>\n",
              "      <td>10</td>\n",
              "    </tr>\n",
              "    <tr>\n",
              "      <th>2</th>\n",
              "      <td>25</td>\n",
              "      <td>29</td>\n",
              "    </tr>\n",
              "    <tr>\n",
              "      <th>3</th>\n",
              "      <td>22</td>\n",
              "      <td>19</td>\n",
              "    </tr>\n",
              "    <tr>\n",
              "      <th>4</th>\n",
              "      <td>12</td>\n",
              "      <td>13</td>\n",
              "    </tr>\n",
              "  </tbody>\n",
              "</table>\n",
              "</div>\n",
              "    <div class=\"colab-df-buttons\">\n",
              "\n",
              "  <div class=\"colab-df-container\">\n",
              "    <button class=\"colab-df-convert\" onclick=\"convertToInteractive('df-902055bb-30de-4a3f-96f5-27e6e6ed2e6f')\"\n",
              "            title=\"Convert this dataframe to an interactive table.\"\n",
              "            style=\"display:none;\">\n",
              "\n",
              "  <svg xmlns=\"http://www.w3.org/2000/svg\" height=\"24px\" viewBox=\"0 -960 960 960\">\n",
              "    <path d=\"M120-120v-720h720v720H120Zm60-500h600v-160H180v160Zm220 220h160v-160H400v160Zm0 220h160v-160H400v160ZM180-400h160v-160H180v160Zm440 0h160v-160H620v160ZM180-180h160v-160H180v160Zm440 0h160v-160H620v160Z\"/>\n",
              "  </svg>\n",
              "    </button>\n",
              "\n",
              "  <style>\n",
              "    .colab-df-container {\n",
              "      display:flex;\n",
              "      gap: 12px;\n",
              "    }\n",
              "\n",
              "    .colab-df-convert {\n",
              "      background-color: #E8F0FE;\n",
              "      border: none;\n",
              "      border-radius: 50%;\n",
              "      cursor: pointer;\n",
              "      display: none;\n",
              "      fill: #1967D2;\n",
              "      height: 32px;\n",
              "      padding: 0 0 0 0;\n",
              "      width: 32px;\n",
              "    }\n",
              "\n",
              "    .colab-df-convert:hover {\n",
              "      background-color: #E2EBFA;\n",
              "      box-shadow: 0px 1px 2px rgba(60, 64, 67, 0.3), 0px 1px 3px 1px rgba(60, 64, 67, 0.15);\n",
              "      fill: #174EA6;\n",
              "    }\n",
              "\n",
              "    .colab-df-buttons div {\n",
              "      margin-bottom: 4px;\n",
              "    }\n",
              "\n",
              "    [theme=dark] .colab-df-convert {\n",
              "      background-color: #3B4455;\n",
              "      fill: #D2E3FC;\n",
              "    }\n",
              "\n",
              "    [theme=dark] .colab-df-convert:hover {\n",
              "      background-color: #434B5C;\n",
              "      box-shadow: 0px 1px 3px 1px rgba(0, 0, 0, 0.15);\n",
              "      filter: drop-shadow(0px 1px 2px rgba(0, 0, 0, 0.3));\n",
              "      fill: #FFFFFF;\n",
              "    }\n",
              "  </style>\n",
              "\n",
              "    <script>\n",
              "      const buttonEl =\n",
              "        document.querySelector('#df-902055bb-30de-4a3f-96f5-27e6e6ed2e6f button.colab-df-convert');\n",
              "      buttonEl.style.display =\n",
              "        google.colab.kernel.accessAllowed ? 'block' : 'none';\n",
              "\n",
              "      async function convertToInteractive(key) {\n",
              "        const element = document.querySelector('#df-902055bb-30de-4a3f-96f5-27e6e6ed2e6f');\n",
              "        const dataTable =\n",
              "          await google.colab.kernel.invokeFunction('convertToInteractive',\n",
              "                                                    [key], {});\n",
              "        if (!dataTable) return;\n",
              "\n",
              "        const docLinkHtml = 'Like what you see? Visit the ' +\n",
              "          '<a target=\"_blank\" href=https://colab.research.google.com/notebooks/data_table.ipynb>data table notebook</a>'\n",
              "          + ' to learn more about interactive tables.';\n",
              "        element.innerHTML = '';\n",
              "        dataTable['output_type'] = 'display_data';\n",
              "        await google.colab.output.renderOutput(dataTable, element);\n",
              "        const docLink = document.createElement('div');\n",
              "        docLink.innerHTML = docLinkHtml;\n",
              "        element.appendChild(docLink);\n",
              "      }\n",
              "    </script>\n",
              "  </div>\n",
              "\n",
              "\n",
              "<div id=\"df-76079ac4-f8b1-44b1-a364-500689377805\">\n",
              "  <button class=\"colab-df-quickchart\" onclick=\"quickchart('df-76079ac4-f8b1-44b1-a364-500689377805')\"\n",
              "            title=\"Suggest charts\"\n",
              "            style=\"display:none;\">\n",
              "\n",
              "<svg xmlns=\"http://www.w3.org/2000/svg\" height=\"24px\"viewBox=\"0 0 24 24\"\n",
              "     width=\"24px\">\n",
              "    <g>\n",
              "        <path d=\"M19 3H5c-1.1 0-2 .9-2 2v14c0 1.1.9 2 2 2h14c1.1 0 2-.9 2-2V5c0-1.1-.9-2-2-2zM9 17H7v-7h2v7zm4 0h-2V7h2v10zm4 0h-2v-4h2v4z\"/>\n",
              "    </g>\n",
              "</svg>\n",
              "  </button>\n",
              "\n",
              "<style>\n",
              "  .colab-df-quickchart {\n",
              "      --bg-color: #E8F0FE;\n",
              "      --fill-color: #1967D2;\n",
              "      --hover-bg-color: #E2EBFA;\n",
              "      --hover-fill-color: #174EA6;\n",
              "      --disabled-fill-color: #AAA;\n",
              "      --disabled-bg-color: #DDD;\n",
              "  }\n",
              "\n",
              "  [theme=dark] .colab-df-quickchart {\n",
              "      --bg-color: #3B4455;\n",
              "      --fill-color: #D2E3FC;\n",
              "      --hover-bg-color: #434B5C;\n",
              "      --hover-fill-color: #FFFFFF;\n",
              "      --disabled-bg-color: #3B4455;\n",
              "      --disabled-fill-color: #666;\n",
              "  }\n",
              "\n",
              "  .colab-df-quickchart {\n",
              "    background-color: var(--bg-color);\n",
              "    border: none;\n",
              "    border-radius: 50%;\n",
              "    cursor: pointer;\n",
              "    display: none;\n",
              "    fill: var(--fill-color);\n",
              "    height: 32px;\n",
              "    padding: 0;\n",
              "    width: 32px;\n",
              "  }\n",
              "\n",
              "  .colab-df-quickchart:hover {\n",
              "    background-color: var(--hover-bg-color);\n",
              "    box-shadow: 0 1px 2px rgba(60, 64, 67, 0.3), 0 1px 3px 1px rgba(60, 64, 67, 0.15);\n",
              "    fill: var(--button-hover-fill-color);\n",
              "  }\n",
              "\n",
              "  .colab-df-quickchart-complete:disabled,\n",
              "  .colab-df-quickchart-complete:disabled:hover {\n",
              "    background-color: var(--disabled-bg-color);\n",
              "    fill: var(--disabled-fill-color);\n",
              "    box-shadow: none;\n",
              "  }\n",
              "\n",
              "  .colab-df-spinner {\n",
              "    border: 2px solid var(--fill-color);\n",
              "    border-color: transparent;\n",
              "    border-bottom-color: var(--fill-color);\n",
              "    animation:\n",
              "      spin 1s steps(1) infinite;\n",
              "  }\n",
              "\n",
              "  @keyframes spin {\n",
              "    0% {\n",
              "      border-color: transparent;\n",
              "      border-bottom-color: var(--fill-color);\n",
              "      border-left-color: var(--fill-color);\n",
              "    }\n",
              "    20% {\n",
              "      border-color: transparent;\n",
              "      border-left-color: var(--fill-color);\n",
              "      border-top-color: var(--fill-color);\n",
              "    }\n",
              "    30% {\n",
              "      border-color: transparent;\n",
              "      border-left-color: var(--fill-color);\n",
              "      border-top-color: var(--fill-color);\n",
              "      border-right-color: var(--fill-color);\n",
              "    }\n",
              "    40% {\n",
              "      border-color: transparent;\n",
              "      border-right-color: var(--fill-color);\n",
              "      border-top-color: var(--fill-color);\n",
              "    }\n",
              "    60% {\n",
              "      border-color: transparent;\n",
              "      border-right-color: var(--fill-color);\n",
              "    }\n",
              "    80% {\n",
              "      border-color: transparent;\n",
              "      border-right-color: var(--fill-color);\n",
              "      border-bottom-color: var(--fill-color);\n",
              "    }\n",
              "    90% {\n",
              "      border-color: transparent;\n",
              "      border-bottom-color: var(--fill-color);\n",
              "    }\n",
              "  }\n",
              "</style>\n",
              "\n",
              "  <script>\n",
              "    async function quickchart(key) {\n",
              "      const quickchartButtonEl =\n",
              "        document.querySelector('#' + key + ' button');\n",
              "      quickchartButtonEl.disabled = true;  // To prevent multiple clicks.\n",
              "      quickchartButtonEl.classList.add('colab-df-spinner');\n",
              "      try {\n",
              "        const charts = await google.colab.kernel.invokeFunction(\n",
              "            'suggestCharts', [key], {});\n",
              "      } catch (error) {\n",
              "        console.error('Error during call to suggestCharts:', error);\n",
              "      }\n",
              "      quickchartButtonEl.classList.remove('colab-df-spinner');\n",
              "      quickchartButtonEl.classList.add('colab-df-quickchart-complete');\n",
              "    }\n",
              "    (() => {\n",
              "      let quickchartButtonEl =\n",
              "        document.querySelector('#df-76079ac4-f8b1-44b1-a364-500689377805 button');\n",
              "      quickchartButtonEl.style.display =\n",
              "        google.colab.kernel.accessAllowed ? 'block' : 'none';\n",
              "    })();\n",
              "  </script>\n",
              "</div>\n",
              "\n",
              "    </div>\n",
              "  </div>\n"
            ],
            "application/vnd.google.colaboratory.intrinsic+json": {
              "type": "dataframe",
              "variable_name": "tvradio",
              "summary": "{\n  \"name\": \"tvradio\",\n  \"rows\": 15,\n  \"fields\": [\n    {\n      \"column\": \"Cable_TV\",\n      \"properties\": {\n        \"dtype\": \"number\",\n        \"std\": 5,\n        \"min\": 8,\n        \"max\": 26,\n        \"num_unique_values\": 11,\n        \"samples\": [\n          19,\n          22,\n          16\n        ],\n        \"semantic_type\": \"\",\n        \"description\": \"\"\n      }\n    },\n    {\n      \"column\": \"FM_Radio\",\n      \"properties\": {\n        \"dtype\": \"number\",\n        \"std\": 5,\n        \"min\": 10,\n        \"max\": 29,\n        \"num_unique_values\": 11,\n        \"samples\": [\n          28,\n          25,\n          18\n        ],\n        \"semantic_type\": \"\",\n        \"description\": \"\"\n      }\n    }\n  ]\n}"
            }
          },
          "metadata": {},
          "execution_count": 15
        }
      ],
      "source": [
        "tvradio = pd.read_csv(f'{path}/TVRadio.csv')\n",
        "tvradio.head()"
      ]
    },
    {
      "cell_type": "code",
      "execution_count": 16,
      "metadata": {
        "colab": {
          "base_uri": "https://localhost:8080/"
        },
        "id": "aJjplEcBXvnQ",
        "outputId": "654111ac-0319-49a9-8734-bea8a01ab295"
      },
      "outputs": [
        {
          "output_type": "stream",
          "name": "stdout",
          "text": [
            "The mean usage time of cable TV is 18.8\n",
            "The mean usage time of FM radio is 20.0\n",
            "The standard deviation of usage time of cable TV is 5.41\n",
            "The standard deviation of usage time of FM radio is 5.42\n"
          ]
        }
      ],
      "source": [
        "# find the sample means and sample standard deviations for the two samples\n",
        "print('The mean usage time of cable TV is ' + str(tvradio['Cable_TV'].mean()))\n",
        "print('The mean usage time of FM radio is ' + str(tvradio['FM_Radio'].mean()))\n",
        "print('The standard deviation of usage time of cable TV is ' + str(round(tvradio['Cable_TV'].std(),2)))\n",
        "print('The standard deviation of usage time of FM radio is ' + str(round(tvradio['FM_Radio'].std(),2)))"
      ]
    },
    {
      "cell_type": "markdown",
      "source": [],
      "metadata": {
        "id": "xrW-xS2SaaH8"
      }
    },
    {
      "cell_type": "markdown",
      "metadata": {
        "id": "-ZTenzwH-I6f"
      },
      "source": [
        "### Let's test whether the T-test assumptions are satisfied or not\n",
        "\n",
        "* Continuous data - Yes, the usage time is measured on a continuous scale.\n",
        "* Normally distributed populations - Yes, we are informed that the populations are assumed to be normal.\n",
        "* Independent populations - As we are taking random samples for two different type of users, the two samples are from two independent populations.\n",
        "* Equal population standard deviations - As the sample standard deviations are almost equal, the population standard deviations may be assumed to be equal.\n",
        "* Random sampling from the population - Yes, we are informed that the collected sample is a simple random sample.\n",
        "\n",
        "Voila! We can use two sample T-test for this problem.\n",
        "\n"
      ]
    },
    {
      "cell_type": "markdown",
      "metadata": {
        "id": "HaXBN9zP6rFH"
      },
      "source": [
        "### Let's find the p-value"
      ]
    },
    {
      "cell_type": "markdown",
      "source": [
        "The [`ttest_ind()`](https://docs.scipy.org/doc/scipy/reference/generated/scipy.stats.ttest_ind.html) function of Scipy will be used to compute the test statistic and p-value."
      ],
      "metadata": {
        "id": "hjYlJhmJUfGg"
      }
    },
    {
      "cell_type": "code",
      "execution_count": 17,
      "metadata": {
        "colab": {
          "base_uri": "https://localhost:8080/"
        },
        "id": "XaRGog9D8_it",
        "outputId": "672f5678-d757-4b69-e1ed-689489a25cce"
      },
      "outputs": [
        {
          "output_type": "stream",
          "name": "stdout",
          "text": [
            "The p-value is 0.5491435225558506\n"
          ]
        }
      ],
      "source": [
        "#import the required functions\n",
        "from scipy.stats import ttest_ind\n",
        "\n",
        "# find the p-value\n",
        "test_stat, p_value = ttest_ind(tvradio['Cable_TV'], tvradio['FM_Radio'], equal_var = True, alternative = 'two-sided')\n",
        "print('The p-value is ' + str(p_value))"
      ]
    },
    {
      "cell_type": "markdown",
      "metadata": {
        "id": "nU8OiJM1bTMJ"
      },
      "source": [
        "### Insight\n",
        "As the p-value(~0.55) is much greater than the level of significance, we can not reject the null hypothesis. Hence, we do not have enough significance to conclude that there is any difference between daily TV and Radio usage at 0.05 significance level."
      ]
    },
    {
      "cell_type": "markdown",
      "metadata": {
        "id": "S94HHmoe6Hlv"
      },
      "source": [
        "# <a name='link9'>**Two Independent Sample T-test for Equality of Means - Unequal Std Dev**</a>"
      ]
    },
    {
      "cell_type": "markdown",
      "metadata": {
        "id": "GF0J8cvZb_6Q"
      },
      "source": [
        "\n",
        "\n",
        "### Let's revisit the example\n",
        "\n",
        "SAT verbal scores of two groups of students are given in a CSV file. The first group, College, contains scores of students whose parents have at least a bachelor's degree and the second group, High School, contains scores of students whose parents do not have any college degree.\n",
        "\n",
        "The Education Department is interested to know whether the sample data support the theory that students show a higher population mean verbal score on SAT if their parents attain a higher level of education.\n",
        "\n",
        "Assuming SAT verbal scores for two populations are normally distributed, do we have enough statistical evidence for this at 5% significance level?"
      ]
    },
    {
      "cell_type": "markdown",
      "metadata": {
        "id": "GJuoxHuSeiZW"
      },
      "source": [
        "### Let's write the null and alternative hypothesis\n",
        "\n",
        "\n",
        "Let $\\mu_1, \\mu_2$ be the mean SAT verbal scores of **College** and **High School** groups respectively.\n",
        "\n",
        "We will test the null hypothesis\n",
        "\n",
        ">$H_0:\\mu_1=\\mu_2$\n",
        "\n",
        "against the alternate hypothesis\n",
        "\n",
        ">$H_a:\\mu_1>\\mu_2$"
      ]
    },
    {
      "cell_type": "markdown",
      "metadata": {
        "id": "k6PL8Qg6hc5I"
      },
      "source": [
        "### Let's have a look on the sample data"
      ]
    },
    {
      "cell_type": "code",
      "execution_count": 18,
      "metadata": {
        "colab": {
          "base_uri": "https://localhost:8080/",
          "height": 0
        },
        "id": "Zw4bSIVzwO7p",
        "outputId": "b5641ca1-d68a-45fc-e9fe-c3eeb6ae94ee"
      },
      "outputs": [
        {
          "output_type": "execute_result",
          "data": {
            "text/plain": [
              "   College  High School\n",
              "0      485        489.0\n",
              "1      534        507.0\n",
              "2      650        447.0\n",
              "3      554        515.0\n",
              "4      550        470.0"
            ],
            "text/html": [
              "\n",
              "  <div id=\"df-4ee89dac-fb86-4501-a892-fe36a72eea04\" class=\"colab-df-container\">\n",
              "    <div>\n",
              "<style scoped>\n",
              "    .dataframe tbody tr th:only-of-type {\n",
              "        vertical-align: middle;\n",
              "    }\n",
              "\n",
              "    .dataframe tbody tr th {\n",
              "        vertical-align: top;\n",
              "    }\n",
              "\n",
              "    .dataframe thead th {\n",
              "        text-align: right;\n",
              "    }\n",
              "</style>\n",
              "<table border=\"1\" class=\"dataframe\">\n",
              "  <thead>\n",
              "    <tr style=\"text-align: right;\">\n",
              "      <th></th>\n",
              "      <th>College</th>\n",
              "      <th>High School</th>\n",
              "    </tr>\n",
              "  </thead>\n",
              "  <tbody>\n",
              "    <tr>\n",
              "      <th>0</th>\n",
              "      <td>485</td>\n",
              "      <td>489.0</td>\n",
              "    </tr>\n",
              "    <tr>\n",
              "      <th>1</th>\n",
              "      <td>534</td>\n",
              "      <td>507.0</td>\n",
              "    </tr>\n",
              "    <tr>\n",
              "      <th>2</th>\n",
              "      <td>650</td>\n",
              "      <td>447.0</td>\n",
              "    </tr>\n",
              "    <tr>\n",
              "      <th>3</th>\n",
              "      <td>554</td>\n",
              "      <td>515.0</td>\n",
              "    </tr>\n",
              "    <tr>\n",
              "      <th>4</th>\n",
              "      <td>550</td>\n",
              "      <td>470.0</td>\n",
              "    </tr>\n",
              "  </tbody>\n",
              "</table>\n",
              "</div>\n",
              "    <div class=\"colab-df-buttons\">\n",
              "\n",
              "  <div class=\"colab-df-container\">\n",
              "    <button class=\"colab-df-convert\" onclick=\"convertToInteractive('df-4ee89dac-fb86-4501-a892-fe36a72eea04')\"\n",
              "            title=\"Convert this dataframe to an interactive table.\"\n",
              "            style=\"display:none;\">\n",
              "\n",
              "  <svg xmlns=\"http://www.w3.org/2000/svg\" height=\"24px\" viewBox=\"0 -960 960 960\">\n",
              "    <path d=\"M120-120v-720h720v720H120Zm60-500h600v-160H180v160Zm220 220h160v-160H400v160Zm0 220h160v-160H400v160ZM180-400h160v-160H180v160Zm440 0h160v-160H620v160ZM180-180h160v-160H180v160Zm440 0h160v-160H620v160Z\"/>\n",
              "  </svg>\n",
              "    </button>\n",
              "\n",
              "  <style>\n",
              "    .colab-df-container {\n",
              "      display:flex;\n",
              "      gap: 12px;\n",
              "    }\n",
              "\n",
              "    .colab-df-convert {\n",
              "      background-color: #E8F0FE;\n",
              "      border: none;\n",
              "      border-radius: 50%;\n",
              "      cursor: pointer;\n",
              "      display: none;\n",
              "      fill: #1967D2;\n",
              "      height: 32px;\n",
              "      padding: 0 0 0 0;\n",
              "      width: 32px;\n",
              "    }\n",
              "\n",
              "    .colab-df-convert:hover {\n",
              "      background-color: #E2EBFA;\n",
              "      box-shadow: 0px 1px 2px rgba(60, 64, 67, 0.3), 0px 1px 3px 1px rgba(60, 64, 67, 0.15);\n",
              "      fill: #174EA6;\n",
              "    }\n",
              "\n",
              "    .colab-df-buttons div {\n",
              "      margin-bottom: 4px;\n",
              "    }\n",
              "\n",
              "    [theme=dark] .colab-df-convert {\n",
              "      background-color: #3B4455;\n",
              "      fill: #D2E3FC;\n",
              "    }\n",
              "\n",
              "    [theme=dark] .colab-df-convert:hover {\n",
              "      background-color: #434B5C;\n",
              "      box-shadow: 0px 1px 3px 1px rgba(0, 0, 0, 0.15);\n",
              "      filter: drop-shadow(0px 1px 2px rgba(0, 0, 0, 0.3));\n",
              "      fill: #FFFFFF;\n",
              "    }\n",
              "  </style>\n",
              "\n",
              "    <script>\n",
              "      const buttonEl =\n",
              "        document.querySelector('#df-4ee89dac-fb86-4501-a892-fe36a72eea04 button.colab-df-convert');\n",
              "      buttonEl.style.display =\n",
              "        google.colab.kernel.accessAllowed ? 'block' : 'none';\n",
              "\n",
              "      async function convertToInteractive(key) {\n",
              "        const element = document.querySelector('#df-4ee89dac-fb86-4501-a892-fe36a72eea04');\n",
              "        const dataTable =\n",
              "          await google.colab.kernel.invokeFunction('convertToInteractive',\n",
              "                                                    [key], {});\n",
              "        if (!dataTable) return;\n",
              "\n",
              "        const docLinkHtml = 'Like what you see? Visit the ' +\n",
              "          '<a target=\"_blank\" href=https://colab.research.google.com/notebooks/data_table.ipynb>data table notebook</a>'\n",
              "          + ' to learn more about interactive tables.';\n",
              "        element.innerHTML = '';\n",
              "        dataTable['output_type'] = 'display_data';\n",
              "        await google.colab.output.renderOutput(dataTable, element);\n",
              "        const docLink = document.createElement('div');\n",
              "        docLink.innerHTML = docLinkHtml;\n",
              "        element.appendChild(docLink);\n",
              "      }\n",
              "    </script>\n",
              "  </div>\n",
              "\n",
              "\n",
              "<div id=\"df-effe2909-838c-4f13-bf59-72016aac1bb8\">\n",
              "  <button class=\"colab-df-quickchart\" onclick=\"quickchart('df-effe2909-838c-4f13-bf59-72016aac1bb8')\"\n",
              "            title=\"Suggest charts\"\n",
              "            style=\"display:none;\">\n",
              "\n",
              "<svg xmlns=\"http://www.w3.org/2000/svg\" height=\"24px\"viewBox=\"0 0 24 24\"\n",
              "     width=\"24px\">\n",
              "    <g>\n",
              "        <path d=\"M19 3H5c-1.1 0-2 .9-2 2v14c0 1.1.9 2 2 2h14c1.1 0 2-.9 2-2V5c0-1.1-.9-2-2-2zM9 17H7v-7h2v7zm4 0h-2V7h2v10zm4 0h-2v-4h2v4z\"/>\n",
              "    </g>\n",
              "</svg>\n",
              "  </button>\n",
              "\n",
              "<style>\n",
              "  .colab-df-quickchart {\n",
              "      --bg-color: #E8F0FE;\n",
              "      --fill-color: #1967D2;\n",
              "      --hover-bg-color: #E2EBFA;\n",
              "      --hover-fill-color: #174EA6;\n",
              "      --disabled-fill-color: #AAA;\n",
              "      --disabled-bg-color: #DDD;\n",
              "  }\n",
              "\n",
              "  [theme=dark] .colab-df-quickchart {\n",
              "      --bg-color: #3B4455;\n",
              "      --fill-color: #D2E3FC;\n",
              "      --hover-bg-color: #434B5C;\n",
              "      --hover-fill-color: #FFFFFF;\n",
              "      --disabled-bg-color: #3B4455;\n",
              "      --disabled-fill-color: #666;\n",
              "  }\n",
              "\n",
              "  .colab-df-quickchart {\n",
              "    background-color: var(--bg-color);\n",
              "    border: none;\n",
              "    border-radius: 50%;\n",
              "    cursor: pointer;\n",
              "    display: none;\n",
              "    fill: var(--fill-color);\n",
              "    height: 32px;\n",
              "    padding: 0;\n",
              "    width: 32px;\n",
              "  }\n",
              "\n",
              "  .colab-df-quickchart:hover {\n",
              "    background-color: var(--hover-bg-color);\n",
              "    box-shadow: 0 1px 2px rgba(60, 64, 67, 0.3), 0 1px 3px 1px rgba(60, 64, 67, 0.15);\n",
              "    fill: var(--button-hover-fill-color);\n",
              "  }\n",
              "\n",
              "  .colab-df-quickchart-complete:disabled,\n",
              "  .colab-df-quickchart-complete:disabled:hover {\n",
              "    background-color: var(--disabled-bg-color);\n",
              "    fill: var(--disabled-fill-color);\n",
              "    box-shadow: none;\n",
              "  }\n",
              "\n",
              "  .colab-df-spinner {\n",
              "    border: 2px solid var(--fill-color);\n",
              "    border-color: transparent;\n",
              "    border-bottom-color: var(--fill-color);\n",
              "    animation:\n",
              "      spin 1s steps(1) infinite;\n",
              "  }\n",
              "\n",
              "  @keyframes spin {\n",
              "    0% {\n",
              "      border-color: transparent;\n",
              "      border-bottom-color: var(--fill-color);\n",
              "      border-left-color: var(--fill-color);\n",
              "    }\n",
              "    20% {\n",
              "      border-color: transparent;\n",
              "      border-left-color: var(--fill-color);\n",
              "      border-top-color: var(--fill-color);\n",
              "    }\n",
              "    30% {\n",
              "      border-color: transparent;\n",
              "      border-left-color: var(--fill-color);\n",
              "      border-top-color: var(--fill-color);\n",
              "      border-right-color: var(--fill-color);\n",
              "    }\n",
              "    40% {\n",
              "      border-color: transparent;\n",
              "      border-right-color: var(--fill-color);\n",
              "      border-top-color: var(--fill-color);\n",
              "    }\n",
              "    60% {\n",
              "      border-color: transparent;\n",
              "      border-right-color: var(--fill-color);\n",
              "    }\n",
              "    80% {\n",
              "      border-color: transparent;\n",
              "      border-right-color: var(--fill-color);\n",
              "      border-bottom-color: var(--fill-color);\n",
              "    }\n",
              "    90% {\n",
              "      border-color: transparent;\n",
              "      border-bottom-color: var(--fill-color);\n",
              "    }\n",
              "  }\n",
              "</style>\n",
              "\n",
              "  <script>\n",
              "    async function quickchart(key) {\n",
              "      const quickchartButtonEl =\n",
              "        document.querySelector('#' + key + ' button');\n",
              "      quickchartButtonEl.disabled = true;  // To prevent multiple clicks.\n",
              "      quickchartButtonEl.classList.add('colab-df-spinner');\n",
              "      try {\n",
              "        const charts = await google.colab.kernel.invokeFunction(\n",
              "            'suggestCharts', [key], {});\n",
              "      } catch (error) {\n",
              "        console.error('Error during call to suggestCharts:', error);\n",
              "      }\n",
              "      quickchartButtonEl.classList.remove('colab-df-spinner');\n",
              "      quickchartButtonEl.classList.add('colab-df-quickchart-complete');\n",
              "    }\n",
              "    (() => {\n",
              "      let quickchartButtonEl =\n",
              "        document.querySelector('#df-effe2909-838c-4f13-bf59-72016aac1bb8 button');\n",
              "      quickchartButtonEl.style.display =\n",
              "        google.colab.kernel.accessAllowed ? 'block' : 'none';\n",
              "    })();\n",
              "  </script>\n",
              "</div>\n",
              "\n",
              "    </div>\n",
              "  </div>\n"
            ],
            "application/vnd.google.colaboratory.intrinsic+json": {
              "type": "dataframe",
              "variable_name": "satscore",
              "summary": "{\n  \"name\": \"satscore\",\n  \"rows\": 16,\n  \"fields\": [\n    {\n      \"column\": \"College\",\n      \"properties\": {\n        \"dtype\": \"number\",\n        \"std\": 59,\n        \"min\": 410,\n        \"max\": 650,\n        \"num_unique_values\": 16,\n        \"samples\": [\n          485,\n          534,\n          572\n        ],\n        \"semantic_type\": \"\",\n        \"description\": \"\"\n      }\n    },\n    {\n      \"column\": \"High School\",\n      \"properties\": {\n        \"dtype\": \"number\",\n        \"std\": 31.0951618569367,\n        \"min\": 424.0,\n        \"max\": 515.0,\n        \"num_unique_values\": 12,\n        \"samples\": [\n          512.0,\n          441.0,\n          489.0\n        ],\n        \"semantic_type\": \"\",\n        \"description\": \"\"\n      }\n    }\n  ]\n}"
            }
          },
          "metadata": {},
          "execution_count": 18
        }
      ],
      "source": [
        "# import the data\n",
        "satscore = pd.read_csv(f'{path}/SATVerbal1.csv')\n",
        "satscore.head()"
      ]
    },
    {
      "cell_type": "code",
      "execution_count": 19,
      "metadata": {
        "colab": {
          "base_uri": "https://localhost:8080/"
        },
        "id": "I5ZaAJuwwslO",
        "outputId": "e960d47b-f434-48ce-f552-b3fc16611fd7"
      },
      "outputs": [
        {
          "output_type": "stream",
          "name": "stdout",
          "text": [
            "The mean SAT verbal score for College group is 525.0\n",
            "The mean SAT verbal score for High School group is 480.0\n",
            "The standard deviation of SAT verbal score for College group is 59.42\n",
            "The standard deviation of SAT verbal score for High School group is 31.1\n"
          ]
        }
      ],
      "source": [
        "# find the sample means and sample standard deviations for the two samples\n",
        "print('The mean SAT verbal score for College group is ' + str(satscore['College'].mean()))\n",
        "print('The mean SAT verbal score for High School group is ' + str(satscore['High School'].mean()))\n",
        "print('The standard deviation of SAT verbal score for College group is ' + str(round(satscore['College'].std(), 2)))\n",
        "print('The standard deviation of SAT verbal score for High School group is ' + str(round(satscore['High School'].std(), 2)))"
      ]
    },
    {
      "cell_type": "markdown",
      "metadata": {
        "id": "llTtGBvx6WeR"
      },
      "source": [
        "### Let's test whether the T-test assumptions are satisfied or not\n",
        "\n",
        "* Continuous data - Yes, the SAT score is measured on a continuous scale.\n",
        "* Normally distributed populations - Yes, we are informed that the populations are assumed to be normal.\n",
        "* Independent populations - As we are taking random samples for two different groups, the two samples are from two independent populations.\n",
        "* Unequal population standard deviations - As the sample standard deviations are different, the population standard deviations may be assumed to be different.\n",
        "* Random sampling from the population - Yes, we are informed that the collected sample a simple random sample.\n",
        "\n",
        "Voila! We can use two sample T-test for this problem.\n",
        "\n"
      ]
    },
    {
      "cell_type": "markdown",
      "metadata": {
        "id": "FLK0t0VL6vMg"
      },
      "source": [
        "### Let's find the p-value"
      ]
    },
    {
      "cell_type": "markdown",
      "source": [
        "The [`ttest_ind()`](https://docs.scipy.org/doc/scipy/reference/generated/scipy.stats.ttest_ind.html) function of Scipy will be used to compute the test statistic and p-value."
      ],
      "metadata": {
        "id": "DMa4ID82Velv"
      }
    },
    {
      "cell_type": "code",
      "execution_count": 20,
      "metadata": {
        "colab": {
          "base_uri": "https://localhost:8080/"
        },
        "id": "aXKIJXB66wCU",
        "outputId": "409c3826-b5aa-4a18-a97d-97d9a5c6d63c"
      },
      "outputs": [
        {
          "output_type": "stream",
          "name": "stdout",
          "text": [
            "The p-value is  0.008034956026490195\n"
          ]
        }
      ],
      "source": [
        "#import the required functions\n",
        "from scipy.stats import ttest_ind\n",
        "\n",
        "# find the p-value\n",
        "test_stat, p_value = ttest_ind(satscore['College'], satscore['High School'].dropna(), equal_var = False, alternative = 'greater')\n",
        "print('The p-value is ', p_value)"
      ]
    },
    {
      "cell_type": "markdown",
      "metadata": {
        "id": "7xvyDESl8GXn"
      },
      "source": [
        "### Insight\n",
        "As the p-value (~0.008) is less than the level of significance, we can reject the null hypothesis. Hence, we do have enough evidence to support the claim that students show a higher population mean verbal score on SAT if their parents attain a higher level of education."
      ]
    },
    {
      "cell_type": "code",
      "source": [
        "import scipy.stats as stats\n",
        "import numpy as np\n",
        "\n",
        "# scores of two groups (0 and 1) of students\n",
        "scores = np.array([[49, 0],[53, 1],[56, 1],[43, 1],[45, 1],[53, 1],[45, 1],[56, 1],[51, 0],[43, 0],[47, 1],[44, 0],[51, 0],[53, 1],[50, 0],[54, 0],[51, 0],[51, 1],[46, 0],[47, 1]])\n",
        "\n",
        "# Separating the data into 2 groups\n",
        "\n",
        "group1 = scores[scores[:, 1] == 0] # elements of the array where group == 0\n",
        "group1 = group1[:, 0] # scores of group 0 students\n",
        "group2 = scores[scores[:, 1] == 1] # elements of the array where group == 1\n",
        "group2 = group2[:, 0] # scores of group 1 students\n",
        "\n",
        "#applying t-test to check if the scores of group 0 and group 1 students are indeed different\n",
        "stats.ttest_ind(group1, group2, equal_var = False)"
      ],
      "metadata": {
        "colab": {
          "base_uri": "https://localhost:8080/"
        },
        "id": "qcr--LP706pD",
        "outputId": "3f966983-7c16-431d-a8a4-a72aea6c798f"
      },
      "execution_count": 21,
      "outputs": [
        {
          "output_type": "execute_result",
          "data": {
            "text/plain": [
              "TtestResult(statistic=-0.607694899652158, pvalue=0.5509860214402561, df=17.98688825272457)"
            ]
          },
          "metadata": {},
          "execution_count": 21
        }
      ]
    },
    {
      "cell_type": "markdown",
      "metadata": {
        "id": "7fKq990WGyjJ"
      },
      "source": [
        "\n",
        "# <a name='link10'>**One Proportion Z-test**</a>\n",
        "\n",
        "### Let's revisit the example\n",
        "\n",
        "A researcher claims that Democratic party will win in the next United States Presidential election.\n",
        "\n",
        "To test her belief the researcher randomly surveyed 90 people and 24 out of them said that they voted for Democratic party.\n",
        "\n",
        "Is there enough evidence at 𝛂 = 0.05 to support this claim?\n"
      ]
    },
    {
      "cell_type": "markdown",
      "metadata": {
        "id": "TR0HTVFNP0rI"
      },
      "source": [
        "### Let's write the null and alternative hypotheses\n",
        "\n",
        "The claim is that the Democratic party will win in the next United States Presidential election. In order to win the election, the Democratic party will need more than half of the total votes. If $p$ denotes the proportion of people who voted for the Democratic party, then $p$ should be greater than 0.5 for them to win (i.e., the proportion of people voting for the Democratic party should be greater than 50%)\n",
        "\n",
        "The researcher will test the null hypothesis\n",
        "\n",
        ">$H_0:p \\leq 0.5$\n",
        "\n",
        "against the alternate hypothesis\n",
        "\n",
        ">$H_a:p > 0.5$"
      ]
    },
    {
      "cell_type": "markdown",
      "metadata": {
        "id": "8mVMkj0EQ4sW"
      },
      "source": [
        "### Let's test whether the Z-test assumptions are satisfied or not\n",
        "\n",
        "*   Binomally distributed population - Yes, people either vote for Democratic or Republic party\n",
        "*   Random sampling from the population - Yes, the researcher conducted a random survey\n",
        "*   Can the binomial distribution approximated to normal distribution - Yes. For binary data, CLT works slower than usual. The standard thing is to check whether np and n(1-p) are greater than or equal to 10. Here, n and p refer to the sample size and sample proportion respectively.\n",
        ">$np = 90\\cdot \\frac{24}{90} =24 \\geq 10\\\\\n",
        "n(1-p) = 90 \\cdot \\frac{90-24}{90} =66 \\geq 10$\n"
      ]
    },
    {
      "cell_type": "markdown",
      "metadata": {
        "id": "MUf9drG-ZzQV"
      },
      "source": [
        "### Let's find the p-value"
      ]
    },
    {
      "cell_type": "markdown",
      "source": [
        "In this case the test statistic is calculated using the [`proportions_ztest()`](https://www.statsmodels.org/devel/generated/statsmodels.stats.proportion.proportions_ztest.html) function of statsmodels. The function is used as follows:\n",
        "\n",
        "`proportions_ztest(count, nobs, value=None, alternative='two-sided')`\n",
        "\n",
        "where\n",
        "\n",
        "- `count`: the number of successes in nobs trials.\n",
        "- `nobs`: the number of trials or observations, with the same length as count.\n",
        "- `value`: This is the value of the null hypothesis equal to the proportion in the case of a one-sample test. In the case of a two-sample test, the null hypothesis is that prop[0] - prop[1] = value, where prop is the proportion in the two samples. If not provided value = 0 and the null is prop[0] = prop[1]\n",
        "- `alternative`: This decides the tail of the test. It can take the values : [‘two-sided’, ‘smaller’, ‘larger’]"
      ],
      "metadata": {
        "id": "YmyRcjkq5Too"
      }
    },
    {
      "cell_type": "code",
      "execution_count": 22,
      "metadata": {
        "colab": {
          "base_uri": "https://localhost:8080/"
        },
        "id": "kj47KnHHYZov",
        "outputId": "30d5605f-4e05-4154-bc83-9060ae87bce4"
      },
      "outputs": [
        {
          "output_type": "stream",
          "name": "stdout",
          "text": [
            "The p-value is 0.9999997216721324\n"
          ]
        }
      ],
      "source": [
        "# import the required fuction\n",
        "from statsmodels.stats.proportion import proportions_ztest\n",
        "\n",
        "# find the p-value\n",
        "test_stat, p_value = proportions_ztest(24, 90, value = 0.5, alternative = 'larger')\n",
        "print('The p-value is ' + str(p_value))"
      ]
    },
    {
      "cell_type": "markdown",
      "metadata": {
        "id": "OdpMB1Qocutc"
      },
      "source": [
        "### Insight\n",
        "\n",
        "As the p-value is much greater than the significance level 0.05, we can not reject the null hypothesis. Thus, the researcher do not have enough statistical significance to claim that Democratic party will win in the next United States Presidential election at 5% significance level."
      ]
    },
    {
      "cell_type": "code",
      "source": [
        "from statsmodels.stats.proportion import proportions_ztest\n",
        "proportions_ztest(count = 129, nobs = 150, value = 0.9, alternative = 'smaller')"
      ],
      "metadata": {
        "colab": {
          "base_uri": "https://localhost:8080/"
        },
        "id": "70EVl1L6IW65",
        "outputId": "7e761fcb-c31f-473d-9322-b880116b6705"
      },
      "execution_count": 23,
      "outputs": [
        {
          "output_type": "execute_result",
          "data": {
            "text/plain": [
              "(-1.4118624160050361, 0.07899523801234237)"
            ]
          },
          "metadata": {},
          "execution_count": 23
        }
      ]
    },
    {
      "cell_type": "markdown",
      "metadata": {
        "id": "WvHJiRuF6guQ"
      },
      "source": [
        "# <a name='link11'>**Two Proportion Z-test**</a>"
      ]
    },
    {
      "cell_type": "markdown",
      "metadata": {
        "id": "cn-dYLgzF69x"
      },
      "source": [
        "### Let's revisit the example\n",
        "\n",
        "A car manufacturer aims to improve its products' quality by reducing the defects. So, the manufacturer randomly checks the efficiency of two assembly lines in the shop floor. In line 1, there are 20 defects out of 200 samples and In line 2, there are 25 defects out of 400 samples.\n",
        "\n",
        "At 5% level of significance, do we have enough statistical evidence to conclude that the two assembly procedures are different?\n"
      ]
    },
    {
      "cell_type": "markdown",
      "metadata": {
        "id": "2YCkHK12HreW"
      },
      "source": [
        "### Let's write the null and alternative hypothesis\n",
        "Let $p_1,p_2$ be the proportions of defects in assembly line 1 and line 2 respectively.\n",
        "\n",
        "The manufacturer will test the null hypothesis\n",
        "\n",
        ">$H_0:p_1 =p_2$\n",
        "\n",
        "against the alternate hypothesis\n",
        "\n",
        ">$H_a:p_1 \\neq p_2$"
      ]
    },
    {
      "cell_type": "markdown",
      "metadata": {
        "id": "7c5hHivhKZUM"
      },
      "source": [
        "### Let's test whether the Z-test assumptions are satisfied or not\n",
        "\n",
        "*   Binomally distributed population - Yes, a product is either defective or non-defective.\n",
        "*   Random sampling from the population - Yes, we are informed that the collected sample is a simple random sample.  \n",
        "*   Can the binomial distribution approximated to normal distribution - Yes. For binary data, CLT works slower than usual. The standard thing is to check whether np and n(1-p) are greater than or equal to 10. Here, n and p refer to the sample size and sample proportion respectively.\n",
        ">$np_1 = 200\\cdot \\frac{20}{200} =20 \\geq 10\\\\\n",
        "n(1-p_1) = 200 \\cdot \\frac{200-20}{200} =180 \\geq 10 \\\\\n",
        "np_2 = 400\\cdot \\frac{25}{400} =25 \\geq 10\\\\\n",
        "n(1-p_2) = 400 \\cdot \\frac{400-25}{400} =375 \\geq 10 $\n"
      ]
    },
    {
      "cell_type": "markdown",
      "metadata": {
        "id": "hHGP8KFiLdJ2"
      },
      "source": [
        "### Let's find the p-value"
      ]
    },
    {
      "cell_type": "markdown",
      "source": [
        "This test uses the same [`proportions_ztest()`](https://www.statsmodels.org/devel/generated/statsmodels.stats.proportion.proportions_ztest.html) function as used in the one proportion z-test. The only difference here is that we are using it for comparing two proportions."
      ],
      "metadata": {
        "id": "_V2TAlL55iqC"
      }
    },
    {
      "cell_type": "code",
      "execution_count": 24,
      "metadata": {
        "colab": {
          "base_uri": "https://localhost:8080/"
        },
        "id": "4EoLlJA4LkzN",
        "outputId": "98b04416-b561-4ccc-cb65-72799e659f56"
      },
      "outputs": [
        {
          "output_type": "stream",
          "name": "stdout",
          "text": [
            "The p-value is 0.10017829422626796\n"
          ]
        }
      ],
      "source": [
        "# import the required fuction\n",
        "from statsmodels.stats.proportion import proportions_ztest\n",
        "\n",
        "# set the counts of defective items\n",
        "defect_count = np.array([20, 25])\n",
        "\n",
        "# set the sample sizes\n",
        "nobs = np.array([200, 400])\n",
        "\n",
        "# find the p-value\n",
        "test_stat, p_value = proportions_ztest(defect_count, nobs)\n",
        "print('The p-value is ' + str(p_value))"
      ]
    },
    {
      "cell_type": "markdown",
      "source": [],
      "metadata": {
        "id": "yl1ZC7YPONb4"
      }
    },
    {
      "cell_type": "markdown",
      "metadata": {
        "id": "IVjQs0SWNQQv"
      },
      "source": [
        "### Insight\n",
        "\n",
        "As the p-value is greater than the significance level 0.05, we can not reject the null hypothesis. Thus, the manufacturer do not have enough statistical significance to conclude that the two assembly procedures are different."
      ]
    },
    {
      "cell_type": "code",
      "source": [
        "from statsmodels.stats.proportion import proportions_ztest\n",
        "proportions_ztest(count = [20, 40], nobs = [100, 150], value = 0, alternative = 'smaller')"
      ],
      "metadata": {
        "colab": {
          "base_uri": "https://localhost:8080/"
        },
        "id": "FR4RToKMPXN_",
        "outputId": "47149b57-e552-469f-cfe1-e5f05e1aee8e"
      },
      "execution_count": 25,
      "outputs": [
        {
          "output_type": "execute_result",
          "data": {
            "text/plain": [
              "(-1.2091270835166859, 0.11330701279287875)"
            ]
          },
          "metadata": {},
          "execution_count": 25
        }
      ]
    },
    {
      "cell_type": "markdown",
      "metadata": {
        "id": "2xnmLq677KkA"
      },
      "source": [
        "# <a name='link14'>**Chi-Square Test for Independence**</a>"
      ]
    },
    {
      "cell_type": "markdown",
      "metadata": {
        "id": "mU0SDjKyeUcR"
      },
      "source": [
        "### Let's revisit the example\n",
        "\n",
        "The beverage preference data for different age groups has given in the Beverage.csv file.\n",
        "\n",
        "Do we have enough statistical evidence to conclude that beverage preference depend on age.\n",
        "\n"
      ]
    },
    {
      "cell_type": "markdown",
      "metadata": {
        "id": "pqjXDxvwe-Io"
      },
      "source": [
        "### Let's have a look on the sample data"
      ]
    },
    {
      "cell_type": "code",
      "execution_count": 26,
      "metadata": {
        "colab": {
          "base_uri": "https://localhost:8080/",
          "height": 143
        },
        "id": "D5ADnSRofStd",
        "outputId": "2bbce449-2dc4-4597-875c-e9de26362b2b"
      },
      "outputs": [
        {
          "output_type": "execute_result",
          "data": {
            "text/plain": [
              "       Age  Tea/Coffee  Soft Drink  Others\n",
              "0  21 - 34          25          90      20\n",
              "1  35 - 55          40          35      25\n",
              "2     > 55          24          15      30"
            ],
            "text/html": [
              "\n",
              "  <div id=\"df-7906552a-b1a0-478c-bdc2-1ca8e8607ef8\" class=\"colab-df-container\">\n",
              "    <div>\n",
              "<style scoped>\n",
              "    .dataframe tbody tr th:only-of-type {\n",
              "        vertical-align: middle;\n",
              "    }\n",
              "\n",
              "    .dataframe tbody tr th {\n",
              "        vertical-align: top;\n",
              "    }\n",
              "\n",
              "    .dataframe thead th {\n",
              "        text-align: right;\n",
              "    }\n",
              "</style>\n",
              "<table border=\"1\" class=\"dataframe\">\n",
              "  <thead>\n",
              "    <tr style=\"text-align: right;\">\n",
              "      <th></th>\n",
              "      <th>Age</th>\n",
              "      <th>Tea/Coffee</th>\n",
              "      <th>Soft Drink</th>\n",
              "      <th>Others</th>\n",
              "    </tr>\n",
              "  </thead>\n",
              "  <tbody>\n",
              "    <tr>\n",
              "      <th>0</th>\n",
              "      <td>21 - 34</td>\n",
              "      <td>25</td>\n",
              "      <td>90</td>\n",
              "      <td>20</td>\n",
              "    </tr>\n",
              "    <tr>\n",
              "      <th>1</th>\n",
              "      <td>35 - 55</td>\n",
              "      <td>40</td>\n",
              "      <td>35</td>\n",
              "      <td>25</td>\n",
              "    </tr>\n",
              "    <tr>\n",
              "      <th>2</th>\n",
              "      <td>&gt; 55</td>\n",
              "      <td>24</td>\n",
              "      <td>15</td>\n",
              "      <td>30</td>\n",
              "    </tr>\n",
              "  </tbody>\n",
              "</table>\n",
              "</div>\n",
              "    <div class=\"colab-df-buttons\">\n",
              "\n",
              "  <div class=\"colab-df-container\">\n",
              "    <button class=\"colab-df-convert\" onclick=\"convertToInteractive('df-7906552a-b1a0-478c-bdc2-1ca8e8607ef8')\"\n",
              "            title=\"Convert this dataframe to an interactive table.\"\n",
              "            style=\"display:none;\">\n",
              "\n",
              "  <svg xmlns=\"http://www.w3.org/2000/svg\" height=\"24px\" viewBox=\"0 -960 960 960\">\n",
              "    <path d=\"M120-120v-720h720v720H120Zm60-500h600v-160H180v160Zm220 220h160v-160H400v160Zm0 220h160v-160H400v160ZM180-400h160v-160H180v160Zm440 0h160v-160H620v160ZM180-180h160v-160H180v160Zm440 0h160v-160H620v160Z\"/>\n",
              "  </svg>\n",
              "    </button>\n",
              "\n",
              "  <style>\n",
              "    .colab-df-container {\n",
              "      display:flex;\n",
              "      gap: 12px;\n",
              "    }\n",
              "\n",
              "    .colab-df-convert {\n",
              "      background-color: #E8F0FE;\n",
              "      border: none;\n",
              "      border-radius: 50%;\n",
              "      cursor: pointer;\n",
              "      display: none;\n",
              "      fill: #1967D2;\n",
              "      height: 32px;\n",
              "      padding: 0 0 0 0;\n",
              "      width: 32px;\n",
              "    }\n",
              "\n",
              "    .colab-df-convert:hover {\n",
              "      background-color: #E2EBFA;\n",
              "      box-shadow: 0px 1px 2px rgba(60, 64, 67, 0.3), 0px 1px 3px 1px rgba(60, 64, 67, 0.15);\n",
              "      fill: #174EA6;\n",
              "    }\n",
              "\n",
              "    .colab-df-buttons div {\n",
              "      margin-bottom: 4px;\n",
              "    }\n",
              "\n",
              "    [theme=dark] .colab-df-convert {\n",
              "      background-color: #3B4455;\n",
              "      fill: #D2E3FC;\n",
              "    }\n",
              "\n",
              "    [theme=dark] .colab-df-convert:hover {\n",
              "      background-color: #434B5C;\n",
              "      box-shadow: 0px 1px 3px 1px rgba(0, 0, 0, 0.15);\n",
              "      filter: drop-shadow(0px 1px 2px rgba(0, 0, 0, 0.3));\n",
              "      fill: #FFFFFF;\n",
              "    }\n",
              "  </style>\n",
              "\n",
              "    <script>\n",
              "      const buttonEl =\n",
              "        document.querySelector('#df-7906552a-b1a0-478c-bdc2-1ca8e8607ef8 button.colab-df-convert');\n",
              "      buttonEl.style.display =\n",
              "        google.colab.kernel.accessAllowed ? 'block' : 'none';\n",
              "\n",
              "      async function convertToInteractive(key) {\n",
              "        const element = document.querySelector('#df-7906552a-b1a0-478c-bdc2-1ca8e8607ef8');\n",
              "        const dataTable =\n",
              "          await google.colab.kernel.invokeFunction('convertToInteractive',\n",
              "                                                    [key], {});\n",
              "        if (!dataTable) return;\n",
              "\n",
              "        const docLinkHtml = 'Like what you see? Visit the ' +\n",
              "          '<a target=\"_blank\" href=https://colab.research.google.com/notebooks/data_table.ipynb>data table notebook</a>'\n",
              "          + ' to learn more about interactive tables.';\n",
              "        element.innerHTML = '';\n",
              "        dataTable['output_type'] = 'display_data';\n",
              "        await google.colab.output.renderOutput(dataTable, element);\n",
              "        const docLink = document.createElement('div');\n",
              "        docLink.innerHTML = docLinkHtml;\n",
              "        element.appendChild(docLink);\n",
              "      }\n",
              "    </script>\n",
              "  </div>\n",
              "\n",
              "\n",
              "<div id=\"df-e9c14730-aae2-499f-a605-48c2be2f3ede\">\n",
              "  <button class=\"colab-df-quickchart\" onclick=\"quickchart('df-e9c14730-aae2-499f-a605-48c2be2f3ede')\"\n",
              "            title=\"Suggest charts\"\n",
              "            style=\"display:none;\">\n",
              "\n",
              "<svg xmlns=\"http://www.w3.org/2000/svg\" height=\"24px\"viewBox=\"0 0 24 24\"\n",
              "     width=\"24px\">\n",
              "    <g>\n",
              "        <path d=\"M19 3H5c-1.1 0-2 .9-2 2v14c0 1.1.9 2 2 2h14c1.1 0 2-.9 2-2V5c0-1.1-.9-2-2-2zM9 17H7v-7h2v7zm4 0h-2V7h2v10zm4 0h-2v-4h2v4z\"/>\n",
              "    </g>\n",
              "</svg>\n",
              "  </button>\n",
              "\n",
              "<style>\n",
              "  .colab-df-quickchart {\n",
              "      --bg-color: #E8F0FE;\n",
              "      --fill-color: #1967D2;\n",
              "      --hover-bg-color: #E2EBFA;\n",
              "      --hover-fill-color: #174EA6;\n",
              "      --disabled-fill-color: #AAA;\n",
              "      --disabled-bg-color: #DDD;\n",
              "  }\n",
              "\n",
              "  [theme=dark] .colab-df-quickchart {\n",
              "      --bg-color: #3B4455;\n",
              "      --fill-color: #D2E3FC;\n",
              "      --hover-bg-color: #434B5C;\n",
              "      --hover-fill-color: #FFFFFF;\n",
              "      --disabled-bg-color: #3B4455;\n",
              "      --disabled-fill-color: #666;\n",
              "  }\n",
              "\n",
              "  .colab-df-quickchart {\n",
              "    background-color: var(--bg-color);\n",
              "    border: none;\n",
              "    border-radius: 50%;\n",
              "    cursor: pointer;\n",
              "    display: none;\n",
              "    fill: var(--fill-color);\n",
              "    height: 32px;\n",
              "    padding: 0;\n",
              "    width: 32px;\n",
              "  }\n",
              "\n",
              "  .colab-df-quickchart:hover {\n",
              "    background-color: var(--hover-bg-color);\n",
              "    box-shadow: 0 1px 2px rgba(60, 64, 67, 0.3), 0 1px 3px 1px rgba(60, 64, 67, 0.15);\n",
              "    fill: var(--button-hover-fill-color);\n",
              "  }\n",
              "\n",
              "  .colab-df-quickchart-complete:disabled,\n",
              "  .colab-df-quickchart-complete:disabled:hover {\n",
              "    background-color: var(--disabled-bg-color);\n",
              "    fill: var(--disabled-fill-color);\n",
              "    box-shadow: none;\n",
              "  }\n",
              "\n",
              "  .colab-df-spinner {\n",
              "    border: 2px solid var(--fill-color);\n",
              "    border-color: transparent;\n",
              "    border-bottom-color: var(--fill-color);\n",
              "    animation:\n",
              "      spin 1s steps(1) infinite;\n",
              "  }\n",
              "\n",
              "  @keyframes spin {\n",
              "    0% {\n",
              "      border-color: transparent;\n",
              "      border-bottom-color: var(--fill-color);\n",
              "      border-left-color: var(--fill-color);\n",
              "    }\n",
              "    20% {\n",
              "      border-color: transparent;\n",
              "      border-left-color: var(--fill-color);\n",
              "      border-top-color: var(--fill-color);\n",
              "    }\n",
              "    30% {\n",
              "      border-color: transparent;\n",
              "      border-left-color: var(--fill-color);\n",
              "      border-top-color: var(--fill-color);\n",
              "      border-right-color: var(--fill-color);\n",
              "    }\n",
              "    40% {\n",
              "      border-color: transparent;\n",
              "      border-right-color: var(--fill-color);\n",
              "      border-top-color: var(--fill-color);\n",
              "    }\n",
              "    60% {\n",
              "      border-color: transparent;\n",
              "      border-right-color: var(--fill-color);\n",
              "    }\n",
              "    80% {\n",
              "      border-color: transparent;\n",
              "      border-right-color: var(--fill-color);\n",
              "      border-bottom-color: var(--fill-color);\n",
              "    }\n",
              "    90% {\n",
              "      border-color: transparent;\n",
              "      border-bottom-color: var(--fill-color);\n",
              "    }\n",
              "  }\n",
              "</style>\n",
              "\n",
              "  <script>\n",
              "    async function quickchart(key) {\n",
              "      const quickchartButtonEl =\n",
              "        document.querySelector('#' + key + ' button');\n",
              "      quickchartButtonEl.disabled = true;  // To prevent multiple clicks.\n",
              "      quickchartButtonEl.classList.add('colab-df-spinner');\n",
              "      try {\n",
              "        const charts = await google.colab.kernel.invokeFunction(\n",
              "            'suggestCharts', [key], {});\n",
              "      } catch (error) {\n",
              "        console.error('Error during call to suggestCharts:', error);\n",
              "      }\n",
              "      quickchartButtonEl.classList.remove('colab-df-spinner');\n",
              "      quickchartButtonEl.classList.add('colab-df-quickchart-complete');\n",
              "    }\n",
              "    (() => {\n",
              "      let quickchartButtonEl =\n",
              "        document.querySelector('#df-e9c14730-aae2-499f-a605-48c2be2f3ede button');\n",
              "      quickchartButtonEl.style.display =\n",
              "        google.colab.kernel.accessAllowed ? 'block' : 'none';\n",
              "    })();\n",
              "  </script>\n",
              "</div>\n",
              "\n",
              "    </div>\n",
              "  </div>\n"
            ],
            "application/vnd.google.colaboratory.intrinsic+json": {
              "type": "dataframe",
              "variable_name": "beverage",
              "summary": "{\n  \"name\": \"beverage\",\n  \"rows\": 3,\n  \"fields\": [\n    {\n      \"column\": \"Age\",\n      \"properties\": {\n        \"dtype\": \"string\",\n        \"num_unique_values\": 3,\n        \"samples\": [\n          \"21 - 34\",\n          \"35 - 55\",\n          \"> 55\"\n        ],\n        \"semantic_type\": \"\",\n        \"description\": \"\"\n      }\n    },\n    {\n      \"column\": \"Tea/Coffee\",\n      \"properties\": {\n        \"dtype\": \"number\",\n        \"std\": 8,\n        \"min\": 24,\n        \"max\": 40,\n        \"num_unique_values\": 3,\n        \"samples\": [\n          25,\n          40,\n          24\n        ],\n        \"semantic_type\": \"\",\n        \"description\": \"\"\n      }\n    },\n    {\n      \"column\": \"Soft Drink\",\n      \"properties\": {\n        \"dtype\": \"number\",\n        \"std\": 38,\n        \"min\": 15,\n        \"max\": 90,\n        \"num_unique_values\": 3,\n        \"samples\": [\n          90,\n          35,\n          15\n        ],\n        \"semantic_type\": \"\",\n        \"description\": \"\"\n      }\n    },\n    {\n      \"column\": \"Others\",\n      \"properties\": {\n        \"dtype\": \"number\",\n        \"std\": 5,\n        \"min\": 20,\n        \"max\": 30,\n        \"num_unique_values\": 3,\n        \"samples\": [\n          20,\n          25,\n          30\n        ],\n        \"semantic_type\": \"\",\n        \"description\": \"\"\n      }\n    }\n  ]\n}"
            }
          },
          "metadata": {},
          "execution_count": 26
        }
      ],
      "source": [
        "beverage = pd.read_csv(f'{path}/Beverage.csv')\n",
        "beverage.head()"
      ]
    },
    {
      "cell_type": "markdown",
      "metadata": {
        "id": "9BL1dzNufjcm"
      },
      "source": [
        "### Let's write the null and alternative hypothesis\n",
        "\n",
        "\n",
        "We will test the null hypothesis\n",
        "\n",
        ">$H_0:$ Beverage preference is independent of age.\n",
        "\n",
        "against the alternate hypothesis\n",
        "\n",
        ">$H_a:$ Beverage preference depends on age."
      ]
    },
    {
      "cell_type": "markdown",
      "metadata": {
        "id": "ITiDm4GMgEnt"
      },
      "source": [
        "### Let's test whether the assumptions are satisfied or not\n",
        "\n",
        "* Categorical variables - Yes\n",
        "* Expected value of the number of sample observations in each level of the variable is at least 5 - Yes, the number of observations in each level is greater than 5.\n",
        "* Random sampling from the population - Yes, we are informed that the collected sample is a simple random sample.\n"
      ]
    },
    {
      "cell_type": "markdown",
      "metadata": {
        "id": "no52O-10HQ4h"
      },
      "source": [
        "### Let's find the p-value"
      ]
    },
    {
      "cell_type": "markdown",
      "source": [
        "The [`chi2_contingency()`](https://docs.scipy.org/doc/scipy/reference/generated/scipy.stats.chi2_contingency.html) function of Scipy will be used to compute the test statistic and p-value."
      ],
      "metadata": {
        "id": "refl54YJYQxK"
      }
    },
    {
      "cell_type": "code",
      "execution_count": 45,
      "metadata": {
        "colab": {
          "base_uri": "https://localhost:8080/"
        },
        "id": "qUPCXOomHXX7",
        "outputId": "b43d8420-e586-40c4-9a84-cd9412f1eb38"
      },
      "outputs": [
        {
          "output_type": "stream",
          "name": "stdout",
          "text": [
            "The p-value is 5.410957050304089e-10\n",
            "The p-chi stats is 49.15840930376024\n",
            "The p-df is 4\n",
            "The expected is [[39.52302632 62.17105263 33.30592105]\n",
            " [29.27631579 46.05263158 24.67105263]\n",
            " [20.20065789 31.77631579 17.02302632]]\n"
          ]
        }
      ],
      "source": [
        "# import the required function\n",
        "from scipy.stats import chi2_contingency\n",
        "from scipy.stats import chi2\n",
        "from scipy.stats import norm\n",
        "\n",
        "\n",
        "# find the p-value\n",
        "chi, p_value, dof, expected = chi2_contingency(beverage.drop('Age', axis = 1))\n",
        "print('The p-value is', p_value)\n",
        "print('The p-chi stats is', chi)\n",
        "print('The p-df is', dof)\n",
        "print('The expected is', expected)\n"
      ]
    },
    {
      "cell_type": "code",
      "source": [
        "critical_value = chi2.ppf(0.95, df=dof)\n",
        "critical_value"
      ],
      "metadata": {
        "id": "sDjM8ctcbYO1",
        "outputId": "e88f0b38-28e4-4227-c72d-ccd825f60ad0",
        "colab": {
          "base_uri": "https://localhost:8080/"
        }
      },
      "execution_count": 42,
      "outputs": [
        {
          "output_type": "execute_result",
          "data": {
            "text/plain": [
              "9.487729036781154"
            ]
          },
          "metadata": {},
          "execution_count": 42
        }
      ]
    },
    {
      "cell_type": "code",
      "source": [
        "import numpy as np\n",
        "import matplotlib.pyplot as plt\n",
        "from scipy.stats import chi2\n",
        "\n",
        "# Parameters\n",
        "dof = 4  # Degrees of freedom\n",
        "alpha = 0.05  # Significance level\n",
        "\n",
        "# Calculate critical value\n",
        "critical_value = chi2.ppf(1 - alpha, df=dof)\n",
        "\n",
        "# Example Chi-Square statistic (for demonstration)\n",
        "chi2_statistic = 49\n",
        "\n",
        "# Determine plot range dynamically\n",
        "x_min = 0\n",
        "x_max = max(chi2_statistic + 5, critical_value + 10)  # Ensure range covers both statistic and critical value\n",
        "\n",
        "# Data for plotting\n",
        "x = np.linspace(x_min, x_max, 100)\n",
        "pdf = chi2.pdf(x, df=dof)\n",
        "\n",
        "# Plot the Chi-Square distribution\n",
        "plt.plot(x, pdf, label=f'Chi-Square Distribution (df={dof})')\n",
        "\n",
        "# Plot the critical value line\n",
        "plt.axvline(x=critical_value, color='r', linestyle='--', label='Critical Value')\n",
        "\n",
        "# Plot the observed Chi-Square statistic line\n",
        "plt.axvline(x=chi2_statistic, color='g', linestyle='--', label='Chi-Square Statistic')\n",
        "\n",
        "# Shade the rejection region\n",
        "x1 = np.linspace(critical_value, x_max, 50)\n",
        "plt.fill_between(x1, chi2.pdf(x1, df=dof), color='r', alpha=0.5, label='Rejection Region')\n",
        "\n",
        "# Annotations\n",
        "plt.annotate('Reject Null', (critical_value + 1, chi2.pdf(critical_value, df=dof) * 0.5), color='r')\n",
        "plt.annotate('Chi-Square Statistic', (chi2_statistic + 1, chi2.pdf(chi2_statistic, df=dof) * 0.5), color='g')\n",
        "plt.annotate('Do Not Reject\\nNull', (2, chi2.pdf(2, df=dof) * 0.5), color='black')\n",
        "\n",
        "# Labels and Title\n",
        "plt.xlabel('Chi-Square Value')\n",
        "plt.ylabel('Probability Density')\n",
        "plt.title('Chi-Square Distribution with Critical Value and Statistic')\n",
        "plt.legend()\n",
        "\n",
        "# Show plot\n",
        "plt.xlim(x_min, x_max)  # Adjust x-axis limits based on the range\n",
        "plt.show()\n",
        "\n"
      ],
      "metadata": {
        "id": "XkIoy9fKc4pd",
        "outputId": "07d5316d-0553-4cb9-dd31-c68628b68d6d",
        "colab": {
          "base_uri": "https://localhost:8080/",
          "height": 472
        }
      },
      "execution_count": 61,
      "outputs": [
        {
          "output_type": "display_data",
          "data": {
            "text/plain": [
              "<Figure size 640x480 with 1 Axes>"
            ],
            "image/png": "[encoded data removed]"
          },
          "metadata": {}
        }
      ]
    },
    {
      "cell_type": "markdown",
      "metadata": {
        "id": "YAb4fDcmJIpQ"
      },
      "source": [
        "### Insight\n",
        "As the p-value is much less than the significance level, we can reject the null hypothesis. Hence, we do have enough statistical significance to conclude that beverage preference is not independent of age at 5% significance level."
      ]
    },
    {
      "cell_type": "markdown",
      "metadata": {
        "id": "7ZLntwM_WcK2"
      },
      "source": [
        "# <a name='link15'>**One-way ANOVA Test**</a>"
      ]
    },
    {
      "cell_type": "markdown",
      "metadata": {
        "id": "qxvEn474b25J"
      },
      "source": [
        "### Let's revisit the example\n",
        "\n",
        "Traffic management inspector in a certain city wants to understand whether carbon emissions from different cars are different. The inspector has reasons to believe that Fuel type may be the factors responsible for differences in carbon emission.\n",
        "\n",
        "For this purpose, the inspector has taken random samples from all registered cars on the road in that city and would like to test if the amount of carbon emission release depends on fuel type at 5% significance level."
      ]
    },
    {
      "cell_type": "markdown",
      "metadata": {
        "id": "lFMixr_Af40Q"
      },
      "source": [
        "### Let's have a look on the sample data"
      ]
    },
    {
      "cell_type": "code",
      "execution_count": 62,
      "metadata": {
        "colab": {
          "base_uri": "https://localhost:8080/",
          "height": 206
        },
        "id": "ab3mUcIxgKeH",
        "outputId": "91649f75-6e7e-4534-b37d-e9f763685a51"
      },
      "outputs": [
        {
          "output_type": "execute_result",
          "data": {
            "text/plain": [
              "   Car_ID manufacturer fuel_type  co_emissions\n",
              "0       1         Audi    Petrol        441.55\n",
              "1       2          BMW       E85        376.47\n",
              "2       3          BMW       E85        414.12\n",
              "3       4          BMW       E85        351.41\n",
              "4       5        Volvo       E85        284.59"
            ],
            "text/html": [
              "\n",
              "  <div id=\"df-9c530a35-6da3-44b4-8ab3-af14e9cac405\" class=\"colab-df-container\">\n",
              "    <div>\n",
              "<style scoped>\n",
              "    .dataframe tbody tr th:only-of-type {\n",
              "        vertical-align: middle;\n",
              "    }\n",
              "\n",
              "    .dataframe tbody tr th {\n",
              "        vertical-align: top;\n",
              "    }\n",
              "\n",
              "    .dataframe thead th {\n",
              "        text-align: right;\n",
              "    }\n",
              "</style>\n",
              "<table border=\"1\" class=\"dataframe\">\n",
              "  <thead>\n",
              "    <tr style=\"text-align: right;\">\n",
              "      <th></th>\n",
              "      <th>Car_ID</th>\n",
              "      <th>manufacturer</th>\n",
              "      <th>fuel_type</th>\n",
              "      <th>co_emissions</th>\n",
              "    </tr>\n",
              "  </thead>\n",
              "  <tbody>\n",
              "    <tr>\n",
              "      <th>0</th>\n",
              "      <td>1</td>\n",
              "      <td>Audi</td>\n",
              "      <td>Petrol</td>\n",
              "      <td>441.55</td>\n",
              "    </tr>\n",
              "    <tr>\n",
              "      <th>1</th>\n",
              "      <td>2</td>\n",
              "      <td>BMW</td>\n",
              "      <td>E85</td>\n",
              "      <td>376.47</td>\n",
              "    </tr>\n",
              "    <tr>\n",
              "      <th>2</th>\n",
              "      <td>3</td>\n",
              "      <td>BMW</td>\n",
              "      <td>E85</td>\n",
              "      <td>414.12</td>\n",
              "    </tr>\n",
              "    <tr>\n",
              "      <th>3</th>\n",
              "      <td>4</td>\n",
              "      <td>BMW</td>\n",
              "      <td>E85</td>\n",
              "      <td>351.41</td>\n",
              "    </tr>\n",
              "    <tr>\n",
              "      <th>4</th>\n",
              "      <td>5</td>\n",
              "      <td>Volvo</td>\n",
              "      <td>E85</td>\n",
              "      <td>284.59</td>\n",
              "    </tr>\n",
              "  </tbody>\n",
              "</table>\n",
              "</div>\n",
              "    <div class=\"colab-df-buttons\">\n",
              "\n",
              "  <div class=\"colab-df-container\">\n",
              "    <button class=\"colab-df-convert\" onclick=\"convertToInteractive('df-9c530a35-6da3-44b4-8ab3-af14e9cac405')\"\n",
              "            title=\"Convert this dataframe to an interactive table.\"\n",
              "            style=\"display:none;\">\n",
              "\n",
              "  <svg xmlns=\"http://www.w3.org/2000/svg\" height=\"24px\" viewBox=\"0 -960 960 960\">\n",
              "    <path d=\"M120-120v-720h720v720H120Zm60-500h600v-160H180v160Zm220 220h160v-160H400v160Zm0 220h160v-160H400v160ZM180-400h160v-160H180v160Zm440 0h160v-160H620v160ZM180-180h160v-160H180v160Zm440 0h160v-160H620v160Z\"/>\n",
              "  </svg>\n",
              "    </button>\n",
              "\n",
              "  <style>\n",
              "    .colab-df-container {\n",
              "      display:flex;\n",
              "      gap: 12px;\n",
              "    }\n",
              "\n",
              "    .colab-df-convert {\n",
              "      background-color: #E8F0FE;\n",
              "      border: none;\n",
              "      border-radius: 50%;\n",
              "      cursor: pointer;\n",
              "      display: none;\n",
              "      fill: #1967D2;\n",
              "      height: 32px;\n",
              "      padding: 0 0 0 0;\n",
              "      width: 32px;\n",
              "    }\n",
              "\n",
              "    .colab-df-convert:hover {\n",
              "      background-color: #E2EBFA;\n",
              "      box-shadow: 0px 1px 2px rgba(60, 64, 67, 0.3), 0px 1px 3px 1px rgba(60, 64, 67, 0.15);\n",
              "      fill: #174EA6;\n",
              "    }\n",
              "\n",
              "    .colab-df-buttons div {\n",
              "      margin-bottom: 4px;\n",
              "    }\n",
              "\n",
              "    [theme=dark] .colab-df-convert {\n",
              "      background-color: #3B4455;\n",
              "      fill: #D2E3FC;\n",
              "    }\n",
              "\n",
              "    [theme=dark] .colab-df-convert:hover {\n",
              "      background-color: #434B5C;\n",
              "      box-shadow: 0px 1px 3px 1px rgba(0, 0, 0, 0.15);\n",
              "      filter: drop-shadow(0px 1px 2px rgba(0, 0, 0, 0.3));\n",
              "      fill: #FFFFFF;\n",
              "    }\n",
              "  </style>\n",
              "\n",
              "    <script>\n",
              "      const buttonEl =\n",
              "        document.querySelector('#df-9c530a35-6da3-44b4-8ab3-af14e9cac405 button.colab-df-convert');\n",
              "      buttonEl.style.display =\n",
              "        google.colab.kernel.accessAllowed ? 'block' : 'none';\n",
              "\n",
              "      async function convertToInteractive(key) {\n",
              "        const element = document.querySelector('#df-9c530a35-6da3-44b4-8ab3-af14e9cac405');\n",
              "        const dataTable =\n",
              "          await google.colab.kernel.invokeFunction('convertToInteractive',\n",
              "                                                    [key], {});\n",
              "        if (!dataTable) return;\n",
              "\n",
              "        const docLinkHtml = 'Like what you see? Visit the ' +\n",
              "          '<a target=\"_blank\" href=https://colab.research.google.com/notebooks/data_table.ipynb>data table notebook</a>'\n",
              "          + ' to learn more about interactive tables.';\n",
              "        element.innerHTML = '';\n",
              "        dataTable['output_type'] = 'display_data';\n",
              "        await google.colab.output.renderOutput(dataTable, element);\n",
              "        const docLink = document.createElement('div');\n",
              "        docLink.innerHTML = docLinkHtml;\n",
              "        element.appendChild(docLink);\n",
              "      }\n",
              "    </script>\n",
              "  </div>\n",
              "\n",
              "\n",
              "<div id=\"df-151b9606-1038-47ed-b0b2-8dc86222303c\">\n",
              "  <button class=\"colab-df-quickchart\" onclick=\"quickchart('df-151b9606-1038-47ed-b0b2-8dc86222303c')\"\n",
              "            title=\"Suggest charts\"\n",
              "            style=\"display:none;\">\n",
              "\n",
              "<svg xmlns=\"http://www.w3.org/2000/svg\" height=\"24px\"viewBox=\"0 0 24 24\"\n",
              "     width=\"24px\">\n",
              "    <g>\n",
              "        <path d=\"M19 3H5c-1.1 0-2 .9-2 2v14c0 1.1.9 2 2 2h14c1.1 0 2-.9 2-2V5c0-1.1-.9-2-2-2zM9 17H7v-7h2v7zm4 0h-2V7h2v10zm4 0h-2v-4h2v4z\"/>\n",
              "    </g>\n",
              "</svg>\n",
              "  </button>\n",
              "\n",
              "<style>\n",
              "  .colab-df-quickchart {\n",
              "      --bg-color: #E8F0FE;\n",
              "      --fill-color: #1967D2;\n",
              "      --hover-bg-color: #E2EBFA;\n",
              "      --hover-fill-color: #174EA6;\n",
              "      --disabled-fill-color: #AAA;\n",
              "      --disabled-bg-color: #DDD;\n",
              "  }\n",
              "\n",
              "  [theme=dark] .colab-df-quickchart {\n",
              "      --bg-color: #3B4455;\n",
              "      --fill-color: #D2E3FC;\n",
              "      --hover-bg-color: #434B5C;\n",
              "      --hover-fill-color: #FFFFFF;\n",
              "      --disabled-bg-color: #3B4455;\n",
              "      --disabled-fill-color: #666;\n",
              "  }\n",
              "\n",
              "  .colab-df-quickchart {\n",
              "    background-color: var(--bg-color);\n",
              "    border: none;\n",
              "    border-radius: 50%;\n",
              "    cursor: pointer;\n",
              "    display: none;\n",
              "    fill: var(--fill-color);\n",
              "    height: 32px;\n",
              "    padding: 0;\n",
              "    width: 32px;\n",
              "  }\n",
              "\n",
              "  .colab-df-quickchart:hover {\n",
              "    background-color: var(--hover-bg-color);\n",
              "    box-shadow: 0 1px 2px rgba(60, 64, 67, 0.3), 0 1px 3px 1px rgba(60, 64, 67, 0.15);\n",
              "    fill: var(--button-hover-fill-color);\n",
              "  }\n",
              "\n",
              "  .colab-df-quickchart-complete:disabled,\n",
              "  .colab-df-quickchart-complete:disabled:hover {\n",
              "    background-color: var(--disabled-bg-color);\n",
              "    fill: var(--disabled-fill-color);\n",
              "    box-shadow: none;\n",
              "  }\n",
              "\n",
              "  .colab-df-spinner {\n",
              "    border: 2px solid var(--fill-color);\n",
              "    border-color: transparent;\n",
              "    border-bottom-color: var(--fill-color);\n",
              "    animation:\n",
              "      spin 1s steps(1) infinite;\n",
              "  }\n",
              "\n",
              "  @keyframes spin {\n",
              "    0% {\n",
              "      border-color: transparent;\n",
              "      border-bottom-color: var(--fill-color);\n",
              "      border-left-color: var(--fill-color);\n",
              "    }\n",
              "    20% {\n",
              "      border-color: transparent;\n",
              "      border-left-color: var(--fill-color);\n",
              "      border-top-color: var(--fill-color);\n",
              "    }\n",
              "    30% {\n",
              "      border-color: transparent;\n",
              "      border-left-color: var(--fill-color);\n",
              "      border-top-color: var(--fill-color);\n",
              "      border-right-color: var(--fill-color);\n",
              "    }\n",
              "    40% {\n",
              "      border-color: transparent;\n",
              "      border-right-color: var(--fill-color);\n",
              "      border-top-color: var(--fill-color);\n",
              "    }\n",
              "    60% {\n",
              "      border-color: transparent;\n",
              "      border-right-color: var(--fill-color);\n",
              "    }\n",
              "    80% {\n",
              "      border-color: transparent;\n",
              "      border-right-color: var(--fill-color);\n",
              "      border-bottom-color: var(--fill-color);\n",
              "    }\n",
              "    90% {\n",
              "      border-color: transparent;\n",
              "      border-bottom-color: var(--fill-color);\n",
              "    }\n",
              "  }\n",
              "</style>\n",
              "\n",
              "  <script>\n",
              "    async function quickchart(key) {\n",
              "      const quickchartButtonEl =\n",
              "        document.querySelector('#' + key + ' button');\n",
              "      quickchartButtonEl.disabled = true;  // To prevent multiple clicks.\n",
              "      quickchartButtonEl.classList.add('colab-df-spinner');\n",
              "      try {\n",
              "        const charts = await google.colab.kernel.invokeFunction(\n",
              "            'suggestCharts', [key], {});\n",
              "      } catch (error) {\n",
              "        console.error('Error during call to suggestCharts:', error);\n",
              "      }\n",
              "      quickchartButtonEl.classList.remove('colab-df-spinner');\n",
              "      quickchartButtonEl.classList.add('colab-df-quickchart-complete');\n",
              "    }\n",
              "    (() => {\n",
              "      let quickchartButtonEl =\n",
              "        document.querySelector('#df-151b9606-1038-47ed-b0b2-8dc86222303c button');\n",
              "      quickchartButtonEl.style.display =\n",
              "        google.colab.kernel.accessAllowed ? 'block' : 'none';\n",
              "    })();\n",
              "  </script>\n",
              "</div>\n",
              "\n",
              "    </div>\n",
              "  </div>\n"
            ],
            "application/vnd.google.colaboratory.intrinsic+json": {
              "type": "dataframe",
              "variable_name": "aovdata",
              "summary": "{\n  \"name\": \"aovdata\",\n  \"rows\": 510,\n  \"fields\": [\n    {\n      \"column\": \"Car_ID\",\n      \"properties\": {\n        \"dtype\": \"number\",\n        \"std\": 147,\n        \"min\": 1,\n        \"max\": 510,\n        \"num_unique_values\": 510,\n        \"samples\": [\n          481,\n          450,\n          476\n        ],\n        \"semantic_type\": \"\",\n        \"description\": \"\"\n      }\n    },\n    {\n      \"column\": \"manufacturer\",\n      \"properties\": {\n        \"dtype\": \"category\",\n        \"num_unique_values\": 4,\n        \"samples\": [\n          \"BMW\",\n          \"Ford\",\n          \"Audi\"\n        ],\n        \"semantic_type\": \"\",\n        \"description\": \"\"\n      }\n    },\n    {\n      \"column\": \"fuel_type\",\n      \"properties\": {\n        \"dtype\": \"category\",\n        \"num_unique_values\": 3,\n        \"samples\": [\n          \"Petrol\",\n          \"E85\",\n          \"LPG\"\n        ],\n        \"semantic_type\": \"\",\n        \"description\": \"\"\n      }\n    },\n    {\n      \"column\": \"co_emissions\",\n      \"properties\": {\n        \"dtype\": \"number\",\n        \"std\": 66.91299893891981,\n        \"min\": 162.07,\n        \"max\": 544.56,\n        \"num_unique_values\": 505,\n        \"samples\": [\n          457.05,\n          302.26,\n          386.6\n        ],\n        \"semantic_type\": \"\",\n        \"description\": \"\"\n      }\n    }\n  ]\n}"
            }
          },
          "metadata": {},
          "execution_count": 62
        }
      ],
      "source": [
        "aovdata = pd.read_csv(f'{path}/AOVData.csv')\n",
        "aovdata.head()"
      ]
    },
    {
      "cell_type": "markdown",
      "metadata": {
        "id": "Cr_N3sAeoqeO"
      },
      "source": [
        "Here, co_emissions is the response and fuel_type is the factor."
      ]
    },
    {
      "cell_type": "code",
      "execution_count": 29,
      "metadata": {
        "colab": {
          "base_uri": "https://localhost:8080/",
          "height": 210
        },
        "id": "1zyATPm47v6N",
        "outputId": "cf3d20ca-e0ed-44b7-c776-ab0820cd8627"
      },
      "outputs": [
        {
          "output_type": "execute_result",
          "data": {
            "text/plain": [
              "fuel_type\n",
              "Petrol    179\n",
              "LPG       170\n",
              "E85       161\n",
              "Name: count, dtype: int64"
            ],
            "text/html": [
              "<div>\n",
              "<style scoped>\n",
              "    .dataframe tbody tr th:only-of-type {\n",
              "        vertical-align: middle;\n",
              "    }\n",
              "\n",
              "    .dataframe tbody tr th {\n",
              "        vertical-align: top;\n",
              "    }\n",
              "\n",
              "    .dataframe thead th {\n",
              "        text-align: right;\n",
              "    }\n",
              "</style>\n",
              "<table border=\"1\" class=\"dataframe\">\n",
              "  <thead>\n",
              "    <tr style=\"text-align: right;\">\n",
              "      <th></th>\n",
              "      <th>count</th>\n",
              "    </tr>\n",
              "    <tr>\n",
              "      <th>fuel_type</th>\n",
              "      <th></th>\n",
              "    </tr>\n",
              "  </thead>\n",
              "  <tbody>\n",
              "    <tr>\n",
              "      <th>Petrol</th>\n",
              "      <td>179</td>\n",
              "    </tr>\n",
              "    <tr>\n",
              "      <th>LPG</th>\n",
              "      <td>170</td>\n",
              "    </tr>\n",
              "    <tr>\n",
              "      <th>E85</th>\n",
              "      <td>161</td>\n",
              "    </tr>\n",
              "  </tbody>\n",
              "</table>\n",
              "</div><br><label><b>dtype:</b> int64</label>"
            ]
          },
          "metadata": {},
          "execution_count": 29
        }
      ],
      "source": [
        "# get the levels of factor fuel_type\n",
        "aovdata['fuel_type'].value_counts()"
      ]
    },
    {
      "cell_type": "markdown",
      "metadata": {
        "id": "j63R8Uh78C-w"
      },
      "source": [
        "### Let's write the null and alternative hypothesis\n",
        "\n",
        "Let $\\mu_1, \\mu_2, \\mu_3$ be the means of carbon dioxide emissions for fuel type E85, LPG and Petrol respectively.\n",
        "\n",
        "We will test the null hypothesis\n",
        "\n",
        ">$H_0: \\mu_1 = \\mu_2 = \\mu_3$\n",
        "\n",
        "against the alternative hypothesis\n",
        "\n",
        ">$H_a: $ At least one carbon emission level is different from the rest.\n"
      ]
    },
    {
      "cell_type": "code",
      "execution_count": 63,
      "metadata": {
        "colab": {
          "base_uri": "https://localhost:8080/",
          "height": 655
        },
        "id": "WE2FRb1a9Gxs",
        "outputId": "9757a9c3-da8f-4dcd-ef65-f78929883bc4"
      },
      "outputs": [
        {
          "output_type": "stream",
          "name": "stdout",
          "text": [
            "fuel_type\n",
            "E85       338.124534\n",
            "LPG       363.744412\n",
            "Petrol    371.722961\n",
            "Name: co_emissions, dtype: float64\n"
          ]
        },
        {
          "output_type": "display_data",
          "data": {
            "text/plain": [
              "<Figure size 600x600 with 1 Axes>"
            ],
            "image/png": "[encoded data removed]"
          },
          "metadata": {}
        }
      ],
      "source": [
        "# mean of carbon emission at different levels of the fuel_type factor\n",
        "print(aovdata.groupby(\"fuel_type\")[\"co_emissions\"].mean())\n",
        "\n",
        "# draw the boxplot for visualization\n",
        "fig, ax = plt.subplots(figsize = (6,6))\n",
        "a = sns.boxplot(x= \"fuel_type\", y = 'co_emissions' , data = aovdata, hue = 'fuel_type')\n",
        "a.set_title(\"Carbon Emission w.r.t. Fuel type (3 levels)\", fontsize=15)\n",
        "plt.show()"
      ]
    },
    {
      "cell_type": "markdown",
      "metadata": {
        "id": "qb-sMEm2WtHf"
      },
      "source": [
        "Now, the normality and equality of variance assumptions need to be checked.\n",
        "\n",
        "* For testing of normality, Shapiro-Wilk’s test is applied to the response variable.\n",
        "\n",
        "* For equality of variance, Levene test is applied to the response variable."
      ]
    },
    {
      "cell_type": "markdown",
      "metadata": {
        "id": "_pFdvUuGC6qu"
      },
      "source": [
        "### Shapiro-Wilk’s test\n",
        "\n",
        "We will test the null hypothesis\n",
        "\n",
        ">$H_0:$ Carbon emission follows a normal distribution against\n",
        "\n",
        "against the alternative hypothesis\n",
        "\n",
        ">$H_a:$ Carbon emission does not follow a normal distribution"
      ]
    },
    {
      "cell_type": "markdown",
      "source": [
        "The [`shapiro()`](https://docs.scipy.org/doc/scipy/reference/generated/scipy.stats.shapiro.html) function of Scipy will be used to compute the test statistic and p-value."
      ],
      "metadata": {
        "id": "Ae2c7bIqZOhm"
      }
    },
    {
      "cell_type": "code",
      "execution_count": 31,
      "metadata": {
        "colab": {
          "base_uri": "https://localhost:8080/"
        },
        "id": "yHZdbI6hClTY",
        "outputId": "95f69118-76bf-4ced-9748-536c6281295e"
      },
      "outputs": [
        {
          "output_type": "stream",
          "name": "stdout",
          "text": [
            "The p-value is 0.49709524943766514\n"
          ]
        }
      ],
      "source": [
        "# Assumption 1: Normality\n",
        "# import the required function\n",
        "from scipy import stats\n",
        "\n",
        "# find the p-value\n",
        "w, p_value = stats.shapiro(aovdata['co_emissions'])\n",
        "print('The p-value is', p_value)"
      ]
    },
    {
      "cell_type": "markdown",
      "metadata": {
        "id": "h1-_8Mi2EYIU"
      },
      "source": [
        "Since p-value of the test is very large, we fail to reject the null hypothesis that the response follows the normal distribution."
      ]
    },
    {
      "cell_type": "markdown",
      "metadata": {
        "id": "RN7l8dkREpFu"
      },
      "source": [
        "### Levene’s test\n",
        "\n",
        "We will test the null hypothesis\n",
        "\n",
        ">$H_0$: All the population variances are equal\n",
        "\n",
        "against the alternative hypothesis\n",
        "\n",
        ">$H_a$: At least one variance is different from the rest"
      ]
    },
    {
      "cell_type": "markdown",
      "source": [
        "The [`levene()`](https://docs.scipy.org/doc/scipy/reference/generated/scipy.stats.shapiro.html) function of Scipy will be used to compute the test statistic and p-value."
      ],
      "metadata": {
        "id": "HFLWddyCaZjn"
      }
    },
    {
      "cell_type": "code",
      "execution_count": 32,
      "metadata": {
        "colab": {
          "base_uri": "https://localhost:8080/"
        },
        "id": "Jj-jsFGTFKtI",
        "outputId": "719aae3b-eef8-4b9a-919a-f01717d531af"
      },
      "outputs": [
        {
          "output_type": "stream",
          "name": "stdout",
          "text": [
            "The p-value is 0.19437768490117\n"
          ]
        }
      ],
      "source": [
        "#Assumption 2: Homogeneity of Variance\n",
        "#import the required function\n",
        "from scipy.stats import levene\n",
        "statistic, p_value = levene( aovdata['co_emissions'][aovdata['fuel_type']==\"Petrol\"],\n",
        "                                   aovdata['co_emissions'][aovdata['fuel_type']==\"E85\"],\n",
        "                                   aovdata['co_emissions'][aovdata['fuel_type']==\"LPG\"])\n",
        "# find the p-value\n",
        "print('The p-value is', p_value)"
      ]
    },
    {
      "cell_type": "markdown",
      "metadata": {
        "id": "v6NjQ3iCF7tj"
      },
      "source": [
        "Since the p-value is large, we fail to reject the null hypothesis of homogeneity of variances."
      ]
    },
    {
      "cell_type": "markdown",
      "metadata": {
        "id": "kvMMknJDq_LU"
      },
      "source": [
        "### Let's test whether the assumptions are satisfied or not\n",
        "\n",
        "* The populations are normally distributed - Yes, the normality assumption is verified using the Shapiro-Wilk’s test.\n",
        "* Samples are independent simple random samples - Yes, we are informed that the collected sample is a simple random sample.\n",
        "* Population variances are equal - Yes, the homogeneity of variance assumption is verified using the Levene's test.\n",
        "\n"
      ]
    },
    {
      "cell_type": "markdown",
      "metadata": {
        "id": "mXyl5ApFr6zU"
      },
      "source": [
        "### Let's find the p-value"
      ]
    },
    {
      "cell_type": "markdown",
      "source": [
        "The [`f_oneway()`](https://docs.scipy.org/doc/scipy/reference/generated/scipy.stats.f_oneway.html) function of Scipy will be used to compute the test statistic and p-value."
      ],
      "metadata": {
        "id": "hnbFqxaxbPL8"
      }
    },
    {
      "cell_type": "code",
      "execution_count": 33,
      "metadata": {
        "colab": {
          "base_uri": "https://localhost:8080/"
        },
        "id": "HRjKGT13ryta",
        "outputId": "5a8348b8-525f-440d-d2a8-94a0671fe7a0"
      },
      "outputs": [
        {
          "output_type": "stream",
          "name": "stdout",
          "text": [
            "The p-value is 8.274439764368132e-06\n"
          ]
        }
      ],
      "source": [
        "#import the required function\n",
        "from scipy.stats import f_oneway\n",
        "\n",
        "# perform one-way anova test\n",
        "test_stat, p_value = f_oneway(aovdata.loc[aovdata['fuel_type'] == 'Petrol', 'co_emissions'],\n",
        "                              aovdata.loc[aovdata['fuel_type'] == 'E85', 'co_emissions'],\n",
        "                              aovdata.loc[aovdata['fuel_type'] == 'LPG', 'co_emissions'])\n",
        "print('The p-value is ' + str(p_value))"
      ]
    },
    {
      "cell_type": "markdown",
      "metadata": {
        "id": "m4Zat_fyvV3j"
      },
      "source": [
        "### Insight\n",
        "As the p-value is much less than the significance level, we can reject the null hypothesis. Hence, we do have enough statistical significance to conclude that  at least one carbon emission level is different from the rest at 5% significance level.\n",
        "\n",
        "However, we don't know which mean is different from the rest or whether all pairs of means are different. Multiple comparison tests are used to test the differences between all pairs of means."
      ]
    },
    {
      "cell_type": "markdown",
      "metadata": {
        "id": "lb7fV6waiIb8"
      },
      "source": [
        "### Multiple Comparison test (Tukey HSD)"
      ]
    },
    {
      "cell_type": "markdown",
      "metadata": {
        "id": "3_E5MHuMSwSC"
      },
      "source": [
        "\n",
        "In order to identify for which fuel type mean carbon emission is different from other groups, the null hypothesis is\n",
        "\n",
        "  > $𝐻_0: 𝜇_1=𝜇_2 \\text{ and } 𝜇_1=𝜇_3 \\text{ and } 𝜇_2=𝜇_3$\n",
        "\n",
        "against the alternative hypothesis\n",
        "\n",
        " > $𝐻_a: 𝜇_1\\neq𝜇_2 \\text{ or } 𝜇_1\\neq𝜇_3 \\text{ or } 𝜇_2\\neq𝜇_3$"
      ]
    },
    {
      "cell_type": "markdown",
      "source": [
        "The [`pairwise_tukeyhsd()`](https://www.statsmodels.org/dev/generated/statsmodels.stats.multicomp.pairwise_tukeyhsd.html) function of Statsmodels will be used to compute the test statistic and p-value."
      ],
      "metadata": {
        "id": "hYiPdiMobwVX"
      }
    },
    {
      "cell_type": "code",
      "execution_count": 34,
      "metadata": {
        "id": "z5MQ4yAxSwSC",
        "outputId": "2295549a-a15a-4e66-960b-f18bff4dafbe",
        "colab": {
          "base_uri": "https://localhost:8080/"
        }
      },
      "outputs": [
        {
          "output_type": "stream",
          "name": "stdout",
          "text": [
            "Multiple Comparison of Means - Tukey HSD, FWER=0.05 \n",
            "====================================================\n",
            "group1 group2 meandiff p-adj   lower   upper  reject\n",
            "----------------------------------------------------\n",
            "   E85    LPG  25.6199 0.0012  8.6843 42.5554   True\n",
            "   E85 Petrol  33.5984    0.0 16.8712 50.3256   True\n",
            "   LPG Petrol   7.9785 0.4916 -8.5139  24.471  False\n",
            "----------------------------------------------------\n"
          ]
        }
      ],
      "source": [
        "#import the required function\n",
        "from statsmodels.stats.multicomp import pairwise_tukeyhsd\n",
        "\n",
        "# perform multiple pairwise comparison (Tukey HSD)\n",
        "m_comp = pairwise_tukeyhsd(endog = aovdata['co_emissions'], groups = aovdata['fuel_type'], alpha = 0.05)\n",
        "print(m_comp)"
      ]
    },
    {
      "cell_type": "markdown",
      "metadata": {
        "id": "96o4N-COSwSD"
      },
      "source": [
        "### Insight\n",
        "\n",
        "As the p-values (refer to the p-adj column) for comparing the mean carbon emissions for the pair E85-LPG and E85-Petrol is less than the significance level, the null hypothesis of equality of all population means can be rejected.\n",
        "\n",
        "Thus, we can say that the mean carbon emission for Petrol and LPG is similar but emission for fuel type E85 is significantly different from LPG and Petrol."
      ]
    },
    {
      "cell_type": "markdown",
      "metadata": {
        "id": "K2wGWqO_SwSD"
      },
      "source": [
        "# ---------------------------------------------**The End**-------------------------------------------------"
      ]
    }
  ],
  "metadata": {
    "colab": {
      "collapsed_sections": [
        "HCF-DTRDSwRI",
        "TIWlL6waSwRN",
        "54uwRjj0wK0t",
        "JhRo1Ebg2_1H",
        "kxeP-6rx7T63",
        "23LuDgOiv5JU",
        "k6SHWGjvqZbE",
        "xPyf-mDIqqTk",
        "GgtwVXK6z9U1",
        "gE3YTnBx54pI",
        "Bq06ETuCYEey",
        "HaXBN9zP6rFH",
        "S94HHmoe6Hlv",
        "k6PL8Qg6hc5I",
        "FLK0t0VL6vMg",
        "7fKq990WGyjJ",
        "MUf9drG-ZzQV",
        "WvHJiRuF6guQ",
        "hHGP8KFiLdJ2",
        "2xnmLq677KkA",
        "pqjXDxvwe-Io",
        "no52O-10HQ4h",
        "7ZLntwM_WcK2",
        "lFMixr_Af40Q",
        "j63R8Uh78C-w",
        "_pFdvUuGC6qu",
        "RN7l8dkREpFu",
        "mXyl5ApFr6zU",
        "lb7fV6waiIb8"
      ],
      "name": "Hands_on_Notebook_Week_3.ipynb",
      "provenance": []
    },
    "kernelspec": {
      "display_name": "Python 3",
      "language": "python",
      "name": "python3"
    },
    "language_info": {
      "codemirror_mode": {
        "name": "ipython",
        "version": 3
      },
      "file_extension": ".py",
      "mimetype": "text/x-python",
      "name": "python",
      "nbconvert_exporter": "python",
      "pygments_lexer": "ipython3",
      "version": "3.8.8"
    }
  },
  "nbformat": 4,
  "nbformat_minor": 0
}