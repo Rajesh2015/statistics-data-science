{
  "cells": [
    {
      "cell_type": "markdown",
      "metadata": {
        "id": "XeV1U7GkVNZY"
      },
      "source": [
        "## Importing necessary libraries"
      ]
    },
    {
      "cell_type": "code",
      "execution_count": 1,
      "metadata": {
        "id": "219CEYUFVNZn"
      },
      "outputs": [],
      "source": [
        "# Libraries to help with reading and manipulating data\n",
        "import pandas as pd\n",
        "import numpy as np\n",
        "\n",
        "# Libraries to help with data visualization\n",
        "import matplotlib.pyplot as plt\n",
        "import seaborn as sns\n",
        "%matplotlib inline\n",
        "\n",
        "# Library to help with statistical analysis\n",
        "import scipy.stats as stats"
      ]
    },
    {
      "cell_type": "markdown",
      "metadata": {
        "id": "cfuKFTnCDTeA"
      },
      "source": [
        "## Sampling Distribution"
      ]
    },
    {
      "cell_type": "markdown",
      "metadata": {
        "id": "azEQu4DoC_Q5"
      },
      "source": [
        "**Q1. Suppose an automobile battery manufacturer claims that the mean lifetime of their battery is 60 months with a standard deviation of 6 months. Suppose the distribution of battery life is approximately normal. Find the probability that the mean lifetime of 40 randomly sampled batteries will be less than 58 months.**"
      ]
    },
    {
      "cell_type": "code",
      "execution_count": 3,
      "metadata": {
        "colab": {
          "base_uri": "https://localhost:8080/"
        },
        "id": "Y8m5-H-2j-k_",
        "outputId": "c8340860-1ae0-4b77-c46a-e45023940b44"
      },
      "outputs": [
        {
          "output_type": "execute_result",
          "data": {
            "text/plain": [
              "1.7507490509831243"
            ]
          },
          "metadata": {},
          "execution_count": 3
        }
      ],
      "source": [
        "miu=60\n",
        "sigma=6\n",
        "s = sigma/np.sqrt(40)\n",
        "stats.norm.cdf(58, loc = miu, scale = s)*100\n",
        "\n"
      ]
    },
    {
      "cell_type": "markdown",
      "source": [
        "#### Less then 2 %"
      ],
      "metadata": {
        "id": "6xsJiFXDmCyB"
      }
    },
    {
      "cell_type": "markdown",
      "metadata": {
        "id": "1TFwIVHqBR8O"
      },
      "source": [
        "## Interval Estimation"
      ]
    },
    {
      "cell_type": "markdown",
      "metadata": {
        "id": "hyfZcgYs_LMD"
      },
      "source": [
        "**Q2. A random sample of 40 households was selected as part of a study on electricity usage, and the number of kilowatt-hours (kWh) was recorded for each household in the sample for the first quarter of 2020. The average usage was found to be 310 kWh. In a very large study in the first quarter of the previous year, it was found that the standard deviation of the usage was 89 kWh.**\n",
        "\n",
        "**Assuming the standard deviation is unchanged and that the usage is normally distributed, provide an expression for calculating a 95% confidence interval for the mean usage in the first quarter of 2019.**"
      ]
    },
    {
      "cell_type": "code",
      "execution_count": 5,
      "metadata": {
        "colab": {
          "base_uri": "https://localhost:8080/"
        },
        "id": "Ea7knF8Bj-k_",
        "outputId": "475284a6-c91b-4410-f89d-f31470065859"
      },
      "outputs": [
        {
          "output_type": "execute_result",
          "data": {
            "text/plain": [
              "(282.419121062447, 337.580878937553)"
            ]
          },
          "metadata": {},
          "execution_count": 5
        }
      ],
      "source": [
        "n=40\n",
        "mean=310\n",
        "sd=89\n",
        "stats.norm.interval(.95,loc=mean,scale=89/np.sqrt(40))"
      ]
    },
    {
      "cell_type": "markdown",
      "source": [
        "#### In betwee 282.4 and 337.58"
      ],
      "metadata": {
        "id": "ygcZjMRHry_s"
      }
    },
    {
      "cell_type": "markdown",
      "metadata": {
        "id": "i3lgMdBDj-k_"
      },
      "source": [
        "## Hypothesis Testing"
      ]
    },
    {
      "cell_type": "markdown",
      "metadata": {
        "id": "sPt1c9LNj-k_"
      },
      "source": [
        "**Q3. You are a manager of a Chinese restaurant. You want to determine whether the mean waiting time to place an order has changed in the past month from its previous population mean value of 4.5 minutes. State the null and alternative hypotheses.**"
      ]
    },
    {
      "cell_type": "markdown",
      "metadata": {
        "id": "q_sBG_MTj-k_"
      },
      "source": [
        "Null Hypothesis:mean waiting time =4.5\n",
        "\n",
        "Alternative Hypothesis:mean waiting time !=4.5"
      ]
    },
    {
      "cell_type": "markdown",
      "metadata": {
        "id": "NyCvR_gHj-k_"
      },
      "source": [
        "**Q4. What is the p-value in a two-tailed z-test for one sample, where the computed test statistic (z-stat) is equal to +2.00?**"
      ]
    },
    {
      "cell_type": "code",
      "execution_count": 9,
      "metadata": {
        "id": "wswkP5Vzj-k_"
      },
      "outputs": [],
      "source": [
        "z_stat=2\n",
        "pval=1-stats.norm.cdf(z_stat)"
      ]
    },
    {
      "cell_type": "code",
      "source": [
        "# calculating the p-value for a two-tailed test\n",
        "print(pval*2)"
      ],
      "metadata": {
        "id": "yoq0E9M4t-kk",
        "outputId": "0d6243d3-4a0d-4672-cdc6-a1affdea29f3",
        "colab": {
          "base_uri": "https://localhost:8080/"
        }
      },
      "execution_count": 10,
      "outputs": [
        {
          "output_type": "stream",
          "name": "stdout",
          "text": [
            "0.04550026389635842\n"
          ]
        }
      ]
    },
    {
      "cell_type": "markdown",
      "metadata": {
        "id": "kHDBu_mqj-k_"
      },
      "source": [
        "**Q5. Samy, Product Manager of K2 Jeans, wants to launch a product line into a new market area. A Survey of a random sample of 400 households in that market showed a mean income per household of 30000 rupees. The standard deviation based on an earlier pilot study of households is 8000 rupees. Samy strongly believes the product line will be adequately profitable only in markets where the mean household income is greater than 29000 rupees. Samy wants our help in deciding whether the product line should be introduced in the new market. Perform statistical analysis and based on that draw a conclusion.**\n",
        "\n",
        "Assume a level of significance ($\\alpha$) of 5%"
      ]
    },
    {
      "cell_type": "markdown",
      "source": [
        "n=400\n",
        "x_bar=30000\n",
        "sd=8000\n",
        "assume alpha as .05\n",
        "h0=mean income<29000\n",
        "ha=mean income >=29000"
      ],
      "metadata": {
        "id": "SwVBb4-UyaHM"
      }
    },
    {
      "cell_type": "code",
      "execution_count": 11,
      "metadata": {
        "colab": {
          "base_uri": "https://localhost:8080/"
        },
        "id": "9whSQlA8j-lA",
        "outputId": "cd2354c1-2fa9-411e-800c-42578f985a68"
      },
      "outputs": [
        {
          "output_type": "stream",
          "name": "stdout",
          "text": [
            "2.5\n"
          ]
        }
      ],
      "source": [
        "z = (30000 - 29000)/(8000/np.sqrt(400))\n",
        "print(z)"
      ]
    },
    {
      "cell_type": "code",
      "source": [
        "sample_mean = 30000\n",
        "population_mean = 29000\n",
        "population_std = 8000\n",
        "sample_size = 400\n",
        "z = (sample_mean - population_mean) / (population_std / np.sqrt(sample_size))\n",
        "print(f'Z-score: {z}')\n",
        "\n",
        "# Find the critical value for a one-tailed test with alpha = 0.05\n",
        "alpha = 0.05\n",
        "critical_val = stats.norm.ppf(1 - alpha)  # For right tail, use 1 - alpha\n",
        "print(f'Critical Value: {critical_val}')\n",
        "\n",
        "# Plot the normal distribution and the rejection region\n",
        "x = np.linspace(-4, 4, 100)  # Create an array of 100 numbers from -4 to 4\n",
        "plt.plot(x, stats.norm.pdf(x, 0, 1))  # Plot the PDF of the standard normal distribution\n",
        "\n",
        "# Plot the critical value line and the rejection region\n",
        "plt.axvline(x=critical_val, color='r', linestyle='--')  # Vertical red line for the critical value\n",
        "x1 = np.linspace(critical_val, 4, 50)  # Array of numbers from critical value to 4\n",
        "plt.fill_between(x1, stats.norm.pdf(x1, 0, 1), color='r', alpha=0.5)  # Fill the rejection region in red\n",
        "\n",
        "# Add annotations\n",
        "plt.annotate('Reject Null', (critical_val + 0.5, stats.norm.pdf(critical_val, 0, 1) / 2), color='r')\n",
        "plt.annotate('Do Not Reject Null', (-1, stats.norm.pdf(-1, 0, 1) / 2))\n",
        "\n",
        "# Add labels and title\n",
        "plt.xlabel('Z')\n",
        "plt.ylabel('Probability Density')\n",
        "plt.title('Z-Test Rejection and Acceptance Regions')\n",
        "\n",
        "# Show the plot\n",
        "plt.show()"
      ],
      "metadata": {
        "id": "LutG2jjy0Iv9",
        "outputId": "0e3523c1-074c-409f-bf0f-072e286fc8e8",
        "colab": {
          "base_uri": "https://localhost:8080/",
          "height": 507
        }
      },
      "execution_count": 22,
      "outputs": [
        {
          "output_type": "stream",
          "name": "stdout",
          "text": [
            "Z-score: 2.5\n",
            "Critical Value: 1.6448536269514722\n"
          ]
        },
        {
          "output_type": "display_data",
          "data": {
            "text/plain": [
              "<Figure size 640x480 with 1 Axes>"
            ],
            "image/png": "[encoded data removed]"
          },
          "metadata": {}
        }
      ]
    },
    {
      "cell_type": "code",
      "source": [
        "1-stats.norm.cdf(z)"
      ],
      "metadata": {
        "id": "-Jr6-1Yuy_e4",
        "outputId": "6f71d473-81b5-4b76-f6f5-b0c4011ced91",
        "colab": {
          "base_uri": "https://localhost:8080/"
        }
      },
      "execution_count": 13,
      "outputs": [
        {
          "output_type": "execute_result",
          "data": {
            "text/plain": [
              "0.006209665325776159"
            ]
          },
          "metadata": {},
          "execution_count": 13
        }
      ]
    },
    {
      "cell_type": "markdown",
      "source": [
        "#### alpha which is .05 > p which means we can reject null hypthosis so the product will be scuessfull"
      ],
      "metadata": {
        "id": "aLqztoryzYNj"
      }
    },
    {
      "cell_type": "code",
      "source": [],
      "metadata": {
        "id": "qjpBuMr6zPM9"
      },
      "execution_count": null,
      "outputs": []
    }
  ],
  "metadata": {
    "colab": {
      "collapsed_sections": [
        "g7pg-lWiVNZx",
        "l46Ul-hMd7DD"
      ],
      "name": "Practice_exercise -1 (1).ipynb",
      "provenance": []
    },
    "kernelspec": {
      "display_name": "Python 3",
      "language": "python",
      "name": "python3"
    },
    "language_info": {
      "codemirror_mode": {
        "name": "ipython",
        "version": 3
      },
      "file_extension": ".py",
      "mimetype": "text/x-python",
      "name": "python",
      "nbconvert_exporter": "python",
      "pygments_lexer": "ipython3",
      "version": "3.8.8"
    }
  },
  "nbformat": 4,
  "nbformat_minor": 0
}