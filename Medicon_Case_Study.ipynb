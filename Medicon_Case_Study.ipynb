{
 "cells": [
  {
   "cell_type": "markdown",
   "metadata": {
    "id": "i3NB-wxN-qll"
   },
   "source": [
    "<center><p float=\"center\">\n",
    "  <img src=\"https://upload.wikimedia.org/wikipedia/commons/e/e9/4_RGB_McCombs_School_Brand_Branded.png\" width=\"300\" height=\"100\"/>\n",
    "  <img src=\"https://mma.prnewswire.com/media/1458111/Great_Learning_Logo.jpg?p=facebook\" width=\"200\" height=\"100\"/>\n",
    "</p></center>\n",
    "\n",
    "<center><font size=10>Applied Statistics</center></font>\n",
    "<center><font size=5>Inferential Statistics Foundations - Week 1</font></center>\n",
    "\n",
    "\n"
   ]
  },
  {
   "cell_type": "markdown",
   "metadata": {
    "id": "hB9o4E20-qls"
   },
   "source": [
    "<center><img src=\"https://cdn.pixabay.com/photo/2021/04/14/15/45/test-6178726_960_720.jpg\" width=\"1000\" height=\"600\"></center>\n",
    "\n",
    "\n",
    "<center><font size=5><b> Medicon Case Study</b></font></center>"
   ]
  },
  {
   "cell_type": "markdown",
   "metadata": {
    "id": "ABPdgfNR-qlu"
   },
   "source": [
    "## **Problem Statement**"
   ]
  },
  {
   "cell_type": "markdown",
   "metadata": {
    "id": "4T1pNhgOk-iS"
   },
   "source": [
    "### **Business Context**"
   ]
  },
  {
   "cell_type": "markdown",
   "metadata": {
    "id": "Yjvu42wClCQZ"
   },
   "source": [
    "Medicon is a leading pharmaceutical company and one of the world's largest vaccine manufacturers. During the last quarter, the company clinically tested five batches of the Covid-19 vaccine, and approximately 2,00,000 doses of this vaccine have already been administered to people. The sixth batch (40,000 doses) has now been manufactured and must be tested for quality assurance (whether the dose will be able to do a satisfactory job or not) as well as their time of effect (time taken for the dose to completely cure COVID). From the analysis of the previous batches, it is found that a dose is two times more likely to produce a satisfactory result as compared to an unsatisfactory result.\n"
   ]
  },
  {
   "cell_type": "markdown",
   "metadata": {
    "id": "VcjvnfswBA-y"
   },
   "source": [
    "[**Note**: This is not a clinical trial, the vaccine has already cleared clinical trials. This batch test is to ensure the quality and effectiveness of the sixth batch]"
   ]
  },
  {
   "cell_type": "markdown",
   "metadata": {
    "id": "uRjp-0wnlIY5"
   },
   "source": [
    "### **Objective**"
   ]
  },
  {
   "cell_type": "markdown",
   "metadata": {
    "id": "DK2KO7xslgCB"
   },
   "source": [
    "By analyzing random samples collected from the batch, the company plans to infer the quality (whether a dose will do a satisfactory job or not) and time of effect of this (sixth) batch. As a Data Scientist in Medicon's Quality Assurance team, you've been tasked with inspecting the batch's quality. The objective has been sub-divided further into the following tasks:\n",
    "\n",
    "**Task 1**: The Quality Assurance team has randomly selected 10 volunteers who were ready for the trial of the new batch and has given one dose to each volunteer. They want to understand the chances of doses being unsatisfactory by plotting the probability distribution of the number of unsatisfactory doses. They also want to find the probability that\n",
    "\n",
    "A) exactly 3 doses out of 10 will not do a satisfactory job\n",
    "\n",
    "B) at most 3 doses out of 10 will not do a satisfactory job\n",
    "\n",
    "C) more than 8 doses out of 10 will do a satisfactory job\n",
    "\n",
    "**Task 2**: The New York City administration wants to buy 20 doses for healthcare workers who tested positive for COVID. They have contacted the company and requested 20 doses. The Quality Assurance team want to find the probability that\n",
    "\n",
    "A) at least 11 doses will not do a satisfactory job out of the 20 doses\n",
    "\n",
    "B) at most 5 doses out of the 20 will not do a satisfactory job\n",
    "\n",
    "C) at least 13 doses out of the 20 will do a satisfactory job\n",
    "\n",
    "**Task 3**: The Quality Assurance team wants to analyze the time of effect for doses. So, they have randomly selected 50 volunteers with the help of the city administration and given one dose to each volunteer. The times of effect of these 50 doses are stored in the 'doses.csv' file. Based on the sample data, they want to\n",
    "\n",
    "A) find the probability that the time of effect of a dose is less than 11.5 hours\n",
    "\n",
    "B) find the probability that the time of effect of a dose is more than 10 hours\n",
    "\n",
    "C) calculate the 90th percentile of time of effect for the doses, which will give the value below which lies the time of effect of 90% of the doses\n",
    "\n",
    "**Note**: Here, satisfactory job means that the dose is able to completely cure covid and it does not have any side effects."
   ]
  },
  {
   "cell_type": "markdown",
   "metadata": {
    "id": "D33cQNWWlpjR"
   },
   "source": [
    "### **Solution Approach**\n"
   ]
  },
  {
   "cell_type": "markdown",
   "metadata": {
    "id": "b9k3jYWAlzmp"
   },
   "source": [
    "Let $p$ be the probability that a dose will not do a satisfactory job. It is provided that a dose is two times more likely to produce a satisfactory result as compared to an unsatisfactory result. So, the probability that a dose will do a satisfactory job is $2p$.\n",
    "\n",
    "According to the rules of probability, the total probability is always 1\n",
    "\n",
    "$p + 2p = 1$\n",
    "\n",
    "$=> 3p = 1$\n",
    "\n",
    "$=> p = 1/3$\n",
    "\n",
    "$=> p = 0.33$\n",
    "\n",
    "Hence, the probability of success for each trial is 0.33.\n",
    "\n",
    "**Note**: In this case, success denotes the event that a dose will not do a satisfactory job."
   ]
  },
  {
   "cell_type": "markdown",
   "metadata": {
    "id": "deDhoxQ9l4H5"
   },
   "source": [
    "### **Data**"
   ]
  },
  {
   "cell_type": "markdown",
   "metadata": {
    "id": "7uTqu6UnZIuP"
   },
   "source": [
    "For the third task, you have been provided the dataset **doses.csv**. The features in the dataset are:\n",
    "\n",
    "* drug_serial_number: Unique serial number of a dose\n",
    "* time_of_effect: Time taken for the dose to completely cure COVID (in hours)"
   ]
  },
  {
   "cell_type": "markdown",
   "metadata": {
    "id": "9tRIjr4im6uI"
   },
   "source": [
    "## **Let us start by importing the required libraries**"
   ]
  },
  {
   "cell_type": "code",
   "execution_count": null,
   "metadata": {
    "id": "PXBkr210XS8F"
   },
   "outputs": [],
   "source": [
    "# Installing the libraries with the specified version.\n",
    "!pip install numpy==1.25.2 pandas==2.0.3 matplotlib==3.7.1 seaborn==0.13.1 scipy==1.11.4 -q --user"
   ]
  },
  {
   "cell_type": "markdown",
   "metadata": {
    "id": "Opd_TKlOzL11"
   },
   "source": [
    "**Note**: *After running the above cell, kindly restart the notebook kernel and run all cells sequentially from the start again.*"
   ]
  },
  {
   "cell_type": "markdown",
   "metadata": {
    "id": "8FbHCKa_NBGQ"
   },
   "source": [
    "## **Import the necessary libraries**"
   ]
  },
  {
   "cell_type": "code",
   "execution_count": 12,
   "metadata": {
    "id": "cNXGq81liYXe"
   },
   "outputs": [],
   "source": [
    "# Libraries to help with reading and manipulating data\n",
    "import pandas as pd\n",
    "import numpy as np\n",
    "\n",
    "# Libraries to help with data visualization\n",
    "import matplotlib.pyplot as plt\n",
    "import seaborn as sns\n",
    "%matplotlib inline\n",
    "\n",
    "# Library to help with statistical analysis\n",
    "import scipy.stats as stats"
   ]
  },
  {
   "cell_type": "markdown",
   "metadata": {
    "id": "eP61eT-Q-ql0"
   },
   "source": [
    "## **Task 1**"
   ]
  },
  {
   "cell_type": "markdown",
   "metadata": {
    "id": "Hrjb75zpALlN"
   },
   "source": [
    "**The quality assurance team has randomly selected 10 volunteers who were ready for the trial of the new batch and given one dose to each volunteer.**\n",
    "\n",
    "In the above situation,\n",
    "\n",
    "*  There are only two possible outcomes (success or failure) for each trial – A dose will do a satisfactory job or not (yes or no).\n",
    "\n",
    "* Number of trials ($n$) is fixed and finite - A  sample of size 10 is taken. Each dose in the sample represents a trial.\n",
    "\n",
    "* Each trial is independent of the other trials - It is reasonable to assume that the doses given to each person are independent of each other.\n",
    "\n",
    "* The probability of success ($p$) is the same for each trial - The probability of success (a dose will not do a satisfactory job) for each trial is calculated to be 0.33\n",
    "\n",
    "Hence, the number of unsatisfactory doses follows a Binomial distribution with the parameters $n = 10$ and $p = 0.33$"
   ]
  },
  {
   "cell_type": "code",
   "execution_count": 13,
   "metadata": {
    "id": "pr7eBI8P-ql3"
   },
   "outputs": [],
   "source": [
    "# declare the parameters n and p of the binomial distribution\n",
    "n = 10\n",
    "p = 0.33"
   ]
  },
  {
   "cell_type": "code",
   "execution_count": 14,
   "metadata": {
    "colab": {
     "base_uri": "https://localhost:8080/"
    },
    "id": "C-tnZuKyIZY-",
    "outputId": "6254ab97-ad53-46fa-cf66-a358e54f5a75"
   },
   "outputs": [
    {
     "data": {
      "text/plain": [
       "array([ 0,  1,  2,  3,  4,  5,  6,  7,  8,  9, 10])"
      ]
     },
     "execution_count": 14,
     "metadata": {},
     "output_type": "execute_result"
    }
   ],
   "source": [
    "# store all possible number of unsatisfactory doses in a numpy array\n",
    "k=np.arange(0,11)\n",
    "k"
   ]
  },
  {
   "cell_type": "code",
   "execution_count": 15,
   "metadata": {
    "id": "zOMdaSVSIhUd"
   },
   "outputs": [],
   "source": [
    "# import the required function\n",
    "from scipy.stats import binom\n",
    "# use the binom.pmf() function to generate the mass probabilities for all possible number of unsatisfactory doses\n",
    "binomial_prob = binom.pmf(k = k,n = n, p = p)"
   ]
  },
  {
   "cell_type": "code",
   "execution_count": 16,
   "metadata": {
    "colab": {
     "base_uri": "https://localhost:8080/"
    },
    "id": "mNiIIt6JI0Kk",
    "outputId": "35095d0b-01da-4e2b-d203-2f1863b762b4"
   },
   "outputs": [
    {
     "data": {
      "text/plain": [
       "array([1.82283780e-02, 8.97815635e-02, 1.98993465e-01, 2.61364552e-01,\n",
       "       2.25280640e-01, 1.33150945e-01, 5.46515074e-02, 1.53816609e-02,\n",
       "       2.84101573e-03, 3.10956945e-04, 1.53157899e-05])"
      ]
     },
     "execution_count": 16,
     "metadata": {},
     "output_type": "execute_result"
    }
   ],
   "source": [
    "binomial_prob"
   ]
  },
  {
   "cell_type": "markdown",
   "metadata": {
    "id": "oAUSy7vD-ql7"
   },
   "source": [
    "Let us plot the probability distribution of the number of unsatisfactory doses."
   ]
  },
  {
   "cell_type": "code",
   "execution_count": 17,
   "metadata": {
    "colab": {
     "base_uri": "https://localhost:8080/",
     "height": 474
    },
    "id": "AsMrxVECI2zT",
    "outputId": "dc660b19-0d39-4689-8932-4a9c2aa9a9b8"
   },
   "outputs": [
    {
     "data": {
      "image/png": "[encoded data removed]",
      "text/plain": [
       "<Figure size 432x288 with 1 Axes>"
      ]
     },
     "metadata": {
      "needs_background": "light"
     },
     "output_type": "display_data"
    }
   ],
   "source": [
    "# plot the probability distribution\n",
    "plt.bar(k,binomial_prob)\n",
    "plt.title('Binomial: n=%i , p=%.2f' % (n,p), fontsize=15)\n",
    "plt.xlabel('Number of unsatisfactory doses')\n",
    "plt.ylabel('Probability')\n",
    "plt.show()"
   ]
  },
  {
   "cell_type": "markdown",
   "metadata": {
    "id": "jp9eXWFYD3Wc"
   },
   "source": [
    "The above plot visualizes the mass probabilities for the different number of unsatisfactory doses. We can observe that:\n",
    "- The mass probability that exactly 3 doses will not do a satisfactory job is comparatively higher than all the other mass probabilities.\n",
    "- The chances are very low that 9 or 10 doses are unsatisfactory."
   ]
  },
  {
   "cell_type": "markdown",
   "metadata": {
    "id": "jFFr2sXaK-IQ"
   },
   "source": [
    "### **A) Let us find the probability that exactly 3 doses out of 10 will not do a satisfactory job.**"
   ]
  },
  {
   "cell_type": "markdown",
   "metadata": {
    "id": "NswsXUhE-ql8"
   },
   "source": [
    "Suppose $X$ is the random variable that denotes the number of unsuccessful doses. We are to calculate the probability $P(X=3)$."
   ]
  },
  {
   "cell_type": "code",
   "execution_count": 18,
   "metadata": {
    "colab": {
     "base_uri": "https://localhost:8080/",
     "height": 0
    },
    "id": "cNZFKSIxZ_K2",
    "outputId": "1d625b46-30b3-430f-a8ca-55310a623936"
   },
   "outputs": [
    {
     "data": {
      "image/png": "[encoded data removed]",
      "text/plain": [
       "<Figure size 432x288 with 1 Axes>"
      ]
     },
     "metadata": {
      "needs_background": "light"
     },
     "output_type": "display_data"
    }
   ],
   "source": [
    "# plot the probability distribution to better visualize the calculations\n",
    "barl=plt.bar(k,binomial_prob)\n",
    "plt.title('Binomial: n=%i , p=%.2f' % (n,p), fontsize=15)\n",
    "plt.xlabel('Number of unsatisfactory doses')\n",
    "plt.ylabel('Probability')\n",
    "barl[3].set_color('r')\n",
    "plt.show()"
   ]
  },
  {
   "cell_type": "markdown",
   "metadata": {
    "id": "Vtl1ySAoif4j"
   },
   "source": [
    "* In the above graph, the red bar represents $P(X=3)$\n",
    "\n",
    "* Let's calculate the probability that out of 10 randomly selected doses, exactly 3 will not do a satisfactory job.\n",
    "\n",
    "* We will use `binom.pmf()` for this.\n",
    " * The function `binom.pmf(k,n,p)` calculates the probability $P(X=k)$"
   ]
  },
  {
   "cell_type": "code",
   "execution_count": 19,
   "metadata": {
    "colab": {
     "base_uri": "https://localhost:8080/"
    },
    "id": "SwA5ktyW-ql9",
    "outputId": "5da5d6ae-06d0-43ac-adee-5aa40792c386",
    "scrolled": true
   },
   "outputs": [
    {
     "data": {
      "text/plain": [
       "0.26136455155259125"
      ]
     },
     "execution_count": 19,
     "metadata": {},
     "output_type": "execute_result"
    }
   ],
   "source": [
    "# calculate P(X=3) using the pmf function\n",
    "binom.pmf(k=3,n=n,p=p)"
   ]
  },
  {
   "cell_type": "markdown",
   "metadata": {
    "id": "dhlq2HYh-ql9"
   },
   "source": [
    "The same result can be obtained by selecting the value at index 3 in the binomial probabilities array"
   ]
  },
  {
   "cell_type": "code",
   "execution_count": null,
   "metadata": {
    "colab": {
     "base_uri": "https://localhost:8080/"
    },
    "id": "-azdDTV4JCgy",
    "outputId": "be1264f1-7bf0-41ac-b5cc-646b68c25e68"
   },
   "outputs": [],
   "source": [
    "binomial_prob[3]"
   ]
  },
  {
   "cell_type": "markdown",
   "metadata": {
    "id": "crI831a9Jmcn"
   },
   "source": [
    "* The probability that exactly 3 doses out of 10 will not do a satisfactory job is 26.14%."
   ]
  },
  {
   "cell_type": "markdown",
   "metadata": {
    "id": "kcDwQXrR-ql_"
   },
   "source": [
    "### **B) Let us find the probability that at most 3 doses out of 10 will not do a satisfactory job.**"
   ]
  },
  {
   "cell_type": "markdown",
   "metadata": {
    "id": "KvTxEpGZKN6c"
   },
   "source": [
    "We have to calculate the probability $P(X<=3)$."
   ]
  },
  {
   "cell_type": "code",
   "execution_count": 20,
   "metadata": {
    "colab": {
     "base_uri": "https://localhost:8080/",
     "height": 0
    },
    "id": "hzrA4Oz3J__y",
    "outputId": "9108a7b2-7586-4c02-def8-b50ee301c78d"
   },
   "outputs": [
    {
     "data": {
      "image/png": "[encoded data removed]",
      "text/plain": [
       "<Figure size 432x288 with 1 Axes>"
      ]
     },
     "metadata": {
      "needs_background": "light"
     },
     "output_type": "display_data"
    }
   ],
   "source": [
    "# plot the probability distribution to better visualize the calculations.\n",
    "# cdf function can be directly used to calculate the probability\n",
    "barl=plt.bar(k,binomial_prob)\n",
    "plt.title('Binomial: n=%i , p=%.2f' % (n,p), fontsize=15)\n",
    "plt.xlabel('Number of unsatisfactory doses')\n",
    "plt.ylabel('Probability')\n",
    "for i in range(0,4):\n",
    "    barl[i].set_color('r')\n",
    "plt.show()"
   ]
  },
  {
   "cell_type": "markdown",
   "metadata": {
    "id": "CgPbGLOSPPYq"
   },
   "source": [
    "* In the above graph, the red region represents $P(X<=3)$.\n",
    "\n",
    "* Let's calculate the probability that out of 10 randomly selected doses, at most 3 will not do a satisfactory job.\n",
    "\n",
    "* We will use `binom.cdf()` for this.\n",
    "  * The function `binom.cdf(k,n,p)` calculates the probability $P(X<=k)$"
   ]
  },
  {
   "cell_type": "code",
   "execution_count": 21,
   "metadata": {
    "colab": {
     "base_uri": "https://localhost:8080/"
    },
    "id": "C93TNkZiPH98",
    "outputId": "04680944-4fd3-459d-bfa9-ba2fd6617463"
   },
   "outputs": [
    {
     "name": "stdout",
     "output_type": "stream",
     "text": [
      "0.5683679584925136\n"
     ]
    }
   ],
   "source": [
    "# calculate P(x<=3) using the cdf function\n",
    "prob_atmost3 = binom.cdf(k = 3 ,n = n, p = p)\n",
    "print(prob_atmost3)"
   ]
  },
  {
   "cell_type": "markdown",
   "metadata": {
    "id": "bttPuQE-PvsY"
   },
   "source": [
    "*  56.84% is the probability that at most 3 doses out of 10 will not do a satisfactory job."
   ]
  },
  {
   "cell_type": "markdown",
   "metadata": {
    "id": "Nip3TfXLHavD"
   },
   "source": [
    "### **C) Let us find the probability that more than 8 doses out of 10 will do a satisfactory job.**"
   ]
  },
  {
   "cell_type": "markdown",
   "metadata": {
    "id": "BcByhhk2J2iT"
   },
   "source": [
    "* If the number of doses that do a satisfactory job is more than 8, then the number of doses that do an unsatisfactory job are less than 2, i.e., the number of doses that do an unsatisfactory job are at most 1.\n",
    "\n",
    "* So, we need to compute the probability that at most 1 dose does an unsatisfactory job, i.e., $P(X <= 1)$"
   ]
  },
  {
   "cell_type": "code",
   "execution_count": 22,
   "metadata": {
    "colab": {
     "base_uri": "https://localhost:8080/",
     "height": 0
    },
    "id": "QG7is2rxMGum",
    "outputId": "18508892-ee27-4c55-a670-14bdf95bbe05"
   },
   "outputs": [
    {
     "data": {
      "image/png": "[encoded data removed]",
      "text/plain": [
       "<Figure size 432x288 with 1 Axes>"
      ]
     },
     "metadata": {
      "needs_background": "light"
     },
     "output_type": "display_data"
    }
   ],
   "source": [
    "# plot the probability distribution to better visualize the calculations.\n",
    "# cdf function can be directly used to calculate the probability\n",
    "barl=plt.bar(k,binomial_prob)\n",
    "plt.title('Binomial: n=%i , p=%.2f' % (n,p), fontsize=15)\n",
    "plt.xlabel('Number of unsatisfactory doses')\n",
    "plt.ylabel('Probability')\n",
    "for i in range(2):\n",
    "    barl[i].set_color('r')\n",
    "plt.show()"
   ]
  },
  {
   "cell_type": "markdown",
   "metadata": {
    "id": "6hKK686D2LKF"
   },
   "source": [
    "* In the above graph, the red region represents $P(X<=1)$.\n",
    "\n",
    "* Let's calculate the probability that out of 10 randomly selected doses, more than 8 will do a satisfactory job.\n",
    "\n",
    "* We will use `binom.cdf()` for this.\n",
    "  * The function `binom.cdf(k,n,p)` calculates the probability $P(X<=k)$"
   ]
  },
  {
   "cell_type": "code",
   "execution_count": 23,
   "metadata": {
    "colab": {
     "base_uri": "https://localhost:8080/"
    },
    "id": "RiJc4ycCJa9q",
    "outputId": "92b9be78-26d5-4e2c-ca6f-3ad52edbd2ac"
   },
   "outputs": [
    {
     "name": "stdout",
     "output_type": "stream",
     "text": [
      "0.10800994155329091\n"
     ]
    }
   ],
   "source": [
    "# calculate the probability P(X<=1) using the cdf function\n",
    "prob_atmost1 = binom.cdf(k=1, n=n, p=p)\n",
    "print(prob_atmost1)"
   ]
  },
  {
   "cell_type": "markdown",
   "metadata": {
    "id": "mtkhZ18oKiRs"
   },
   "source": [
    "*  10.80% is the probability that more than 8 doses out of 10 will do a satisfactory job."
   ]
  },
  {
   "cell_type": "markdown",
   "metadata": {
    "id": "L9qqPJGG-qmB"
   },
   "source": [
    "## **Task 2**"
   ]
  },
  {
   "cell_type": "markdown",
   "metadata": {
    "id": "urid6LnBQWbk"
   },
   "source": [
    "**The New York City administration wants to buy 20 doses for healthcare workers who tested positive for COVID. They have contacted the company and requested 20 doses. The Quality Assurance team want to find the probability.**\n",
    "\n",
    "In the above situation, the number of unsatisfactory doses follows a Binomial distribution with the parameters $n = 20$ and $p = 0.33$\n",
    "\n",
    "Suppose X is the random variable that denotes the number of unsuccessful doses."
   ]
  },
  {
   "cell_type": "code",
   "execution_count": 24,
   "metadata": {
    "colab": {
     "base_uri": "https://localhost:8080/"
    },
    "id": "o8qJEipgQ3iI",
    "outputId": "6fb8aff5-3c91-4564-aa06-94a903c56ef7"
   },
   "outputs": [
    {
     "data": {
      "text/plain": [
       "array([ 0,  1,  2,  3,  4,  5,  6,  7,  8,  9, 10, 11, 12, 13, 14, 15, 16,\n",
       "       17, 18, 19, 20])"
      ]
     },
     "execution_count": 24,
     "metadata": {},
     "output_type": "execute_result"
    }
   ],
   "source": [
    "# declare the parameters n and p of the binomial distribution\n",
    "n = 20\n",
    "p = 0.33\n",
    "# store all possible number of unsatisfactory doses in a numpy array\n",
    "k=np.arange(0,21)\n",
    "k"
   ]
  },
  {
   "cell_type": "code",
   "execution_count": 25,
   "metadata": {
    "id": "zhkOqBYi-qmC"
   },
   "outputs": [],
   "source": [
    "# import the required function\n",
    "from scipy.stats import binom\n",
    "# use the binom.pmf() function to generate the mass probabilities for all possible number of unsatisfactory doses\n",
    "binomial_prob = binom.pmf(k = k,n = n, p = p)"
   ]
  },
  {
   "cell_type": "markdown",
   "metadata": {
    "id": "5_ywoF6uYuOm"
   },
   "source": [
    "### **A) Find the probability that at least 11 doses will not do a satisfactory job out of the 20 doses.**"
   ]
  },
  {
   "cell_type": "markdown",
   "metadata": {
    "id": "0Y3LIC9O-qmD"
   },
   "source": [
    "We are to calculate the probability $P(X>=11)$. It can be obtained using the `cdf` function"
   ]
  },
  {
   "cell_type": "code",
   "execution_count": 26,
   "metadata": {
    "colab": {
     "base_uri": "https://localhost:8080/",
     "height": 0
    },
    "id": "Aj4naC37PjBx",
    "outputId": "61904dfd-1a7d-401e-e679-fa2d12a19145"
   },
   "outputs": [
    {
     "data": {
      "image/png": "[encoded data removed]",
      "text/plain": [
       "<Figure size 432x288 with 1 Axes>"
      ]
     },
     "metadata": {
      "needs_background": "light"
     },
     "output_type": "display_data"
    }
   ],
   "source": [
    "# plot the probability distribution to better visualize the calculations.\n",
    "# cdf function can be directly used to calculate the probability\n",
    "barl=plt.bar(k,binomial_prob)\n",
    "plt.title('Binomial: n=%i , p=%.2f' % (n,p), fontsize=15)\n",
    "plt.xlabel('Number of unsatisfactory doses')\n",
    "plt.ylabel('Probability')\n",
    "for i in range(11,21):\n",
    "    barl[i].set_color('r')\n",
    "plt.show()"
   ]
  },
  {
   "cell_type": "markdown",
   "metadata": {
    "id": "TEas5m-tQqcb"
   },
   "source": [
    "In the above graph, the red region represents $P(X>=11)$. We can simplify the computation as follows:\n",
    "\n",
    "$P(X>=11)$\n",
    "\n",
    "$= 1 - P(X<11)$\n",
    "\n",
    "$= 1 - P(X<=10)$"
   ]
  },
  {
   "cell_type": "markdown",
   "metadata": {
    "id": "oqdo20Ok-qmE"
   },
   "source": [
    "Now, we can use `binom.cdf()` for calculating the probability that out of 20 randomly selected doses, at least 11 will not do a satisfactory job."
   ]
  },
  {
   "cell_type": "code",
   "execution_count": 27,
   "metadata": {
    "colab": {
     "base_uri": "https://localhost:8080/"
    },
    "id": "c59BLJ5G-qmE",
    "outputId": "29c80586-b562-45b9-f480-4b3356bfee0f"
   },
   "outputs": [
    {
     "name": "stdout",
     "output_type": "stream",
     "text": [
      "0.03499740152648401\n"
     ]
    }
   ],
   "source": [
    "# calculate P(x>=11) using cdf function\n",
    "prob_atleast11 = 1 - binom.cdf(k = 10, n = n, p = p)\n",
    "print(prob_atleast11)"
   ]
  },
  {
   "cell_type": "markdown",
   "metadata": {
    "id": "E_2gaKjaLMGT"
   },
   "source": [
    "* There is 3.5 % chance that at least 11 out of 20 doses will not do a satisfactory job"
   ]
  },
  {
   "cell_type": "markdown",
   "metadata": {
    "id": "_vdTt46gXoa8"
   },
   "source": [
    "### **B) Find the probability that at most 5 doses out of the 20 will not do a satisfactory job.**"
   ]
  },
  {
   "cell_type": "markdown",
   "metadata": {
    "id": "rs0G-BpbaPS3"
   },
   "source": [
    "We have to calculate the probability $P(X<=5)$."
   ]
  },
  {
   "cell_type": "code",
   "execution_count": 28,
   "metadata": {
    "colab": {
     "base_uri": "https://localhost:8080/",
     "height": 0
    },
    "id": "nH2lV4-LaWSm",
    "outputId": "e336ba7d-da86-49c6-e236-405f10364ed9"
   },
   "outputs": [
    {
     "data": {
      "image/png": "[encoded data removed]",
      "text/plain": [
       "<Figure size 432x288 with 1 Axes>"
      ]
     },
     "metadata": {
      "needs_background": "light"
     },
     "output_type": "display_data"
    }
   ],
   "source": [
    "# plot the probability distribution to better visualize the calculations.\n",
    "# cdf function can be directly used to calculate the probability\n",
    "barl=plt.bar(k,binomial_prob)\n",
    "plt.title('Binomial: n=%i , p=%.2f' % (n,p), fontsize=15)\n",
    "plt.xlabel('Number of unsatisfactory doses')\n",
    "plt.ylabel('Probability')\n",
    "for i in range(0,6):\n",
    "    barl[i].set_color('r')\n",
    "plt.show()"
   ]
  },
  {
   "cell_type": "markdown",
   "metadata": {
    "id": "9StDTOTdascl"
   },
   "source": [
    "* In the above graph, the red region represents $P(X<=5)$.\n",
    "\n",
    "* Let's calculate the probability that out of 20 randomly selected doses, at most 5 will not do a satisfactory job.\n",
    "\n",
    "* We will use `binom.cdf()` for this.\n",
    "  * The function `binom.cdf(k,n,p)` calculates the probability $P(X<=k)$"
   ]
  },
  {
   "cell_type": "code",
   "execution_count": 29,
   "metadata": {
    "colab": {
     "base_uri": "https://localhost:8080/"
    },
    "id": "HMQZZMwFX0GW",
    "outputId": "a0b398fb-1e57-4dc2-d560-d85ff5248870"
   },
   "outputs": [
    {
     "name": "stdout",
     "output_type": "stream",
     "text": [
      "0.3082500563938654\n"
     ]
    }
   ],
   "source": [
    "# calculate the probability P(X<=5) using the pmf function\n",
    "prob_atmost5 = binom.cdf(k=5, n=n, p=p)\n",
    "print(prob_atmost5)"
   ]
  },
  {
   "cell_type": "markdown",
   "metadata": {
    "id": "9bLNpeJsa8Yt"
   },
   "source": [
    "*  30.82% is the probability that at most 5 doses out of 20 will not do a satisfactory job."
   ]
  },
  {
   "cell_type": "markdown",
   "metadata": {
    "id": "aLJkk5T7biFl"
   },
   "source": [
    "### **C) Calculate the probability that at least 13 doses out of the 20 will do a satisfactory job**"
   ]
  },
  {
   "cell_type": "markdown",
   "metadata": {
    "id": "u45soKs53naZ"
   },
   "source": [
    "* If the number of doses that do a satisfactory job at least 13, then the number of doses that do an unsatisfactory job are at most 7, i.e., the number of doses that do an unsatisfactory job are less than or equal to 7.\n",
    "\n",
    "* So, we need to compute the probability $P(X <= 7)$\n"
   ]
  },
  {
   "cell_type": "code",
   "execution_count": 30,
   "metadata": {
    "colab": {
     "base_uri": "https://localhost:8080/",
     "height": 0
    },
    "id": "wJBiM2RkbiFm",
    "outputId": "b27acf8e-465d-4282-e1f7-d6aca265ae49"
   },
   "outputs": [
    {
     "data": {
      "image/png": "[encoded data removed]",
      "text/plain": [
       "<Figure size 432x288 with 1 Axes>"
      ]
     },
     "metadata": {
      "needs_background": "light"
     },
     "output_type": "display_data"
    }
   ],
   "source": [
    "# plot the probability distribution to better visualize the calculations.\n",
    "# cdf function can be directly used to calculate the probability\n",
    "barl=plt.bar(k,binomial_prob)\n",
    "plt.title('Binomial: n=%i , p=%.2f' % (n,p), fontsize=15)\n",
    "plt.xlabel('Number of unsatisfactory doses')\n",
    "plt.ylabel('Probability')\n",
    "for i in range(0,8):\n",
    "    barl[i].set_color('r')\n",
    "plt.show()"
   ]
  },
  {
   "cell_type": "markdown",
   "metadata": {
    "id": "fvZm4TpB4n4c"
   },
   "source": [
    "* In the above graph, the red region represents $P(X<=7)$.\n",
    "\n",
    "* Let's calculate the probability that out of 20 randomly selected doses, more than 13 will do a satisfactory job.\n",
    "\n",
    "* We will use `binom.cdf()` for this.\n",
    "  * The function `binom.cdf(k,n,p)` calculates the probability $P(X<=k)$"
   ]
  },
  {
   "cell_type": "code",
   "execution_count": 31,
   "metadata": {
    "colab": {
     "base_uri": "https://localhost:8080/"
    },
    "id": "NW-oyCoj4nY7",
    "outputId": "13eb5741-91df-4aa2-ba4b-d699d843a26c"
   },
   "outputs": [
    {
     "name": "stdout",
     "output_type": "stream",
     "text": [
      "0.6732488959678962\n"
     ]
    }
   ],
   "source": [
    "# calculate the probability P(X<=7) using the cdf function\n",
    "prob_atmost6 = binom.cdf(k=7, n=n, p=p)\n",
    "print(prob_atmost6)"
   ]
  },
  {
   "cell_type": "markdown",
   "metadata": {
    "id": "jUZAxjD05EH4"
   },
   "source": [
    "*  67.32% is the probability that at least 13 doses out of 20 will do a satisfactory job."
   ]
  },
  {
   "cell_type": "markdown",
   "metadata": {
    "id": "k_9OvVaO-qmF"
   },
   "source": [
    "## **Task 3**"
   ]
  },
  {
   "cell_type": "markdown",
   "metadata": {
    "id": "-_FMYnJs-qmF"
   },
   "source": [
    "The quality assurance team wants to analyze the time of effect for doses. So, they have randomly selected 50 volunteers with the help of the city administration and given one dose to each volunteer. The time of effect of these 50 doses are stored in 'doses.csv' file."
   ]
  },
  {
   "cell_type": "markdown",
   "metadata": {
    "id": "PH9A8NlF8Bl_"
   },
   "source": [
    "### **Reading the Sample Data into the DataFrame**"
   ]
  },
  {
   "cell_type": "code",
   "execution_count": null,
   "metadata": {
    "id": "8NFWeGdGxlur"
   },
   "outputs": [],
   "source": [
    "# uncomment the below code cell to mount your google drive\n",
    "#  from google.colab import drive\n",
    "#  drive.mount('/content/drive')"
   ]
  },
  {
   "cell_type": "code",
   "execution_count": 32,
   "metadata": {
    "colab": {
     "base_uri": "https://localhost:8080/",
     "height": 206
    },
    "id": "E6b88UwqAfLM",
    "outputId": "79c11997-9eb9-42b8-fe20-3a573c89735e"
   },
   "outputs": [
    {
     "data": {
      "text/html": [
       "<div>\n",
       "<style scoped>\n",
       "    .dataframe tbody tr th:only-of-type {\n",
       "        vertical-align: middle;\n",
       "    }\n",
       "\n",
       "    .dataframe tbody tr th {\n",
       "        vertical-align: top;\n",
       "    }\n",
       "\n",
       "    .dataframe thead th {\n",
       "        text-align: right;\n",
       "    }\n",
       "</style>\n",
       "<table border=\"1\" class=\"dataframe\">\n",
       "  <thead>\n",
       "    <tr style=\"text-align: right;\">\n",
       "      <th></th>\n",
       "      <th>drug_serial_number</th>\n",
       "      <th>time_of_effect</th>\n",
       "    </tr>\n",
       "  </thead>\n",
       "  <tbody>\n",
       "    <tr>\n",
       "      <th>0</th>\n",
       "      <td>672</td>\n",
       "      <td>5.8</td>\n",
       "    </tr>\n",
       "    <tr>\n",
       "      <th>1</th>\n",
       "      <td>895</td>\n",
       "      <td>17.3</td>\n",
       "    </tr>\n",
       "    <tr>\n",
       "      <th>2</th>\n",
       "      <td>518</td>\n",
       "      <td>16.7</td>\n",
       "    </tr>\n",
       "    <tr>\n",
       "      <th>3</th>\n",
       "      <td>448</td>\n",
       "      <td>13.1</td>\n",
       "    </tr>\n",
       "    <tr>\n",
       "      <th>4</th>\n",
       "      <td>402</td>\n",
       "      <td>13.6</td>\n",
       "    </tr>\n",
       "  </tbody>\n",
       "</table>\n",
       "</div>"
      ],
      "text/plain": [
       "   drug_serial_number  time_of_effect\n",
       "0                 672             5.8\n",
       "1                 895            17.3\n",
       "2                 518            16.7\n",
       "3                 448            13.1\n",
       "4                 402            13.6"
      ]
     },
     "execution_count": 32,
     "metadata": {},
     "output_type": "execute_result"
    }
   ],
   "source": [
    "drug = pd.read_csv('doses.csv')\n",
    "drug.head()"
   ]
  },
  {
   "cell_type": "code",
   "execution_count": 37,
   "metadata": {},
   "outputs": [
    {
     "data": {
      "text/plain": [
       "drug_serial_number    993.0\n",
       "time_of_effect         23.8\n",
       "dtype: float64"
      ]
     },
     "execution_count": 37,
     "metadata": {},
     "output_type": "execute_result"
    }
   ],
   "source": [
    "drug.max()"
   ]
  },
  {
   "cell_type": "markdown",
   "metadata": {
    "id": "OiNQWmnx-bOQ"
   },
   "source": [
    "### **Overview of the dataset**"
   ]
  },
  {
   "cell_type": "code",
   "execution_count": null,
   "metadata": {
    "colab": {
     "base_uri": "https://localhost:8080/"
    },
    "id": "08ZOa6zpAu-h",
    "outputId": "89ce58b3-401f-48ad-e46a-90d84f43ce14"
   },
   "outputs": [],
   "source": [
    "drug.info()"
   ]
  },
  {
   "cell_type": "markdown",
   "metadata": {
    "id": "X8Nu1fcmA4En"
   },
   "source": [
    "There are no null values in the dataset"
   ]
  },
  {
   "cell_type": "markdown",
   "metadata": {
    "id": "eKmM-Hv9KySo"
   },
   "source": [
    "### **Mean and standard deviation of the time of effect for the sample doses**"
   ]
  },
  {
   "cell_type": "code",
   "execution_count": 38,
   "metadata": {
    "colab": {
     "base_uri": "https://localhost:8080/"
    },
    "id": "9JmSPFqkRodY",
    "outputId": "ff549c1c-28e1-40a0-978d-1fe94fd97368"
   },
   "outputs": [
    {
     "name": "stdout",
     "output_type": "stream",
     "text": [
      "The estimated mean is 13.44\n",
      "The estimated standard deviation is 4.75\n"
     ]
    }
   ],
   "source": [
    "# import the required function\n",
    "from scipy.stats import norm\n",
    "# estimate the mean and standard deviation of the time of effect for the doses\n",
    "mu = drug['time_of_effect'].mean()\n",
    "sigma = drug['time_of_effect'].std()\n",
    "print('The estimated mean is', round(mu,2))\n",
    "print('The estimated standard deviation is', round(sigma,2))"
   ]
  },
  {
   "cell_type": "markdown",
   "metadata": {
    "id": "COpe00rKM66m"
   },
   "source": [
    "### **Plotting the Distribution**\n",
    "\n"
   ]
  },
  {
   "cell_type": "markdown",
   "metadata": {
    "id": "kN9Xqr5pm0O5"
   },
   "source": [
    "It will help us analyze the shape of the distribution of time of effect for doses."
   ]
  },
  {
   "cell_type": "code",
   "execution_count": 39,
   "metadata": {
    "colab": {
     "base_uri": "https://localhost:8080/",
     "height": 506
    },
    "id": "8X0snKzrC0pO",
    "outputId": "fc567488-885f-41fc-d5fa-c9f49407bb67"
   },
   "outputs": [
    {
     "data": {
      "image/png": "[encoded data removed]",
      "text/plain": [
       "<Figure size 360x360 with 1 Axes>"
      ]
     },
     "metadata": {
      "needs_background": "light"
     },
     "output_type": "display_data"
    }
   ],
   "source": [
    "# distribution plot of time of effect\n",
    "sns.displot(drug['time_of_effect'],kind=\"kde\")\n",
    "plt.show()"
   ]
  },
  {
   "cell_type": "markdown",
   "metadata": {
    "id": "RuxwnAxMNZ2n"
   },
   "source": [
    "* As you can see in the above plot, the shape of the distribution is not perfectly normal because we just have 50 observations in the sample. But, we can assume this data distribution to be normal and perform our calculations based on the normality assumption."
   ]
  },
  {
   "cell_type": "markdown",
   "metadata": {
    "id": "GjG-LOUgDtln"
   },
   "source": [
    "### **A) Find the probability that the time of effect of a dose is less than 11.5 hours**"
   ]
  },
  {
   "cell_type": "markdown",
   "metadata": {
    "id": "kp6AqLEV-qmI"
   },
   "source": [
    "* Suppose $X$ is the random variable that denotes the time of effect of a dose. We are to calculate $P(X<11.5)$\n",
    "\n",
    "* Now, for continuous probability distributions\n",
    "\n",
    "$$P(X<k) = P(X<=k)$$\n",
    "\n",
    "* We will use `norm.cdf()` to calculate the cumulative probability\n",
    "  * The function `norm.cdf(x, mu, sigma)` calculates the probability $P(X<x)$ or $P(X<=x)$"
   ]
  },
  {
   "cell_type": "code",
   "execution_count": 40,
   "metadata": {
    "colab": {
     "base_uri": "https://localhost:8080/"
    },
    "id": "Rs6QKIKOLX4n",
    "outputId": "e0885f31-6447-49ac-e499-bd1c77a6942c"
   },
   "outputs": [
    {
     "name": "stdout",
     "output_type": "stream",
     "text": [
      "The probability that the time of effect of a dose is less than 11.5 is 0.3412\n"
     ]
    }
   ],
   "source": [
    "# calculate the probability P(X<11.5) using cdf function\n",
    "prob = norm.cdf(11.5, mu, sigma)\n",
    "print('The probability that the time of effect of a dose is less than 11.5 is', round(prob, 4))"
   ]
  },
  {
   "cell_type": "markdown",
   "metadata": {
    "id": "IVk1z-sORMpW"
   },
   "source": [
    "* There is 34.12% chance that the time of effect of a randomly selected dose is less than 11.5 hours"
   ]
  },
  {
   "cell_type": "markdown",
   "metadata": {
    "id": "7iiII1Jget1x"
   },
   "source": [
    "### **B) Find the probability that the time of effect of a dose is more than 10 hours.**\n"
   ]
  },
  {
   "cell_type": "markdown",
   "metadata": {
    "id": "5nui68eu8ICw"
   },
   "source": [
    "* Suppose $X$ is the random variable that denotes the time of effect of a dose. We are to calculate $P(X>10)$\n",
    "\n",
    "* Now, for continuous probability distributions\n",
    "\n",
    "$$P(X<k) = P(X<=k)$$\n",
    "\n",
    "* We first calculate the probability $P(X<=10)$ using the CDF function `norm.cdf()`. Then, we calculate the probability $P(X>10)$ using the complement rule $(1 - P(X<=10))$\n",
    "\n",
    "* We will use `norm.cdf()` to calculate the cumulative probability\n",
    "  * The function `norm.cdf(x, mu, sigma)` calculates the probability $P(X<x)$ or $P(X<=x)$"
   ]
  },
  {
   "cell_type": "code",
   "execution_count": 41,
   "metadata": {
    "colab": {
     "base_uri": "https://localhost:8080/"
    },
    "id": "lvRAHw_Letav",
    "outputId": "1746aa82-0312-4423-9da0-608de5c3eb92"
   },
   "outputs": [
    {
     "name": "stdout",
     "output_type": "stream",
     "text": [
      "The probability that the time of effect of a dose is more than 10 is 0.7659\n"
     ]
    }
   ],
   "source": [
    "# calculate the probability P(X>10) using cdf function\n",
    "prob_lessthan10 = norm.cdf(10., mu, sigma)\n",
    "\n",
    "prob_morethan10 = 1 - prob_lessthan10\n",
    "print('The probability that the time of effect of a dose is more than 10 is', round(prob_morethan10, 4))"
   ]
  },
  {
   "cell_type": "code",
   "execution_count": 46,
   "metadata": {},
   "outputs": [
    {
     "name": "stdout",
     "output_type": "stream",
     "text": [
      "0.05669727157131871\n"
     ]
    }
   ],
   "source": [
    "prob_tof7 = norm.cdf(8.4,mu,sigma) - norm.cdf(7.0,mu,sigma)\n",
    "print(prob_tof7)"
   ]
  },
  {
   "cell_type": "markdown",
   "metadata": {
    "id": "vanv-bSWhIDY"
   },
   "source": [
    "* There is 76.59% chance that the time of effect of a randomly selected dose is more than 10 hours."
   ]
  },
  {
   "cell_type": "markdown",
   "metadata": {
    "id": "askOv-hMFB9X"
   },
   "source": [
    "### **C) Calculate the 90th percentile of time of effect for the doses**"
   ]
  },
  {
   "cell_type": "markdown",
   "metadata": {
    "id": "zWNnwHv1-qmJ"
   },
   "source": [
    "The `ppf` function is an inverse form of the `cdf` function. Suppose $P(X<=k) = \\alpha$, where we are provided the $\\alpha$ (probability) value, then we can calculate the value of $k$ using the `ppf` function. This is the Percent Point Function.\n",
    "\n",
    "In this case, we are to calculate $k$ such that $P(X<=k) = 0.90$. We will use the `ppf()` function for this\n",
    "\n",
    "* The function `norm.ppf(α, loc, scale)` calculates the value $k$ such that $P(X<=k) = \\alpha$"
   ]
  },
  {
   "cell_type": "code",
   "execution_count": null,
   "metadata": {
    "colab": {
     "base_uri": "https://localhost:8080/"
    },
    "id": "7OLQd57CD2pg",
    "outputId": "415ce63d-c5d8-4e2d-aaee-f6c43863a7e6"
   },
   "outputs": [],
   "source": [
    "perc_90th = norm.ppf(0.90, mu, sigma)\n",
    "print('The 90th percentile of the time of effect for doses is', round(perc_90th, 2),'hours')"
   ]
  },
  {
   "cell_type": "markdown",
   "metadata": {
    "id": "3jWiZeuiRbF3"
   },
   "source": [
    "* The 90th percentile of the time of effect for doses is 19.52 hours"
   ]
  },
  {
   "cell_type": "markdown",
   "metadata": {
    "id": "Ya5pjedQEhLy"
   },
   "source": [
    "## **Conclusions**"
   ]
  },
  {
   "cell_type": "markdown",
   "metadata": {
    "id": "DcZ3XazHEk1r"
   },
   "source": [
    "* The binomial distribution plot suggests the following:\n",
    "  * On an average, 3 out of 10 doses will do an unsatisfactory job\n",
    "  * Out of 10 doses, the mass probability that exactly 3 doses will not do a satisfactory job is comparatively higher than all the other mass probabilities\n",
    "  * This shows that if we randomly select 10 doses, there are higher chances of exactly 3 doses not doing a satisfactory job than any other specific number of doses"
   ]
  },
  {
   "cell_type": "markdown",
   "metadata": {
    "id": "ryS5ivfQ92X5"
   },
   "source": [
    "* Based on the testing done by the QA team, the following points were noticed:\n",
    "  * The probability that exactly 3 doses out of 10 will not do a satisfactory job is 26.14%\n",
    "  * There is a 56.84% chance that at most 3 doses out of 10 will not do a satisfactory job\n",
    "  *  The probability that more than 8 doses out of 10 will do a satisfactory job is 10.80%."
   ]
  },
  {
   "cell_type": "markdown",
   "metadata": {
    "id": "BaP4OX1P94mC"
   },
   "source": [
    "* Based on the testing done by the QA team before sending the requested number of doses to the New York City administration, the following points were noticed:\n",
    "  * There is a 3.5 % chance that at least 11 out of 20 doses will not do a satisfactory job\n",
    "    * This suggests that it is very unlikely that more than 50% of the doses will be unsatisfactory\n",
    "  * There is a 30.82 % chance that at most 5 out of 20 doses will not do a satisfactory job\n",
    "  * There is a 67.32 % chance that at least 13 out of 20 doses will do a satisfactory job"
   ]
  },
  {
   "cell_type": "markdown",
   "metadata": {
    "id": "7dHcLiX196ex"
   },
   "source": [
    "* Based on the testing done by the QA team to analyze the time of effect for doses, the following points were noticed:\n",
    "  * There is 34.12% chance that the time of effect of a randomly selected dose is less than 11.5 hours\n",
    "  * There is 76.59% chance that the time of effect of a randomly selected dose is more than 10 hours.\n",
    "  * There is a 90% chance that the time of effect for a randomly selected dose is less than 19.52 hours"
   ]
  },
  {
   "cell_type": "markdown",
   "metadata": {
    "id": "ZNven5Ai-qmK"
   },
   "source": [
    "---"
   ]
  }
 ],
 "metadata": {
  "colab": {
   "collapsed_sections": [
    "ABPdgfNR-qlu",
    "4T1pNhgOk-iS",
    "uRjp-0wnlIY5",
    "D33cQNWWlpjR",
    "deDhoxQ9l4H5",
    "8FbHCKa_NBGQ",
    "eP61eT-Q-ql0",
    "jFFr2sXaK-IQ",
    "kcDwQXrR-ql_",
    "Nip3TfXLHavD",
    "L9qqPJGG-qmB",
    "5_ywoF6uYuOm",
    "_vdTt46gXoa8",
    "aLJkk5T7biFl",
    "k_9OvVaO-qmF",
    "PH9A8NlF8Bl_",
    "OiNQWmnx-bOQ",
    "eKmM-Hv9KySo",
    "COpe00rKM66m",
    "GjG-LOUgDtln",
    "7iiII1Jget1x",
    "askOv-hMFB9X",
    "Ya5pjedQEhLy"
   ],
   "provenance": []
  },
  "kernelspec": {
   "display_name": "Python 3",
   "language": "python",
   "name": "python3"
  },
  "language_info": {
   "codemirror_mode": {
    "name": "ipython",
    "version": 3
   },
   "file_extension": ".py",
   "mimetype": "text/x-python",
   "name": "python",
   "nbconvert_exporter": "python",
   "pygments_lexer": "ipython3",
   "version": "3.8.5"
  }
 },
 "nbformat": 4,
 "nbformat_minor": 1
}
