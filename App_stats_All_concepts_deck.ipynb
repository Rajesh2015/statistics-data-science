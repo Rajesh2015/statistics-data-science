{
 "cells": [
  {
   "cell_type": "markdown",
   "metadata": {},
   "source": [
    "### These are some important concepts in stats to be solved across all 3 weeks\n",
    "### Explanation is provided to have a glance, Examples here are the questions to be solved\n",
    "#### You have mastered the basics—now you are ready to take it up a notch."
   ]
  },
  {
   "cell_type": "markdown",
   "metadata": {},
   "source": [
    "### Concept 1. Joint Probability refers to the probability of occurrence involving two or more events"
   ]
  },
  {
   "cell_type": "markdown",
   "metadata": {},
   "source": [
    "Let A and B be the two events in a sample space. Then the joint probability if the two events denoted by P(A $\\cap$ B), is \n",
    "given by \n",
    "$P(A \\cap B) = \\frac{Number \\quad of \\quad observations \\quad in \\quad A \\cap B } {Total \\quad Number \\quad of \\quad observations}$ "
   ]
  },
  {
   "cell_type": "markdown",
   "metadata": {},
   "source": [
    "### Example 1: Probability Concepts \n",
    "At a popular company service center, a total of 100 complaints were received. 80 customers complained about late delivery of \n",
    "the items and 60 complained about poor product quality.\n",
    "\n",
    "a) Calculate the probability that a customer complaint will be about both product quality and late delivery.\n",
    "\n",
    "b) What is the probability that a complaint will be only about late delivery?"
   ]
  },
  {
   "cell_type": "markdown",
   "metadata": {},
   "source": [
    "### Solution:\n",
    "    \n",
    "a) Calculate the probability that a customer complaint will be about both product quality and late delivery"
   ]
  },
  {
   "cell_type": "markdown",
   "metadata": {},
   "source": [
    "Let\n",
    "\n",
    "L = Late delivery\n",
    "\n",
    "Q = Poor quality\n",
    "\n",
    "n(L) = Number of cases in favour of L = 80\n",
    "\n",
    "n(Q) = Number of cases in favour of Q = 60\n",
    "\n",
    "N = Total Number of complaints = 100 "
   ]
  },
  {
   "cell_type": "markdown",
   "metadata": {},
   "source": [
    "L intersection Q = 40"
   ]
  },
  {
   "cell_type": "markdown",
   "metadata": {},
   "source": [
    "Probability that a customer complaint will be about both product quality and late delivery = $P(L \\cap Q)$"
   ]
  },
  {
   "cell_type": "markdown",
   "metadata": {},
   "source": [
    "$P(L \\cap Q) =  \\frac{n(L \\cap Q)} {Total \\quad Number \\quad of \\quad observations}$ "
   ]
  },
  {
   "cell_type": "code",
   "execution_count": 1,
   "metadata": {},
   "outputs": [
    {
     "name": "stdout",
     "output_type": "stream",
     "text": [
      "a.Probability that a customer complaint will\n",
      "       be about both product quality and late delivery. is 0.4000\n"
     ]
    }
   ],
   "source": [
    "FE4 = 40\n",
    "TE  = 100\n",
    "PE4 = round(FE4 / TE,4) \n",
    "print('a.Probability that a customer complaint will\\n\\\n",
    "       be about both product quality and late delivery. is %1.4f' % PE4)"
   ]
  },
  {
   "cell_type": "markdown",
   "metadata": {},
   "source": [
    "b. What is the probability that a complaint will be only about late delivery"
   ]
  },
  {
   "cell_type": "code",
   "execution_count": 2,
   "metadata": {},
   "outputs": [
    {
     "name": "stdout",
     "output_type": "stream",
     "text": [
      "b.probability that a complaint will be \n",
      "         only about late delivery. is 0.4000\n"
     ]
    }
   ],
   "source": [
    "# FE5 is the complaints about poor quality\n",
    "FE5 = 60\n",
    "TE  = 100\n",
    "PE5 = round(FE5 / TE,4) \n",
    "PE6 = 1 - PE5\n",
    "# So,1 - PE5 is the Probability that a customer complaint will be about\n",
    "#        both product quality and late delivery \n",
    "print('b.probability that a complaint will be \\n\\\n",
    "         only about late delivery. is %1.4f' % PE6)"
   ]
  },
  {
   "cell_type": "markdown",
   "metadata": {},
   "source": [
    "### Concept 2. Conditional Probability refers to the probability of event A, given information about the occurrence of another event B"
   ]
  },
  {
   "cell_type": "markdown",
   "metadata": {},
   "source": [
    "Probability of A given B is written as P(A | B).\n",
    "\n",
    "$P(A\\mid B) = \\frac{P(A \\quad and \\quad B)}{P(B)}$\n",
    "\n",
    "where P(A and B) = Joint probability of A and B\n",
    "*     P(A)       = Marginal probability of A\n",
    "*     P(B)       = Marginal probability of B"
   ]
  },
  {
   "cell_type": "markdown",
   "metadata": {},
   "source": [
    "### Example:\n",
    "The following table describes loan default status at a bank and their marital status. \n",
    "\n",
    "| Marital Status | Loan Defaulted | Loan No Default | Marginal Total |\n",
    "| ----------- | ------ | ------- | -------- |\n",
    "| Single | 42 | 258 | 300 |\n",
    "| Married | 60 | 590 | 650 |\n",
    "| Divorced | 13 | 37 | 50 |\n",
    "| Marginal Total | 115 | 885 | 1000 |\n"
   ]
  },
  {
   "cell_type": "markdown",
   "metadata": {},
   "source": [
    "### Questions: \n",
    "1. Based on the above table, calculate the probability of defaulting given divorced and non-defaulting given single\n",
    "\n",
    "2. What are the odds that a loan defaulter is married?"
   ]
  },
  {
   "cell_type": "markdown",
   "metadata": {},
   "source": [
    "### Solution:"
   ]
  },
  {
   "cell_type": "code",
   "execution_count": 33,
   "metadata": {},
   "outputs": [
    {
     "name": "stdout",
     "output_type": "stream",
     "text": [
      "P(Default | Divorced)  is 0.2600\n"
     ]
    }
   ],
   "source": [
    "# P1 = P(Default and Divorced)\n",
    "P1   = 13 / 1000\n",
    "# P2 = P(Divorced)\n",
    "P2   = 50 / 1000\n",
    "#P3  = P(Default | Divorced) = P(Default and Divorced) / P(Divorced)\n",
    "P3   = P1 / P2\n",
    "print('P(Default | Divorced)  is %1.4f' % P3)    "
   ]
  },
  {
   "cell_type": "markdown",
   "metadata": {},
   "source": [
    "## Concept 3: Binomial distribution"
   ]
  },
  {
   "cell_type": "markdown",
   "metadata": {},
   "source": [
    "It is widely used probability distribution of a discrete random variable. \n",
    "\n",
    "Plays major role in quality control and quality assurance function. "
   ]
  },
  {
   "cell_type": "markdown",
   "metadata": {},
   "source": [
    "### Binomial Probability Distribution\n",
    "$P(X = x\\mid n,\\pi)$ = $\\frac{n!}{x!(n - x)!}\\pi^x (1 - \\pi)^{n-x} $\n",
    "* where P(X = x) is the probability of getting x successes in n trials\n",
    "and $\\pi$ is the probability of an event of interest"
   ]
  },
  {
   "cell_type": "markdown",
   "metadata": {},
   "source": [
    "### Some important functions in Python for Binomial distribution:\n",
    "\n",
    "#### 1) Probability mass function\n",
    "\n",
    "##### scipy.stats.binom.pmf gives the probability mass function for the binomial distribution\n",
    "\n",
    "binomial = scipy.stats.binom.pmf (k,n,p), # or use binom.pmf() having imported scipy.stats as stats\n",
    "* where k is an array and takes values in {0, 1,..., n}\n",
    "* n and p are shape parameters for the binomial distribution\n",
    "\n",
    "The output, binomial, gives probability of binomial distribution function in terms of array.\n",
    "\n",
    "#### 2) Cumulative Density function\n",
    "\n",
    "cumbinomial = scipy.stats.binom.cdf(k,n,p) gives cumulative binomial distribution.\n",
    "\n",
    "The output, cumbinomial, gives cumulative probability of binomial distribution function in terms of array.\n",
    "\n",
    "####  3)  Plot the binomial Density function\n",
    "\n",
    "The function, matplotlib.pyplot.plot(k, binomial, ‘o-’) gives us plot of the binomial distribution function."
   ]
  },
  {
   "cell_type": "markdown",
   "metadata": {},
   "source": [
    "### Example 1: Inferential Statistics (Probability Distributions)\n",
    "The percentage of orders filled correctly at Wendy's was estimated approximately to be 86.8%. Suppose that you go to drive-through window at Wendy's and place an order. Six other friends of yours independently place orders at the drive-through window at the same Wendy's during the same week.\n",
    "\n",
    "What are the probabilities that \n",
    "* a) all seven of you will have your orders filled correctly?\n",
    "* b) only 3 of the 7 will have your orders filled correctly?\n",
    "* c) atleast five of the seven orders will be filled correctly?\n",
    "* d) atmost six orders \n",
    "* e) what is the mean and standard deviation of the orders filled correctly?"
   ]
  },
  {
   "cell_type": "markdown",
   "metadata": {},
   "source": [
    "### Solution"
   ]
  },
  {
   "cell_type": "code",
   "execution_count": 42,
   "metadata": {},
   "outputs": [],
   "source": [
    "import numpy as np\n",
    "import pandas as pd\n",
    "# Libraries to help with data visualization\n",
    "import matplotlib.pyplot as plt\n",
    "import seaborn as sns\n",
    "%matplotlib inline\n",
    "#\n",
    "import scipy.stats as stats\n",
    "# import the required function\n",
    "from scipy.stats import binom\n",
    "from scipy.stats import norm\n",
    "p   =  0.868 # percentage of orders filled correctly at Wendy's was approximately 86.8%\n",
    "n   =  7\n",
    "k   =  np.arange(0,8)"
   ]
  },
  {
   "cell_type": "code",
   "execution_count": 35,
   "metadata": {},
   "outputs": [],
   "source": [
    "binomial = binom.pmf(k,n,p)"
   ]
  },
  {
   "cell_type": "code",
   "execution_count": 36,
   "metadata": {},
   "outputs": [
    {
     "data": {
      "text/plain": [
       "array([6.98260570e-07, 3.21411456e-05, 6.34057145e-04, 6.94901013e-03,\n",
       "       4.56950060e-02, 1.80287569e-01, 3.95175783e-01, 3.71225735e-01])"
      ]
     },
     "execution_count": 36,
     "metadata": {},
     "output_type": "execute_result"
    }
   ],
   "source": [
    "binomial"
   ]
  },
  {
   "cell_type": "code",
   "execution_count": 25,
   "metadata": {},
   "outputs": [
    {
     "name": "stdout",
     "output_type": "stream",
     "text": [
      "a) all 7 orders are filled correctly? is 0.3712\n"
     ]
    }
   ],
   "source": [
    "print('a) all 7 orders are filled correctly? is %1.4f' %binomial[7])"
   ]
  },
  {
   "cell_type": "code",
   "execution_count": 5,
   "metadata": {},
   "outputs": [
    {
     "name": "stdout",
     "output_type": "stream",
     "text": [
      "[6.98260570e-07 3.21411456e-05 6.34057145e-04 6.94901013e-03\n",
      " 4.56950060e-02 1.80287569e-01 3.95175783e-01 3.71225735e-01]\n"
     ]
    }
   ],
   "source": [
    "print(binomial)"
   ]
  },
  {
   "cell_type": "code",
   "execution_count": 26,
   "metadata": {},
   "outputs": [
    {
     "name": "stdout",
     "output_type": "stream",
     "text": [
      "b) only 3 of 7 orders are filled correctly? is 0.0069\n"
     ]
    }
   ],
   "source": [
    "print('b) only 3 of 7 orders are filled correctly? is %1.4f' %binomial[3])"
   ]
  },
  {
   "cell_type": "code",
   "execution_count": 38,
   "metadata": {},
   "outputs": [],
   "source": [
    "cumbinomial=binom.cdf(k,n,p)"
   ]
  },
  {
   "cell_type": "code",
   "execution_count": 39,
   "metadata": {},
   "outputs": [
    {
     "name": "stdout",
     "output_type": "stream",
     "text": [
      "[6.98260570e-07 3.28394062e-05 6.66896552e-04 7.61590668e-03\n",
      " 5.33109127e-02 2.33598482e-01 6.28774265e-01 1.00000000e+00]\n"
     ]
    }
   ],
   "source": [
    "print(cumbinomial)"
   ]
  },
  {
   "cell_type": "code",
   "execution_count": 17,
   "metadata": {},
   "outputs": [],
   "source": [
    "P = 1 - cumbinomial[4]"
   ]
  },
  {
   "cell_type": "code",
   "execution_count": 27,
   "metadata": {},
   "outputs": [
    {
     "name": "stdout",
     "output_type": "stream",
     "text": [
      "c) atleast 5 of 7 orders are filled correctly? is 0.9467\n"
     ]
    }
   ],
   "source": [
    "print('c) atleast 5 of 7 orders are filled correctly? is %1.4f' % P)"
   ]
  },
  {
   "cell_type": "code",
   "execution_count": 28,
   "metadata": {},
   "outputs": [
    {
     "name": "stdout",
     "output_type": "stream",
     "text": [
      "d) atmost 6 orders are filled correctly? is 0.6288\n"
     ]
    }
   ],
   "source": [
    "print('d) atmost 6 orders are filled correctly? is %1.4f' %cumbinomial[6])"
   ]
  },
  {
   "cell_type": "code",
   "execution_count": 30,
   "metadata": {},
   "outputs": [
    {
     "name": "stdout",
     "output_type": "stream",
     "text": [
      "mean and standard deviation of the orders filled correctly are 6.0760 and  0.8956 respectively\n"
     ]
    }
   ],
   "source": [
    "# d) what is the mean and standard deviation of the orders filled correctly?\n",
    "p    = 0.868\n",
    "n    = 7\n",
    "mean = n* p # = 7 * 0.868\n",
    "sd   = np.sqrt(n * p * (1 - p))\n",
    "print('mean and standard deviation of the orders filled correctly are %1.4f and  %1.4f respectively' % (mean, sd))"
   ]
  },
  {
   "cell_type": "markdown",
   "metadata": {},
   "source": [
    "### Plot  the binomial distribution function"
   ]
  },
  {
   "cell_type": "code",
   "execution_count": 31,
   "metadata": {},
   "outputs": [
    {
     "data": {
      "image/png": "[encoded data removed]",
      "text/plain": [
       "<Figure size 432x288 with 1 Axes>"
      ]
     },
     "metadata": {
      "needs_background": "light"
     },
     "output_type": "display_data"
    }
   ],
   "source": [
    "import matplotlib.pyplot as plt\n",
    "plt.plot(k,binomial, 'o-')\n",
    "plt.title('Binomial')\n",
    "plt.xlabel('Number of Orders filled correctly')\n",
    "plt.ylabel('Prob of Orders filled correctly')\n",
    "plt.show()"
   ]
  },
  {
   "cell_type": "markdown",
   "metadata": {},
   "source": [
    "### Example 2 (Inferential Statistics - Probabibility Distribution) :  IPL Coin Tosses:\n",
    "4 IPL games over a weekend kicked off with coin tosses. If the outcome of the 4 tosses were modeled with a probability distribution, what would be the distribution. Assume a fair coin with equal probability of Heads of Tails for a toss outcome."
   ]
  },
  {
   "cell_type": "code",
   "execution_count": 17,
   "metadata": {},
   "outputs": [],
   "source": [
    "p   =  0.5 # percentage of times toss outcome is a head (fair coin)\n",
    "n   =  4 # Number of tosses\n",
    "k   =  np.arange(0,5) # outcome success (heads) ranges from 0 heads to 4 heads\n",
    "binomial = stats.binom.pmf(k,n,p)"
   ]
  },
  {
   "cell_type": "code",
   "execution_count": 20,
   "metadata": {},
   "outputs": [
    {
     "data": {
      "text/plain": [
       "array([0, 1, 2, 3, 4])"
      ]
     },
     "execution_count": 20,
     "metadata": {},
     "output_type": "execute_result"
    }
   ],
   "source": [
    "k"
   ]
  },
  {
   "cell_type": "code",
   "execution_count": 21,
   "metadata": {},
   "outputs": [
    {
     "data": {
      "text/plain": [
       "array([0.0625, 0.25  , 0.375 , 0.25  , 0.0625])"
      ]
     },
     "execution_count": 21,
     "metadata": {},
     "output_type": "execute_result"
    }
   ],
   "source": [
    "binomial"
   ]
  },
  {
   "cell_type": "code",
   "execution_count": 19,
   "metadata": {
    "scrolled": true
   },
   "outputs": [
    {
     "data": {
      "image/png": "[encoded data removed]",
      "text/plain": [
       "<Figure size 432x288 with 1 Axes>"
      ]
     },
     "metadata": {
      "needs_background": "light"
     },
     "output_type": "display_data"
    }
   ],
   "source": [
    "import matplotlib.pyplot as plt\n",
    "import seaborn as sns\n",
    "plt.plot(k,binomial, 'o-')\n",
    "plt.title('Binomial')\n",
    "plt.xlabel('Number of Tosses')\n",
    "plt.ylabel('Number of Tails')\n",
    "plt.show()"
   ]
  },
  {
   "cell_type": "markdown",
   "metadata": {},
   "source": [
    "## Quiz question \n",
    "### What is the probability that the % of outcomes being heads lies between 40-60% for 50 and 500 coin tosses respectively"
   ]
  },
  {
   "cell_type": "code",
   "execution_count": 32,
   "metadata": {},
   "outputs": [
    {
     "name": "stdout",
     "output_type": "stream",
     "text": [
      "for 40-60% heads outcome for 50 tosses = 83.92203981880115 %, 500 tosses = 99.9992604188469 %\n",
      "for 75%+ heads, 50 tosses = 0.0045107450535653015 %, 500 tosses = 1.1102230246251565e-14 %\n"
     ]
    }
   ],
   "source": [
    "n1   =  50 # Number of tosses\n",
    "n2 = 500\n",
    "p1=0.5 # probability of heads outcome for a coin toss experiment (fair coin)\n",
    "for50 = stats.binom.cdf(30,n1,p1)-stats.binom.cdf(20,n1,p1) # 20 to 30 heads outcome out of 50 coin tosses (is 40-60%)\n",
    "for500 = stats.binom.cdf(300,n2,p1)-stats.binom.cdf(200,n2,p1) # 200 to 300 heads out of 500\n",
    "print (\"for 40-60% heads outcome for 50 tosses =\", for50*100,\"%,\", \"500 tosses =\", for500*100,\"%\")\n",
    "# Quiz question >75% heads probability for 50 (38 heads) and 500 (375 heads) coin tosses respectively?\n",
    "print (\"for 75%+ heads, 50 tosses =\", (1-stats.binom.cdf(38,n1,p1))*100,\"%,\", \"500 tosses =\", (1-stats.binom.cdf(375,n2,p1))*100,\"%\")"
   ]
  },
  {
   "cell_type": "code",
   "execution_count": 24,
   "metadata": {},
   "outputs": [
    {
     "data": {
      "text/plain": [
       "26.5"
      ]
     },
     "execution_count": 24,
     "metadata": {},
     "output_type": "execute_result"
    }
   ],
   "source": [
    "# Inverse of cdf is ppf. What is the 50th percentile value for a uniform distribution with mean =25 and std = 3\n",
    "stats.uniform.ppf(q=0.5, loc=25, scale=3)"
   ]
  },
  {
   "cell_type": "markdown",
   "metadata": {},
   "source": [
    "### Example 3: Investment in stocks\n",
    "Investment Advisors agree that near retirees, defined as people aged 55 to 65, should have balanced portfolios. Most advisors suggest that the near –retirees have no more than 50% of their investments in stocks. However, during the huge decline in the stock market in 2008, 22% of near retirees had 90% or more of their investments in stocks.\n",
    "Suppose you have a random sample of 10 people who have labeled as near retirees in 2008.\n",
    "\n",
    "#### 3.1: Define the random variable and the corresponding probability distribution that this random variable follows."
   ]
  },
  {
   "cell_type": "markdown",
   "metadata": {},
   "source": [
    "#### Let X (near retirees) be a random variable which follows Binomial Distribution with the parameters n = 10 and p = 0.22.\n",
    "\n",
    "#### X ~ binomial (n=10,p=0.22)"
   ]
  },
  {
   "cell_type": "markdown",
   "metadata": {},
   "source": [
    "### 3.2: What is the probability that during 2008 zero near retirees had 90% or more of their investments in stocks?"
   ]
  },
  {
   "cell_type": "code",
   "execution_count": 15,
   "metadata": {},
   "outputs": [
    {
     "name": "stdout",
     "output_type": "stream",
     "text": [
      "The total number of trials is 10 and the probability of success at each trial is 0.22 .\n"
     ]
    }
   ],
   "source": [
    "n,p = 10,0.22\n",
    "print('The total number of trials is',n,'and the probability of success at each trial is',p,'.')"
   ]
  },
  {
   "cell_type": "code",
   "execution_count": 16,
   "metadata": {},
   "outputs": [
    {
     "name": "stdout",
     "output_type": "stream",
     "text": [
      "The value of the random for which we are calculating the probability is 0 .\n"
     ]
    }
   ],
   "source": [
    "k = 0\n",
    "print('The value of the random for which we are calculating the probability is',k,'.')"
   ]
  },
  {
   "cell_type": "code",
   "execution_count": 17,
   "metadata": {},
   "outputs": [
    {
     "name": "stdout",
     "output_type": "stream",
     "text": [
      "Probability that during 2008, Zero Retirees had 90% or more of their investments in stocks is 0.083357758312362 .\n"
     ]
    }
   ],
   "source": [
    "print('Probability that during 2008, Zero Retirees had 90% or more of their investments in stocks is',stats.binom.pmf(k,n,p),'.')"
   ]
  },
  {
   "cell_type": "markdown",
   "metadata": {},
   "source": [
    "### 3.3: What is the probability that during 2008 exactly one near retiree had 90% or more of his investments in stocks?"
   ]
  },
  {
   "cell_type": "code",
   "execution_count": 18,
   "metadata": {},
   "outputs": [
    {
     "name": "stdout",
     "output_type": "stream",
     "text": [
      " Probability that during 2008, exactly one had 90% or more of his investments in stocks is \", 0.23511162600922644 .\n"
     ]
    }
   ],
   "source": [
    "k_1 = 1\n",
    "print(' Probability that during 2008, exactly one had 90% or more of his investments in stocks is \",'\n",
    "      ,stats.binom.pmf(k_1,n,p),'.')"
   ]
  },
  {
   "cell_type": "markdown",
   "metadata": {},
   "source": [
    "### 3.4: What is the probability that during 2008 two or fewer near retirees had 90% or more of their investment in stocks?"
   ]
  },
  {
   "cell_type": "code",
   "execution_count": 19,
   "metadata": {},
   "outputs": [
    {
     "name": "stdout",
     "output_type": "stream",
     "text": [
      "Method 1: We are going to sum the probability values of X=0,X=1 and X=2\n",
      "Probability that during 2008 two or fewer near retirees had 90% or more of their investment in stocks is 0.6168802942563754\n"
     ]
    }
   ],
   "source": [
    "print('Method 1: We are going to sum the probability values of X=0,X=1 and X=2')\n",
    "\n",
    "print('Probability that during 2008 two or fewer near retirees had 90% or more of their investment in stocks is',\n",
    "      stats.binom.pmf(0,n,p) + stats.binom.pmf(1,n,p) + stats.binom.pmf(2,n,p))"
   ]
  },
  {
   "cell_type": "code",
   "execution_count": 20,
   "metadata": {},
   "outputs": [
    {
     "name": "stdout",
     "output_type": "stream",
     "text": [
      "0.6168802942563754\n"
     ]
    }
   ],
   "source": [
    "print(stats.binom.cdf(2,n,p))"
   ]
  },
  {
   "cell_type": "code",
   "execution_count": 21,
   "metadata": {},
   "outputs": [
    {
     "name": "stdout",
     "output_type": "stream",
     "text": [
      "Method 2: We are going to find the cumulative probabilties upto X=2.\n",
      "Probability that during 2008 two or fewer near retirees had 90% or more of their investment in stocks is 0.6168802942563754\n"
     ]
    }
   ],
   "source": [
    "print('Method 2: We are going to find the cumulative probabilties upto X=2.')\n",
    "\n",
    " \n",
    "print('Probability that during 2008 two or fewer near retirees had 90% or more of their investment in stocks is',\n",
    "      stats.binom.cdf(2,n,p))"
   ]
  },
  {
   "cell_type": "markdown",
   "metadata": {},
   "source": [
    "## Concept 4: Poisson Distribution"
   ]
  },
  {
   "cell_type": "markdown",
   "metadata": {},
   "source": [
    "* This discrete distribution which also plays a major role in quality control. \n",
    "* The Poisson distribution is a discrete probability distribution for the counts of events that occur randomly in a given \n",
    "interval of time or space. In such areas of opportunity, there can be more than one occurrence. In such situations, Poisson \n",
    "distribution can be used to compute probabilities.\n",
    "* Examples include number of defects per item, number of defects per transformer produced. \n",
    "* Notes: Poisson Distribution helps to predict the arrival rate in a waiting line situation where a queue is formed and people \n",
    "wait to be served and the service rate is generally higher than the arrival rate."
   ]
  },
  {
   "cell_type": "markdown",
   "metadata": {},
   "source": [
    "### Properties:\n",
    "* Mean                     μ  = λ\n",
    "* Standard deviation       σ  = √ μ\n",
    "* The Poisson distribution is the limit of binomial distribution as n approaches ∞and p approaches 0\n"
   ]
  },
  {
   "cell_type": "markdown",
   "metadata": {},
   "source": [
    "### Possion Probability Distribution\n",
    "P(X = x) = $\\frac{e^\\lambda \\lambda^x}{x!} $\n",
    "where \n",
    "* P(x)              = Probability of x successes given an idea of  $\\lambda$\n",
    "* $\\lambda$ = Average number of successes\n",
    "* e                   = 2.71828 (based on natural logarithm)\n",
    "* x                    = successes per unit which can take values 0,1,2,3,... $\\infty$"
   ]
  },
  {
   "cell_type": "markdown",
   "metadata": {},
   "source": [
    "### Applications\n",
    "\n",
    "1. Car Accidents\n",
    "2. Number of deaths by horse kicking in Prussian Army (first application)\n",
    "3. Birth defects and genetic mutation\n",
    "\n",
    "### Note\n",
    "\n",
    "* If there is a fixed number of observations, n, each of which is classified as an event of interest or not an event of interest, use the binomial distribution.\n",
    "* If there is an area of opportunity, use the Poisson distribution.\n"
   ]
  },
  {
   "cell_type": "markdown",
   "metadata": {},
   "source": [
    "### Example 1: Work related mishaps at a manufacturing plant\n",
    "The number of work-related injuries per month in a manufacturing plant is known to follow a Poisson distribution, with a mean  \n",
    "of 2.5 work-related injuries a month. What is the probability that in a given month, \n",
    "\n",
    "a) No work related injuries occur? \n",
    "\n",
    "b) At least one work-related injury occurs?"
   ]
  },
  {
   "cell_type": "markdown",
   "metadata": {},
   "source": [
    "### Solution"
   ]
  },
  {
   "cell_type": "markdown",
   "metadata": {},
   "source": [
    "Here, \n",
    "$\\lambda$ = 2.5 injuries"
   ]
  },
  {
   "cell_type": "code",
   "execution_count": 11,
   "metadata": {},
   "outputs": [],
   "source": [
    "rate =  2.5 # which is the mean\n",
    "n    =  np.arange(0,10)\n",
    "poisson = stats.poisson.pmf(n,rate)\n",
    "cumpoisson=stats.poisson.cdf(n,rate)"
   ]
  },
  {
   "cell_type": "code",
   "execution_count": 24,
   "metadata": {},
   "outputs": [
    {
     "data": {
      "text/plain": [
       "8.20849986238988"
      ]
     },
     "execution_count": 24,
     "metadata": {},
     "output_type": "execute_result"
    }
   ],
   "source": [
    "stats.poisson.pmf(0,rate)*100"
   ]
  },
  {
   "cell_type": "code",
   "execution_count": 13,
   "metadata": {},
   "outputs": [
    {
     "data": {
      "text/plain": [
       "array([0.082085  , 0.2052125 , 0.25651562, 0.21376302, 0.13360189,\n",
       "       0.06680094, 0.02783373, 0.00994062, 0.00310644, 0.0008629 ])"
      ]
     },
     "execution_count": 13,
     "metadata": {},
     "output_type": "execute_result"
    }
   ],
   "source": [
    "poisson"
   ]
  },
  {
   "cell_type": "code",
   "execution_count": 7,
   "metadata": {},
   "outputs": [
    {
     "name": "stdout",
     "output_type": "stream",
     "text": [
      " a) Probability that No work related injuries occur is 0.0821\n"
     ]
    }
   ],
   "source": [
    "print(' a) Probability that No work related injuries occur is %1.4f' % poisson[0])"
   ]
  },
  {
   "cell_type": "markdown",
   "metadata": {},
   "source": [
    "To calculate the probability that at least one work-related injury occurs, we need to subtract probability of no work related \n",
    "injury from 1."
   ]
  },
  {
   "cell_type": "code",
   "execution_count": 8,
   "metadata": {},
   "outputs": [
    {
     "name": "stdout",
     "output_type": "stream",
     "text": [
      " b) Probability that that at least one work-related injury occurs is 0.4562\n"
     ]
    }
   ],
   "source": [
    "# P = probability that at least three work-related injury occurs\n",
    "P   = 1 - cumpoisson[2]\n",
    "print(' b) Probability that that at least one work-related injury occurs is %1.4f' % P)"
   ]
  },
  {
   "cell_type": "markdown",
   "metadata": {},
   "source": [
    "Plot the Poisson distribution function"
   ]
  },
  {
   "cell_type": "code",
   "execution_count": 26,
   "metadata": {},
   "outputs": [
    {
     "data": {
      "image/png": "[encoded data removed]",
      "text/plain": [
       "<Figure size 432x288 with 1 Axes>"
      ]
     },
     "metadata": {
      "needs_background": "light"
     },
     "output_type": "display_data"
    }
   ],
   "source": [
    "plt.plot(n,poisson, 'o-')\n",
    "plt.title('Poisson')\n",
    "plt.xlabel('Number of Work related injuries')\n",
    "plt.ylabel('Prob of Work related injuries')\n",
    "plt.show()"
   ]
  },
  {
   "cell_type": "markdown",
   "metadata": {},
   "source": [
    "### Example 2: Network errors experienced on a LAN\n",
    "Assume that number of network errors experienced in a day on a local area network (LAN) is distributed as a Poisson random variable. The mean number of network errors experienced in a day is 2.4.\n",
    "\n",
    "### 2.1: Define the random variable and the corresponding probability distribution that this random variable follows."
   ]
  },
  {
   "cell_type": "markdown",
   "metadata": {},
   "source": [
    "#### Let X (network errors) be a random variable which follows Poisson Distribution with the parameter λ = 2.4.\n",
    "\n",
    "#### X ~ poisson ( λ = 2.4)"
   ]
  },
  {
   "cell_type": "markdown",
   "metadata": {},
   "source": [
    "### 2.2: What is the probability that in any given day zero network errors will occur?"
   ]
  },
  {
   "cell_type": "code",
   "execution_count": 27,
   "metadata": {},
   "outputs": [
    {
     "name": "stdout",
     "output_type": "stream",
     "text": [
      "The probability that in any given day zero network errors will occur is 0.09071795328941251\n"
     ]
    }
   ],
   "source": [
    "print('The probability that in any given day zero network errors will occur is',stats.poisson.pmf(0,2.4))"
   ]
  },
  {
   "cell_type": "markdown",
   "metadata": {},
   "source": [
    "###  2.3: What is the probability that in any given day exactly one network error will occur?"
   ]
  },
  {
   "cell_type": "code",
   "execution_count": 28,
   "metadata": {},
   "outputs": [
    {
     "name": "stdout",
     "output_type": "stream",
     "text": [
      "The probability that in any given day exactly one network error will occur is 0.21772308789459\n"
     ]
    }
   ],
   "source": [
    "print('The probability that in any given day exactly one network error will occur is',stats.poisson.pmf(1,2.4))"
   ]
  },
  {
   "cell_type": "markdown",
   "metadata": {},
   "source": [
    "###  2.4: What is the probability that in any given day two or more network errors will occur?"
   ]
  },
  {
   "cell_type": "code",
   "execution_count": 29,
   "metadata": {},
   "outputs": [
    {
     "name": "stdout",
     "output_type": "stream",
     "text": [
      "Method 1: By using the Cumulative Distribution Function (CDF):\n",
      "The probability that in any given day two or more network errors will occur is 0.6915589588159976\n"
     ]
    }
   ],
   "source": [
    "print(\"Method 1: By using the Cumulative Distribution Function (CDF):\")\n",
    "\n",
    "print('The probability that in any given day two or more network errors will occur is',1 - stats.poisson.cdf(1,2.4))"
   ]
  },
  {
   "cell_type": "code",
   "execution_count": 30,
   "metadata": {},
   "outputs": [
    {
     "name": "stdout",
     "output_type": "stream",
     "text": [
      "Method 2: By using the Probability Mass Function (PMF):\n",
      "The probability that in any given day two or more network errors will occur is 0.6915589588159975\n"
     ]
    }
   ],
   "source": [
    "print(\"Method 2: By using the Probability Mass Function (PMF):\")\n",
    "\n",
    "print('The probability that in any given day two or more network errors will occur is',\n",
    "      1 - (stats.poisson.pmf(0,2.4)+stats.poisson.pmf(1,2.4)))\n"
   ]
  },
  {
   "cell_type": "markdown",
   "metadata": {},
   "source": [
    "## Concept 5: Normal Distribution"
   ]
  },
  {
   "cell_type": "markdown",
   "metadata": {},
   "source": [
    "* One of the most popular continuous distribution in Analytics field.\n",
    "* Normal distribution is observed across many naturally occurring measures such as birth weight, height and intelligence etc"
   ]
  },
  {
   "cell_type": "markdown",
   "metadata": {},
   "source": [
    "#### Probability Density Function"
   ]
  },
  {
   "cell_type": "markdown",
   "metadata": {},
   "source": [
    "f(x) = $\\frac {1}{\\sigma\\sqrt(2 \\pi)} e^\\frac {-(x-\\mu^2)}{2\\sigma^2}$"
   ]
  },
  {
   "cell_type": "markdown",
   "metadata": {},
   "source": [
    "Where\n",
    "\n",
    "* f(x) is used to represent a probability density function\n",
    "* x is any value of the continuous variable, where -∞ < x < ∞\n",
    "* e denotes the mathematical constant approximated by 2.71828\n",
    "* Π is a mathematical constant approximated by 3.14159\n",
    "* μ and σ are the mean and standard deviation of the normal distribution"
   ]
  },
  {
   "cell_type": "markdown",
   "metadata": {},
   "source": [
    "For a continuous function, the probability density function is the probability that the value has the value x. \n",
    "Since for continuous distributions the probability at a single point is zero, this is expressed in terms of an integral of its probability density function\n",
    "P(X<= x) = F(x) = \n",
    "$\\int_{-\\infty}^xf(t)dt$\n"
   ]
  },
  {
   "cell_type": "markdown",
   "metadata": {},
   "source": [
    "Its pdf is given by\n",
    "\n",
    "fZ(z) = $\\frac{1}{ √2Π} {exp \\frac {-z2} {2}}$\n",
    "\n",
    "for all z $\\in R$\n",
    "\n",
    "The (1 / √2Π ) is there to make sure that the area under the PDF is 1."
   ]
  },
  {
   "cell_type": "markdown",
   "metadata": {},
   "source": [
    "* For a normal distribution, mu is the location parameter, which locates (centre) the distribution on the horizontal axis.\n",
    "* Sigma is the scale parameter, which defines the spread of the normal distribution.\n",
    "* Normal distribution has no shape parameter since all the normal distribution curves have bell shape and are symmetrical."
   ]
  },
  {
   "cell_type": "markdown",
   "metadata": {},
   "source": [
    "### Properties\n",
    "1. Theoretical normal density functions are defined between -∞ and ∞\n",
    "2. There are two parameters, location (μ which is the mean) and scale (σ which is standard deviation).\n",
    "3. It has a symmetrical (bell shape) around the mean. mean = median = mode\n",
    "4. Areas between specific values are measured in terms of μ and σ\n",
    "5. Any linear transformation if a normal random variable is also normal random variable.\n",
    "6. If X1 is an independent normal random variable with mean μ1 and variance $\\sigma1^2$ and \n",
    "      X2 is another independent normal random variable with mean μ2 and$\\sigma2^2$, \n",
    "then X1 + X2 is also a normal distribution with mean μ1 + μ2 and variance $\\sigma1^2$ + $\\sigma2^2$ "
   ]
  },
  {
   "cell_type": "markdown",
   "metadata": {},
   "source": [
    "| Value of the random variable | Area under the normal distribution (CDF) |\n",
    "| --------------------------------- | --------------------------|\n",
    "| $\\mu - \\sigma \\leq x \\leq \\mu + \\sigma$ | 0.6828 |\n",
    "| $\\mu - 2\\sigma \\leq x \\leq \\mu + 2\\sigma$ | 0.9545 |\n",
    "| $\\mu - 3\\sigma \\leq x \\leq \\mu + 3\\sigma$ | 0.9974 |"
   ]
  },
  {
   "cell_type": "markdown",
   "metadata": {},
   "source": [
    "### Example 1: Salaries of Data Scient\n",
    "\n",
    "The mean salaries of Data Scientists working in Chennai, India is calculated to be 7,00,000 INR with a standard deviation of 90,000 INR. The random variable salary of Data Scientists follows a normal distribution.\n",
    "\n",
    "* a) What is the probability that a Data Scientist in Chennai has a salary more than 10,00,000 INR?\n",
    "* b) What is the probability that a Data Scientist in Chennai has a salary between 6,00,000 & 9,00,000 INR?\n",
    "* c) What is the probability that a Data Scientist in Chennai has a salary less than 4,00,000 INR?"
   ]
  },
  {
   "cell_type": "markdown",
   "metadata": {},
   "source": [
    "### Solution"
   ]
  },
  {
   "cell_type": "code",
   "execution_count": 40,
   "metadata": {},
   "outputs": [],
   "source": [
    "# a) What is the probability that a Data Scientist in Chennai has a salary more than 10,00,000 INR?\n",
    "mu    =  700000\n",
    "sigma =  90000\n",
    "z1=(1000000-mu) / sigma \n",
    "z3=(600000-mu) / sigma \n",
    "z2=(900000-mu)/sigma"
   ]
  },
  {
   "cell_type": "code",
   "execution_count": 43,
   "metadata": {},
   "outputs": [
    {
     "data": {
      "text/plain": [
       "0.0004290603331967846"
      ]
     },
     "execution_count": 43,
     "metadata": {},
     "output_type": "execute_result"
    }
   ],
   "source": [
    "1-norm.cdf(z1)"
   ]
  },
  {
   "cell_type": "code",
   "execution_count": 45,
   "metadata": {},
   "outputs": [
    {
     "name": "stdout",
     "output_type": "stream",
     "text": [
      "85.36055914064735\n"
     ]
    }
   ],
   "source": [
    "print((norm.cdf(z2)-norm.cdf(z3))*100)"
   ]
  },
  {
   "cell_type": "code",
   "execution_count": 4,
   "metadata": {},
   "outputs": [],
   "source": [
    "mu1 = 70\n",
    "sigma1= 10\n",
    "z1= (80-mu1)/sigma1"
   ]
  },
  {
   "cell_type": "code",
   "execution_count": 42,
   "metadata": {},
   "outputs": [],
   "source": [
    "P1 = stats.norm.cdf(z1)"
   ]
  },
  {
   "cell_type": "code",
   "execution_count": 10,
   "metadata": {},
   "outputs": [
    {
     "name": "stdout",
     "output_type": "stream",
     "text": [
      "0.8413447460685429\n"
     ]
    }
   ],
   "source": [
    "print(P1)"
   ]
  },
  {
   "cell_type": "code",
   "execution_count": 32,
   "metadata": {},
   "outputs": [
    {
     "name": "stdout",
     "output_type": "stream",
     "text": [
      " a) Probability that a Data Scientist in Chennai has a salary more than 10,00,000 is 0.0004\n"
     ]
    }
   ],
   "source": [
    "P = 1 - stats.norm.cdf(z)\n",
    "print(' a) Probability that a Data Scientist in Chennai has a salary more than 10,00,000 is %1.4f' % P)"
   ]
  },
  {
   "cell_type": "code",
   "execution_count": 33,
   "metadata": {},
   "outputs": [],
   "source": [
    "# b) What is the probability that a Data Scientist in Chennai has a salary between 6,00,000 & 9,00,000 INR?\n",
    "z1= (600000-mu) / sigma\n",
    "z2= (900000-mu) / sigma"
   ]
  },
  {
   "cell_type": "code",
   "execution_count": 34,
   "metadata": {},
   "outputs": [
    {
     "name": "stdout",
     "output_type": "stream",
     "text": [
      " b) probability that a Data Scientist in Chennai has a salary between 6,00,000 & 9,00,000 INR is 0.8536\n"
     ]
    }
   ],
   "source": [
    "P = stats.norm.cdf(z2) - stats.norm.cdf(z1)\n",
    "print(' b) probability that a Data Scientist in Chennai has a salary between 6,00,000 & 9,00,000 INR is %1.4f' % P)"
   ]
  },
  {
   "cell_type": "code",
   "execution_count": 35,
   "metadata": {},
   "outputs": [],
   "source": [
    "# c) What is the probability that a Data Scientist in Chennai has a salary less than 4,00,000 INR?\n",
    "z = (400000-mu) / sigma "
   ]
  },
  {
   "cell_type": "code",
   "execution_count": 36,
   "metadata": {},
   "outputs": [
    {
     "name": "stdout",
     "output_type": "stream",
     "text": [
      " c) Probability that a Data Scientist in Chennai has a salary less than 4,00,000 INR is 0.0004\n"
     ]
    }
   ],
   "source": [
    "P = stats.norm.cdf(z)\n",
    "print(' c) Probability that a Data Scientist in Chennai has a salary less than 4,00,000 INR is %1.4f' % P)"
   ]
  },
  {
   "cell_type": "code",
   "execution_count": 107,
   "metadata": {},
   "outputs": [
    {
     "name": "stdout",
     "output_type": "stream",
     "text": [
      "Zcritical for 2 tailed hypothesis test: 3.2905267314918945\n"
     ]
    }
   ],
   "source": [
    "Zcrit= stats.norm.isf(0.0005)\n",
    "print(\"Zcritical for 2 tailed hypothesis test:\",Zcrit)"
   ]
  },
  {
   "cell_type": "code",
   "execution_count": 38,
   "metadata": {},
   "outputs": [
    {
     "name": "stdout",
     "output_type": "stream",
     "text": [
      "Zcritical for one-tailed hypothesis test: 1.6448536269514729\n"
     ]
    }
   ],
   "source": [
    "print(\"Zcritical for one-tailed hypothesis test:\",stats.norm.isf(0.05) )"
   ]
  },
  {
   "cell_type": "code",
   "execution_count": 29,
   "metadata": {
    "scrolled": false
   },
   "outputs": [
    {
     "name": "stdout",
     "output_type": "stream",
     "text": [
      "probability that it lies between 80K and 100K 0.3198506943208034\n",
      "conditional probability given it is known to be >80K is 0.9450145847866034\n"
     ]
    }
   ],
   "source": [
    "mu = 75000\n",
    "sigma = 12000\n",
    "zright = (100000-mu)/sigma\n",
    "zleft = (80000-mu)/sigma\n",
    "prob1=stats.norm.cdf(zright)-stats.norm.cdf(zleft)\n",
    "print(\"probability that it lies between 80K and 100K\",prob1)\n",
    "print(\"conditional probability given it is known to be >80K is\", prob1/(1-stats.norm.cdf(zleft)))"
   ]
  },
  {
   "cell_type": "markdown",
   "metadata": {},
   "source": [
    "### High School Students class height distribution"
   ]
  },
  {
   "cell_type": "code",
   "execution_count": 108,
   "metadata": {},
   "outputs": [],
   "source": [
    "hs=pd.read_csv('hs_heights.csv', names=['heights'])"
   ]
  },
  {
   "cell_type": "code",
   "execution_count": 109,
   "metadata": {},
   "outputs": [
    {
     "data": {
      "text/html": [
       "<div>\n",
       "<style scoped>\n",
       "    .dataframe tbody tr th:only-of-type {\n",
       "        vertical-align: middle;\n",
       "    }\n",
       "\n",
       "    .dataframe tbody tr th {\n",
       "        vertical-align: top;\n",
       "    }\n",
       "\n",
       "    .dataframe thead th {\n",
       "        text-align: right;\n",
       "    }\n",
       "</style>\n",
       "<table border=\"1\" class=\"dataframe\">\n",
       "  <thead>\n",
       "    <tr style=\"text-align: right;\">\n",
       "      <th></th>\n",
       "      <th>heights</th>\n",
       "    </tr>\n",
       "  </thead>\n",
       "  <tbody>\n",
       "    <tr>\n",
       "      <th>0</th>\n",
       "      <td>0.00</td>\n",
       "    </tr>\n",
       "    <tr>\n",
       "      <th>1</th>\n",
       "      <td>61.53</td>\n",
       "    </tr>\n",
       "    <tr>\n",
       "      <th>2</th>\n",
       "      <td>63.55</td>\n",
       "    </tr>\n",
       "    <tr>\n",
       "      <th>3</th>\n",
       "      <td>63.96</td>\n",
       "    </tr>\n",
       "    <tr>\n",
       "      <th>4</th>\n",
       "      <td>64.66</td>\n",
       "    </tr>\n",
       "  </tbody>\n",
       "</table>\n",
       "</div>"
      ],
      "text/plain": [
       "   heights\n",
       "0     0.00\n",
       "1    61.53\n",
       "2    63.55\n",
       "3    63.96\n",
       "4    64.66"
      ]
     },
     "execution_count": 109,
     "metadata": {},
     "output_type": "execute_result"
    }
   ],
   "source": [
    "hs.head()"
   ]
  },
  {
   "cell_type": "code",
   "execution_count": 110,
   "metadata": {},
   "outputs": [
    {
     "data": {
      "text/plain": [
       "(1001, 1)"
      ]
     },
     "execution_count": 110,
     "metadata": {},
     "output_type": "execute_result"
    }
   ],
   "source": [
    "hs.shape"
   ]
  },
  {
   "cell_type": "code",
   "execution_count": 111,
   "metadata": {},
   "outputs": [],
   "source": [
    "hs.drop(hs[hs['heights']<36.].index, inplace=True)"
   ]
  },
  {
   "cell_type": "code",
   "execution_count": 112,
   "metadata": {},
   "outputs": [
    {
     "data": {
      "text/plain": [
       "(1000, 1)"
      ]
     },
     "execution_count": 112,
     "metadata": {},
     "output_type": "execute_result"
    }
   ],
   "source": [
    "hs.shape"
   ]
  },
  {
   "cell_type": "code",
   "execution_count": 113,
   "metadata": {},
   "outputs": [
    {
     "data": {
      "text/plain": [
       "56.68"
      ]
     },
     "execution_count": 113,
     "metadata": {},
     "output_type": "execute_result"
    }
   ],
   "source": [
    "hs.heights.min()"
   ]
  },
  {
   "cell_type": "code",
   "execution_count": 114,
   "metadata": {},
   "outputs": [
    {
     "data": {
      "text/plain": [
       "77.15"
      ]
     },
     "execution_count": 114,
     "metadata": {},
     "output_type": "execute_result"
    }
   ],
   "source": [
    "hs.heights.max()"
   ]
  },
  {
   "cell_type": "code",
   "execution_count": 115,
   "metadata": {},
   "outputs": [
    {
     "data": {
      "text/html": [
       "<div>\n",
       "<style scoped>\n",
       "    .dataframe tbody tr th:only-of-type {\n",
       "        vertical-align: middle;\n",
       "    }\n",
       "\n",
       "    .dataframe tbody tr th {\n",
       "        vertical-align: top;\n",
       "    }\n",
       "\n",
       "    .dataframe thead th {\n",
       "        text-align: right;\n",
       "    }\n",
       "</style>\n",
       "<table border=\"1\" class=\"dataframe\">\n",
       "  <thead>\n",
       "    <tr style=\"text-align: right;\">\n",
       "      <th></th>\n",
       "      <th>heights</th>\n",
       "    </tr>\n",
       "  </thead>\n",
       "  <tbody>\n",
       "    <tr>\n",
       "      <th>count</th>\n",
       "      <td>1000.000000</td>\n",
       "    </tr>\n",
       "    <tr>\n",
       "      <th>mean</th>\n",
       "      <td>64.570730</td>\n",
       "    </tr>\n",
       "    <tr>\n",
       "      <th>std</th>\n",
       "      <td>3.625449</td>\n",
       "    </tr>\n",
       "    <tr>\n",
       "      <th>min</th>\n",
       "      <td>56.680000</td>\n",
       "    </tr>\n",
       "    <tr>\n",
       "      <th>25%</th>\n",
       "      <td>61.837500</td>\n",
       "    </tr>\n",
       "    <tr>\n",
       "      <th>50%</th>\n",
       "      <td>64.205000</td>\n",
       "    </tr>\n",
       "    <tr>\n",
       "      <th>75%</th>\n",
       "      <td>67.162500</td>\n",
       "    </tr>\n",
       "    <tr>\n",
       "      <th>max</th>\n",
       "      <td>77.150000</td>\n",
       "    </tr>\n",
       "  </tbody>\n",
       "</table>\n",
       "</div>"
      ],
      "text/plain": [
       "           heights\n",
       "count  1000.000000\n",
       "mean     64.570730\n",
       "std       3.625449\n",
       "min      56.680000\n",
       "25%      61.837500\n",
       "50%      64.205000\n",
       "75%      67.162500\n",
       "max      77.150000"
      ]
     },
     "execution_count": 115,
     "metadata": {},
     "output_type": "execute_result"
    }
   ],
   "source": [
    "hs.describe()"
   ]
  },
  {
   "cell_type": "code",
   "execution_count": 59,
   "metadata": {},
   "outputs": [],
   "source": [
    "mu = hs.heights.mean()"
   ]
  },
  {
   "cell_type": "code",
   "execution_count": 60,
   "metadata": {},
   "outputs": [],
   "source": [
    "sigma = hs.heights.std()"
   ]
  },
  {
   "cell_type": "code",
   "execution_count": 61,
   "metadata": {},
   "outputs": [
    {
     "data": {
      "text/plain": [
       "<seaborn.axisgrid.FacetGrid at 0x1a3de7c01c0>"
      ]
     },
     "execution_count": 61,
     "metadata": {},
     "output_type": "execute_result"
    },
    {
     "data": {
      "image/png": "[encoded data removed]",
      "text/plain": [
       "<Figure size 360x360 with 1 Axes>"
      ]
     },
     "metadata": {
      "needs_background": "light"
     },
     "output_type": "display_data"
    }
   ],
   "source": [
    "sns.displot(data=hs,x='heights',kind='hist')"
   ]
  },
  {
   "cell_type": "code",
   "execution_count": 62,
   "metadata": {},
   "outputs": [
    {
     "data": {
      "text/plain": [
       "<seaborn.axisgrid.FacetGrid at 0x1a3dee5ddc0>"
      ]
     },
     "execution_count": 62,
     "metadata": {},
     "output_type": "execute_result"
    },
    {
     "data": {
      "image/png": "[encoded data removed]",
      "text/plain": [
       "<Figure size 360x360 with 1 Axes>"
      ]
     },
     "metadata": {
      "needs_background": "light"
     },
     "output_type": "display_data"
    }
   ],
   "source": [
    "sns.displot(data=hs,x='heights',kind='kde')"
   ]
  },
  {
   "cell_type": "code",
   "execution_count": 64,
   "metadata": {},
   "outputs": [],
   "source": [
    "## What percentage of students are below 5 ft in height?\n",
    "Z60=(60-mu)/sigma"
   ]
  },
  {
   "cell_type": "code",
   "execution_count": 65,
   "metadata": {},
   "outputs": [
    {
     "name": "stdout",
     "output_type": "stream",
     "text": [
      "% of students in class below height of 60 inches= 10.370218832131272\n"
     ]
    }
   ],
   "source": [
    "print(\"% of students in class below height of 60 inches=\", stats.norm.cdf(Z60)*100)"
   ]
  },
  {
   "cell_type": "code",
   "execution_count": 66,
   "metadata": {},
   "outputs": [
    {
     "name": "stdout",
     "output_type": "stream",
     "text": [
      "% of students in class above height of 72 inches= 2.022128072462648\n"
     ]
    }
   ],
   "source": [
    "## What percentage of students are above 6 ft tall?\n",
    "Z72=(72-mu)/sigma\n",
    "print(\"% of students in class above height of 72 inches=\", (1-stats.norm.cdf(Z72))*100)"
   ]
  },
  {
   "cell_type": "code",
   "execution_count": 73,
   "metadata": {},
   "outputs": [
    {
     "name": "stdout",
     "output_type": "stream",
     "text": [
      "(57.46498064153967, 71.67647935846027)\n"
     ]
    }
   ],
   "source": [
    "## 95% Confidence Interval of students' height?\n",
    "print (stats.norm.interval(0.95, loc=mu, scale=sigma))"
   ]
  },
  {
   "cell_type": "code",
   "execution_count": 83,
   "metadata": {},
   "outputs": [],
   "source": [
    "hs_sample=hs.sample(n=50)"
   ]
  },
  {
   "cell_type": "code",
   "execution_count": 84,
   "metadata": {},
   "outputs": [
    {
     "data": {
      "text/plain": [
       "<seaborn.axisgrid.FacetGrid at 0x1a3dd47d7f0>"
      ]
     },
     "execution_count": 84,
     "metadata": {},
     "output_type": "execute_result"
    },
    {
     "data": {
      "image/png": "[encoded data removed]",
      "text/plain": [
       "<Figure size 360x360 with 1 Axes>"
      ]
     },
     "metadata": {
      "needs_background": "light"
     },
     "output_type": "display_data"
    }
   ],
   "source": [
    "sns.displot(data=hs_sample,x='heights',kind='kde')"
   ]
  },
  {
   "cell_type": "code",
   "execution_count": 85,
   "metadata": {},
   "outputs": [],
   "source": [
    "sample_mean  = hs_sample.mean()\n",
    "sample_std = hs_sample.std()"
   ]
  },
  {
   "cell_type": "code",
   "execution_count": 86,
   "metadata": {},
   "outputs": [
    {
     "name": "stdout",
     "output_type": "stream",
     "text": [
      "(array([57.0554244]), array([74.0613756]))\n"
     ]
    }
   ],
   "source": [
    "print(stats.t.interval(0.95,99,loc=sample_mean,scale=sample_std))"
   ]
  },
  {
   "cell_type": "markdown",
   "metadata": {},
   "source": [
    "## 6.Central Limit Theorem"
   ]
  },
  {
   "cell_type": "markdown",
   "metadata": {},
   "source": [
    "* Central Limit Theorem (CLT) is one of the most important theorems in Statistics due to its applications in testing of \n",
    "hypothesis.\n",
    "\n",
    "* CLT states that for a large sample drawn from a population with mean $\\mu$ and standard deviation $\\sigma$, the sampling \n",
    "distribution of mean, follows an approximate normal distribution with mean, μ and standard error σ / √(n) irrespective of the \n",
    "distribution of the population for large sample size.\n",
    "\n",
    "* Let S1, S2, ..., Sk be samples of size n, drawn from an independent and identically distributed population with mean, μ and \n",
    "standard deviation, σ. \n",
    "\n",
    "* Let be $\\overline{X_1}$, $\\overline{X_2}$, ..., $\\overline{X_k}$,  the sample means of the samples (S1, S2, ..., Sk ). \n",
    "\n",
    "* According to CLT, the distribution of $\\overline{X_1}$, $\\overline{X_2}$, ..., $\\overline{X_k}$, follows a normal \n",
    "distribution with mean, μ and standard deviation, σ / √(n) for large value of n. \n",
    "\n",
    "* As a general rule, statisticians have found that for many population distribution, when the sample size is at least 30, the \n",
    "sampling distribution of the mean is approximately **normal.**"
   ]
  },
  {
   "cell_type": "markdown",
   "metadata": {},
   "source": [
    "### Implications of CLT\n",
    "* 1) X - μ / (σ / √(n) ~ N(0,1)\n",
    "* 2) If Sn = X1 + X2 + ... + Xn, then E(Sn) = nμ and Standard Error is σ √(n)\n",
    "* The random variable (Sn - nμ ) / (σ √(n))  is a standard normal variate"
   ]
  },
  {
   "cell_type": "markdown",
   "metadata": {},
   "source": [
    "### Example\n",
    "A hospital is interested in estimating the average time it takes to discharge a patient after the doctor signs the discharge \n",
    "summary sheet. \n",
    "\n",
    "Calculate the required sample size at a confidence level of 95%. Assume that the population standard deviation is 25 minutes."
   ]
  },
  {
   "cell_type": "markdown",
   "metadata": {},
   "source": [
    "### Solution"
   ]
  },
  {
   "cell_type": "markdown",
   "metadata": {},
   "source": [
    "From the CLT (Central Limit theorem), we know that the sampling distribution of the mean follows a normal distribution with \n",
    "mean $\\mu$ and standard deviation $\\frac{\\sigma}{\\sqrt{n}}$.  "
   ]
  },
  {
   "cell_type": "markdown",
   "metadata": {},
   "source": [
    "**Standard Normal Variate Z = $\\frac{\\overline{X},- \\mu} {\\frac{\\sigma}{\\sqrt{n}}}$**"
   ]
  },
  {
   "cell_type": "markdown",
   "metadata": {},
   "source": [
    "So, $\\sqrt{n} = {\\frac{Z \\quad \\times \\quad \\sigma} {\\overline{X} - \\mu}}$"
   ]
  },
  {
   "cell_type": "markdown",
   "metadata": {},
   "source": [
    "* Let  Diff = $\\overline{X}- \\mu$ \n",
    "* Diff = 5 minutes\n",
    "* $\\sigma = 25 $\n",
    "* $\\alpha = 0.05$"
   ]
  },
  {
   "cell_type": "code",
   "execution_count": 39,
   "metadata": {},
   "outputs": [],
   "source": [
    "# Let n be the sample size"
   ]
  },
  {
   "cell_type": "code",
   "execution_count": 2,
   "metadata": {},
   "outputs": [],
   "source": [
    "import  scipy.stats as stats\n",
    "import  numpy       as np"
   ]
  },
  {
   "cell_type": "code",
   "execution_count": 87,
   "metadata": {},
   "outputs": [],
   "source": [
    "Z     = round(stats.norm.isf(q = 0.025),2) # We need to calculate the value of Z at (alpha/2) when alpha = 0.05\n",
    "sigma = 25\n",
    "D     = 5"
   ]
  },
  {
   "cell_type": "code",
   "execution_count": 42,
   "metadata": {},
   "outputs": [
    {
     "name": "stdout",
     "output_type": "stream",
     "text": [
      "1.96\n"
     ]
    }
   ],
   "source": [
    "print(np.abs(Z))"
   ]
  },
  {
   "cell_type": "code",
   "execution_count": 43,
   "metadata": {},
   "outputs": [],
   "source": [
    "n = round(((np.abs(Z) * sigma ) / D)**2,0)"
   ]
  },
  {
   "cell_type": "code",
   "execution_count": 44,
   "metadata": {},
   "outputs": [
    {
     "name": "stdout",
     "output_type": "stream",
     "text": [
      "The required sample size at a confidence level of 95% is 96\n"
     ]
    }
   ],
   "source": [
    "print('The required sample size at a confidence level of %d%s is %d' % (95,'%',n))"
   ]
  },
  {
   "cell_type": "code",
   "execution_count": 5,
   "metadata": {},
   "outputs": [
    {
     "data": {
      "text/plain": [
       "2.0452296421327034"
      ]
     },
     "execution_count": 5,
     "metadata": {},
     "output_type": "execute_result"
    }
   ],
   "source": [
    "stats.t.isf(0.025,29)"
   ]
  },
  {
   "cell_type": "markdown",
   "metadata": {},
   "source": [
    "## 7.Setting up Hypothesis"
   ]
  },
  {
   "cell_type": "markdown",
   "metadata": {},
   "source": [
    "### Type I Error, Type II error and power of the hypothesis test"
   ]
  },
  {
   "cell_type": "markdown",
   "metadata": {},
   "source": [
    "### Type I error"
   ]
  },
  {
   "cell_type": "markdown",
   "metadata": {},
   "source": [
    "* It is the conditional probability of rejecting a null hypothesis when it is true, is called **Type I error or False positive.\n",
    "**\n",
    "* $\\alpha$, the level of significance is the value of Type I error.\n",
    "* P(Reject null hypothesis | $H_0$ is true) = $\\alpha$"
   ]
  },
  {
   "cell_type": "markdown",
   "metadata": {},
   "source": [
    "### Type II error"
   ]
  },
  {
   "cell_type": "markdown",
   "metadata": {},
   "source": [
    "* It is the conditional probability of retaining a null hypothesis when it is true, is called **Type II error or False Negative.\n",
    "**\n",
    "* $\\beta$, is the value of Type II error.\n",
    "* P(Retain null hypothesis | $H_0$ is false) = $\\beta$"
   ]
  },
  {
   "cell_type": "markdown",
   "metadata": {},
   "source": [
    "### Power of the test"
   ]
  },
  {
   "cell_type": "markdown",
   "metadata": {},
   "source": [
    "* (1 - $\\beta$) is known as the **power of the test**.\n",
    "* It is P(Reject null hypothesis | $H_0$ is false) = 1- $\\beta$"
   ]
  },
  {
   "cell_type": "markdown",
   "metadata": {},
   "source": [
    "## Steps involved in solving the hypothesis testing"
   ]
  },
  {
   "cell_type": "markdown",
   "metadata": {},
   "source": [
    "### 1 Define null and alternative hypothesis"
   ]
  },
  {
   "cell_type": "markdown",
   "metadata": {},
   "source": [
    "* ### Null hypothesis means no relationship or status quo\n",
    "* ### Alternative hypothesis is what the researcher wants to prove"
   ]
  },
  {
   "cell_type": "markdown",
   "metadata": {},
   "source": [
    "### 2: Decide the significance level\n",
    "\n",
    "Choose the $\\alpha$, the level of significance according to the relative importance of the risks of committing Type I and Type II errors in the problem. "
   ]
  },
  {
   "cell_type": "markdown",
   "metadata": {},
   "source": [
    "### 3:  Identify the test statistic"
   ]
  },
  {
   "cell_type": "markdown",
   "metadata": {},
   "source": [
    "### 4: Calculate the critical value"
   ]
  },
  {
   "cell_type": "markdown",
   "metadata": {},
   "source": [
    "We know the $\\alpha$ is 0.05. So, the critical values of the $Z_STAT$ test statistic are -1.96 and 1.96."
   ]
  },
  {
   "cell_type": "markdown",
   "metadata": {},
   "source": [
    "### 5 Decide to reject or accept null hypothesis"
   ]
  },
  {
   "cell_type": "markdown",
   "metadata": {},
   "source": [
    "### Example \n",
    "\n",
    "A beverages company produces mineral water and available in 250 ml, 500 ml, 1 litre and 2 litre bottles, 5 litre, 15 litre and \n",
    "20 litre jars.\n",
    "Let us consider 2 litre bottles. Company specification require a mean volume of 2 litre per bottle.\n",
    "You must adjust the water filling process when the mean volume in the population of bottles differs from 2 litres. Adjusting \n",
    "the process requires shutting down the water filling production line completely, so you do not want to make any adjustments \n",
    "without any reason unnecessarily.\n",
    "\n",
    "Assume a sample of 50 water bottles indicate a sample mean, $\\overline{X}$ of 2.001 litres and the population standard \n",
    "deviation, $\\sigma$ is 15 ml."
   ]
  },
  {
   "cell_type": "markdown",
   "metadata": {},
   "source": [
    "#### Hypothesis testing using the critical value approach"
   ]
  },
  {
   "cell_type": "markdown",
   "metadata": {},
   "source": [
    "## Solution"
   ]
  },
  {
   "cell_type": "markdown",
   "metadata": {},
   "source": [
    "### Step 1: Define null and alternative hypotheses"
   ]
  },
  {
   "cell_type": "markdown",
   "metadata": {},
   "source": [
    "In testing whether the mean volume is 2 litres, the null hypothesis states that mean volume, $\\mu$ equals 2 litres. The \n",
    "alternative hypthesis states that the mean olume, $\\mu$ is not equal  to 2 litres.\n",
    "* $H_0$: $\\mu$ = 2\n",
    "* $H_A$: $\\mu$ $\\neq$ 2"
   ]
  },
  {
   "cell_type": "markdown",
   "metadata": {},
   "source": [
    "### Step 2: Decide the significance level"
   ]
  },
  {
   "cell_type": "markdown",
   "metadata": {},
   "source": [
    "Choose the $\\alpha$, the level of significance according to the relative importance of the risks of committing Type I and \n",
    "Type II errors in the problem. \n",
    "\n",
    "In this example, making a Type I error means that you conclude that the population mean is not 2 litres when it is 2 litres. \n",
    "This implies that you will take corrective action on the filling process even though the process is working well (*false alarm*)\n",
    ".\n",
    "\n",
    "On the other hand, when the population mean is 1.98 litres and you conclude that the population mean is 2 litres, you commit a \n",
    "Type II error. Here, you allow the process to continue without adjustment, even though an adjustment is needed (*missed \n",
    "opportunity*).\n",
    "\n",
    "Here, we select $\\alpha$ = 0.05 and n, sample size = 50."
   ]
  },
  {
   "cell_type": "markdown",
   "metadata": {},
   "source": [
    "### Step 3:  Identify the test statistic"
   ]
  },
  {
   "cell_type": "markdown",
   "metadata": {},
   "source": [
    "We know the population standard deviation and the sample is a large sample, n>30. So you use the normal distribution and the\n",
    "$Z_STAT$ test statistic."
   ]
  },
  {
   "cell_type": "markdown",
   "metadata": {},
   "source": [
    "### Step 4: Calculate the critical value"
   ]
  },
  {
   "cell_type": "markdown",
   "metadata": {},
   "source": [
    "We know the $\\alpha$ is 0.05. So, the critical values of the $Z_STAT$ test statistic are -1.96 and 1.96."
   ]
  },
  {
   "cell_type": "code",
   "execution_count": 116,
   "metadata": {},
   "outputs": [
    {
     "name": "stdout",
     "output_type": "stream",
     "text": [
      "1.96\n"
     ]
    }
   ],
   "source": [
    "print(np.abs(round(stats.norm.isf(q = 0.025),2))) # Here we use alpha by 2  for two-tailed test"
   ]
  },
  {
   "cell_type": "markdown",
   "metadata": {},
   "source": [
    "* ### Rejection region is $Z_{STAT}$ < -1.96 or $Z_{STAT}$ > 1.96.\n",
    "* ### Acceptance or non-rejection regions is -1.96 $\\leq$ $Z_{STAT}$ $\\leq$ 1.96"
   ]
  },
  {
   "cell_type": "markdown",
   "metadata": {},
   "source": [
    "We collect the sample data, calculate the test statistic. \n",
    "In our example, \n",
    "* $\\overline{X}$ = 2.001\n",
    "* $\\mu$   = 2\n",
    "* $\\sigma$ = 15 ml\n",
    "* n       = 50\n",
    "* $Z_{STAT} = \\frac{\\overline{X} - \\mu} {\\frac{\\sigma}{\\sqrt{n}}}$ "
   ]
  },
  {
   "cell_type": "code",
   "execution_count": 46,
   "metadata": {},
   "outputs": [
    {
     "name": "stdout",
     "output_type": "stream",
     "text": [
      "Value of Z is 2.12132\n"
     ]
    }
   ],
   "source": [
    "XAvg  = 2.003\n",
    "mu    = 2\n",
    "sigma = 0.01\n",
    "n     = 50\n",
    "Z = (XAvg - mu)/(sigma/np.sqrt(n))\n",
    "print('Value of Z is %2.5f' %Z)"
   ]
  },
  {
   "cell_type": "markdown",
   "metadata": {},
   "source": [
    "In this example, Z = 0.00047 lies in the acceptance region because, \n",
    "-1.96 < Z = 0.00047 < 1.96.\n",
    "\n",
    "So the statistical decision is not to reject the null hypothesis.\n",
    "\n",
    "### So there is no sufficient evidence  to prove that the mean fill is different from 2 litres."
   ]
  },
  {
   "cell_type": "markdown",
   "metadata": {},
   "source": [
    "# 8.One sample and two sample  (test for mean and not for proportion) "
   ]
  },
  {
   "cell_type": "markdown",
   "metadata": {},
   "source": [
    "## t test"
   ]
  },
  {
   "cell_type": "markdown",
   "metadata": {},
   "source": [
    "### Very rarely we know the variance of the population. \n",
    "\n",
    "A common strategy to assess hypothesis is to conduct a t test. A t test can tell whether two groups have the same mean. \n",
    "A t test can be estimated for:\n",
    "* 1) One sample t test\n",
    "* 2) Two sample t test (including paired t test)\n",
    "\n",
    "We assume that the samples are randomly selected, independent and come from a normally distributed population with unknown but \n",
    "equal variances."
   ]
  },
  {
   "cell_type": "markdown",
   "metadata": {},
   "source": [
    "### One sample t test"
   ]
  },
  {
   "cell_type": "code",
   "execution_count": 1,
   "metadata": {},
   "outputs": [],
   "source": [
    "from scipy.stats             import ttest_1samp,ttest_ind, wilcoxon\n",
    "from statsmodels.stats.power import ttest_power\n",
    "import matplotlib.pyplot     as     plt"
   ]
  },
  {
   "cell_type": "code",
   "execution_count": 48,
   "metadata": {},
   "outputs": [],
   "source": [
    "# daily intake of energy in kJ for 11 women\n",
    "daily_intake = np.array([5260,5470,5640,6180,6390,6515,\n",
    "                         6805,7515,7515,8230,8770])"
   ]
  },
  {
   "cell_type": "code",
   "execution_count": 49,
   "metadata": {},
   "outputs": [
    {
     "name": "stdout",
     "output_type": "stream",
     "text": [
      "-2.8207540608310198 0.018137235176105812\n"
     ]
    }
   ],
   "source": [
    "# one sample t-test\n",
    "# null hypothesis: expected value = 7725\n",
    "t_statistic, p_value = ttest_1samp(daily_intake, 7725)\n",
    "print(t_statistic,p_value)"
   ]
  },
  {
   "cell_type": "code",
   "execution_count": 50,
   "metadata": {},
   "outputs": [
    {
     "name": "stdout",
     "output_type": "stream",
     "text": [
      "one-sample t-test p-value= 0.018137235176105812\n"
     ]
    }
   ],
   "source": [
    "# p_value < 0.05 => alternative hypothesis:\n",
    "# data deviate significantly from the hypothesis that the mean\n",
    "# is 7725 at the 5% level of significance\n",
    "print (\"one-sample t-test p-value=\", p_value)"
   ]
  },
  {
   "cell_type": "code",
   "execution_count": 51,
   "metadata": {},
   "outputs": [
    {
     "data": {
      "text/plain": [
       "0.8920007551395173"
      ]
     },
     "execution_count": 51,
     "metadata": {},
     "output_type": "execute_result"
    }
   ],
   "source": [
    "# Calculating Power of Test\n",
    "# Compute the difference in Means between Population and Sample and divide it by Standard Deviation\n",
    "# Set the number of Observations\n",
    "# Set the alpha value and alternative values 'two-sided' , 'larger' , 'smaller'\n",
    "\n",
    "abs(np.mean(daily_intake) - 7725) / np.std(daily_intake)"
   ]
  },
  {
   "cell_type": "code",
   "execution_count": 52,
   "metadata": {},
   "outputs": [
    {
     "name": "stdout",
     "output_type": "stream",
     "text": [
      "0.7600146595982609\n"
     ]
    }
   ],
   "source": [
    "print(ttest_power(0.892, nobs=11, alpha=0.05, alternative='two-sided'))"
   ]
  },
  {
   "cell_type": "markdown",
   "metadata": {},
   "source": [
    "## Two sample test"
   ]
  },
  {
   "cell_type": "markdown",
   "metadata": {},
   "source": [
    "** Two sample t test (Snedecor and Cochran 1989) is used to determine if two population means are equal.\n",
    "A common application is to test if a new treatment or approach or process is yielding better results than the current treatment \n",
    "or approach or process.**\n",
    "\n",
    "* 1) Data is *paired* - For example, a group of students are given coaching classes and effect of coaching on the  marks scored \n",
    "is determined.\n",
    "* 2) Data is *not paired* - For example, find out  whether the miles per gallon of  cars of Japanese make is superior to cars \n",
    "of Indian make."
   ]
  },
  {
   "cell_type": "markdown",
   "metadata": {},
   "source": [
    "## Two sample t test for unpaired data is defined as \n",
    "* $H_0$: $\\mu1$        = $\\mu2$ \n",
    "* $H_a$: $\\mu1$ $\\neq$ = $\\mu2$ \n",
    "\n",
    "### Test statistic T = $\\frac{\\overline{X_1} - \\overline{X_2}}{\\sqrt{\\frac{{s_1}^2} {n1}+ \\frac{{s_2}^2}{n2}}}$\n",
    "\n",
    "* where n1 and n2 are the sample sizes and X1 and X2 are the sample means \n",
    "* ${S_1}^2$ and ${S_2}^2$ are sample variances"
   ]
  },
  {
   "cell_type": "markdown",
   "metadata": {},
   "source": [
    "## Example"
   ]
  },
  {
   "cell_type": "markdown",
   "metadata": {},
   "source": [
    "Compare two unrelated samples. Data was collected on the weight loss of 16 women and 20 men enrolled in a weight reduction \n",
    "program.\n",
    "At $\\alpha$ = 0.05, test whether the weight loss of these two samples is different."
   ]
  },
  {
   "cell_type": "markdown",
   "metadata": {},
   "source": [
    "### Solution"
   ]
  },
  {
   "cell_type": "code",
   "execution_count": 20,
   "metadata": {},
   "outputs": [],
   "source": [
    "Weight_loss_Male   = [ 3.69, 4.12, 4.65, 3.19,  4.34, 3.68, 4.12, 4.50, 3.70, 3.09,3.65, 4.73, 3.93, 3.46, 3.28, 4.43, 4.13, 3.62, 3.71, 2.92]\n",
    "Weight_loss_Female = [2.99, 1.80, 3.79, 4.12, 1.76, 3.50, 3.61, 2.32, 3.67, 4.26, 4.57, 3.01, 3.82, 4.33, 3.40, 3.86]"
   ]
  },
  {
   "cell_type": "code",
   "execution_count": 88,
   "metadata": {},
   "outputs": [],
   "source": [
    "import pandas as pd\n",
    "from    scipy.stats             import  ttest_1samp,ttest_ind, wilcoxon, ttest_ind_from_stats\n",
    "import  scipy.stats             as      stats  \n",
    "from    statsmodels.stats.power import  ttest_power\n",
    "import  matplotlib.pyplot       as      plt"
   ]
  },
  {
   "cell_type": "markdown",
   "metadata": {},
   "source": [
    "### Step 1: Define null and alternative hypothesis"
   ]
  },
  {
   "cell_type": "markdown",
   "metadata": {},
   "source": [
    "In testing whether weight reduction of female and male are same,the null hypothesis states that mean weight reduction, $\\mu{M}$ equals $\\mu{F}$. The alternative hypthesis states that the weight reduction is different for Male and Female, $\\mu{M}$ $\\neq$ $\\mu{F}$\n",
    "\n",
    "* $H_0$: $\\mu{M}$ - $\\mu{F}$ =      0\n",
    "* $H_A$: $\\mu{M}$ - $\\mu{F}$ $\\neq$  0"
   ]
  },
  {
   "cell_type": "markdown",
   "metadata": {},
   "source": [
    "### Step 2: Decide the significance level"
   ]
  },
  {
   "cell_type": "markdown",
   "metadata": {},
   "source": [
    "Here we select $\\alpha$ = 0.05 and sample size < 30 and population standard deviation is not known."
   ]
  },
  {
   "cell_type": "markdown",
   "metadata": {},
   "source": [
    "### Step 3: Identify the test statistic"
   ]
  },
  {
   "cell_type": "markdown",
   "metadata": {},
   "source": [
    "* We have two samples and we do not know the population standard deviation.\n",
    "* Sample sizes for both samples are not same.\n",
    "* The sample is not a large sample, n < 30. So you use the t distribution and the $t_STAT$ test statistic for two sample\n",
    "unpaired test."
   ]
  },
  {
   "cell_type": "markdown",
   "metadata": {},
   "source": [
    "### Step 4: Calculate the p - value and test statistic"
   ]
  },
  {
   "cell_type": "markdown",
   "metadata": {},
   "source": [
    "** We use the scipy.stats.ttest_ind to calculate the t-test for the means of TWO INDEPENDENT samples of scores given the two \n",
    "sample observations. This function returns t statistic and two-tailed p value.**\n",
    "\n",
    "** This is a two-sided test for the null hypothesis that 2 independent samples have identical average (expected) values. This \n",
    "test assumes that the populations have identical variances.**"
   ]
  },
  {
   "cell_type": "code",
   "execution_count": 23,
   "metadata": {},
   "outputs": [
    {
     "name": "stdout",
     "output_type": "stream",
     "text": [
      "P Value 0.076\n"
     ]
    }
   ],
   "source": [
    "t_statistic, p_value  =  stats.ttest_ind(Weight_loss_Male,Weight_loss_Female)\n",
    "print('P Value %1.3f' % p_value)    "
   ]
  },
  {
   "cell_type": "markdown",
   "metadata": {},
   "source": [
    "### Step 5:  Decide to reject or accept null hypothesis"
   ]
  },
  {
   "cell_type": "markdown",
   "metadata": {},
   "source": [
    "In this example, p value is 0.076 and it is more than 5% level of significance\n",
    "\n",
    "So the statistical decision is to accept the null hypothesis at 5% level of significance.\n",
    "\n",
    "### So there is no sufficient evidence  to reject the null hypothesis that the weight loss of these men and women is same."
   ]
  },
  {
   "cell_type": "markdown",
   "metadata": {},
   "source": [
    "## Test of Proportions - We will use a medical Insurance dataset"
   ]
  },
  {
   "cell_type": "code",
   "execution_count": 89,
   "metadata": {},
   "outputs": [],
   "source": [
    "df = pd.read_csv('insurance.csv')"
   ]
  },
  {
   "cell_type": "code",
   "execution_count": 90,
   "metadata": {},
   "outputs": [
    {
     "data": {
      "text/html": [
       "<div>\n",
       "<style scoped>\n",
       "    .dataframe tbody tr th:only-of-type {\n",
       "        vertical-align: middle;\n",
       "    }\n",
       "\n",
       "    .dataframe tbody tr th {\n",
       "        vertical-align: top;\n",
       "    }\n",
       "\n",
       "    .dataframe thead th {\n",
       "        text-align: right;\n",
       "    }\n",
       "</style>\n",
       "<table border=\"1\" class=\"dataframe\">\n",
       "  <thead>\n",
       "    <tr style=\"text-align: right;\">\n",
       "      <th></th>\n",
       "      <th>age</th>\n",
       "      <th>sex</th>\n",
       "      <th>bmi</th>\n",
       "      <th>children</th>\n",
       "      <th>smoker</th>\n",
       "      <th>region</th>\n",
       "      <th>charges</th>\n",
       "    </tr>\n",
       "  </thead>\n",
       "  <tbody>\n",
       "    <tr>\n",
       "      <th>0</th>\n",
       "      <td>19</td>\n",
       "      <td>female</td>\n",
       "      <td>27.900</td>\n",
       "      <td>0</td>\n",
       "      <td>yes</td>\n",
       "      <td>southwest</td>\n",
       "      <td>16884.92400</td>\n",
       "    </tr>\n",
       "    <tr>\n",
       "      <th>1</th>\n",
       "      <td>18</td>\n",
       "      <td>male</td>\n",
       "      <td>33.770</td>\n",
       "      <td>1</td>\n",
       "      <td>no</td>\n",
       "      <td>southeast</td>\n",
       "      <td>1725.55230</td>\n",
       "    </tr>\n",
       "    <tr>\n",
       "      <th>2</th>\n",
       "      <td>28</td>\n",
       "      <td>male</td>\n",
       "      <td>33.000</td>\n",
       "      <td>3</td>\n",
       "      <td>no</td>\n",
       "      <td>southeast</td>\n",
       "      <td>4449.46200</td>\n",
       "    </tr>\n",
       "    <tr>\n",
       "      <th>3</th>\n",
       "      <td>33</td>\n",
       "      <td>male</td>\n",
       "      <td>22.705</td>\n",
       "      <td>0</td>\n",
       "      <td>no</td>\n",
       "      <td>northwest</td>\n",
       "      <td>21984.47061</td>\n",
       "    </tr>\n",
       "    <tr>\n",
       "      <th>4</th>\n",
       "      <td>32</td>\n",
       "      <td>male</td>\n",
       "      <td>28.880</td>\n",
       "      <td>0</td>\n",
       "      <td>no</td>\n",
       "      <td>northwest</td>\n",
       "      <td>3866.85520</td>\n",
       "    </tr>\n",
       "  </tbody>\n",
       "</table>\n",
       "</div>"
      ],
      "text/plain": [
       "   age     sex     bmi  children smoker     region      charges\n",
       "0   19  female  27.900         0    yes  southwest  16884.92400\n",
       "1   18    male  33.770         1     no  southeast   1725.55230\n",
       "2   28    male  33.000         3     no  southeast   4449.46200\n",
       "3   33    male  22.705         0     no  northwest  21984.47061\n",
       "4   32    male  28.880         0     no  northwest   3866.85520"
      ]
     },
     "execution_count": 90,
     "metadata": {},
     "output_type": "execute_result"
    }
   ],
   "source": [
    "df.head()"
   ]
  },
  {
   "cell_type": "code",
   "execution_count": 91,
   "metadata": {},
   "outputs": [
    {
     "data": {
      "text/html": [
       "<div>\n",
       "<style scoped>\n",
       "    .dataframe tbody tr th:only-of-type {\n",
       "        vertical-align: middle;\n",
       "    }\n",
       "\n",
       "    .dataframe tbody tr th {\n",
       "        vertical-align: top;\n",
       "    }\n",
       "\n",
       "    .dataframe thead th {\n",
       "        text-align: right;\n",
       "    }\n",
       "</style>\n",
       "<table border=\"1\" class=\"dataframe\">\n",
       "  <thead>\n",
       "    <tr style=\"text-align: right;\">\n",
       "      <th>smoker</th>\n",
       "      <th>no</th>\n",
       "      <th>yes</th>\n",
       "    </tr>\n",
       "    <tr>\n",
       "      <th>sex</th>\n",
       "      <th></th>\n",
       "      <th></th>\n",
       "    </tr>\n",
       "  </thead>\n",
       "  <tbody>\n",
       "    <tr>\n",
       "      <th>female</th>\n",
       "      <td>547</td>\n",
       "      <td>115</td>\n",
       "    </tr>\n",
       "    <tr>\n",
       "      <th>male</th>\n",
       "      <td>517</td>\n",
       "      <td>159</td>\n",
       "    </tr>\n",
       "  </tbody>\n",
       "</table>\n",
       "</div>"
      ],
      "text/plain": [
       "smoker   no  yes\n",
       "sex             \n",
       "female  547  115\n",
       "male    517  159"
      ]
     },
     "execution_count": 91,
     "metadata": {},
     "output_type": "execute_result"
    }
   ],
   "source": [
    "ctab=pd.crosstab(df['sex'],df['smoker'])\n",
    "ctab"
   ]
  },
  {
   "cell_type": "markdown",
   "metadata": {},
   "source": [
    "* 'sex' and 'smoker' are two categorical variables\n",
    "* We want to see if the proportion of smokers in the female population is significantly less than it is in the male population\n",
    "\n",
    "#### Ho = The proportions are equal\n",
    "#### Ha = The two proportions are not equal"
   ]
  },
  {
   "cell_type": "code",
   "execution_count": 92,
   "metadata": {},
   "outputs": [],
   "source": [
    "female_smokers = df[df['sex'] == 'female'].smoker.value_counts()[1]  # number of female smokers\n",
    "male_smokers = df[df['sex'] == 'male'].smoker.value_counts()[1] # number of male smokers\n",
    "n_females = df.sex.value_counts()[1] # number of females in the data\n",
    "n_males = df.sex.value_counts()[0] #number of males in the data"
   ]
  },
  {
   "cell_type": "code",
   "execution_count": 93,
   "metadata": {},
   "outputs": [
    {
     "name": "stdout",
     "output_type": "stream",
     "text": [
      "[115, 159] [662, 676]\n"
     ]
    }
   ],
   "source": [
    "print([female_smokers, male_smokers] , [n_females, n_males])"
   ]
  },
  {
   "cell_type": "code",
   "execution_count": 44,
   "metadata": {},
   "outputs": [
    {
     "data": {
      "text/plain": [
       "0.17371601208459214"
      ]
     },
     "execution_count": 44,
     "metadata": {},
     "output_type": "execute_result"
    }
   ],
   "source": [
    "115/662"
   ]
  },
  {
   "cell_type": "code",
   "execution_count": 45,
   "metadata": {},
   "outputs": [
    {
     "data": {
      "text/plain": [
       "0.23520710059171598"
      ]
     },
     "execution_count": 45,
     "metadata": {},
     "output_type": "execute_result"
    }
   ],
   "source": [
    "159/676"
   ]
  },
  {
   "cell_type": "code",
   "execution_count": 94,
   "metadata": {},
   "outputs": [
    {
     "name": "stdout",
     "output_type": "stream",
     "text": [
      "-2.7867402154855503 0.005324114164320532\n",
      "With a p-value of 0.0053 the difference is significant. aka |We reject the null|\n"
     ]
    }
   ],
   "source": [
    "from statsmodels.stats.proportion import proportions_ztest\n",
    "\n",
    "stat, pval = proportions_ztest([female_smokers, male_smokers] , [n_females, n_males])\n",
    "print(stat,pval)\n",
    "\n",
    "if pval < 0.05:\n",
    "    print(f'With a p-value of {round(pval,4)} the difference is significant. aka |We reject the null|')\n",
    "else:\n",
    "    print(f'With a p-value of {round(pval,4)} the difference is not significant. aka |We fail to reject the null|')"
   ]
  },
  {
   "cell_type": "markdown",
   "metadata": {},
   "source": [
    "#### Alternatively, we can use Chi-Square test for categorical data"
   ]
  },
  {
   "cell_type": "code",
   "execution_count": 47,
   "metadata": {},
   "outputs": [
    {
     "name": "stdout",
     "output_type": "stream",
     "text": [
      "Chi-square statistic 7.39291 P value 0.006548 Degrees of freedom 1\n"
     ]
    }
   ],
   "source": [
    "# Use Chisquare test \n",
    "chi_sq_Stat, p_value, deg_freedom, exp_freq = stats.chi2_contingency(ctab)\n",
    "print('Chi-square statistic %3.5f P value %1.6f Degrees of freedom %d' %(chi_sq_Stat, p_value,deg_freedom))"
   ]
  },
  {
   "cell_type": "markdown",
   "metadata": {},
   "source": [
    "#### so we can reject Null for the female vs male smokers hypothesis"
   ]
  },
  {
   "cell_type": "markdown",
   "metadata": {},
   "source": [
    "## Test of Variance"
   ]
  },
  {
   "cell_type": "markdown",
   "metadata": {},
   "source": [
    "Let's use the same Insurance data set and look for bmi variation in teenage males vs females"
   ]
  },
  {
   "cell_type": "code",
   "execution_count": 48,
   "metadata": {},
   "outputs": [
    {
     "data": {
      "text/plain": [
       "18    69\n",
       "19    68\n",
       "51    29\n",
       "45    29\n",
       "46    29\n",
       "Name: age, dtype: int64"
      ]
     },
     "execution_count": 48,
     "metadata": {},
     "output_type": "execute_result"
    }
   ],
   "source": [
    "df['age'].value_counts().head()"
   ]
  },
  {
   "cell_type": "code",
   "execution_count": 49,
   "metadata": {},
   "outputs": [
    {
     "name": "stdout",
     "output_type": "stream",
     "text": [
      "    age     sex     bmi  children smoker     region      charges\n",
      "0    19  female  27.900         0    yes  southwest  16884.92400\n",
      "1    18    male  33.770         1     no  southeast   1725.55230\n",
      "15   19    male  24.600         1     no  southwest   1837.23700\n",
      "22   18    male  34.100         0     no  southeast   1137.01100\n",
      "31   18  female  26.315         0     no  northeast   2198.18985\n"
     ]
    },
    {
     "data": {
      "text/plain": [
       "male      71\n",
       "female    66\n",
       "Name: sex, dtype: int64"
      ]
     },
     "execution_count": 49,
     "metadata": {},
     "output_type": "execute_result"
    }
   ],
   "source": [
    "teen = df[df['age'] <= 19]\n",
    "print(teen.head())\n",
    "teen.sex.value_counts()"
   ]
  },
  {
   "cell_type": "code",
   "execution_count": 50,
   "metadata": {},
   "outputs": [
    {
     "name": "stdout",
     "output_type": "stream",
     "text": [
      "1     33.770\n",
      "15    24.600\n",
      "22    34.100\n",
      "35    20.425\n",
      "57    31.680\n",
      "Name: bmi, dtype: float64\n",
      "0     27.900\n",
      "31    26.315\n",
      "32    28.600\n",
      "46    38.665\n",
      "50    35.625\n",
      "Name: bmi, dtype: float64\n"
     ]
    }
   ],
   "source": [
    "sample_male = teen[teen['sex'] == 'male'].bmi.iloc[:-5]   #excluding the last 5 elements to match the size 2 samples\n",
    "sample_female = teen[teen['sex'] == 'female'].bmi\n",
    "print(sample_male.head())\n",
    "print(sample_female.head())"
   ]
  },
  {
   "cell_type": "code",
   "execution_count": 51,
   "metadata": {},
   "outputs": [
    {
     "name": "stdout",
     "output_type": "stream",
     "text": [
      "1     33.770\n",
      "15    24.600\n",
      "22    34.100\n",
      "35    20.425\n",
      "57    31.680\n",
      "Name: bmi, dtype: float64\n",
      "0     27.900\n",
      "31    26.315\n",
      "32    28.600\n",
      "46    38.665\n",
      "50    35.625\n",
      "Name: bmi, dtype: float64\n"
     ]
    }
   ],
   "source": [
    "sample_male = teen[teen['sex'] == 'male'].bmi.iloc[:-5]   #excluding the last two elements to match the size 2 samples\n",
    "sample_female = teen[teen['sex'] == 'female'].bmi\n",
    "print(sample_male.head())\n",
    "print(sample_female.head())"
   ]
  },
  {
   "cell_type": "code",
   "execution_count": 52,
   "metadata": {},
   "outputs": [
    {
     "name": "stdout",
     "output_type": "stream",
     "text": [
      "35.906116901974286 41.2155472050046\n"
     ]
    }
   ],
   "source": [
    "v1, v2 = np.var(sample_female) , np.var(sample_male)\n",
    "print(v1,v2)"
   ]
  },
  {
   "cell_type": "markdown",
   "metadata": {},
   "source": [
    "#### Variances of bmi of men is higher than it is for women. But is the difference statistically significant?"
   ]
  },
  {
   "cell_type": "markdown",
   "metadata": {},
   "source": [
    "#### Ho : Variation in bmi of men and women is equal same\n",
    "#### Ha : Variation in bmi of men is greater than it is in women"
   ]
  },
  {
   "cell_type": "code",
   "execution_count": 53,
   "metadata": {},
   "outputs": [],
   "source": [
    "n = 66  # number of samples\n",
    "dof = n - 1  # degrees of freedom\n",
    "alpha = 0.05  # significance level\n",
    "#chi_critical = 84.82    # critical chi_squared statistic. From the table or use below function"
   ]
  },
  {
   "cell_type": "code",
   "execution_count": 54,
   "metadata": {},
   "outputs": [
    {
     "data": {
      "text/plain": [
       "84.82064549765667"
      ]
     },
     "execution_count": 54,
     "metadata": {},
     "output_type": "execute_result"
    }
   ],
   "source": [
    "chi_critical=stats.chi2.ppf(1-alpha,dof)\n",
    "chi_critical"
   ]
  },
  {
   "cell_type": "code",
   "execution_count": 55,
   "metadata": {},
   "outputs": [
    {
     "name": "stdout",
     "output_type": "stream",
     "text": [
      "56.626631378193494\n",
      "Since the test statistic is less than the critical value, we fail to reject the null\n"
     ]
    }
   ],
   "source": [
    "chi = (dof*v1)/v2\n",
    "print(chi)\n",
    "if chi < chi_critical:\n",
    "    print(\"Since the test statistic is less than the critical value, we fail to reject the null\")\n",
    "else:\n",
    "    print(\"Since the test statistic is more than the critical value, we reject the null\")"
   ]
  },
  {
   "cell_type": "markdown",
   "metadata": {},
   "source": [
    "### F-Test is the test for Equality of variance over 2 samples (a.k.a Variance Ratio Test)"
   ]
  },
  {
   "cell_type": "markdown",
   "metadata": {},
   "source": [
    "#### Let's try same hypothesis with F-test for 2 samples"
   ]
  },
  {
   "cell_type": "code",
   "execution_count": 57,
   "metadata": {},
   "outputs": [
    {
     "name": "stdout",
     "output_type": "stream",
     "text": [
      "fstat= 1.1478697993861422 ,fcrit= 1.5083825988401276\n",
      "Since the test statistic is less than the critical value, we fail to reject the null\n"
     ]
    }
   ],
   "source": [
    "fstat=v2/v1\n",
    "fcrit=stats.f.isf(0.05,65,65)\n",
    "print(\"fstat=\",fstat,\",fcrit=\",fcrit)\n",
    "if fstat < fcrit:\n",
    "    print(\"Since the test statistic is less than the critical value, we fail to reject the null\")\n",
    "else:\n",
    "    print(\"Since the test statistic is more than the critical value, we reject the null\")"
   ]
  },
  {
   "cell_type": "markdown",
   "metadata": {
    "colab_type": "text",
    "id": "XI98lu9xwiZh"
   },
   "source": [
    "# ANOVA and Chi Square "
   ]
  },
  {
   "cell_type": "markdown",
   "metadata": {
    "colab_type": "text",
    "collapsed": true,
    "id": "SOCBb-DdwiZi"
   },
   "source": [
    "## Analysis of variance (ANOVA)\n",
    "\n",
    "ANOVA is a hypothesis testing technique tests the equality of two or more population means by examining the variances of samples that are taken.\n",
    "\n",
    "ANOVA tests the general rather than specific differences among means. "
   ]
  },
  {
   "cell_type": "markdown",
   "metadata": {
    "colab_type": "text",
    "id": "Jmfvp_hZwiZj"
   },
   "source": [
    "### Assumptions of ANOVA\n",
    "\n",
    "* 1) All populations involved follow a normal distribution\n",
    "* 2) All populations have the same variance\n",
    "* 3) The samples are randomly selected and independent of one another\n"
   ]
  },
  {
   "cell_type": "markdown",
   "metadata": {
    "colab_type": "text",
    "id": "E1H2rLvEwiZk"
   },
   "source": [
    "## One-way ANOVA"
   ]
  },
  {
   "cell_type": "markdown",
   "metadata": {
    "colab_type": "text",
    "id": "MkFm3trRwiZk"
   },
   "source": [
    "### Example"
   ]
  },
  {
   "cell_type": "markdown",
   "metadata": {
    "colab_type": "text",
    "collapsed": true,
    "id": "D9cevJ0iwiZl"
   },
   "source": [
    "#### National Transportation Safety Board  (NTSB) examines the safety of compact cars, midsize cars and full-size cars. \n",
    "\n",
    "Using the fake data given below, test whether the mean pressure applied to the driver's head during a crash test is equal for each types of  car at 5% level of significance.\n",
    "\n",
    "* mean_pressure_ compact_car    =  [643, 655,702]\n",
    "* mean_pressure_ midsize_car    =  [469, 427, 525]\n",
    "* mean_pressure_ fullsize_car   =  [484, 456, 402]"
   ]
  },
  {
   "cell_type": "code",
   "execution_count": 1,
   "metadata": {
    "colab": {},
    "colab_type": "code",
    "id": "ljPvWnyhwiZm"
   },
   "outputs": [],
   "source": [
    "import pandas            as pd\n",
    "import numpy             as np\n",
    "import matplotlib.pyplot as plt\n",
    "import seaborn           as sns"
   ]
  },
  {
   "cell_type": "code",
   "execution_count": 2,
   "metadata": {
    "colab": {},
    "colab_type": "code",
    "id": "Hsfja6RVwiZv",
    "outputId": "38bd6c0c-aa7d-469f-8fc0-fd7b8b7dfbbd"
   },
   "outputs": [
    {
     "name": "stdout",
     "output_type": "stream",
     "text": [
      "Count, Mean and standard deviation of mean pressue exerted by compact car:   3, 666.67 and 31.18\n",
      "Count, Mean and standard deviation of mean pressue exerted by midsize car:   3, 473.67 and 49.17\n",
      "Count, Mean and standard deviation of mean pressue exerted by full size car:   3, 447.33 and 41.68\n"
     ]
    }
   ],
   "source": [
    "mean_pressure_compact_car    =  np.array([643, 655,702])\n",
    "mean_pressure_midsize_car    =  np.array([469, 427, 525])\n",
    "mean_pressure_fullsize_car   =  np.array([484, 456, 402])\n",
    "print('Count, Mean and standard deviation of mean pressue exerted by compact car: %3d, %3.2f and %3.2f' % (len(mean_pressure_compact_car ), mean_pressure_compact_car .mean(),np.std(mean_pressure_compact_car ,ddof =1)))\n",
    "print('Count, Mean and standard deviation of mean pressue exerted by midsize car: %3d, %3.2f and %3.2f' % (len(mean_pressure_midsize_car), mean_pressure_midsize_car.mean(),np.std(mean_pressure_midsize_car,ddof =1)))\n",
    "print('Count, Mean and standard deviation of mean pressue exerted by full size car: %3d, %3.2f and %3.2f' % (len(mean_pressure_fullsize_car), mean_pressure_fullsize_car.mean(),np.std(mean_pressure_fullsize_car,ddof =1)))"
   ]
  },
  {
   "cell_type": "code",
   "execution_count": 3,
   "metadata": {
    "colab": {},
    "colab_type": "code",
    "id": "WizHt71-wiZ0"
   },
   "outputs": [],
   "source": [
    "mean_pressure_df = pd.DataFrame()\n",
    "\n",
    "df1            = pd.DataFrame({'Car_Type': 'C', 'Mean_Pressure':mean_pressure_compact_car})\n",
    "df2            = pd.DataFrame({'Car_Type': 'M', 'Mean_Pressure':mean_pressure_midsize_car})\n",
    "df3            = pd.DataFrame({'Car_Type': 'F', 'Mean_Pressure':mean_pressure_fullsize_car})\n",
    "\n",
    "mean_pressure_df = mean_pressure_df.append(df1) \n",
    "mean_pressure_df = mean_pressure_df.append(df2) \n",
    "mean_pressure_df = mean_pressure_df.append(df3) "
   ]
  },
  {
   "cell_type": "markdown",
   "metadata": {
    "colab_type": "text",
    "id": "DX0JfNAdwiZ8"
   },
   "source": [
    "### Let us explore the data graphically"
   ]
  },
  {
   "cell_type": "markdown",
   "metadata": {
    "colab_type": "text",
    "id": "KWlV0iVVwiZ8"
   },
   "source": [
    "### A side by side boxplot is one of the best way to compare group locations, spreads and shapes."
   ]
  },
  {
   "cell_type": "code",
   "execution_count": 4,
   "metadata": {
    "colab": {},
    "colab_type": "code",
    "id": "xm3apZMSwiZ9",
    "outputId": "3220eced-fe87-47c9-b1f3-ebfe66dbf597"
   },
   "outputs": [
    {
     "data": {
      "image/png": "[encoded data removed]",
      "text/plain": [
       "<Figure size 432x288 with 1 Axes>"
      ]
     },
     "metadata": {
      "needs_background": "light"
     },
     "output_type": "display_data"
    }
   ],
   "source": [
    "sns.boxplot(x = \"Car_Type\", y = \"Mean_Pressure\", data = mean_pressure_df)\n",
    "plt.title('Mean pressure exerted by car types')\n",
    "plt.show()"
   ]
  },
  {
   "cell_type": "markdown",
   "metadata": {
    "colab_type": "text",
    "id": "E67EFx_CwiaF"
   },
   "source": [
    "#### The boxplots show almost dissimilar shapes, location and spreads and there is no outlier."
   ]
  },
  {
   "cell_type": "markdown",
   "metadata": {
    "colab_type": "text",
    "collapsed": true,
    "id": "IMZ3I7vtwiaG"
   },
   "source": [
    "### Step 1: State the null and alternative hypothesis:\n",
    "\n",
    "* $H_0$: $\\mu1$ = $\\mu2$ = $\\mu3$\n",
    "* $H_A$: At least one $\\mu$ differs \n",
    "\n",
    "Here $\\mu1$, $\\mu2$ and $\\mu3$ are the mean pressure applied to the driver's head during crash test by Compact car, Midsize car and Full size car respectively."
   ]
  },
  {
   "cell_type": "markdown",
   "metadata": {
    "colab_type": "text",
    "collapsed": true,
    "id": "6grLvpt8wiaH"
   },
   "source": [
    "### Step 2: Decide the significance level"
   ]
  },
  {
   "cell_type": "markdown",
   "metadata": {
    "colab_type": "text",
    "id": "Xa_vl2I3wiaI"
   },
   "source": [
    "Here we select α = 0.05"
   ]
  },
  {
   "cell_type": "markdown",
   "metadata": {
    "colab_type": "text",
    "id": "Vd42q32cwiaM"
   },
   "source": [
    "### Step 3: Identify the test statistic"
   ]
  },
  {
   "cell_type": "markdown",
   "metadata": {
    "colab_type": "text",
    "id": "6JKYsMSWwiaO"
   },
   "source": [
    "Here we have three groups. Analysis of variance can determine whether the means of three or more groups are different. ANOVA uses F-tests to statistically test the equality of means."
   ]
  },
  {
   "cell_type": "markdown",
   "metadata": {
    "colab_type": "text",
    "id": "3dc78hdtwiaQ"
   },
   "source": [
    "### Step 4: Calculate p value using ANOVA table"
   ]
  },
  {
   "cell_type": "markdown",
   "metadata": {
    "colab_type": "text",
    "id": "2GFuK6RjwiaR"
   },
   "source": [
    "* statsmodels.formula.api.ols creates a model from a formula and dataframe\n",
    "* statsmodels.api.sm.stats.anova_lm gives an Anova table for one or more fitted linear models"
   ]
  },
  {
   "cell_type": "code",
   "execution_count": 5,
   "metadata": {
    "colab": {},
    "colab_type": "code",
    "id": "KBapP6BLwiaS",
    "outputId": "d5137ded-05d6-469a-f33e-e3d74ddc2848"
   },
   "outputs": [
    {
     "name": "stdout",
     "output_type": "stream",
     "text": [
      "                sum_sq   df          F    PR(>F)\n",
      "Car_Type  86049.555556  2.0  25.175411  0.001207\n",
      "Residual  10254.000000  6.0        NaN       NaN\n"
     ]
    }
   ],
   "source": [
    "import statsmodels.api         as     sm\n",
    "from   statsmodels.formula.api import ols\n",
    " \n",
    "mod = ols('Mean_Pressure ~ Car_Type', data = mean_pressure_df).fit()\n",
    "aov_table = sm.stats.anova_lm(mod, typ=2)\n",
    "print(aov_table)"
   ]
  },
  {
   "cell_type": "code",
   "execution_count": 14,
   "metadata": {},
   "outputs": [
    {
     "name": "stdout",
     "output_type": "stream",
     "text": [
      "\n",
      " F_stat =25.18, p_value=0.001207\n"
     ]
    }
   ],
   "source": [
    "import scipy.stats as stats\n",
    "from scipy.stats import f_oneway\n",
    "\n",
    "stat, p_value = f_oneway(mean_pressure_compact_car, mean_pressure_midsize_car, mean_pressure_fullsize_car)\n",
    "print(\"\\n F_stat ={}, p_value={}\".format(stat.round(2), p_value.round(6)))"
   ]
  },
  {
   "cell_type": "markdown",
   "metadata": {
    "colab_type": "text",
    "id": "2WMpv0q9wiaW"
   },
   "source": [
    "### Step 5:  Decide to reject or accept null hypothesis"
   ]
  },
  {
   "cell_type": "markdown",
   "metadata": {
    "colab_type": "text",
    "id": "uLfe56hlwiaW"
   },
   "source": [
    "In this example, p value is 0.001207 and it is less than our chosen level of signifance at 5%\n",
    "\n",
    "So the statistical decision is to reject the null hypothesis at 5% level of significance.\n",
    "\n",
    "### So there is  sufficient evidence  to reject the null hypothesis that at least one mean pressure of car is different from others ."
   ]
  },
  {
   "cell_type": "markdown",
   "metadata": {
    "colab_type": "text",
    "id": "ZAk4V0m5wiaX"
   },
   "source": [
    "### Determine which mean(s) is / are different\n",
    "\n",
    "* An ANOVA test will test that at least one mean is different. \n",
    "* You have rejected the null hypothesis but do not know which mean(s) is / are different.\n",
    "We use Tukey-krammer HSD test to detect which mean(s) is / are different."
   ]
  },
  {
   "cell_type": "code",
   "execution_count": null,
   "metadata": {
    "colab": {},
    "colab_type": "code",
    "id": "_fnTcOp3wiaX",
    "outputId": "0a878a0f-6020-472c-f761-2935bca720c5"
   },
   "outputs": [
    {
     "name": "stdout",
     "output_type": "stream",
     "text": [
      "Multiple Comparison of Means - Tukey HSD,FWER=0.05\n",
      "==================================================\n",
      "group1 group2  meandiff   lower     upper   reject\n",
      "--------------------------------------------------\n",
      "  C      F    -219.3333 -322.7791 -115.8876  True \n",
      "  C      M      -193.0  -296.4458  -89.5542  True \n",
      "  F      M     26.3333   -77.1124  129.7791 False \n",
      "--------------------------------------------------\n"
     ]
    }
   ],
   "source": [
    "from statsmodels.stats.multicomp import pairwise_tukeyhsd\n",
    "print(pairwise_tukeyhsd(mean_pressure_df['Mean_Pressure'], mean_pressure_df['Car_Type']))"
   ]
  },
  {
   "cell_type": "markdown",
   "metadata": {
    "colab_type": "text",
    "id": "3An2FN7Ywiad"
   },
   "source": [
    "#### Inference \n",
    "\n",
    "* Compact Car Vs Full-size cars: Since the result - reject is true, mean head pressure is statistically different between Compact and Full-size cars.\n",
    "\n",
    "* Compact Car Vs Mid-size cars: Since the result - reject is true, mean head pressure is statistically different between Compact and Mid-size cars.\n",
    "\n",
    "* Full-size Car Vs Mid-size cars: Since the result - reject is false, mean head pressure is statistically equal to Full-size and Mid-size cars."
   ]
  },
  {
   "cell_type": "code",
   "execution_count": 22,
   "metadata": {
    "colab": {},
    "colab_type": "code",
    "id": "W9qyTB_swiae"
   },
   "outputs": [
    {
     "data": {
      "text/plain": [
       "2.2873220448574307"
      ]
     },
     "execution_count": 22,
     "metadata": {},
     "output_type": "execute_result"
    }
   ],
   "source": [
    "stats.f.isf(0.025,40,20)"
   ]
  },
  {
   "cell_type": "markdown",
   "metadata": {
    "colab_type": "text",
    "id": "4yEiJ6puwiai"
   },
   "source": [
    "## Two-way ANOVA"
   ]
  },
  {
   "cell_type": "markdown",
   "metadata": {
    "colab_type": "text",
    "id": "YEqWurD7wiaj"
   },
   "source": [
    "### Example \n",
    "\n",
    "The table below shows the percentage of customers satisfied with the quality of service (QoS) offered by A1 Electronics Corporation Limited.\n",
    "\n",
    "Conduct a two-way ANOVA and draw your inferences about the population means of QoS corresponding to the days as well as the stores.\n"
   ]
  },
  {
   "cell_type": "code",
   "execution_count": 15,
   "metadata": {
    "colab": {},
    "colab_type": "code",
    "id": "VAau463Pwiaj"
   },
   "outputs": [
    {
     "name": "stdout",
     "output_type": "stream",
     "text": [
      "   Day  Store-A  Store-B  Store-C  Store-D  Store-E\n",
      "0    1       79       81       74       77       66\n",
      "1    2       78       86       89       97       86\n",
      "2    3       81       87       84       94       82\n",
      "3    4       80       83       81       88       83\n",
      "4    5       70       74       77       89       68\n"
     ]
    }
   ],
   "source": [
    "table1  = [['Day','Store-A','Store-B','Store-C','Store-D','Store-E'], [1,79, 81, 74, 77, 66],\\\n",
    "           [2, 78, 86, 89, 97, 86], [3, 81, 87, 84, 94, 82], [4, 80, 83, 81, 88, 83], [5, 70, 74, 77, 89, 68]]\n",
    "\n",
    "headers = table1.pop(0) #\n",
    "\n",
    "df1 = pd.DataFrame(table1, columns=headers)\n",
    "print(df1)"
   ]
  },
  {
   "cell_type": "markdown",
   "metadata": {
    "colab_type": "text",
    "id": "MiupHVA3wian"
   },
   "source": [
    "### Step 1: State the null and alternative hypothesis:"
   ]
  },
  {
   "cell_type": "markdown",
   "metadata": {
    "colab_type": "text",
    "id": "lMmJQby7wiap"
   },
   "source": [
    "The null hypotheses for each of the sets are given below. \n",
    "\n",
    "* 1) The population means of the first factor (Day) are equal. \n",
    "* 2) The population means of the second factor (Store) are equal. \n",
    "\n",
    "Alternative Hypothesis:\n",
    "\n",
    "* 1) The population means of the first factor (Day) are not equal. \n",
    "* 2) The population means of the second factor (Store) are not equal. "
   ]
  },
  {
   "cell_type": "markdown",
   "metadata": {
    "colab_type": "text",
    "id": "2Rm9rO__wiap"
   },
   "source": [
    "### Step 2: Decide the significance level"
   ]
  },
  {
   "cell_type": "markdown",
   "metadata": {
    "colab_type": "text",
    "id": "Z2ANRDN2wias"
   },
   "source": [
    "Here we select α = 0.05"
   ]
  },
  {
   "cell_type": "markdown",
   "metadata": {
    "colab_type": "text",
    "id": "7WknV3Btwiat"
   },
   "source": [
    "### Step 3: Identify the test statistic"
   ]
  },
  {
   "cell_type": "markdown",
   "metadata": {
    "colab_type": "text",
    "id": "DDjEOPLFwiau"
   },
   "source": [
    "##### Here we have five groups and five factors. There are two independent variables, Day and Store. \n",
    "\n",
    "##### Two-way ANOVA determines how a response (Quality of Servoce) is affected by two factors, Day and Store. \n",
    "\n",
    "##### Here we use 2-way ANOVA without replication since each cell has only one observation."
   ]
  },
  {
   "cell_type": "markdown",
   "metadata": {
    "colab_type": "text",
    "id": "q3tjm-Vnwiav"
   },
   "source": [
    "### Step 4: Calculate p value using ANOVA table"
   ]
  },
  {
   "cell_type": "markdown",
   "metadata": {
    "colab_type": "text",
    "id": "Ctsfufa2wiav"
   },
   "source": [
    "* statsmodels.formula.api.ols creates a model from a formula and dataframe\n",
    "* statsmodels.api.sm.stats.anova_lm gives an Anova table for one or more fitted linear models"
   ]
  },
  {
   "cell_type": "code",
   "execution_count": 17,
   "metadata": {
    "colab": {},
    "colab_type": "code",
    "id": "Yxk0vlm_wiaw"
   },
   "outputs": [],
   "source": [
    "d0_val  = df1['Day'].values\n",
    "d1_val  = df1['Store-A'].values\n",
    "d2_val  = df1['Store-B'].values\n",
    "d3_val  = df1['Store-C'].values\n",
    "d4_val  = df1['Store-D'].values\n",
    "d5_val  = df1['Store-E'].values"
   ]
  },
  {
   "cell_type": "code",
   "execution_count": 18,
   "metadata": {
    "colab": {},
    "colab_type": "code",
    "id": "YZFQ2LU4wia1"
   },
   "outputs": [
    {
     "data": {
      "text/html": [
       "<div>\n",
       "<style scoped>\n",
       "    .dataframe tbody tr th:only-of-type {\n",
       "        vertical-align: middle;\n",
       "    }\n",
       "\n",
       "    .dataframe tbody tr th {\n",
       "        vertical-align: top;\n",
       "    }\n",
       "\n",
       "    .dataframe thead th {\n",
       "        text-align: right;\n",
       "    }\n",
       "</style>\n",
       "<table border=\"1\" class=\"dataframe\">\n",
       "  <thead>\n",
       "    <tr style=\"text-align: right;\">\n",
       "      <th></th>\n",
       "      <th>Day</th>\n",
       "      <th>Store</th>\n",
       "      <th>QoS</th>\n",
       "    </tr>\n",
       "  </thead>\n",
       "  <tbody>\n",
       "    <tr>\n",
       "      <th>0</th>\n",
       "      <td>1</td>\n",
       "      <td>A</td>\n",
       "      <td>79</td>\n",
       "    </tr>\n",
       "    <tr>\n",
       "      <th>1</th>\n",
       "      <td>2</td>\n",
       "      <td>A</td>\n",
       "      <td>78</td>\n",
       "    </tr>\n",
       "    <tr>\n",
       "      <th>2</th>\n",
       "      <td>3</td>\n",
       "      <td>A</td>\n",
       "      <td>81</td>\n",
       "    </tr>\n",
       "    <tr>\n",
       "      <th>3</th>\n",
       "      <td>4</td>\n",
       "      <td>A</td>\n",
       "      <td>80</td>\n",
       "    </tr>\n",
       "    <tr>\n",
       "      <th>4</th>\n",
       "      <td>5</td>\n",
       "      <td>A</td>\n",
       "      <td>70</td>\n",
       "    </tr>\n",
       "    <tr>\n",
       "      <th>0</th>\n",
       "      <td>1</td>\n",
       "      <td>B</td>\n",
       "      <td>81</td>\n",
       "    </tr>\n",
       "    <tr>\n",
       "      <th>1</th>\n",
       "      <td>2</td>\n",
       "      <td>B</td>\n",
       "      <td>86</td>\n",
       "    </tr>\n",
       "    <tr>\n",
       "      <th>2</th>\n",
       "      <td>3</td>\n",
       "      <td>B</td>\n",
       "      <td>87</td>\n",
       "    </tr>\n",
       "    <tr>\n",
       "      <th>3</th>\n",
       "      <td>4</td>\n",
       "      <td>B</td>\n",
       "      <td>83</td>\n",
       "    </tr>\n",
       "    <tr>\n",
       "      <th>4</th>\n",
       "      <td>5</td>\n",
       "      <td>B</td>\n",
       "      <td>74</td>\n",
       "    </tr>\n",
       "    <tr>\n",
       "      <th>0</th>\n",
       "      <td>1</td>\n",
       "      <td>C</td>\n",
       "      <td>74</td>\n",
       "    </tr>\n",
       "    <tr>\n",
       "      <th>1</th>\n",
       "      <td>2</td>\n",
       "      <td>C</td>\n",
       "      <td>89</td>\n",
       "    </tr>\n",
       "    <tr>\n",
       "      <th>2</th>\n",
       "      <td>3</td>\n",
       "      <td>C</td>\n",
       "      <td>84</td>\n",
       "    </tr>\n",
       "    <tr>\n",
       "      <th>3</th>\n",
       "      <td>4</td>\n",
       "      <td>C</td>\n",
       "      <td>81</td>\n",
       "    </tr>\n",
       "    <tr>\n",
       "      <th>4</th>\n",
       "      <td>5</td>\n",
       "      <td>C</td>\n",
       "      <td>77</td>\n",
       "    </tr>\n",
       "    <tr>\n",
       "      <th>0</th>\n",
       "      <td>1</td>\n",
       "      <td>D</td>\n",
       "      <td>77</td>\n",
       "    </tr>\n",
       "    <tr>\n",
       "      <th>1</th>\n",
       "      <td>2</td>\n",
       "      <td>D</td>\n",
       "      <td>97</td>\n",
       "    </tr>\n",
       "    <tr>\n",
       "      <th>2</th>\n",
       "      <td>3</td>\n",
       "      <td>D</td>\n",
       "      <td>94</td>\n",
       "    </tr>\n",
       "    <tr>\n",
       "      <th>3</th>\n",
       "      <td>4</td>\n",
       "      <td>D</td>\n",
       "      <td>88</td>\n",
       "    </tr>\n",
       "    <tr>\n",
       "      <th>4</th>\n",
       "      <td>5</td>\n",
       "      <td>D</td>\n",
       "      <td>89</td>\n",
       "    </tr>\n",
       "    <tr>\n",
       "      <th>0</th>\n",
       "      <td>1</td>\n",
       "      <td>E</td>\n",
       "      <td>66</td>\n",
       "    </tr>\n",
       "    <tr>\n",
       "      <th>1</th>\n",
       "      <td>2</td>\n",
       "      <td>E</td>\n",
       "      <td>86</td>\n",
       "    </tr>\n",
       "    <tr>\n",
       "      <th>2</th>\n",
       "      <td>3</td>\n",
       "      <td>E</td>\n",
       "      <td>82</td>\n",
       "    </tr>\n",
       "    <tr>\n",
       "      <th>3</th>\n",
       "      <td>4</td>\n",
       "      <td>E</td>\n",
       "      <td>83</td>\n",
       "    </tr>\n",
       "    <tr>\n",
       "      <th>4</th>\n",
       "      <td>5</td>\n",
       "      <td>E</td>\n",
       "      <td>68</td>\n",
       "    </tr>\n",
       "  </tbody>\n",
       "</table>\n",
       "</div>"
      ],
      "text/plain": [
       "   Day Store  QoS\n",
       "0    1     A   79\n",
       "1    2     A   78\n",
       "2    3     A   81\n",
       "3    4     A   80\n",
       "4    5     A   70\n",
       "0    1     B   81\n",
       "1    2     B   86\n",
       "2    3     B   87\n",
       "3    4     B   83\n",
       "4    5     B   74\n",
       "0    1     C   74\n",
       "1    2     C   89\n",
       "2    3     C   84\n",
       "3    4     C   81\n",
       "4    5     C   77\n",
       "0    1     D   77\n",
       "1    2     D   97\n",
       "2    3     D   94\n",
       "3    4     D   88\n",
       "4    5     D   89\n",
       "0    1     E   66\n",
       "1    2     E   86\n",
       "2    3     E   82\n",
       "3    4     E   83\n",
       "4    5     E   68"
      ]
     },
     "execution_count": 18,
     "metadata": {},
     "output_type": "execute_result"
    }
   ],
   "source": [
    "df1     = pd.DataFrame({'Day': d0_val, 'Store':'A', 'QoS': d1_val})\n",
    "df2     = pd.DataFrame({'Day': d0_val, 'Store':'B', 'QoS': d2_val})\n",
    "df3     = pd.DataFrame({'Day': d0_val, 'Store':'C', 'QoS': d3_val})\n",
    "df4     = pd.DataFrame({'Day': d0_val, 'Store':'D', 'QoS': d4_val})\n",
    "df5     = pd.DataFrame({'Day': d0_val, 'Store':'E', 'QoS': d5_val})\n",
    "\n",
    "QoS_df  = pd.DataFrame()\n",
    "\n",
    "QoS_df  = QoS_df.append(df1) \n",
    "QoS_df  = QoS_df.append(df2) \n",
    "QoS_df  = QoS_df.append(df3) \n",
    "QoS_df  = QoS_df.append(df4) \n",
    "QoS_df  = QoS_df.append(df5) \n",
    "\n",
    "\n",
    "pd.DataFrame(QoS_df)"
   ]
  },
  {
   "cell_type": "code",
   "execution_count": 19,
   "metadata": {
    "colab": {},
    "colab_type": "code",
    "id": "kBo73-WLwia4"
   },
   "outputs": [
    {
     "name": "stdout",
     "output_type": "stream",
     "text": [
      "          sum_sq    df         F    PR(>F)\n",
      "C(Day)    617.36   4.0  8.737051  0.000614\n",
      "C(Store)  461.76   4.0  6.534956  0.002575\n",
      "Residual  282.64  16.0       NaN       NaN\n"
     ]
    }
   ],
   "source": [
    "import statsmodels.api         as     sm\n",
    "from   statsmodels.formula.api import ols\n",
    "from   statsmodels.stats.anova import anova_lm\n",
    "\n",
    "formula = 'QoS ~ C(Day) + C(Store)'\n",
    "model = ols(formula, QoS_df).fit()\n",
    "aov_table = anova_lm(model, typ=2)\n",
    "\n",
    "print(aov_table)"
   ]
  },
  {
   "cell_type": "markdown",
   "metadata": {
    "colab_type": "text",
    "id": "rRE3uLqpwibC"
   },
   "source": [
    "### Step 5:  Decide to reject or accept null hypothesis"
   ]
  },
  {
   "cell_type": "markdown",
   "metadata": {
    "colab_type": "text",
    "id": "kWENJoySwibD"
   },
   "source": [
    "In this example, \n",
    "* p value for Day is 0.000614 and < 0.05 so we reject the null hypothesis (1) and conclude that the Day is having an effect on Quality of Service.\n",
    "* p value for Stores is 0.002575 and < 0.05 so we reject the null hypothesis (2) and conclude that the Stores is having an effect on Quality of Service."
   ]
  },
  {
   "cell_type": "markdown",
   "metadata": {
    "colab_type": "text",
    "id": "7Q5iDPHHwibE"
   },
   "source": [
    "#### We conclude that stores as well as days reveal different patterns in the level of QoS."
   ]
  },
  {
   "cell_type": "markdown",
   "metadata": {
    "colab_type": "text",
    "id": "KH1fc0WywibF"
   },
   "source": [
    "### Practice Exercise 2"
   ]
  },
  {
   "cell_type": "markdown",
   "metadata": {
    "colab_type": "text",
    "id": "wLBFb3G_wibG"
   },
   "source": [
    "## Try example 4 with the following values:"
   ]
  },
  {
   "cell_type": "code",
   "execution_count": null,
   "metadata": {
    "colab": {},
    "colab_type": "code",
    "id": "o37vd0INwibH"
   },
   "outputs": [],
   "source": [
    "table2  = [['Day','Store-A','Store-B','Store-C','Store-D','Store-E'], [1,69, 71, 64, 67, 56],\\\n",
    "           [2, 68, 76, 79, 87, 76], [3, 71, 77, 74, 84, 72], [4, 70, 73, 71, 78, 73], [5, 60, 64, 67, 79, 58]]"
   ]
  },
  {
   "cell_type": "markdown",
   "metadata": {
    "colab_type": "text",
    "id": "Rzf8aSJYwibQ"
   },
   "source": [
    "## Chi Square"
   ]
  },
  {
   "cell_type": "markdown",
   "metadata": {
    "colab_type": "text",
    "id": "vFY2TJ5jwibR"
   },
   "source": [
    "A chi-square distribution with k degrees of freedom is given by sum of squares of standard normal random variables $Z_1$, $Z_2$, ... $Z_k$ obtained by transforming normal standard variables $X_1$, $X_2$, ... $X_k$ with mean values $\\mu_1$, $\\mu_2$, ... $\\mu_k$ and corresponding standard deviation $\\sigma_1$, $\\sigma_2$, ... $\\sigma_k$\n",
    "\n",
    "${\\chi_k}^2$ = ${Z_1}^2$ + ${Z_2}^2$ + … + ${Z_k}^2$ \n"
   ]
  },
  {
   "cell_type": "markdown",
   "metadata": {
    "colab_type": "text",
    "id": "3_-_Z1i5wibR"
   },
   "source": [
    "The probability density function of f(x) = \n",
    "\n",
    "$\\frac{x^{\\frac{k}{2}-1}e^\\frac{-x}{2}}{2^{\\frac{k}{2}} \\Gamma {\\bigg(\\frac{k}{2}\\bigg)}}$ if x > 0 else 0\n",
    "\n",
    "where Γ(k/2) is a gamma function given by\n"
   ]
  },
  {
   "cell_type": "markdown",
   "metadata": {
    "colab_type": "text",
    "id": "Q-hf8CBawibS"
   },
   "source": [
    "$\\Gamma\\frac{k}{2}$ = ${\\int_0}^\\infty x^{k-1} e^{-x} dx$"
   ]
  },
  {
   "cell_type": "markdown",
   "metadata": {
    "colab_type": "text",
    "id": "8j2MM_xZwibT"
   },
   "source": [
    "### Properties of Chi Square distribution\n",
    "\n",
    "##### 1. The mean and standard deviation of a chi-square distribution are k and √2k respectively, where k is the degrees of freedom.\n",
    "##### 2. As the degrees of freedom increases, the probability density function of a chi-square distribution approaches normal distribution.\n",
    "##### 3. Chi-square goodness of fit is one of the popular tests for checking whether a data follows a specific probability distribution.\n",
    "##### 4. Chi square test is a right tailed test."
   ]
  },
  {
   "cell_type": "markdown",
   "metadata": {
    "colab_type": "text",
    "id": "vsZAX18cwibT"
   },
   "source": [
    "### Chi-square Goodness of fit tests"
   ]
  },
  {
   "cell_type": "markdown",
   "metadata": {
    "colab_type": "text",
    "id": "ddxogQ14wibU"
   },
   "source": [
    "Goodness of fit tests are hypothesis tests that are used for comparing the observed distribution pf data with expected distribution of the data to decide whether there is any statistically significant difference between the observed distribution and a theoretical distribution (for example, normal, exponential, etc.) based on the comparison of observed frequencies in the data and the expected frequencies if the data follows a specified theoretical distribution."
   ]
  },
  {
   "cell_type": "markdown",
   "metadata": {
    "colab_type": "text",
    "id": "N7mlF2tlwibU"
   },
   "source": [
    "| Hypothesis | Description                                                           |\n",
    "| ----------- | -------------------------------------------------------------------- |\n",
    "| Null hypothesis | There is no statistically significant difference between the observed frequencies and the expected frequencies from a hypothesized distribution |\n",
    "| Alternative hypothesis | There is statistically significant difference between the observed frequencies and the expected frequencies from a hypothesized distribution |\n"
   ]
  },
  {
   "cell_type": "markdown",
   "metadata": {
    "colab_type": "text",
    "id": "jErNUSr4wibV"
   },
   "source": [
    "### Chi-square Goodness of fit tests"
   ]
  },
  {
   "cell_type": "markdown",
   "metadata": {
    "colab_type": "text",
    "id": "QUA3FIazwibV"
   },
   "source": [
    "Chi-square statistic for goodness of fit is given by "
   ]
  },
  {
   "cell_type": "markdown",
   "metadata": {
    "colab_type": "text",
    "id": "e6ScgdUcwibW"
   },
   "source": [
    "$\\chi^2$ = $\\sum_{i=1}^{n}\\sum_{j=1}^{m}\\frac{({O_{ij}-E_{ij}})^2}{E_{ij}}$"
   ]
  },
  {
   "cell_type": "markdown",
   "metadata": {
    "colab_type": "text",
    "id": "qaQyNMOrwibW"
   },
   "source": [
    "This test is invalid when the observed or expected frequencies in each category are too small. A typical rule is that all of the observed and expected frequencies should be at least 5."
   ]
  },
  {
   "cell_type": "markdown",
   "metadata": {
    "colab_type": "text",
    "id": "APQe75GtwibX"
   },
   "source": [
    "###  Example 5\n",
    "\n",
    "A1 airlines operated daily flights to several Indian cities. The operations manager believes that 30% of their passengers prefer vegan food, 45% prefer vegetarian food , 20% prefer non-veg food 5% request for Jain food. \n",
    "\n",
    "A sample of 500 passengers was chosen to analyse the food preferences and the data is shown in the following table:\n",
    "\n",
    "|               | Food type | Vegan | Vegetarian | Non-Vegetarian | Jain |\n",
    "| ------------------------- | ---- | ---- | ----- | ---- | ---- |\n",
    "|Number of passengers |  | 190 | 185 | 90 | 35 |\n",
    "\n",
    "At 5% level of significance, can you confirm that the meal preference is as per the belief of the operations manager?"
   ]
  },
  {
   "cell_type": "markdown",
   "metadata": {
    "colab_type": "text",
    "id": "yEjQcyj0wibX"
   },
   "source": [
    "### Step 1: State the null and alternative hypothesis:"
   ]
  },
  {
   "cell_type": "markdown",
   "metadata": {
    "colab_type": "text",
    "id": "M-YU9mPcwibY"
   },
   "source": [
    "Null hypothesis: $H_0$: Meal preference is as per the perceived ratios of the operations manager\n",
    "                        \n",
    "Alternative hypothesis: $H_A$: Meal preference is different from the perceived ratios of the operations manager"
   ]
  },
  {
   "cell_type": "markdown",
   "metadata": {
    "colab_type": "text",
    "id": "A3b2f-hAwibZ"
   },
   "source": [
    "### Step 2: Decide the significance level"
   ]
  },
  {
   "cell_type": "markdown",
   "metadata": {
    "colab_type": "text",
    "id": "SKW5XyEFwibZ"
   },
   "source": [
    "Here we select α = 0.05"
   ]
  },
  {
   "cell_type": "markdown",
   "metadata": {
    "colab_type": "text",
    "id": "smr43eR0wiba"
   },
   "source": [
    "\n",
    "\n",
    "### Step 3: Identify the test statistic"
   ]
  },
  {
   "cell_type": "markdown",
   "metadata": {
    "colab_type": "text",
    "id": "vz6oKDUiwibb"
   },
   "source": [
    "Since we have observed frequencies of meal preference and we can calculate the expected frequencies, we can use chi-square goodness of fit for this problem."
   ]
  },
  {
   "cell_type": "markdown",
   "metadata": {
    "colab_type": "text",
    "id": "y56pIPNiwibg"
   },
   "source": [
    "### Step 4: Calculate p value or chi-square statistic value"
   ]
  },
  {
   "cell_type": "markdown",
   "metadata": {
    "colab_type": "text",
    "id": "TIMLntifwibh"
   },
   "source": [
    "Use the scipy.stats.chisquare function to compute Chi square goodness of fit by giving the observed values and expected values as input.\n",
    "\n",
    "The first value in the returned tuple is the χ2 value itself, while the second value is the p-value computed using \n",
    "ν = k−1 where k is the number of values in each array."
   ]
  },
  {
   "cell_type": "markdown",
   "metadata": {
    "colab_type": "text",
    "id": "LCgj0ZFvwibj"
   },
   "source": [
    "We can calculate the expected frquency as follows:\n",
    "1. Compute the total number of passengers. It will be 500.\n",
    "2. We expect 30% of them prefer Vegan food, so the expected frequency for Vegan Food is = 0.3 * 500 = 150\n",
    "3. Similarly we can calculate the expected frequencies of the rest of them."
   ]
  },
  {
   "cell_type": "code",
   "execution_count": 20,
   "metadata": {
    "colab": {},
    "colab_type": "code",
    "id": "LLnbEb8pwibj"
   },
   "outputs": [
    {
     "name": "stdout",
     "output_type": "stream",
     "text": [
      "At 5 % level of significance, the p-value is 0.0000449\n"
     ]
    },
    {
     "name": "stderr",
     "output_type": "stream",
     "text": [
      "<ipython-input-20-85d67c49ea6f>:4: DeprecationWarning: scipy.array is deprecated and will be removed in SciPy 2.0.0, use numpy.array instead\n",
      "  observed_values    = scipy.array([190, 185, 90, 35])\n",
      "<ipython-input-20-85d67c49ea6f>:7: DeprecationWarning: scipy.array is deprecated and will be removed in SciPy 2.0.0, use numpy.array instead\n",
      "  expected_values    = scipy.array([n*0.3, n*.45, n*0.2, n*0.05])\n"
     ]
    }
   ],
   "source": [
    "import scipy.stats as stats\n",
    "import scipy\n",
    "\n",
    "observed_values    = scipy.array([190, 185, 90, 35])\n",
    "n                  = observed_values.sum()\n",
    "\n",
    "expected_values    = scipy.array([n*0.3, n*.45, n*0.2, n*0.05])\n",
    "\n",
    "chi_square_stat, p_value = stats.chisquare(observed_values, f_exp=expected_values)\n",
    "\n",
    "print('At 5 %s level of significance, the p-value is %1.7f' %('%', p_value))"
   ]
  },
  {
   "cell_type": "markdown",
   "metadata": {
    "colab_type": "text",
    "id": "lAmMfvqjwibn"
   },
   "source": [
    "### Step 5: Decide to reject or accept null hypothesis"
   ]
  },
  {
   "cell_type": "markdown",
   "metadata": {
    "colab_type": "text",
    "id": "CU5h87Muwibn"
   },
   "source": [
    "### In this example, p value is 0.0000449 and < 0.05 so we reject the null hypothesis. \n",
    "### So, we conclude that Meal preference is not defined in the null hypothesis."
   ]
  },
  {
   "cell_type": "markdown",
   "metadata": {
    "colab_type": "text",
    "id": "UhT5Nfbfwibp"
   },
   "source": [
    "### Practice Exercise 3"
   ]
  },
  {
   "cell_type": "markdown",
   "metadata": {
    "colab_type": "text",
    "id": "sd_c48kWwibp"
   },
   "source": [
    "Refer to the above example 5. Here the operations manager changes his belief and now believes that 28% of their passengers prefer vegan food, 42% prefer vegetarian food , 25% prefer non-veg food 5% request for Jain food. \n",
    "\n",
    "At 5% level of significance, can you confirm that the meal preference is as per the belief of the operations manager?"
   ]
  },
  {
   "cell_type": "markdown",
   "metadata": {
    "colab_type": "text",
    "id": "5ioGF0Powibq"
   },
   "source": [
    "### Chi-square tests of independence"
   ]
  },
  {
   "cell_type": "markdown",
   "metadata": {
    "colab_type": "text",
    "id": "WBvEXvbHwibq"
   },
   "source": [
    "Chi-square test of independence is a hypothesis test in which we test whether two or more groups are statistically independent or not."
   ]
  },
  {
   "cell_type": "markdown",
   "metadata": {
    "colab_type": "text",
    "id": "8QyDa-hTwibr"
   },
   "source": [
    "| Hypothesis | Description |\n",
    "| --------------------- | ----------------------- |\n",
    "| Null Hypothesis | Two or more groups are independent |\n",
    "| Alternative Hypothesis | Two or more groups are dependent |"
   ]
  },
  {
   "cell_type": "markdown",
   "metadata": {
    "colab_type": "text",
    "id": "L_vSrPy2wibs"
   },
   "source": [
    "$\\chi^2$ = $\\sum_{i=1}^{n}\\sum_{j=1}^{m}\\frac{({O_{ij}-E_{ij}})^2}{E_{ij}}$\n",
    "\n",
    "The corresponding degrees of freedom is (r - 1) * ( c  - 1) , where r is the number of rows and c is the number of columns in the contingency table. \n",
    "\n",
    "scipy.stats.chi2_contingency is the Chi-square test of independence of variables in a contingency table.\n",
    "\n",
    "This function computes the chi-square statistic and p-value for the hypothesis test of independence of the observed frequencies in the contingency table observed. The expected frequencies are computed based on the marginal sums under the assumption of independence."
   ]
  },
  {
   "cell_type": "markdown",
   "metadata": {
    "colab_type": "text",
    "id": "RGQD-xpXwibs"
   },
   "source": [
    "### Example 6 \n",
    "\n",
    "The table below contains the number of perfect, satisfactory and defective products are manufactured by both male and female.\n",
    "\n",
    "| Gender  | Perfect | Satisfactory | Defective |\n",
    "| ------- | ---- | --------- | -------- |\n",
    "| Male    | 138 | 83 | 64 |\n",
    "| Female  | 64 | 67 | 84 |\n",
    "\n",
    "\n",
    "Do these data provide sufficient evidence at the 5% significance level to infer that there are differences in quality among genders (Male and Female)?"
   ]
  },
  {
   "cell_type": "markdown",
   "metadata": {
    "colab_type": "text",
    "id": "uds0x4vvwibw"
   },
   "source": [
    "### Step 1: State the null and alternative hypothesis:"
   ]
  },
  {
   "cell_type": "markdown",
   "metadata": {
    "colab_type": "text",
    "id": "SLwf2gmBwibx"
   },
   "source": [
    "Null hypothesis: $H_0$: There is no difference in quality of the products manufactured by male and female\n",
    "                        \n",
    "Alternative hypothesis: $H_A$: There is a significant difference in quality of the products manufactured by male and female"
   ]
  },
  {
   "cell_type": "markdown",
   "metadata": {
    "colab_type": "text",
    "id": "2b0SRKELwiby"
   },
   "source": [
    "### Step 2: Decide the significance level"
   ]
  },
  {
   "cell_type": "markdown",
   "metadata": {
    "colab_type": "text",
    "id": "fxIsVmzXwiby"
   },
   "source": [
    "Here we select α = 0.05"
   ]
  },
  {
   "cell_type": "markdown",
   "metadata": {
    "colab_type": "text",
    "id": "_fv2kPXEwibz"
   },
   "source": [
    "### Step 3: Identify the test statistic"
   ]
  },
  {
   "cell_type": "markdown",
   "metadata": {
    "colab_type": "text",
    "id": "o0_aMq4Fwibz"
   },
   "source": [
    "We use the chi-square test of independence to find out the difference of categorical variables "
   ]
  },
  {
   "cell_type": "markdown",
   "metadata": {
    "colab_type": "text",
    "id": "n4NS97Yvwib0"
   },
   "source": [
    "### Step 4: Calculate p value or chi-square statistic value"
   ]
  },
  {
   "cell_type": "code",
   "execution_count": 21,
   "metadata": {
    "colab": {},
    "colab_type": "code",
    "id": "gXwGKvsuwib0"
   },
   "outputs": [
    {
     "name": "stdout",
     "output_type": "stream",
     "text": [
      "Chi-square statistic 22.15247 P value 0.000015 Degrees of freedom 2\n"
     ]
    }
   ],
   "source": [
    "import pandas      as pd\n",
    "import numpy       as np\n",
    "import scipy.stats as stats\n",
    "\n",
    "quality_array = np.array([[138, 83, 64],[64, 67, 84]])\n",
    "chi_sq_Stat, p_value, deg_freedom, exp_freq = stats.chi2_contingency(quality_array)\n",
    "\n",
    "print('Chi-square statistic %3.5f P value %1.6f Degrees of freedom %d' %(chi_sq_Stat, p_value,deg_freedom))"
   ]
  },
  {
   "cell_type": "markdown",
   "metadata": {
    "colab_type": "text",
    "id": "RxLnf80dwib3"
   },
   "source": [
    "### Step 5: Decide to reject or accept null hypothesis"
   ]
  },
  {
   "cell_type": "markdown",
   "metadata": {
    "colab_type": "text",
    "id": "EUQc3zE1wib4"
   },
   "source": [
    "### In this example, p value is 0.000015 and < 0.05 so we reject the null hypothesis. \n",
    "### So, we conclude that there is a significant difference in quality of the products manufactured by male and female."
   ]
  }
 ],
 "metadata": {
  "kernelspec": {
   "display_name": "Python 3",
   "language": "python",
   "name": "python3"
  },
  "language_info": {
   "codemirror_mode": {
    "name": "ipython",
    "version": 3
   },
   "file_extension": ".py",
   "mimetype": "text/x-python",
   "name": "python",
   "nbconvert_exporter": "python",
   "pygments_lexer": "ipython3",
   "version": "3.8.5"
  }
 },
 "nbformat": 4,
 "nbformat_minor": 4
}
