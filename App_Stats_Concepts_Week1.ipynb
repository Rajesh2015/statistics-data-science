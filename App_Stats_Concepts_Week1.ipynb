{
 "cells": [
  {
   "cell_type": "markdown",
   "metadata": {},
   "source": [
    "## These are some important concepts in stats to be solved for 1st week\n",
    "## Explanation is provided to have a glance, Examples here are the questions to be solved\n",
    "\n",
    "## Having studied the basics, now you are ready to take it up a notch."
   ]
  },
  {
   "cell_type": "markdown",
   "metadata": {},
   "source": [
    "### Concept 1. Joint Probability refers to the probability of occurrence involving two or more events"
   ]
  },
  {
   "cell_type": "markdown",
   "metadata": {},
   "source": [
    "Let A and B be the two events in a sample space. Then the joint probability if the two events denoted by P(A $\\cap$ B), is \n",
    "given by \n",
    "$P(A \\cap B) = \\frac{Number \\quad of \\quad observations \\quad in \\quad A \\cap B } {Total \\quad Number \\quad of \\quad observations}$ "
   ]
  },
  {
   "cell_type": "markdown",
   "metadata": {},
   "source": [
    "### Example 1: Probability Concepts \n",
    "At a popular company service center, a total of 100 complaints were received. 80 customers complained about late delivery of \n",
    "the items and 60 complained about poor product quality.\n",
    "\n",
    "a) Calculate the probability that a customer complaint will be about both product quality and late delivery.\n",
    "\n",
    "b) What is the probability that a complaint will be only about late delivery?"
   ]
  },
  {
   "cell_type": "markdown",
   "metadata": {},
   "source": [
    "### Solution:\n",
    "    \n",
    "a) Calculate the probability that a customer complaint will be about both product quality and late delivery"
   ]
  },
  {
   "cell_type": "markdown",
   "metadata": {},
   "source": [
    "Let\n",
    "\n",
    "L = Late delivery\n",
    "\n",
    "Q = Poor quality\n",
    "\n",
    "n(L) = Number of cases in favour of L = 80\n",
    "\n",
    "n(Q) = Number of cases in favour of Q = 60\n",
    "\n",
    "N = Total Number of complaints = 100 "
   ]
  },
  {
   "cell_type": "markdown",
   "metadata": {},
   "source": [
    "L intersection Q = 40"
   ]
  },
  {
   "cell_type": "markdown",
   "metadata": {},
   "source": [
    "Probability that a customer complaint will be about both product quality and late delivery = $P(L \\cap Q)$"
   ]
  },
  {
   "cell_type": "markdown",
   "metadata": {},
   "source": [
    "$P(L \\cap Q) =  \\frac{n(L \\cap Q)} {Total \\quad Number \\quad of \\quad observations}$ "
   ]
  },
  {
   "cell_type": "code",
   "execution_count": 1,
   "metadata": {},
   "outputs": [
    {
     "name": "stdout",
     "output_type": "stream",
     "text": [
      "a.Probability that a customer complaint will\n",
      "       be about both product quality and late delivery. is 0.4000\n"
     ]
    }
   ],
   "source": [
    "FE4 = 40\n",
    "TE  = 100\n",
    "PE4 = round(FE4 / TE,4) \n",
    "print('a.Probability that a customer complaint will\\n\\\n",
    "       be about both product quality and late delivery. is %1.4f' % PE4)"
   ]
  },
  {
   "cell_type": "markdown",
   "metadata": {},
   "source": [
    "b. What is the probability that a complaint will be only about late delivery"
   ]
  },
  {
   "cell_type": "code",
   "execution_count": 2,
   "metadata": {},
   "outputs": [
    {
     "name": "stdout",
     "output_type": "stream",
     "text": [
      "b.probability that a complaint will be \n",
      "         only about late delivery. is 0.4000\n"
     ]
    }
   ],
   "source": [
    "# FE5 is the complaints about poor quality\n",
    "FE5 = 60\n",
    "TE  = 100\n",
    "PE5 = round(FE5 / TE,4) \n",
    "PE6 = 1 - PE5\n",
    "# So,1 - PE5 is the Probability that a customer complaint will be about\n",
    "#        both product quality and late delivery \n",
    "print('b.probability that a complaint will be \\n\\\n",
    "         only about late delivery. is %1.4f' % PE6)"
   ]
  },
  {
   "cell_type": "markdown",
   "metadata": {},
   "source": [
    "### Concept 2. Conditional Probability refers to the probability of event A, given information about the occurrence of another event B"
   ]
  },
  {
   "cell_type": "markdown",
   "metadata": {},
   "source": [
    "Probability of A given B is written as P(A | B).\n",
    "\n",
    "$P(A\\mid B) = \\frac{P(A \\quad and \\quad B)}{P(B)}$\n",
    "\n",
    "where P(A and B) = Joint probability of A and B\n",
    "*     P(A)       = Marginal probability of A\n",
    "*     P(B)       = Marginal probability of B"
   ]
  },
  {
   "cell_type": "markdown",
   "metadata": {},
   "source": [
    "### Example:\n",
    "The following table describes loan default status at a bank and their marital status. \n",
    "\n",
    "| Marital Status | Loan Defaulted | Loan No Default | Marginal Total |\n",
    "| ----------- | ------ | ------- | -------- |\n",
    "| Single | 42 | 258 | 300 |\n",
    "| Married | 60 | 590 | 650 |\n",
    "| Divorced | 13 | 37 | 50 |\n",
    "| Marginal Total | 115 | 885 | 1000 |\n"
   ]
  },
  {
   "cell_type": "markdown",
   "metadata": {},
   "source": [
    "Based on the above table, calculate the probability of default given divorced."
   ]
  },
  {
   "cell_type": "markdown",
   "metadata": {},
   "source": [
    "### Solution:"
   ]
  },
  {
   "cell_type": "code",
   "execution_count": 31,
   "metadata": {},
   "outputs": [
    {
     "name": "stdout",
     "output_type": "stream",
     "text": [
      "P(Default | Divorced)  is 0.2600\n"
     ]
    }
   ],
   "source": [
    "# P1 = P(Default and Divorced)\n",
    "P1   = 13 / 1000\n",
    "# P2 = P(Divorced)\n",
    "P2   = 50 / 1000\n",
    "#P3  = P(Default | Divorced) = P(Default and Divorced) / P(Divorced)\n",
    "P3   = P1 / P2\n",
    "print('P(Default | Divorced)  is %1.4f' % P3)    "
   ]
  },
  {
   "cell_type": "markdown",
   "metadata": {},
   "source": [
    "## Concept 3: Binomial distribution"
   ]
  },
  {
   "cell_type": "markdown",
   "metadata": {},
   "source": [
    "It is widely used probability distribution of a discrete random variable. \n",
    "\n",
    "Plays major role in quality control and quality assurance function. "
   ]
  },
  {
   "cell_type": "markdown",
   "metadata": {},
   "source": [
    "### Binomial Probability Distribution\n",
    "$P(X = x\\mid n,\\pi)$ = $\\frac{n!}{x!(n - x)!}\\pi^x (1 - \\pi)^{n-x} $\n",
    "* where P(X = x) is the probability of getting x successes in n trials\n",
    "and $\\pi$ is the probability of an event of interest"
   ]
  },
  {
   "cell_type": "markdown",
   "metadata": {},
   "source": [
    "### Some important functions in Python for Binomial distribution:\n",
    "\n",
    "#### 1) Probability mass function\n",
    "\n",
    "##### scipy.stats.binom.pmf gives the probability mass function for the binomial distribution\n",
    "\n",
    "binomial = scipy.stats.binom.pmf (k,n,p), # or use binom.pmf() having imported scipy.stats as stats\n",
    "* where k is an array and takes values in {0, 1,..., n}\n",
    "* n and p are shape parameters for the binomial distribution\n",
    "\n",
    "The output, binomial, gives probability of binomial distribution function in terms of array.\n",
    "\n",
    "#### 2) Cumulative Density function\n",
    "\n",
    "cumbinomial = scipy.stats.binom.cdf(k,n,p) gives cumulative binomial distribution.\n",
    "\n",
    "The output, cumbinomial, gives cumulative probability of binomial distribution function in terms of array.\n",
    "\n",
    "####  3)  Plot the binomial Density function\n",
    "\n",
    "The function, matplotlib.pyplot.plot(k, binomial, ‘o-’) gives us plot of the binomial distribution function."
   ]
  },
  {
   "cell_type": "markdown",
   "metadata": {},
   "source": [
    "### Example 1: Inferential Statistics (Probability Distributions)\n",
    "The percentage of orders filled correctly at Wendy's was estimated approximately to be 86.8%. Suppose that you go to drive-through window at Wendy's and place an order. Two friends of yours independently place orders at the drive-through window at the same Wendy's.\n",
    "\n",
    "What are the probabilities that \n",
    "* a) all three of you will have your orders filled correctly?\n",
    "* b) none of the three will have your orders filled correctly?\n",
    "* c) atleast two of the three orders will be filled correctly?\n",
    "* d) what is the mean and standard deviation of the orders filled correctly?"
   ]
  },
  {
   "cell_type": "markdown",
   "metadata": {},
   "source": [
    "### Solution"
   ]
  },
  {
   "cell_type": "code",
   "execution_count": 11,
   "metadata": {},
   "outputs": [],
   "source": [
    "import numpy as np\n",
    "import pandas as pd\n",
    "# Libraries to help with data visualization\n",
    "import matplotlib.pyplot as plt\n",
    "import seaborn as sns\n",
    "%matplotlib inline\n",
    "#\n",
    "import scipy.stats as stats\n",
    "# import the required function\n",
    "from scipy.stats import binom\n",
    "p   =  0.868 # percentage of orders filled correctly at Wendy's was approximately 86.8%\n",
    "n   =  3\n",
    "k   =  np.arange(0,4)"
   ]
  },
  {
   "cell_type": "code",
   "execution_count": 12,
   "metadata": {},
   "outputs": [],
   "source": [
    "binomial = binom.pmf(k,n,p)"
   ]
  },
  {
   "cell_type": "code",
   "execution_count": 13,
   "metadata": {},
   "outputs": [
    {
     "name": "stdout",
     "output_type": "stream",
     "text": [
      "0.002299968\n"
     ]
    }
   ],
   "source": [
    "print(stats.binom.pmf(0,3,0.868))"
   ]
  },
  {
   "cell_type": "code",
   "execution_count": 55,
   "metadata": {},
   "outputs": [
    {
     "name": "stdout",
     "output_type": "stream",
     "text": [
      "[0.00229997 0.0453721  0.2983559  0.65397203]\n"
     ]
    }
   ],
   "source": [
    "print(binomial)"
   ]
  },
  {
   "cell_type": "code",
   "execution_count": 56,
   "metadata": {},
   "outputs": [
    {
     "name": "stdout",
     "output_type": "stream",
     "text": [
      "a) all the three orders are filled correctly? is 0.6540\n"
     ]
    }
   ],
   "source": [
    "print('a) all the three orders are filled correctly? is %1.4f' %binomial[3])"
   ]
  },
  {
   "cell_type": "code",
   "execution_count": 57,
   "metadata": {},
   "outputs": [
    {
     "name": "stdout",
     "output_type": "stream",
     "text": [
      "b) none of the three orders are filled correctly? is 0.0023\n"
     ]
    }
   ],
   "source": [
    "print('b) none of the three orders are filled correctly? is %1.4f' %binomial[0])"
   ]
  },
  {
   "cell_type": "markdown",
   "metadata": {},
   "source": [
    "To answer this question c) atleast two of the three orders are filled correctly, we need to find out 1 - Probability of upto 1 \n",
    "failure"
   ]
  },
  {
   "cell_type": "code",
   "execution_count": 14,
   "metadata": {},
   "outputs": [],
   "source": [
    "cumbinomial = binom.cdf(k,n,p)"
   ]
  },
  {
   "cell_type": "code",
   "execution_count": 15,
   "metadata": {},
   "outputs": [
    {
     "name": "stdout",
     "output_type": "stream",
     "text": [
      "[0.00229997 0.04767206 0.34602797 1.        ]\n"
     ]
    }
   ],
   "source": [
    "print(cumbinomial)"
   ]
  },
  {
   "cell_type": "code",
   "execution_count": 10,
   "metadata": {},
   "outputs": [
    {
     "name": "stdout",
     "output_type": "stream",
     "text": [
      "c) atleast two of the three orders are filled correctly? is 0.9523\n"
     ]
    }
   ],
   "source": [
    "P = 1 - cumbinomial[1]\n",
    "print('c) atleast two of the three orders are filled correctly? is %1.4f' % P)"
   ]
  },
  {
   "cell_type": "code",
   "execution_count": 11,
   "metadata": {},
   "outputs": [
    {
     "name": "stdout",
     "output_type": "stream",
     "text": [
      "mean and standard deviation of the orders filled correctly are 2.6040 and  0.5863 respectively\n"
     ]
    }
   ],
   "source": [
    "# d) what is the mean and standard deviation of the orders filled correctly?\n",
    "p    = 0.868\n",
    "n    = 3\n",
    "mean = n* p # = 3 * 0.868\n",
    "sd   = np.sqrt(n * p * (1 - p))\n",
    "print('mean and standard deviation of the orders filled correctly are %1.4f and  %1.4f respectively' % (mean, sd))"
   ]
  },
  {
   "cell_type": "markdown",
   "metadata": {},
   "source": [
    "### Plot  the binomial distribution function"
   ]
  },
  {
   "cell_type": "code",
   "execution_count": 8,
   "metadata": {},
   "outputs": [
    {
     "data": {
      "image/png": "[encoded data removed]",
      "text/plain": [
       "<Figure size 432x288 with 1 Axes>"
      ]
     },
     "metadata": {
      "needs_background": "light"
     },
     "output_type": "display_data"
    }
   ],
   "source": [
    "import matplotlib.pyplot as plt\n",
    "plt.plot(k,binomial, 'o-')\n",
    "plt.title('Binomial')\n",
    "plt.xlabel('Number of Orders filled correctly')\n",
    "plt.ylabel('Prob of Orders filled correctly')\n",
    "plt.show()"
   ]
  },
  {
   "cell_type": "markdown",
   "metadata": {},
   "source": [
    "### Example 2 (Inferential Statistics - Probabibility Distribution) :  IPL Coin Tosses:\n",
    "4 IPL games over a weekend kicked off with coin tosses. If the outcome of the 4 tosses were modeled with a probability distribution, what would be the distribution. Assume a fair coin with equal probability of Heads of Tails for a toss outcome."
   ]
  },
  {
   "cell_type": "code",
   "execution_count": 17,
   "metadata": {},
   "outputs": [],
   "source": [
    "p   =  0.5 # percentage of times toss outcome is a head (fair coin)\n",
    "n   =  4 # Number of tosses\n",
    "k   =  np.arange(0,5) # outcome success (heads) ranges from 0 heads to 4 heads\n",
    "binomial = stats.binom.pmf(k,n,p)"
   ]
  },
  {
   "cell_type": "code",
   "execution_count": 20,
   "metadata": {},
   "outputs": [
    {
     "data": {
      "text/plain": [
       "array([0, 1, 2, 3, 4])"
      ]
     },
     "execution_count": 20,
     "metadata": {},
     "output_type": "execute_result"
    }
   ],
   "source": [
    "k"
   ]
  },
  {
   "cell_type": "code",
   "execution_count": 21,
   "metadata": {},
   "outputs": [
    {
     "data": {
      "text/plain": [
       "array([0.0625, 0.25  , 0.375 , 0.25  , 0.0625])"
      ]
     },
     "execution_count": 21,
     "metadata": {},
     "output_type": "execute_result"
    }
   ],
   "source": [
    "binomial"
   ]
  },
  {
   "cell_type": "code",
   "execution_count": 19,
   "metadata": {
    "scrolled": true
   },
   "outputs": [
    {
     "data": {
      "image/png": "[encoded data removed]",
      "text/plain": [
       "<Figure size 432x288 with 1 Axes>"
      ]
     },
     "metadata": {
      "needs_background": "light"
     },
     "output_type": "display_data"
    }
   ],
   "source": [
    "import matplotlib.pyplot as plt\n",
    "import seaborn as sns\n",
    "plt.plot(k,binomial, 'o-')\n",
    "plt.title('Binomial')\n",
    "plt.xlabel('Number of Tosses')\n",
    "plt.ylabel('Number of Tails')\n",
    "plt.show()"
   ]
  },
  {
   "cell_type": "code",
   "execution_count": 16,
   "metadata": {},
   "outputs": [
    {
     "name": "stdout",
     "output_type": "stream",
     "text": [
      "for 40-60% heads, 50 tosses = 83.92203981880115 %, 500 tosses = 99.9992604188469 %\n",
      "for 75%+ heads, 50 tosses = 0.0045107450535653015 %, 500 tosses = 1.1102230246251565e-14 %\n"
     ]
    }
   ],
   "source": [
    "# Quiz question \n",
    "# What is the probability that the % of outcomes being heads lies between 40-60% for 50 and 500 coin tosses respectively\n",
    "n1   =  50 # Number of tosses\n",
    "n2 = 500\n",
    "p1=0.5 # probability of heads outcome for a coin toss experiment (fair coin)\n",
    "for50 = stats.binom.cdf(30,n1,p1)-stats.binom.cdf(20,n1,p1) # 20 to 30 heads outcome out of 50 coin tosses (is 40-60%)\n",
    "for500 = stats.binom.cdf(300,n2,p1)-stats.binom.cdf(200,n2,p1) # 200 to 300 heads out of 500\n",
    "print (\"for 40-60% heads outcome for 50 tosses =\", for50*100,\"%,\", \"500 tosses =\", for500*100,\"%\")\n",
    "# Quiz question >75% heads probability for 50 (38 heads) and 500 (375 heads) coin tosses respectively?\n",
    "print (\"for 75%+ heads, 50 tosses =\", (1-stats.binom.cdf(38,n1,p1))*100,\"%,\", \"500 tosses =\", (1-stats.binom.cdf(375,n2,p1))*100,\"%\")"
   ]
  },
  {
   "cell_type": "code",
   "execution_count": 24,
   "metadata": {},
   "outputs": [
    {
     "data": {
      "text/plain": [
       "26.5"
      ]
     },
     "execution_count": 24,
     "metadata": {},
     "output_type": "execute_result"
    }
   ],
   "source": [
    "# Inverse of cdf is ppf. What is the 50th percentile value for a uniform distribution with mean =25 and std = 3\n",
    "stats.uniform.ppf(q=0.5, loc=25, scale=3)"
   ]
  },
  {
   "cell_type": "markdown",
   "metadata": {},
   "source": [
    "### Example 3: Investment in stocks\n",
    "Investment Advisors agree that near retirees, defined as people aged 55 to 65, should have balanced portfolios. Most advisors suggest that the near –retirees have no more than 50% of their investments in stocks. However, during the huge decline in the stock market in 2008, 22% of near retirees had 90% or more of their investments in stocks.\n",
    "Suppose you have a random sample of 10 people who have labeled as near retirees in 2008.\n",
    "\n",
    "#### 3.1: Define the random variable and the corresponding probability distribution that this random variable follows."
   ]
  },
  {
   "cell_type": "markdown",
   "metadata": {},
   "source": [
    "#### Let X (near retirees) be a random variable which follows Binomial Distribution with the parameters n = 10 and p = 0.22.\n",
    "\n",
    "#### X ~ binomial (n=10,p=0.22)"
   ]
  },
  {
   "cell_type": "markdown",
   "metadata": {},
   "source": [
    "### 3.2: What is the probability that during 2008 zero near retirees had 90% or more of their investments in stocks?"
   ]
  },
  {
   "cell_type": "code",
   "execution_count": 15,
   "metadata": {},
   "outputs": [
    {
     "name": "stdout",
     "output_type": "stream",
     "text": [
      "The total number of trials is 10 and the probability of success at each trial is 0.22 .\n"
     ]
    }
   ],
   "source": [
    "n,p = 10,0.22\n",
    "print('The total number of trials is',n,'and the probability of success at each trial is',p,'.')"
   ]
  },
  {
   "cell_type": "code",
   "execution_count": 16,
   "metadata": {},
   "outputs": [
    {
     "name": "stdout",
     "output_type": "stream",
     "text": [
      "The value of the random for which we are calculating the probability is 0 .\n"
     ]
    }
   ],
   "source": [
    "k = 0\n",
    "print('The value of the random for which we are calculating the probability is',k,'.')"
   ]
  },
  {
   "cell_type": "code",
   "execution_count": 17,
   "metadata": {},
   "outputs": [
    {
     "name": "stdout",
     "output_type": "stream",
     "text": [
      "Probability that during 2008, Zero Retirees had 90% or more of their investments in stocks is 0.083357758312362 .\n"
     ]
    }
   ],
   "source": [
    "print('Probability that during 2008, Zero Retirees had 90% or more of their investments in stocks is',stats.binom.pmf(k,n,p),'.')"
   ]
  },
  {
   "cell_type": "markdown",
   "metadata": {},
   "source": [
    "### 3.3: What is the probability that during 2008 exactly one near retiree had 90% or more of his investments in stocks?"
   ]
  },
  {
   "cell_type": "code",
   "execution_count": 18,
   "metadata": {},
   "outputs": [
    {
     "name": "stdout",
     "output_type": "stream",
     "text": [
      " Probability that during 2008, exactly one had 90% or more of his investments in stocks is \", 0.23511162600922644 .\n"
     ]
    }
   ],
   "source": [
    "k_1 = 1\n",
    "print(' Probability that during 2008, exactly one had 90% or more of his investments in stocks is \",'\n",
    "      ,stats.binom.pmf(k_1,n,p),'.')"
   ]
  },
  {
   "cell_type": "markdown",
   "metadata": {},
   "source": [
    "### 3.4: What is the probability that during 2008 two or fewer near retirees had 90% or more of their investment in stocks?"
   ]
  },
  {
   "cell_type": "code",
   "execution_count": 19,
   "metadata": {},
   "outputs": [
    {
     "name": "stdout",
     "output_type": "stream",
     "text": [
      "Method 1: We are going to sum the probability values of X=0,X=1 and X=2\n",
      "Probability that during 2008 two or fewer near retirees had 90% or more of their investment in stocks is 0.6168802942563754\n"
     ]
    }
   ],
   "source": [
    "print('Method 1: We are going to sum the probability values of X=0,X=1 and X=2')\n",
    "\n",
    "print('Probability that during 2008 two or fewer near retirees had 90% or more of their investment in stocks is',\n",
    "      stats.binom.pmf(0,n,p) + stats.binom.pmf(1,n,p) + stats.binom.pmf(2,n,p))"
   ]
  },
  {
   "cell_type": "code",
   "execution_count": 20,
   "metadata": {},
   "outputs": [
    {
     "name": "stdout",
     "output_type": "stream",
     "text": [
      "0.6168802942563754\n"
     ]
    }
   ],
   "source": [
    "print(stats.binom.cdf(2,n,p))"
   ]
  },
  {
   "cell_type": "code",
   "execution_count": 21,
   "metadata": {},
   "outputs": [
    {
     "name": "stdout",
     "output_type": "stream",
     "text": [
      "Method 2: We are going to find the cumulative probabilties upto X=2.\n",
      "Probability that during 2008 two or fewer near retirees had 90% or more of their investment in stocks is 0.6168802942563754\n"
     ]
    }
   ],
   "source": [
    "print('Method 2: We are going to find the cumulative probabilties upto X=2.')\n",
    "\n",
    " \n",
    "print('Probability that during 2008 two or fewer near retirees had 90% or more of their investment in stocks is',\n",
    "      stats.binom.cdf(2,n,p))"
   ]
  },
  {
   "cell_type": "markdown",
   "metadata": {},
   "source": [
    "## Concept 4: Poisson Distribution"
   ]
  },
  {
   "cell_type": "markdown",
   "metadata": {},
   "source": [
    "* This discrete distribution which also plays a major role in quality control. \n",
    "* The Poisson distribution is a discrete probability distribution for the counts of events that occur randomly in a given \n",
    "interval of time or space. In such areas of opportunity, there can be more than one occurrence. In such situations, Poisson \n",
    "distribution can be used to compute probabilities.\n",
    "* Examples include number of defects per item, number of defects per transformer produced. \n",
    "* Notes: Poisson Distribution helps to predict the arrival rate in a waiting line situation where a queue is formed and people \n",
    "wait to be served and the service rate is generally higher than the arrival rate."
   ]
  },
  {
   "cell_type": "markdown",
   "metadata": {},
   "source": [
    "### Properties:\n",
    "* Mean                     μ  = λ\n",
    "* Standard deviation       σ  = √ μ\n",
    "* The Poisson distribution is the limit of binomial distribution as n approaches ∞and p approaches 0\n"
   ]
  },
  {
   "cell_type": "markdown",
   "metadata": {},
   "source": [
    "### Possion Probability Distribution\n",
    "P(X = x) = $\\frac{e^\\lambda \\lambda^x}{x!} $\n",
    "where \n",
    "* P(x)              = Probability of x successes given an idea of  $\\lambda$\n",
    "* $\\lambda$ = Average number of successes\n",
    "* e                   = 2.71828 (based on natural logarithm)\n",
    "* x                    = successes per unit which can take values 0,1,2,3,... $\\infty$"
   ]
  },
  {
   "cell_type": "markdown",
   "metadata": {},
   "source": [
    "### Applications\n",
    "\n",
    "1. Car Accidents\n",
    "2. Number of deaths by horse kicking in Prussian Army (first application)\n",
    "3. Birth defects and genetic mutation\n",
    "\n",
    "### Note\n",
    "\n",
    "* If there is a fixed number of observations, n, each of which is classified as an event of interest or not an event of interest, use the binomial distribution.\n",
    "* If there is an area of opportunity, use the Poisson distribution.\n"
   ]
  },
  {
   "cell_type": "markdown",
   "metadata": {},
   "source": [
    "### Example 1: Work related mishaps at a manufacturing plant\n",
    "The number of work-related injuries per month in a manufacturing plant is known to follow a Poisson distribution, with a mean  \n",
    "of 2.5 work-related injuries a month. What is the probability that in a given month, \n",
    "\n",
    "a) No work related injuries occur? \n",
    "\n",
    "b) At least one work-related injury occurs?"
   ]
  },
  {
   "cell_type": "markdown",
   "metadata": {},
   "source": [
    "### Solution"
   ]
  },
  {
   "cell_type": "markdown",
   "metadata": {},
   "source": [
    "Here, \n",
    "$\\lambda$ = 2.5 injuries"
   ]
  },
  {
   "cell_type": "code",
   "execution_count": 11,
   "metadata": {},
   "outputs": [],
   "source": [
    "rate =  2.5 # which is the mean\n",
    "n    =  np.arange(0,10)\n",
    "poisson = stats.poisson.pmf(n,rate)\n",
    "cumpoisson=stats.poisson.cdf(n,rate)"
   ]
  },
  {
   "cell_type": "code",
   "execution_count": 24,
   "metadata": {},
   "outputs": [
    {
     "data": {
      "text/plain": [
       "8.20849986238988"
      ]
     },
     "execution_count": 24,
     "metadata": {},
     "output_type": "execute_result"
    }
   ],
   "source": [
    "stats.poisson.pmf(0,rate)*100"
   ]
  },
  {
   "cell_type": "code",
   "execution_count": 13,
   "metadata": {},
   "outputs": [
    {
     "data": {
      "text/plain": [
       "array([0.082085  , 0.2052125 , 0.25651562, 0.21376302, 0.13360189,\n",
       "       0.06680094, 0.02783373, 0.00994062, 0.00310644, 0.0008629 ])"
      ]
     },
     "execution_count": 13,
     "metadata": {},
     "output_type": "execute_result"
    }
   ],
   "source": [
    "poisson"
   ]
  },
  {
   "cell_type": "code",
   "execution_count": 7,
   "metadata": {},
   "outputs": [
    {
     "name": "stdout",
     "output_type": "stream",
     "text": [
      " a) Probability that No work related injuries occur is 0.0821\n"
     ]
    }
   ],
   "source": [
    "print(' a) Probability that No work related injuries occur is %1.4f' % poisson[0])"
   ]
  },
  {
   "cell_type": "markdown",
   "metadata": {},
   "source": [
    "To calculate the probability that at least one work-related injury occurs, we need to subtract probability of no work related \n",
    "injury from 1."
   ]
  },
  {
   "cell_type": "code",
   "execution_count": 8,
   "metadata": {},
   "outputs": [
    {
     "name": "stdout",
     "output_type": "stream",
     "text": [
      " b) Probability that that at least one work-related injury occurs is 0.4562\n"
     ]
    }
   ],
   "source": [
    "# P = probability that at least three work-related injury occurs\n",
    "P   = 1 - cumpoisson[2]\n",
    "print(' b) Probability that that at least one work-related injury occurs is %1.4f' % P)"
   ]
  },
  {
   "cell_type": "markdown",
   "metadata": {},
   "source": [
    "Plot the Poisson distribution function"
   ]
  },
  {
   "cell_type": "code",
   "execution_count": 26,
   "metadata": {},
   "outputs": [
    {
     "data": {
      "image/png": "[encoded data removed]",
      "text/plain": [
       "<Figure size 432x288 with 1 Axes>"
      ]
     },
     "metadata": {
      "needs_background": "light"
     },
     "output_type": "display_data"
    }
   ],
   "source": [
    "plt.plot(n,poisson, 'o-')\n",
    "plt.title('Poisson')\n",
    "plt.xlabel('Number of Work related injuries')\n",
    "plt.ylabel('Prob of Work related injuries')\n",
    "plt.show()"
   ]
  },
  {
   "cell_type": "markdown",
   "metadata": {},
   "source": [
    "### Example 2: Network errors experienced on a LAN\n",
    "Assume that number of network errors experienced in a day on a local area network (LAN) is distributed as a Poisson random variable. The mean number of network errors experienced in a day is 2.4.\n",
    "\n",
    "### 2.1: Define the random variable and the corresponding probability distribution that this random variable follows."
   ]
  },
  {
   "cell_type": "markdown",
   "metadata": {},
   "source": [
    "#### Let X (network errors) be a random variable which follows Poisson Distribution with the parameter λ = 2.4.\n",
    "\n",
    "#### X ~ poisson ( λ = 2.4)"
   ]
  },
  {
   "cell_type": "markdown",
   "metadata": {},
   "source": [
    "### 2.2: What is the probability that in any given day zero network errors will occur?"
   ]
  },
  {
   "cell_type": "code",
   "execution_count": 27,
   "metadata": {},
   "outputs": [
    {
     "name": "stdout",
     "output_type": "stream",
     "text": [
      "The probability that in any given day zero network errors will occur is 0.09071795328941251\n"
     ]
    }
   ],
   "source": [
    "print('The probability that in any given day zero network errors will occur is',stats.poisson.pmf(0,2.4))"
   ]
  },
  {
   "cell_type": "markdown",
   "metadata": {},
   "source": [
    "###  2.3: What is the probability that in any given day exactly one network error will occur?"
   ]
  },
  {
   "cell_type": "code",
   "execution_count": 28,
   "metadata": {},
   "outputs": [
    {
     "name": "stdout",
     "output_type": "stream",
     "text": [
      "The probability that in any given day exactly one network error will occur is 0.21772308789459\n"
     ]
    }
   ],
   "source": [
    "print('The probability that in any given day exactly one network error will occur is',stats.poisson.pmf(1,2.4))"
   ]
  },
  {
   "cell_type": "markdown",
   "metadata": {},
   "source": [
    "###  2.4: What is the probability that in any given day two or more network errors will occur?"
   ]
  },
  {
   "cell_type": "code",
   "execution_count": 29,
   "metadata": {},
   "outputs": [
    {
     "name": "stdout",
     "output_type": "stream",
     "text": [
      "Method 1: By using the Cumulative Distribution Function (CDF):\n",
      "The probability that in any given day two or more network errors will occur is 0.6915589588159976\n"
     ]
    }
   ],
   "source": [
    "print(\"Method 1: By using the Cumulative Distribution Function (CDF):\")\n",
    "\n",
    "print('The probability that in any given day two or more network errors will occur is',1 - stats.poisson.cdf(1,2.4))"
   ]
  },
  {
   "cell_type": "code",
   "execution_count": 30,
   "metadata": {},
   "outputs": [
    {
     "name": "stdout",
     "output_type": "stream",
     "text": [
      "Method 2: By using the Probability Mass Function (PMF):\n",
      "The probability that in any given day two or more network errors will occur is 0.6915589588159975\n"
     ]
    }
   ],
   "source": [
    "print(\"Method 2: By using the Probability Mass Function (PMF):\")\n",
    "\n",
    "print('The probability that in any given day two or more network errors will occur is',\n",
    "      1 - (stats.poisson.pmf(0,2.4)+stats.poisson.pmf(1,2.4)))\n"
   ]
  },
  {
   "cell_type": "markdown",
   "metadata": {},
   "source": [
    "## Concept 5: Normal Distribution"
   ]
  },
  {
   "cell_type": "markdown",
   "metadata": {},
   "source": [
    "* One of the most popular continuous distribution in Analytics field.\n",
    "* Normal distribution is observed across many naturally occurring measures such as birth weight, height and intelligence etc"
   ]
  },
  {
   "cell_type": "markdown",
   "metadata": {},
   "source": [
    "#### Probability Density Function"
   ]
  },
  {
   "cell_type": "markdown",
   "metadata": {},
   "source": [
    "f(x) = $\\frac {1}{\\sigma\\sqrt(2 \\pi)} e^\\frac {-(x-\\mu^2)}{2\\sigma^2}$"
   ]
  },
  {
   "cell_type": "markdown",
   "metadata": {},
   "source": [
    "Where\n",
    "\n",
    "* f(x) is used to represent a probability density function\n",
    "* x is any value of the continuous variable, where -∞ < x < ∞\n",
    "* e denotes the mathematical constant approximated by 2.71828\n",
    "* Π is a mathematical constant approximated by 3.14159\n",
    "* μ and σ are the mean and standard deviation of the normal distribution"
   ]
  },
  {
   "cell_type": "markdown",
   "metadata": {},
   "source": [
    "For a continuous function, the probability density function is the probability that the value has the value x. \n",
    "Since for continuous distributions the probability at a single point is zero, this is expressed in terms of an integral of its probability density function\n",
    "P(X<= x) = F(x) = \n",
    "$\\int_{-\\infty}^xf(t)dt$\n"
   ]
  },
  {
   "cell_type": "markdown",
   "metadata": {},
   "source": [
    "Its pdf is given by\n",
    "\n",
    "fZ(z) = $\\frac{1}{ √2Π} {exp \\frac {-z2} {2}}$\n",
    "\n",
    "for all z $\\in R$\n",
    "\n",
    "The (1 / √2Π ) is there to make sure that the area under the PDF is 1."
   ]
  },
  {
   "cell_type": "markdown",
   "metadata": {},
   "source": [
    "* For a normal distribution, mu is the location parameter, which locates (centre) the distribution on the horizontal axis.\n",
    "* Sigma is the scale parameter, which defines the spread of the normal distribution.\n",
    "* Normal distribution has no shape parameter since all the normal distribution curves have bell shape and are symmetrical."
   ]
  },
  {
   "cell_type": "markdown",
   "metadata": {},
   "source": [
    "### Properties\n",
    "1. Theoretical normal density functions are defined between -∞ and ∞\n",
    "2. There are two parameters, location (μ which is the mean) and scale (σ which is standard deviation).\n",
    "3. It has a symmetrical (bell shape) around the mean. mean = median = mode\n",
    "4. Areas between specific values are measured in terms of μ and σ\n",
    "5. Any linear transformation if a normal random variable is also normal random variable.\n",
    "6. If X1 is an independent normal random variable with mean μ1 and variance $\\sigma1^2$ and \n",
    "      X2 is another independent normal random variable with mean μ2 and$\\sigma2^2$, \n",
    "then X1 + X2 is also a normal distribution with mean μ1 + μ2 and variance $\\sigma1^2$ + $\\sigma2^2$ "
   ]
  },
  {
   "cell_type": "markdown",
   "metadata": {},
   "source": [
    "| Value of the random variable | Area under the normal distribution (CDF) |\n",
    "| --------------------------------- | --------------------------|\n",
    "| $\\mu - \\sigma \\leq x \\leq \\mu + \\sigma$ | 0.6828 |\n",
    "| $\\mu - 2\\sigma \\leq x \\leq \\mu + 2\\sigma$ | 0.9545 |\n",
    "| $\\mu - 3\\sigma \\leq x \\leq \\mu + 3\\sigma$ | 0.9974 |"
   ]
  },
  {
   "cell_type": "markdown",
   "metadata": {},
   "source": [
    "### Example 1: Salaries of Data Scientists in Chennai\n",
    "\n",
    "The mean salaries of Data Scientists working in Chennai, India is calculated to be 7,00,000 INR with a standard deviation of 90,000 INR. The random variable salary of Data Scientists follows a normal distribution.\n",
    "\n",
    "* a) What is the probability that a Data Scientist in Chennai has a salary more than 10,00,000 INR?\n",
    "* b) What is the probability that a Data Scientist in Chennai has a salary between 6,00,000 & 9,00,000 INR?\n",
    "* c) What is the probability that a Data Scientist in Chennai has a salary less than 4,00,000 INR?"
   ]
  },
  {
   "cell_type": "markdown",
   "metadata": {},
   "source": [
    "### Solution"
   ]
  },
  {
   "cell_type": "code",
   "execution_count": 39,
   "metadata": {},
   "outputs": [],
   "source": [
    "# a) What is the probability that a Data Scientist in Chennai has a salary more than 10,00,000 INR?\n",
    "mu    =  700000\n",
    "sigma =  90000\n",
    "z1=(1000000-mu) / sigma \n",
    "z2=(600000-mu) / sigma "
   ]
  },
  {
   "cell_type": "code",
   "execution_count": 40,
   "metadata": {},
   "outputs": [
    {
     "name": "stdout",
     "output_type": "stream",
     "text": [
      "86.63106767642978\n"
     ]
    }
   ],
   "source": [
    "print((stats.norm.cdf(z1)-stats.norm.cdf(z2))*100)"
   ]
  },
  {
   "cell_type": "code",
   "execution_count": 102,
   "metadata": {},
   "outputs": [
    {
     "name": "stdout",
     "output_type": "stream",
     "text": [
      "3.3333333333333335\n"
     ]
    }
   ],
   "source": [
    "print(z)"
   ]
  },
  {
   "cell_type": "code",
   "execution_count": 4,
   "metadata": {},
   "outputs": [],
   "source": [
    "mu1 = 70\n",
    "sigma1= 10\n",
    "z1= (80-mu1)/sigma1"
   ]
  },
  {
   "cell_type": "code",
   "execution_count": 42,
   "metadata": {},
   "outputs": [],
   "source": [
    "P1 = stats.norm.cdf(z1)"
   ]
  },
  {
   "cell_type": "code",
   "execution_count": 10,
   "metadata": {},
   "outputs": [
    {
     "name": "stdout",
     "output_type": "stream",
     "text": [
      "0.8413447460685429\n"
     ]
    }
   ],
   "source": [
    "print(P1)"
   ]
  },
  {
   "cell_type": "code",
   "execution_count": 32,
   "metadata": {},
   "outputs": [
    {
     "name": "stdout",
     "output_type": "stream",
     "text": [
      " a) Probability that a Data Scientist in Chennai has a salary more than 10,00,000 is 0.0004\n"
     ]
    }
   ],
   "source": [
    "P = 1 - stats.norm.cdf(z)\n",
    "print(' a) Probability that a Data Scientist in Chennai has a salary more than 10,00,000 is %1.4f' % P)"
   ]
  },
  {
   "cell_type": "code",
   "execution_count": 33,
   "metadata": {},
   "outputs": [],
   "source": [
    "# b) What is the probability that a Data Scientist in Chennai has a salary between 6,00,000 & 9,00,000 INR?\n",
    "z1= (600000-mu) / sigma\n",
    "z2= (900000-mu) / sigma"
   ]
  },
  {
   "cell_type": "code",
   "execution_count": 34,
   "metadata": {},
   "outputs": [
    {
     "name": "stdout",
     "output_type": "stream",
     "text": [
      " b) probability that a Data Scientist in Chennai has a salary between 6,00,000 & 9,00,000 INR is 0.8536\n"
     ]
    }
   ],
   "source": [
    "P = stats.norm.cdf(z2) - stats.norm.cdf(z1)\n",
    "print(' b) probability that a Data Scientist in Chennai has a salary between 6,00,000 & 9,00,000 INR is %1.4f' % P)"
   ]
  },
  {
   "cell_type": "code",
   "execution_count": 35,
   "metadata": {},
   "outputs": [],
   "source": [
    "# c) What is the probability that a Data Scientist in Chennai has a salary less than 4,00,000 INR?\n",
    "z = (400000-mu) / sigma "
   ]
  },
  {
   "cell_type": "code",
   "execution_count": 36,
   "metadata": {},
   "outputs": [
    {
     "name": "stdout",
     "output_type": "stream",
     "text": [
      " c) Probability that a Data Scientist in Chennai has a salary less than 4,00,000 INR is 0.0004\n"
     ]
    }
   ],
   "source": [
    "P = stats.norm.cdf(z)\n",
    "print(' c) Probability that a Data Scientist in Chennai has a salary less than 4,00,000 INR is %1.4f' % P)"
   ]
  },
  {
   "cell_type": "markdown",
   "metadata": {},
   "source": [
    "### Example 2: Mileage distribution of cars. Mean (km) = 75000, Standard deviation (km) = 12000\n",
    "a) What is the probability that for a given car sampled from the population, the mileage lies between 80K and 100K Km?\n",
    "\n",
    "b) What is the probability for the mileage of a car to be between 80K and 100K, if it is known to have driven atleast 80K km?"
   ]
  },
  {
   "cell_type": "code",
   "execution_count": 29,
   "metadata": {
    "scrolled": false
   },
   "outputs": [
    {
     "name": "stdout",
     "output_type": "stream",
     "text": [
      "probability that it lies between 80K and 100K 0.3198506943208034\n",
      "conditional probability given it is known to be >80K is 0.9450145847866034\n"
     ]
    }
   ],
   "source": [
    "mu = 75000\n",
    "sigma = 12000\n",
    "zright = (100000-mu)/sigma\n",
    "zleft = (80000-mu)/sigma\n",
    "prob1=stats.norm.cdf(zright)-stats.norm.cdf(zleft)\n",
    "print(\"probability that it lies between 80K and 100K\",prob1)\n",
    "print(\"conditional probability given it is known to be >80K is\", prob1/(1-stats.norm.cdf(zleft)))"
   ]
  },
  {
   "cell_type": "markdown",
   "metadata": {},
   "source": [
    "### Example 3: High School Students class height distribution\n",
    "Read the data \"hs_heights.csv\" which is a sample of high school students in the state."
   ]
  },
  {
   "cell_type": "code",
   "execution_count": 108,
   "metadata": {},
   "outputs": [],
   "source": [
    "hs=pd.read_csv('hs_heights.csv', names=['heights'])"
   ]
  },
  {
   "cell_type": "code",
   "execution_count": 109,
   "metadata": {},
   "outputs": [
    {
     "data": {
      "text/html": [
       "<div>\n",
       "<style scoped>\n",
       "    .dataframe tbody tr th:only-of-type {\n",
       "        vertical-align: middle;\n",
       "    }\n",
       "\n",
       "    .dataframe tbody tr th {\n",
       "        vertical-align: top;\n",
       "    }\n",
       "\n",
       "    .dataframe thead th {\n",
       "        text-align: right;\n",
       "    }\n",
       "</style>\n",
       "<table border=\"1\" class=\"dataframe\">\n",
       "  <thead>\n",
       "    <tr style=\"text-align: right;\">\n",
       "      <th></th>\n",
       "      <th>heights</th>\n",
       "    </tr>\n",
       "  </thead>\n",
       "  <tbody>\n",
       "    <tr>\n",
       "      <th>0</th>\n",
       "      <td>0.00</td>\n",
       "    </tr>\n",
       "    <tr>\n",
       "      <th>1</th>\n",
       "      <td>61.53</td>\n",
       "    </tr>\n",
       "    <tr>\n",
       "      <th>2</th>\n",
       "      <td>63.55</td>\n",
       "    </tr>\n",
       "    <tr>\n",
       "      <th>3</th>\n",
       "      <td>63.96</td>\n",
       "    </tr>\n",
       "    <tr>\n",
       "      <th>4</th>\n",
       "      <td>64.66</td>\n",
       "    </tr>\n",
       "  </tbody>\n",
       "</table>\n",
       "</div>"
      ],
      "text/plain": [
       "   heights\n",
       "0     0.00\n",
       "1    61.53\n",
       "2    63.55\n",
       "3    63.96\n",
       "4    64.66"
      ]
     },
     "execution_count": 109,
     "metadata": {},
     "output_type": "execute_result"
    }
   ],
   "source": [
    "hs.head()"
   ]
  },
  {
   "cell_type": "code",
   "execution_count": 110,
   "metadata": {},
   "outputs": [
    {
     "data": {
      "text/plain": [
       "(1001, 1)"
      ]
     },
     "execution_count": 110,
     "metadata": {},
     "output_type": "execute_result"
    }
   ],
   "source": [
    "hs.shape"
   ]
  },
  {
   "cell_type": "code",
   "execution_count": null,
   "metadata": {},
   "outputs": [],
   "source": [
    "hs.drop(hs[hs['heights']<36.].index, inplace=True) # Height below 3 feet can be treated as spurious"
   ]
  },
  {
   "cell_type": "code",
   "execution_count": 112,
   "metadata": {},
   "outputs": [
    {
     "data": {
      "text/plain": [
       "(1000, 1)"
      ]
     },
     "execution_count": 112,
     "metadata": {},
     "output_type": "execute_result"
    }
   ],
   "source": [
    "hs.shape"
   ]
  },
  {
   "cell_type": "code",
   "execution_count": 113,
   "metadata": {},
   "outputs": [
    {
     "data": {
      "text/plain": [
       "56.68"
      ]
     },
     "execution_count": 113,
     "metadata": {},
     "output_type": "execute_result"
    }
   ],
   "source": [
    "hs.heights.min()"
   ]
  },
  {
   "cell_type": "code",
   "execution_count": 114,
   "metadata": {},
   "outputs": [
    {
     "data": {
      "text/plain": [
       "77.15"
      ]
     },
     "execution_count": 114,
     "metadata": {},
     "output_type": "execute_result"
    }
   ],
   "source": [
    "hs.heights.max()"
   ]
  },
  {
   "cell_type": "code",
   "execution_count": 115,
   "metadata": {},
   "outputs": [
    {
     "data": {
      "text/html": [
       "<div>\n",
       "<style scoped>\n",
       "    .dataframe tbody tr th:only-of-type {\n",
       "        vertical-align: middle;\n",
       "    }\n",
       "\n",
       "    .dataframe tbody tr th {\n",
       "        vertical-align: top;\n",
       "    }\n",
       "\n",
       "    .dataframe thead th {\n",
       "        text-align: right;\n",
       "    }\n",
       "</style>\n",
       "<table border=\"1\" class=\"dataframe\">\n",
       "  <thead>\n",
       "    <tr style=\"text-align: right;\">\n",
       "      <th></th>\n",
       "      <th>heights</th>\n",
       "    </tr>\n",
       "  </thead>\n",
       "  <tbody>\n",
       "    <tr>\n",
       "      <th>count</th>\n",
       "      <td>1000.000000</td>\n",
       "    </tr>\n",
       "    <tr>\n",
       "      <th>mean</th>\n",
       "      <td>64.570730</td>\n",
       "    </tr>\n",
       "    <tr>\n",
       "      <th>std</th>\n",
       "      <td>3.625449</td>\n",
       "    </tr>\n",
       "    <tr>\n",
       "      <th>min</th>\n",
       "      <td>56.680000</td>\n",
       "    </tr>\n",
       "    <tr>\n",
       "      <th>25%</th>\n",
       "      <td>61.837500</td>\n",
       "    </tr>\n",
       "    <tr>\n",
       "      <th>50%</th>\n",
       "      <td>64.205000</td>\n",
       "    </tr>\n",
       "    <tr>\n",
       "      <th>75%</th>\n",
       "      <td>67.162500</td>\n",
       "    </tr>\n",
       "    <tr>\n",
       "      <th>max</th>\n",
       "      <td>77.150000</td>\n",
       "    </tr>\n",
       "  </tbody>\n",
       "</table>\n",
       "</div>"
      ],
      "text/plain": [
       "           heights\n",
       "count  1000.000000\n",
       "mean     64.570730\n",
       "std       3.625449\n",
       "min      56.680000\n",
       "25%      61.837500\n",
       "50%      64.205000\n",
       "75%      67.162500\n",
       "max      77.150000"
      ]
     },
     "execution_count": 115,
     "metadata": {},
     "output_type": "execute_result"
    }
   ],
   "source": [
    "hs.describe()"
   ]
  },
  {
   "cell_type": "code",
   "execution_count": 59,
   "metadata": {},
   "outputs": [],
   "source": [
    "mu = hs.heights.mean()"
   ]
  },
  {
   "cell_type": "code",
   "execution_count": 60,
   "metadata": {},
   "outputs": [],
   "source": [
    "sigma = hs.heights.std()"
   ]
  },
  {
   "cell_type": "code",
   "execution_count": 61,
   "metadata": {},
   "outputs": [
    {
     "data": {
      "text/plain": [
       "<seaborn.axisgrid.FacetGrid at 0x1a3de7c01c0>"
      ]
     },
     "execution_count": 61,
     "metadata": {},
     "output_type": "execute_result"
    },
    {
     "data": {
      "image/png": "[encoded data removed]",
      "text/plain": [
       "<Figure size 360x360 with 1 Axes>"
      ]
     },
     "metadata": {
      "needs_background": "light"
     },
     "output_type": "display_data"
    }
   ],
   "source": [
    "sns.displot(data=hs,x='heights',kind='hist')"
   ]
  },
  {
   "cell_type": "code",
   "execution_count": 62,
   "metadata": {},
   "outputs": [
    {
     "data": {
      "text/plain": [
       "<seaborn.axisgrid.FacetGrid at 0x1a3dee5ddc0>"
      ]
     },
     "execution_count": 62,
     "metadata": {},
     "output_type": "execute_result"
    },
    {
     "data": {
      "image/png": "[encoded data removed]",
      "text/plain": [
       "<Figure size 360x360 with 1 Axes>"
      ]
     },
     "metadata": {
      "needs_background": "light"
     },
     "output_type": "display_data"
    }
   ],
   "source": [
    "sns.displot(data=hs,x='heights',kind='kde')"
   ]
  },
  {
   "cell_type": "code",
   "execution_count": 64,
   "metadata": {},
   "outputs": [],
   "source": [
    "## Q1: What percentage of students are below 5 ft in height?\n",
    "Z60=(60-mu)/sigma"
   ]
  },
  {
   "cell_type": "code",
   "execution_count": 65,
   "metadata": {},
   "outputs": [
    {
     "name": "stdout",
     "output_type": "stream",
     "text": [
      "% of students in class below height of 60 inches= 10.370218832131272\n"
     ]
    }
   ],
   "source": [
    "print(\"% of students in class below height of 60 inches=\", stats.norm.cdf(Z60)*100)"
   ]
  },
  {
   "cell_type": "code",
   "execution_count": 66,
   "metadata": {},
   "outputs": [
    {
     "name": "stdout",
     "output_type": "stream",
     "text": [
      "% of students in class above height of 72 inches= 2.022128072462648\n"
     ]
    }
   ],
   "source": [
    "## What percentage of students are above 6 ft tall?\n",
    "Z72=(72-mu)/sigma\n",
    "print(\"% of students in class above height of 72 inches=\", (1-stats.norm.cdf(Z72))*100)"
   ]
  },
  {
   "cell_type": "code",
   "execution_count": 73,
   "metadata": {},
   "outputs": [
    {
     "name": "stdout",
     "output_type": "stream",
     "text": [
      "(57.46498064153967, 71.67647935846027)\n"
     ]
    }
   ],
   "source": [
    "## 95% Confidence Interval of students' height?\n",
    "print (stats.norm.interval(0.95, loc=mu, scale=sigma))"
   ]
  },
  {
   "cell_type": "code",
   "execution_count": 83,
   "metadata": {},
   "outputs": [],
   "source": [
    "hs_sample=hs.sample(n=50)"
   ]
  },
  {
   "cell_type": "code",
   "execution_count": 84,
   "metadata": {},
   "outputs": [
    {
     "data": {
      "text/plain": [
       "<seaborn.axisgrid.FacetGrid at 0x1a3dd47d7f0>"
      ]
     },
     "execution_count": 84,
     "metadata": {},
     "output_type": "execute_result"
    },
    {
     "data": {
      "image/png": "[encoded data removed]",
      "text/plain": [
       "<Figure size 360x360 with 1 Axes>"
      ]
     },
     "metadata": {
      "needs_background": "light"
     },
     "output_type": "display_data"
    }
   ],
   "source": [
    "sns.displot(data=hs_sample,x='heights',kind='kde')"
   ]
  },
  {
   "cell_type": "code",
   "execution_count": 85,
   "metadata": {},
   "outputs": [],
   "source": [
    "sample_mean  = hs_sample.mean()\n",
    "sample_std = hs_sample.std()"
   ]
  }
 ],
 "metadata": {
  "kernelspec": {
   "display_name": "Python 3",
   "language": "python",
   "name": "python3"
  },
  "language_info": {
   "codemirror_mode": {
    "name": "ipython",
    "version": 3
   },
   "file_extension": ".py",
   "mimetype": "text/x-python",
   "name": "python",
   "nbconvert_exporter": "python",
   "pygments_lexer": "ipython3",
   "version": "3.8.5"
  }
 },
 "nbformat": 4,
 "nbformat_minor": 4
}
