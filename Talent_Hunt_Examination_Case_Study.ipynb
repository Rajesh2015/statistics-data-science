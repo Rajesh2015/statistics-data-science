{
  "cells": [
    {
      "cell_type": "markdown",
      "metadata": {
        "id": "CFNnr-z0rLy7"
      },
      "source": [
        "<center><p float=\"center\">\n",
        "  <img src=\"https://upload.wikimedia.org/wikipedia/commons/e/e9/4_RGB_McCombs_School_Brand_Branded.png\" width=\"300\" height=\"100\"/>\n",
        "  <img src=\"https://mma.prnewswire.com/media/1458111/Great_Learning_Logo.jpg?p=facebook\" width=\"200\" height=\"100\"/>\n",
        "</p></center>\n",
        "\n",
        "<center><font size=10>Applied Statistics</center></font>\n",
        "<center><font size=5>Estimation and Hypothesis Testing - Week 2</font></center>\n",
        "\n",
        "\n"
      ]
    },
    {
      "cell_type": "markdown",
      "metadata": {
        "id": "Lo-je8R2rPDg"
      },
      "source": [
        "<center><img src=\"https://cdn.pixabay.com/photo/2023/01/07/05/28/hand-7702606_1280.jpg\" width=\"720\"></center>\n",
        "\n",
        "<b><center><font size=5> Talent Hunt Examination Case Study</font></center></b>"
      ]
    },
    {
      "cell_type": "markdown",
      "metadata": {
        "id": "3BXeuML4rR7h"
      },
      "source": [
        "## **Problem Statement**"
      ]
    },
    {
      "cell_type": "markdown",
      "metadata": {
        "id": "Jk4B2nDFbUFC"
      },
      "source": [
        "### **Business Context**"
      ]
    },
    {
      "cell_type": "markdown",
      "metadata": {
        "id": "DO-G6sNubV9E"
      },
      "source": [
        "A research institute conducts a Talent Hunt Examination every year to hire people who can work on various research projects in the field of Mathematics , Physics,Chemistry and Computer Science. **A2Z institute** provides a preparatory program to help the aspirants prepare for the Talent Hunt Exams. The institute has a good record of helping many students clear the exams. Before the application for the next batch starts, the institute wants to attract more aspirants to their program. For this, the institute wants to assure the aspiring students of the quality of results obtained by students enrolled in their program in recent years.\n",
        "\n",
        "However, one challenge in estimating an average score is that every year the exam’s difficulty level varies a little, and the distribution of scores also changes accordingly. However, it is known that the standard deviation of the scores of the students of the institute is 10. The institute keeps a track of the scores of various subjects for its alumni who attempted the exams previously. A dataset constituted of a simple random sample of scores of 600 aspirants from the last three years is prepared by the institute."
      ]
    },
    {
      "cell_type": "markdown",
      "metadata": {
        "id": "6WfFKuC8baxn"
      },
      "source": [
        "### **Objective**"
      ]
    },
    {
      "cell_type": "markdown",
      "metadata": {
        "id": "QNZtNG1bbaFV"
      },
      "source": [
        "The institute wants to get a more robust measure of the average scores secured by the students that accounts for the variability in scores across different years. This will help them get a better picture of the overall performance of the students and the information can also be used for marketing purposes.\n",
        "\n",
        "A renowned critic has recently taken to social media to mention that the institute's preparation material for Physics and Mathematics do not have the required rigor and that students, on average, failed to clear the cut-off of 82 in these subjects last year. The institute wants to verify the validity of the critic's claim and then respond to him. The goal is to determine whether there is significant evidence to support the claim that the average scores in Physics and Mathematics are lower than the specified cut-off.\n",
        "\n",
        "In light of recent increase in revenue of the institute, an investor believes that the increase is driven by an increasing amount of students clearing their exams in Computer Science and Chemistry in the last year. The institute wants to check if the investor's belief in factually correct and share an update. The aim is to assess whether there is significant evidence to support the claim that the average scores in Computer Science and Chemistry are higher than the cut-off score of 85."
      ]
    },
    {
      "cell_type": "markdown",
      "metadata": {
        "id": "YByu8AjAeqql"
      },
      "source": [
        "### **Data Dictionary**"
      ]
    },
    {
      "cell_type": "markdown",
      "metadata": {
        "id": "t77WOUezeySA"
      },
      "source": [
        "The dataset provided (*Talent_hunt.csv*) contains the scores of four subjects of 600 aspirants enrolled in the institute''s programs in the last three years. Each row in the dataset corresponds to a different student, and the values in each column indicate the respective performance scores of that student in the specified academic program.\n",
        "\n",
        "- **Computer_Science**: This column contains numerical values representing the performance scores of students in the Computer Science program.\n",
        "\n",
        "- **Chemistry**: This column contains numerical values representing the performance scores of students in the Chemistry program.\n",
        "\n",
        "- **Mathematics**: This column contains numerical values representing the performance scores of students in the Mathematics program.\n",
        "\n",
        "- **Physics**: This column contains numerical values representing the performance scores of students in the Physics program.\n",
        "\n"
      ]
    },
    {
      "cell_type": "markdown",
      "metadata": {
        "id": "6QslxB5mevN9"
      },
      "source": [
        "## **Solution Approach**"
      ]
    },
    {
      "cell_type": "markdown",
      "metadata": {
        "id": "-8gYi8gErZUR"
      },
      "source": [
        "> 1.  **To provide a more reliable estimate of the average scores:** We will construct a 95% confidence interval for the mean scores of students in Physics, Mathematics, Computer Science, and Chemistry who have enrolled in the institute's program. This approach offers a comprehensive range of scores, providing a robust estimate.\n",
        "\n",
        "> 2. **Critic's Claim:** To investigate the critic's claim that the mean scores of students in Physics and Mathematics are less than the previous year's cut-off of 82, we will perform a hypothesis test at a significance level of 5%. The null hypothesis will assume that the mean scores are equal to or greater than 82, and the alternative hypothesis will suggest that the mean scores are less than 82.\n",
        "\n",
        "> 3. **Investor's Claim:** To assess the investor's claim that the mean scores of students in Computer Science and Chemistry are higher than or equal to the most recent cut-off of 85, we will conduct a hypothesis test at a significance level of 5%. The null hypothesis will assume that the mean scores are equal to or less than 85, and the alternative hypothesis will suggest that the mean scores are greater than 85. These tests will provide statistical evidence to validate or refute both the critic's and investor's perspectives, contributing to a comprehensive evaluation of the institute's performance."
      ]
    },
    {
      "cell_type": "markdown",
      "metadata": {
        "id": "9tRIjr4im6uI"
      },
      "source": [
        "## **Let us start by importing the required libraries**"
      ]
    },
    {
      "cell_type": "code",
      "execution_count": null,
      "metadata": {
        "id": "PXBkr210XS8F"
      },
      "outputs": [],
      "source": [
        "# Installing the libraries with the specified version.\n",
        "!pip install numpy==1.25.2 pandas==2.0.3 matplotlib==3.7.1 seaborn==0.13.1 scipy==1.11.4 -q --user"
      ]
    },
    {
      "cell_type": "markdown",
      "metadata": {
        "id": "Opd_TKlOzL11"
      },
      "source": [
        "**Note**: *After running the above cell, kindly restart the notebook kernel and run all cells sequentially from the start again.*"
      ]
    },
    {
      "cell_type": "markdown",
      "metadata": {
        "id": "hjxdsZmirkHa"
      },
      "source": [
        "## **Import the necessary libraries**\n",
        "\n"
      ]
    },
    {
      "cell_type": "code",
      "execution_count": 1,
      "metadata": {
        "id": "qMT4oqFojffp"
      },
      "outputs": [],
      "source": [
        "# Libraries to help with reading and manipulating data\n",
        "import pandas as pd\n",
        "import numpy as np\n",
        "\n",
        "# Libraries to help with data visualization\n",
        "import matplotlib.pyplot as plt\n",
        "import seaborn as sns\n",
        "%matplotlib inline\n",
        "\n",
        "# Library to help with statistical analysis\n",
        "import scipy.stats as stats\n",
        "\n",
        "# Function for handling normal distribution and statistical calculation\n",
        "from scipy.stats import norm"
      ]
    },
    {
      "cell_type": "code",
      "source": [
        "from google.colab import drive\n",
        "drive.mount('/content/drive')\n",
        "path='/content/drive/MyDrive/Python Course'"
      ],
      "metadata": {
        "id": "PdNoevm1gYBO",
        "outputId": "9677446f-512b-4f22-ed8f-7f97e5864d42",
        "colab": {
          "base_uri": "https://localhost:8080/"
        }
      },
      "execution_count": 2,
      "outputs": [
        {
          "output_type": "stream",
          "name": "stdout",
          "text": [
            "Mounted at /content/drive\n"
          ]
        }
      ]
    },
    {
      "cell_type": "markdown",
      "metadata": {
        "id": "142FPzUWroO5"
      },
      "source": [
        "## **Loading the dataset**"
      ]
    },
    {
      "cell_type": "code",
      "execution_count": 4,
      "metadata": {
        "id": "n0LhX4CRjoKc"
      },
      "outputs": [],
      "source": [
        "filename = \"talent_hunt_scores.csv\"\n",
        "data = pd.read_csv(f\"{path}/{filename}\")"
      ]
    },
    {
      "cell_type": "code",
      "execution_count": 5,
      "metadata": {
        "id": "v1hQs1Kpkury"
      },
      "outputs": [],
      "source": [
        "# copying data to another variable to avoid any changes to original data\n",
        "df = data.copy()"
      ]
    },
    {
      "cell_type": "markdown",
      "metadata": {
        "id": "_JvzZvFRr6A7"
      },
      "source": [
        "## **Data Overview**"
      ]
    },
    {
      "cell_type": "markdown",
      "metadata": {
        "id": "6djF5OCxr9_0"
      },
      "source": [
        "The initial steps to get an overview of any dataset is to:\n",
        "- Observe the first few rows of the dataset, to check whether the dataset has been loaded properly or not\n",
        "- Get information about the number of rows and columns in the dataset\n",
        "- Find out the data types of the columns to ensure that data is stored in the preferred format and the value of each property is as expected.\n",
        "- Check the statistical summary of the dataset to get an overview of the numerical columns of the data"
      ]
    },
    {
      "cell_type": "markdown",
      "metadata": {
        "id": "uuKhP1hVsBOz"
      },
      "source": [
        "#### **Displaying the first few rows of the dataset**"
      ]
    },
    {
      "cell_type": "code",
      "execution_count": 6,
      "metadata": {
        "colab": {
          "base_uri": "https://localhost:8080/",
          "height": 206
        },
        "id": "SCm8whM3nqGC",
        "outputId": "77cb02c0-654e-4929-be20-00cd5098accb"
      },
      "outputs": [
        {
          "output_type": "execute_result",
          "data": {
            "text/plain": [
              "   Computer_Science  Chemistry  Mathematics  Physics\n",
              "0             74.41     103.29        95.21    74.25\n",
              "1             83.02      88.96        74.95    96.26\n",
              "2             79.57      85.67        63.88   100.01\n",
              "3             75.55      84.31        99.49    91.51\n",
              "4             97.16      88.70        82.81    93.38"
            ],
            "text/html": [
              "\n",
              "  <div id=\"df-e7f8dada-9eda-49b7-af37-6af8f8cedc1a\" class=\"colab-df-container\">\n",
              "    <div>\n",
              "<style scoped>\n",
              "    .dataframe tbody tr th:only-of-type {\n",
              "        vertical-align: middle;\n",
              "    }\n",
              "\n",
              "    .dataframe tbody tr th {\n",
              "        vertical-align: top;\n",
              "    }\n",
              "\n",
              "    .dataframe thead th {\n",
              "        text-align: right;\n",
              "    }\n",
              "</style>\n",
              "<table border=\"1\" class=\"dataframe\">\n",
              "  <thead>\n",
              "    <tr style=\"text-align: right;\">\n",
              "      <th></th>\n",
              "      <th>Computer_Science</th>\n",
              "      <th>Chemistry</th>\n",
              "      <th>Mathematics</th>\n",
              "      <th>Physics</th>\n",
              "    </tr>\n",
              "  </thead>\n",
              "  <tbody>\n",
              "    <tr>\n",
              "      <th>0</th>\n",
              "      <td>74.41</td>\n",
              "      <td>103.29</td>\n",
              "      <td>95.21</td>\n",
              "      <td>74.25</td>\n",
              "    </tr>\n",
              "    <tr>\n",
              "      <th>1</th>\n",
              "      <td>83.02</td>\n",
              "      <td>88.96</td>\n",
              "      <td>74.95</td>\n",
              "      <td>96.26</td>\n",
              "    </tr>\n",
              "    <tr>\n",
              "      <th>2</th>\n",
              "      <td>79.57</td>\n",
              "      <td>85.67</td>\n",
              "      <td>63.88</td>\n",
              "      <td>100.01</td>\n",
              "    </tr>\n",
              "    <tr>\n",
              "      <th>3</th>\n",
              "      <td>75.55</td>\n",
              "      <td>84.31</td>\n",
              "      <td>99.49</td>\n",
              "      <td>91.51</td>\n",
              "    </tr>\n",
              "    <tr>\n",
              "      <th>4</th>\n",
              "      <td>97.16</td>\n",
              "      <td>88.70</td>\n",
              "      <td>82.81</td>\n",
              "      <td>93.38</td>\n",
              "    </tr>\n",
              "  </tbody>\n",
              "</table>\n",
              "</div>\n",
              "    <div class=\"colab-df-buttons\">\n",
              "\n",
              "  <div class=\"colab-df-container\">\n",
              "    <button class=\"colab-df-convert\" onclick=\"convertToInteractive('df-e7f8dada-9eda-49b7-af37-6af8f8cedc1a')\"\n",
              "            title=\"Convert this dataframe to an interactive table.\"\n",
              "            style=\"display:none;\">\n",
              "\n",
              "  <svg xmlns=\"http://www.w3.org/2000/svg\" height=\"24px\" viewBox=\"0 -960 960 960\">\n",
              "    <path d=\"M120-120v-720h720v720H120Zm60-500h600v-160H180v160Zm220 220h160v-160H400v160Zm0 220h160v-160H400v160ZM180-400h160v-160H180v160Zm440 0h160v-160H620v160ZM180-180h160v-160H180v160Zm440 0h160v-160H620v160Z\"/>\n",
              "  </svg>\n",
              "    </button>\n",
              "\n",
              "  <style>\n",
              "    .colab-df-container {\n",
              "      display:flex;\n",
              "      gap: 12px;\n",
              "    }\n",
              "\n",
              "    .colab-df-convert {\n",
              "      background-color: #E8F0FE;\n",
              "      border: none;\n",
              "      border-radius: 50%;\n",
              "      cursor: pointer;\n",
              "      display: none;\n",
              "      fill: #1967D2;\n",
              "      height: 32px;\n",
              "      padding: 0 0 0 0;\n",
              "      width: 32px;\n",
              "    }\n",
              "\n",
              "    .colab-df-convert:hover {\n",
              "      background-color: #E2EBFA;\n",
              "      box-shadow: 0px 1px 2px rgba(60, 64, 67, 0.3), 0px 1px 3px 1px rgba(60, 64, 67, 0.15);\n",
              "      fill: #174EA6;\n",
              "    }\n",
              "\n",
              "    .colab-df-buttons div {\n",
              "      margin-bottom: 4px;\n",
              "    }\n",
              "\n",
              "    [theme=dark] .colab-df-convert {\n",
              "      background-color: #3B4455;\n",
              "      fill: #D2E3FC;\n",
              "    }\n",
              "\n",
              "    [theme=dark] .colab-df-convert:hover {\n",
              "      background-color: #434B5C;\n",
              "      box-shadow: 0px 1px 3px 1px rgba(0, 0, 0, 0.15);\n",
              "      filter: drop-shadow(0px 1px 2px rgba(0, 0, 0, 0.3));\n",
              "      fill: #FFFFFF;\n",
              "    }\n",
              "  </style>\n",
              "\n",
              "    <script>\n",
              "      const buttonEl =\n",
              "        document.querySelector('#df-e7f8dada-9eda-49b7-af37-6af8f8cedc1a button.colab-df-convert');\n",
              "      buttonEl.style.display =\n",
              "        google.colab.kernel.accessAllowed ? 'block' : 'none';\n",
              "\n",
              "      async function convertToInteractive(key) {\n",
              "        const element = document.querySelector('#df-e7f8dada-9eda-49b7-af37-6af8f8cedc1a');\n",
              "        const dataTable =\n",
              "          await google.colab.kernel.invokeFunction('convertToInteractive',\n",
              "                                                    [key], {});\n",
              "        if (!dataTable) return;\n",
              "\n",
              "        const docLinkHtml = 'Like what you see? Visit the ' +\n",
              "          '<a target=\"_blank\" href=https://colab.research.google.com/notebooks/data_table.ipynb>data table notebook</a>'\n",
              "          + ' to learn more about interactive tables.';\n",
              "        element.innerHTML = '';\n",
              "        dataTable['output_type'] = 'display_data';\n",
              "        await google.colab.output.renderOutput(dataTable, element);\n",
              "        const docLink = document.createElement('div');\n",
              "        docLink.innerHTML = docLinkHtml;\n",
              "        element.appendChild(docLink);\n",
              "      }\n",
              "    </script>\n",
              "  </div>\n",
              "\n",
              "\n",
              "<div id=\"df-b2947830-2d54-4dda-8820-5dd022d2bb0a\">\n",
              "  <button class=\"colab-df-quickchart\" onclick=\"quickchart('df-b2947830-2d54-4dda-8820-5dd022d2bb0a')\"\n",
              "            title=\"Suggest charts\"\n",
              "            style=\"display:none;\">\n",
              "\n",
              "<svg xmlns=\"http://www.w3.org/2000/svg\" height=\"24px\"viewBox=\"0 0 24 24\"\n",
              "     width=\"24px\">\n",
              "    <g>\n",
              "        <path d=\"M19 3H5c-1.1 0-2 .9-2 2v14c0 1.1.9 2 2 2h14c1.1 0 2-.9 2-2V5c0-1.1-.9-2-2-2zM9 17H7v-7h2v7zm4 0h-2V7h2v10zm4 0h-2v-4h2v4z\"/>\n",
              "    </g>\n",
              "</svg>\n",
              "  </button>\n",
              "\n",
              "<style>\n",
              "  .colab-df-quickchart {\n",
              "      --bg-color: #E8F0FE;\n",
              "      --fill-color: #1967D2;\n",
              "      --hover-bg-color: #E2EBFA;\n",
              "      --hover-fill-color: #174EA6;\n",
              "      --disabled-fill-color: #AAA;\n",
              "      --disabled-bg-color: #DDD;\n",
              "  }\n",
              "\n",
              "  [theme=dark] .colab-df-quickchart {\n",
              "      --bg-color: #3B4455;\n",
              "      --fill-color: #D2E3FC;\n",
              "      --hover-bg-color: #434B5C;\n",
              "      --hover-fill-color: #FFFFFF;\n",
              "      --disabled-bg-color: #3B4455;\n",
              "      --disabled-fill-color: #666;\n",
              "  }\n",
              "\n",
              "  .colab-df-quickchart {\n",
              "    background-color: var(--bg-color);\n",
              "    border: none;\n",
              "    border-radius: 50%;\n",
              "    cursor: pointer;\n",
              "    display: none;\n",
              "    fill: var(--fill-color);\n",
              "    height: 32px;\n",
              "    padding: 0;\n",
              "    width: 32px;\n",
              "  }\n",
              "\n",
              "  .colab-df-quickchart:hover {\n",
              "    background-color: var(--hover-bg-color);\n",
              "    box-shadow: 0 1px 2px rgba(60, 64, 67, 0.3), 0 1px 3px 1px rgba(60, 64, 67, 0.15);\n",
              "    fill: var(--button-hover-fill-color);\n",
              "  }\n",
              "\n",
              "  .colab-df-quickchart-complete:disabled,\n",
              "  .colab-df-quickchart-complete:disabled:hover {\n",
              "    background-color: var(--disabled-bg-color);\n",
              "    fill: var(--disabled-fill-color);\n",
              "    box-shadow: none;\n",
              "  }\n",
              "\n",
              "  .colab-df-spinner {\n",
              "    border: 2px solid var(--fill-color);\n",
              "    border-color: transparent;\n",
              "    border-bottom-color: var(--fill-color);\n",
              "    animation:\n",
              "      spin 1s steps(1) infinite;\n",
              "  }\n",
              "\n",
              "  @keyframes spin {\n",
              "    0% {\n",
              "      border-color: transparent;\n",
              "      border-bottom-color: var(--fill-color);\n",
              "      border-left-color: var(--fill-color);\n",
              "    }\n",
              "    20% {\n",
              "      border-color: transparent;\n",
              "      border-left-color: var(--fill-color);\n",
              "      border-top-color: var(--fill-color);\n",
              "    }\n",
              "    30% {\n",
              "      border-color: transparent;\n",
              "      border-left-color: var(--fill-color);\n",
              "      border-top-color: var(--fill-color);\n",
              "      border-right-color: var(--fill-color);\n",
              "    }\n",
              "    40% {\n",
              "      border-color: transparent;\n",
              "      border-right-color: var(--fill-color);\n",
              "      border-top-color: var(--fill-color);\n",
              "    }\n",
              "    60% {\n",
              "      border-color: transparent;\n",
              "      border-right-color: var(--fill-color);\n",
              "    }\n",
              "    80% {\n",
              "      border-color: transparent;\n",
              "      border-right-color: var(--fill-color);\n",
              "      border-bottom-color: var(--fill-color);\n",
              "    }\n",
              "    90% {\n",
              "      border-color: transparent;\n",
              "      border-bottom-color: var(--fill-color);\n",
              "    }\n",
              "  }\n",
              "</style>\n",
              "\n",
              "  <script>\n",
              "    async function quickchart(key) {\n",
              "      const quickchartButtonEl =\n",
              "        document.querySelector('#' + key + ' button');\n",
              "      quickchartButtonEl.disabled = true;  // To prevent multiple clicks.\n",
              "      quickchartButtonEl.classList.add('colab-df-spinner');\n",
              "      try {\n",
              "        const charts = await google.colab.kernel.invokeFunction(\n",
              "            'suggestCharts', [key], {});\n",
              "      } catch (error) {\n",
              "        console.error('Error during call to suggestCharts:', error);\n",
              "      }\n",
              "      quickchartButtonEl.classList.remove('colab-df-spinner');\n",
              "      quickchartButtonEl.classList.add('colab-df-quickchart-complete');\n",
              "    }\n",
              "    (() => {\n",
              "      let quickchartButtonEl =\n",
              "        document.querySelector('#df-b2947830-2d54-4dda-8820-5dd022d2bb0a button');\n",
              "      quickchartButtonEl.style.display =\n",
              "        google.colab.kernel.accessAllowed ? 'block' : 'none';\n",
              "    })();\n",
              "  </script>\n",
              "</div>\n",
              "\n",
              "    </div>\n",
              "  </div>\n"
            ],
            "application/vnd.google.colaboratory.intrinsic+json": {
              "type": "dataframe",
              "variable_name": "df",
              "summary": "{\n  \"name\": \"df\",\n  \"rows\": 600,\n  \"fields\": [\n    {\n      \"column\": \"Computer_Science\",\n      \"properties\": {\n        \"dtype\": \"number\",\n        \"std\": 9.90139725298866,\n        \"min\": 55.39,\n        \"max\": 119.39,\n        \"num_unique_values\": 546,\n        \"samples\": [\n          86.21,\n          91.18,\n          75.86\n        ],\n        \"semantic_type\": \"\",\n        \"description\": \"\"\n      }\n    },\n    {\n      \"column\": \"Chemistry\",\n      \"properties\": {\n        \"dtype\": \"number\",\n        \"std\": 9.76580934792857,\n        \"min\": 58.9,\n        \"max\": 114.27,\n        \"num_unique_values\": 548,\n        \"samples\": [\n          86.25,\n          94.98,\n          88.56\n        ],\n        \"semantic_type\": \"\",\n        \"description\": \"\"\n      }\n    },\n    {\n      \"column\": \"Mathematics\",\n      \"properties\": {\n        \"dtype\": \"number\",\n        \"std\": 10.468294393017759,\n        \"min\": 40.17,\n        \"max\": 110.82,\n        \"num_unique_values\": 554,\n        \"samples\": [\n          79.62,\n          82.59,\n          79.66\n        ],\n        \"semantic_type\": \"\",\n        \"description\": \"\"\n      }\n    },\n    {\n      \"column\": \"Physics\",\n      \"properties\": {\n        \"dtype\": \"number\",\n        \"std\": 10.2630649110619,\n        \"min\": 40.71,\n        \"max\": 111.65,\n        \"num_unique_values\": 562,\n        \"samples\": [\n          86.76,\n          88.25,\n          95.37\n        ],\n        \"semantic_type\": \"\",\n        \"description\": \"\"\n      }\n    }\n  ]\n}"
            }
          },
          "metadata": {},
          "execution_count": 6
        }
      ],
      "source": [
        "# looking at head (5 observations)\n",
        "df.head()"
      ]
    },
    {
      "cell_type": "markdown",
      "metadata": {
        "id": "8vEReCHBsKGa"
      },
      "source": [
        "* There are total four column `Computer_Science`,`Chemistry`,`Mathematics` and `Physics` in the dataset which represents the score of the various subjects from a sample of the aspirants."
      ]
    },
    {
      "cell_type": "markdown",
      "metadata": {
        "id": "KPS86Tdwi-jj"
      },
      "source": [
        "#### **Checking the shape of the dataset**"
      ]
    },
    {
      "cell_type": "code",
      "execution_count": 7,
      "metadata": {
        "colab": {
          "base_uri": "https://localhost:8080/"
        },
        "id": "dtPbWZp2sD3P",
        "outputId": "9c0f4f3c-eefa-45c2-b86f-df2c26394547"
      },
      "outputs": [
        {
          "output_type": "execute_result",
          "data": {
            "text/plain": [
              "(600, 4)"
            ]
          },
          "metadata": {},
          "execution_count": 7
        }
      ],
      "source": [
        "df.shape"
      ]
    },
    {
      "cell_type": "markdown",
      "metadata": {
        "id": "jhWM21E0tLMa"
      },
      "source": [
        "* There is a total of 600 scores of 4 subjects in the sample."
      ]
    },
    {
      "cell_type": "markdown",
      "metadata": {
        "id": "TqnrRe5StV2a"
      },
      "source": [
        "#### **Checking the data types of the columns for the dataset**"
      ]
    },
    {
      "cell_type": "code",
      "execution_count": 8,
      "metadata": {
        "colab": {
          "base_uri": "https://localhost:8080/"
        },
        "id": "qpjp6gO5sHGN",
        "outputId": "906581ba-ce75-4382-ea4b-ede33af2a08e"
      },
      "outputs": [
        {
          "output_type": "stream",
          "name": "stdout",
          "text": [
            "<class 'pandas.core.frame.DataFrame'>\n",
            "RangeIndex: 600 entries, 0 to 599\n",
            "Data columns (total 4 columns):\n",
            " #   Column            Non-Null Count  Dtype  \n",
            "---  ------            --------------  -----  \n",
            " 0   Computer_Science  600 non-null    float64\n",
            " 1   Chemistry         600 non-null    float64\n",
            " 2   Mathematics       600 non-null    float64\n",
            " 3   Physics           600 non-null    float64\n",
            "dtypes: float64(4)\n",
            "memory usage: 18.9 KB\n"
          ]
        }
      ],
      "source": [
        "df.info()"
      ]
    },
    {
      "cell_type": "markdown",
      "metadata": {
        "id": "mtaYIZOkta2j"
      },
      "source": [
        "* The scores of the aspirants are continuous in nature."
      ]
    },
    {
      "cell_type": "markdown",
      "metadata": {
        "id": "vbOHyOZXtdva"
      },
      "source": [
        "#### **Statistical summary of the dataset**"
      ]
    },
    {
      "cell_type": "code",
      "execution_count": 9,
      "metadata": {
        "colab": {
          "base_uri": "https://localhost:8080/",
          "height": 300
        },
        "id": "MFGeM_T5tX2U",
        "outputId": "4d74857e-7170-409f-b120-78c73f7f4056"
      },
      "outputs": [
        {
          "output_type": "execute_result",
          "data": {
            "text/plain": [
              "       Computer_Science   Chemistry  Mathematics     Physics\n",
              "count        600.000000  600.000000   600.000000  600.000000\n",
              "mean          84.920467   85.727483    81.733783   82.684317\n",
              "std            9.901397    9.765809    10.468294   10.263065\n",
              "min           55.390000   58.900000    40.170000   40.710000\n",
              "25%           78.215000   79.147500    75.345000   75.820000\n",
              "50%           84.990000   85.700000    82.115000   82.920000\n",
              "75%           91.180000   91.662500    88.092500   89.672500\n",
              "max          119.390000  114.270000   110.820000  111.650000"
            ],
            "text/html": [
              "\n",
              "  <div id=\"df-08e068c6-7d34-4965-924d-daeadbe272bc\" class=\"colab-df-container\">\n",
              "    <div>\n",
              "<style scoped>\n",
              "    .dataframe tbody tr th:only-of-type {\n",
              "        vertical-align: middle;\n",
              "    }\n",
              "\n",
              "    .dataframe tbody tr th {\n",
              "        vertical-align: top;\n",
              "    }\n",
              "\n",
              "    .dataframe thead th {\n",
              "        text-align: right;\n",
              "    }\n",
              "</style>\n",
              "<table border=\"1\" class=\"dataframe\">\n",
              "  <thead>\n",
              "    <tr style=\"text-align: right;\">\n",
              "      <th></th>\n",
              "      <th>Computer_Science</th>\n",
              "      <th>Chemistry</th>\n",
              "      <th>Mathematics</th>\n",
              "      <th>Physics</th>\n",
              "    </tr>\n",
              "  </thead>\n",
              "  <tbody>\n",
              "    <tr>\n",
              "      <th>count</th>\n",
              "      <td>600.000000</td>\n",
              "      <td>600.000000</td>\n",
              "      <td>600.000000</td>\n",
              "      <td>600.000000</td>\n",
              "    </tr>\n",
              "    <tr>\n",
              "      <th>mean</th>\n",
              "      <td>84.920467</td>\n",
              "      <td>85.727483</td>\n",
              "      <td>81.733783</td>\n",
              "      <td>82.684317</td>\n",
              "    </tr>\n",
              "    <tr>\n",
              "      <th>std</th>\n",
              "      <td>9.901397</td>\n",
              "      <td>9.765809</td>\n",
              "      <td>10.468294</td>\n",
              "      <td>10.263065</td>\n",
              "    </tr>\n",
              "    <tr>\n",
              "      <th>min</th>\n",
              "      <td>55.390000</td>\n",
              "      <td>58.900000</td>\n",
              "      <td>40.170000</td>\n",
              "      <td>40.710000</td>\n",
              "    </tr>\n",
              "    <tr>\n",
              "      <th>25%</th>\n",
              "      <td>78.215000</td>\n",
              "      <td>79.147500</td>\n",
              "      <td>75.345000</td>\n",
              "      <td>75.820000</td>\n",
              "    </tr>\n",
              "    <tr>\n",
              "      <th>50%</th>\n",
              "      <td>84.990000</td>\n",
              "      <td>85.700000</td>\n",
              "      <td>82.115000</td>\n",
              "      <td>82.920000</td>\n",
              "    </tr>\n",
              "    <tr>\n",
              "      <th>75%</th>\n",
              "      <td>91.180000</td>\n",
              "      <td>91.662500</td>\n",
              "      <td>88.092500</td>\n",
              "      <td>89.672500</td>\n",
              "    </tr>\n",
              "    <tr>\n",
              "      <th>max</th>\n",
              "      <td>119.390000</td>\n",
              "      <td>114.270000</td>\n",
              "      <td>110.820000</td>\n",
              "      <td>111.650000</td>\n",
              "    </tr>\n",
              "  </tbody>\n",
              "</table>\n",
              "</div>\n",
              "    <div class=\"colab-df-buttons\">\n",
              "\n",
              "  <div class=\"colab-df-container\">\n",
              "    <button class=\"colab-df-convert\" onclick=\"convertToInteractive('df-08e068c6-7d34-4965-924d-daeadbe272bc')\"\n",
              "            title=\"Convert this dataframe to an interactive table.\"\n",
              "            style=\"display:none;\">\n",
              "\n",
              "  <svg xmlns=\"http://www.w3.org/2000/svg\" height=\"24px\" viewBox=\"0 -960 960 960\">\n",
              "    <path d=\"M120-120v-720h720v720H120Zm60-500h600v-160H180v160Zm220 220h160v-160H400v160Zm0 220h160v-160H400v160ZM180-400h160v-160H180v160Zm440 0h160v-160H620v160ZM180-180h160v-160H180v160Zm440 0h160v-160H620v160Z\"/>\n",
              "  </svg>\n",
              "    </button>\n",
              "\n",
              "  <style>\n",
              "    .colab-df-container {\n",
              "      display:flex;\n",
              "      gap: 12px;\n",
              "    }\n",
              "\n",
              "    .colab-df-convert {\n",
              "      background-color: #E8F0FE;\n",
              "      border: none;\n",
              "      border-radius: 50%;\n",
              "      cursor: pointer;\n",
              "      display: none;\n",
              "      fill: #1967D2;\n",
              "      height: 32px;\n",
              "      padding: 0 0 0 0;\n",
              "      width: 32px;\n",
              "    }\n",
              "\n",
              "    .colab-df-convert:hover {\n",
              "      background-color: #E2EBFA;\n",
              "      box-shadow: 0px 1px 2px rgba(60, 64, 67, 0.3), 0px 1px 3px 1px rgba(60, 64, 67, 0.15);\n",
              "      fill: #174EA6;\n",
              "    }\n",
              "\n",
              "    .colab-df-buttons div {\n",
              "      margin-bottom: 4px;\n",
              "    }\n",
              "\n",
              "    [theme=dark] .colab-df-convert {\n",
              "      background-color: #3B4455;\n",
              "      fill: #D2E3FC;\n",
              "    }\n",
              "\n",
              "    [theme=dark] .colab-df-convert:hover {\n",
              "      background-color: #434B5C;\n",
              "      box-shadow: 0px 1px 3px 1px rgba(0, 0, 0, 0.15);\n",
              "      filter: drop-shadow(0px 1px 2px rgba(0, 0, 0, 0.3));\n",
              "      fill: #FFFFFF;\n",
              "    }\n",
              "  </style>\n",
              "\n",
              "    <script>\n",
              "      const buttonEl =\n",
              "        document.querySelector('#df-08e068c6-7d34-4965-924d-daeadbe272bc button.colab-df-convert');\n",
              "      buttonEl.style.display =\n",
              "        google.colab.kernel.accessAllowed ? 'block' : 'none';\n",
              "\n",
              "      async function convertToInteractive(key) {\n",
              "        const element = document.querySelector('#df-08e068c6-7d34-4965-924d-daeadbe272bc');\n",
              "        const dataTable =\n",
              "          await google.colab.kernel.invokeFunction('convertToInteractive',\n",
              "                                                    [key], {});\n",
              "        if (!dataTable) return;\n",
              "\n",
              "        const docLinkHtml = 'Like what you see? Visit the ' +\n",
              "          '<a target=\"_blank\" href=https://colab.research.google.com/notebooks/data_table.ipynb>data table notebook</a>'\n",
              "          + ' to learn more about interactive tables.';\n",
              "        element.innerHTML = '';\n",
              "        dataTable['output_type'] = 'display_data';\n",
              "        await google.colab.output.renderOutput(dataTable, element);\n",
              "        const docLink = document.createElement('div');\n",
              "        docLink.innerHTML = docLinkHtml;\n",
              "        element.appendChild(docLink);\n",
              "      }\n",
              "    </script>\n",
              "  </div>\n",
              "\n",
              "\n",
              "<div id=\"df-49f1b501-479b-4c7d-b642-13d1677dbe1b\">\n",
              "  <button class=\"colab-df-quickchart\" onclick=\"quickchart('df-49f1b501-479b-4c7d-b642-13d1677dbe1b')\"\n",
              "            title=\"Suggest charts\"\n",
              "            style=\"display:none;\">\n",
              "\n",
              "<svg xmlns=\"http://www.w3.org/2000/svg\" height=\"24px\"viewBox=\"0 0 24 24\"\n",
              "     width=\"24px\">\n",
              "    <g>\n",
              "        <path d=\"M19 3H5c-1.1 0-2 .9-2 2v14c0 1.1.9 2 2 2h14c1.1 0 2-.9 2-2V5c0-1.1-.9-2-2-2zM9 17H7v-7h2v7zm4 0h-2V7h2v10zm4 0h-2v-4h2v4z\"/>\n",
              "    </g>\n",
              "</svg>\n",
              "  </button>\n",
              "\n",
              "<style>\n",
              "  .colab-df-quickchart {\n",
              "      --bg-color: #E8F0FE;\n",
              "      --fill-color: #1967D2;\n",
              "      --hover-bg-color: #E2EBFA;\n",
              "      --hover-fill-color: #174EA6;\n",
              "      --disabled-fill-color: #AAA;\n",
              "      --disabled-bg-color: #DDD;\n",
              "  }\n",
              "\n",
              "  [theme=dark] .colab-df-quickchart {\n",
              "      --bg-color: #3B4455;\n",
              "      --fill-color: #D2E3FC;\n",
              "      --hover-bg-color: #434B5C;\n",
              "      --hover-fill-color: #FFFFFF;\n",
              "      --disabled-bg-color: #3B4455;\n",
              "      --disabled-fill-color: #666;\n",
              "  }\n",
              "\n",
              "  .colab-df-quickchart {\n",
              "    background-color: var(--bg-color);\n",
              "    border: none;\n",
              "    border-radius: 50%;\n",
              "    cursor: pointer;\n",
              "    display: none;\n",
              "    fill: var(--fill-color);\n",
              "    height: 32px;\n",
              "    padding: 0;\n",
              "    width: 32px;\n",
              "  }\n",
              "\n",
              "  .colab-df-quickchart:hover {\n",
              "    background-color: var(--hover-bg-color);\n",
              "    box-shadow: 0 1px 2px rgba(60, 64, 67, 0.3), 0 1px 3px 1px rgba(60, 64, 67, 0.15);\n",
              "    fill: var(--button-hover-fill-color);\n",
              "  }\n",
              "\n",
              "  .colab-df-quickchart-complete:disabled,\n",
              "  .colab-df-quickchart-complete:disabled:hover {\n",
              "    background-color: var(--disabled-bg-color);\n",
              "    fill: var(--disabled-fill-color);\n",
              "    box-shadow: none;\n",
              "  }\n",
              "\n",
              "  .colab-df-spinner {\n",
              "    border: 2px solid var(--fill-color);\n",
              "    border-color: transparent;\n",
              "    border-bottom-color: var(--fill-color);\n",
              "    animation:\n",
              "      spin 1s steps(1) infinite;\n",
              "  }\n",
              "\n",
              "  @keyframes spin {\n",
              "    0% {\n",
              "      border-color: transparent;\n",
              "      border-bottom-color: var(--fill-color);\n",
              "      border-left-color: var(--fill-color);\n",
              "    }\n",
              "    20% {\n",
              "      border-color: transparent;\n",
              "      border-left-color: var(--fill-color);\n",
              "      border-top-color: var(--fill-color);\n",
              "    }\n",
              "    30% {\n",
              "      border-color: transparent;\n",
              "      border-left-color: var(--fill-color);\n",
              "      border-top-color: var(--fill-color);\n",
              "      border-right-color: var(--fill-color);\n",
              "    }\n",
              "    40% {\n",
              "      border-color: transparent;\n",
              "      border-right-color: var(--fill-color);\n",
              "      border-top-color: var(--fill-color);\n",
              "    }\n",
              "    60% {\n",
              "      border-color: transparent;\n",
              "      border-right-color: var(--fill-color);\n",
              "    }\n",
              "    80% {\n",
              "      border-color: transparent;\n",
              "      border-right-color: var(--fill-color);\n",
              "      border-bottom-color: var(--fill-color);\n",
              "    }\n",
              "    90% {\n",
              "      border-color: transparent;\n",
              "      border-bottom-color: var(--fill-color);\n",
              "    }\n",
              "  }\n",
              "</style>\n",
              "\n",
              "  <script>\n",
              "    async function quickchart(key) {\n",
              "      const quickchartButtonEl =\n",
              "        document.querySelector('#' + key + ' button');\n",
              "      quickchartButtonEl.disabled = true;  // To prevent multiple clicks.\n",
              "      quickchartButtonEl.classList.add('colab-df-spinner');\n",
              "      try {\n",
              "        const charts = await google.colab.kernel.invokeFunction(\n",
              "            'suggestCharts', [key], {});\n",
              "      } catch (error) {\n",
              "        console.error('Error during call to suggestCharts:', error);\n",
              "      }\n",
              "      quickchartButtonEl.classList.remove('colab-df-spinner');\n",
              "      quickchartButtonEl.classList.add('colab-df-quickchart-complete');\n",
              "    }\n",
              "    (() => {\n",
              "      let quickchartButtonEl =\n",
              "        document.querySelector('#df-49f1b501-479b-4c7d-b642-13d1677dbe1b button');\n",
              "      quickchartButtonEl.style.display =\n",
              "        google.colab.kernel.accessAllowed ? 'block' : 'none';\n",
              "    })();\n",
              "  </script>\n",
              "</div>\n",
              "\n",
              "    </div>\n",
              "  </div>\n"
            ],
            "application/vnd.google.colaboratory.intrinsic+json": {
              "type": "dataframe",
              "summary": "{\n  \"name\": \"df\",\n  \"rows\": 8,\n  \"fields\": [\n    {\n      \"column\": \"Computer_Science\",\n      \"properties\": {\n        \"dtype\": \"number\",\n        \"std\": 188.36435720943038,\n        \"min\": 9.90139725298866,\n        \"max\": 600.0,\n        \"num_unique_values\": 8,\n        \"samples\": [\n          84.92046666666667,\n          84.99,\n          600.0\n        ],\n        \"semantic_type\": \"\",\n        \"description\": \"\"\n      }\n    },\n    {\n      \"column\": \"Chemistry\",\n      \"properties\": {\n        \"dtype\": \"number\",\n        \"std\": 188.12244442421309,\n        \"min\": 9.76580934792857,\n        \"max\": 600.0,\n        \"num_unique_values\": 8,\n        \"samples\": [\n          85.72748333333334,\n          85.7,\n          600.0\n        ],\n        \"semantic_type\": \"\",\n        \"description\": \"\"\n      }\n    },\n    {\n      \"column\": \"Mathematics\",\n      \"properties\": {\n        \"dtype\": \"number\",\n        \"std\": 189.99779479572268,\n        \"min\": 10.468294393017759,\n        \"max\": 600.0,\n        \"num_unique_values\": 8,\n        \"samples\": [\n          81.73378333333334,\n          82.115,\n          600.0\n        ],\n        \"semantic_type\": \"\",\n        \"description\": \"\"\n      }\n    },\n    {\n      \"column\": \"Physics\",\n      \"properties\": {\n        \"dtype\": \"number\",\n        \"std\": 189.8129575437177,\n        \"min\": 10.2630649110619,\n        \"max\": 600.0,\n        \"num_unique_values\": 8,\n        \"samples\": [\n          82.68431666666666,\n          82.91999999999999,\n          600.0\n        ],\n        \"semantic_type\": \"\",\n        \"description\": \"\"\n      }\n    }\n  ]\n}"
            }
          },
          "metadata": {},
          "execution_count": 9
        }
      ],
      "source": [
        "df.describe()"
      ]
    },
    {
      "cell_type": "markdown",
      "metadata": {
        "id": "0kDZNWHyuEtz"
      },
      "source": [
        "#####**Observations:**\n",
        "* In Computer Science, the average score is 84.92, Chemistry exhibits an average of 85.73, Mathematics has an average of 81.73, and Physics shows an average of 82.68.\n",
        "* The median scores closely align with the averages: Computer Science (84.99), Chemistry (85.70), Mathematics (82.12), and Physics (82.92), suggesting a balanced distribution.\n",
        "* Standard deviations provide insights into the spread of scores: Computer Science (9.90), Chemistry (9.77), Mathematics (10.47), and Physics (10.26).\n",
        "* The minimum scores are 55.39 in Computer Science, 58.90 in Chemistry, 40.17 in Mathematics, and 40.71 in Physics, revealing the lowest performance levels.\n",
        "* No student scored below 78.22 in Computer Science, 79.15 in Chemistry, 75.35 in Mathematics, or 75.82 in Physics, indicating a certain threshold of competence.\n",
        "* The highest scores attained are 119.39 in Computer Science, 114.27 in Chemistry, 110.82 in Mathematics, and 111.65 in Physics, showcasing outstanding achievements in each subject."
      ]
    },
    {
      "cell_type": "markdown",
      "metadata": {
        "id": "eiz5_WQtuKCa"
      },
      "source": [
        "## **Exploratory Data Analysis**"
      ]
    },
    {
      "cell_type": "code",
      "execution_count": null,
      "metadata": {
        "colab": {
          "base_uri": "https://localhost:8080/"
        },
        "id": "fnef27ReyXLS",
        "outputId": "e702605c-decf-4939-d9bc-59bb131c60ad"
      },
      "outputs": [
        {
          "data": {
            "image/png": "[encoded data removed]",
            "text/plain": [
              "<Figure size 720x432 with 4 Axes>"
            ]
          },
          "metadata": {
            "needs_background": "light"
          },
          "output_type": "display_data"
        }
      ],
      "source": [
        "# plotting histograms of the distribution of the scores\n",
        "fig, axes = plt.subplots(2, 2, figsize=(10, 6))\n",
        "sns.histplot(df['Computer_Science'], kde=True, ax=axes[0, 0])\n",
        "sns.histplot(df['Chemistry'], kde=True, ax=axes[0, 1])\n",
        "sns.histplot(df['Mathematics'], kde=True, ax=axes[1, 0])\n",
        "sns.histplot(df['Physics'], kde=True, ax=axes[1, 1])\n",
        "plt.tight_layout()\n",
        "plt.show()"
      ]
    },
    {
      "cell_type": "markdown",
      "metadata": {
        "id": "xkHb6h75uzIS"
      },
      "source": [
        "* For computer science and chemistry, the distribution is approx. normal.\n",
        "* From the distribution of the scores it can be observed that for mathematics and physics the distribution is slightly left-skewed.\n",
        "  * There might be a few outliers at the left tail of the distribution."
      ]
    },
    {
      "cell_type": "code",
      "execution_count": null,
      "metadata": {
        "colab": {
          "base_uri": "https://localhost:8080/"
        },
        "id": "YKbghG8o0mxD",
        "outputId": "ae8ccdbd-f8bf-4faf-83ed-6c56a230f6e3"
      },
      "outputs": [
        {
          "data": {
            "image/png": "[encoded data removed]",
            "text/plain": [
              "<Figure size 720x432 with 4 Axes>"
            ]
          },
          "metadata": {
            "needs_background": "light"
          },
          "output_type": "display_data"
        }
      ],
      "source": [
        "# plotting boxplots to check outliers for scores\n",
        "fig, axes = plt.subplots(2, 2, figsize=(10, 6))\n",
        "sns.boxplot(x =df.Computer_Science, ax=axes[0, 0])\n",
        "sns.boxplot(x =df.Chemistry, ax=axes[0, 1])\n",
        "sns.boxplot(x =df.Mathematics, ax=axes[1, 0])\n",
        "sns.boxplot(x =df.Physics, ax=axes[1, 1])\n",
        "plt.show()"
      ]
    },
    {
      "cell_type": "markdown",
      "metadata": {
        "id": "oVIndUxYyphE"
      },
      "source": [
        "* As observed from the boxplots, there are a few outliers present in each distribution of the subject scores."
      ]
    },
    {
      "cell_type": "markdown",
      "metadata": {
        "id": "Sp8KH9AJy7ap"
      },
      "source": [
        "## **Reliable estimate of the average score using confidence intervals**"
      ]
    },
    {
      "cell_type": "markdown",
      "metadata": {
        "id": "QHftqiznzIP5"
      },
      "source": [
        "To provide a more reliable estimate of the average score using a range of scores instead of a single estimate, we will construct a 95% confidence interval for the mean score that an aspirant has scored after enrolling in the institute’s program."
      ]
    },
    {
      "cell_type": "markdown",
      "metadata": {
        "id": "fxmsoOBWzKeW"
      },
      "source": [
        "* We saw that the distribution of the scores is not strictly normal\n",
        "* For constructing a confidence interval for the mean score, we need to know the underlying distribution of the mean score, which is not available\n",
        "* The Central Limit Theorem (CLT) can help us with this"
      ]
    },
    {
      "cell_type": "markdown",
      "metadata": {
        "id": "8_MeENS6zQgN"
      },
      "source": [
        "**What is Central Limit Theorem (CLT)?**\n",
        "\n",
        "The Central Limit Theorem states that the sampling distribution of the sample means will approach a normal distribution as the sample size gets bigger, no matter what the shape of the population distribution is.\n",
        "\n",
        "Mathematically, if we are drawing multiple samples of size $n$ from a population with mean $\\mu$ and standard deviation $\\sigma$ and $\\bar{X}$ is the random variable representing the sample mean, then $\\bar{X}$ tends to follow a normal distribution as $n$ increases.\n",
        "\n",
        "* The mean of $\\bar{X}$ is equal to $\\mu$\n",
        "* The standard deviation of $\\bar{X}$ (also called as the standard error) is equal to $\\sigma/\\sqrt{n}$"
      ]
    },
    {
      "cell_type": "markdown",
      "metadata": {
        "id": "_mITasIrzUED"
      },
      "source": [
        "**As the data consists of 600 scores (data points), so $n=600 (>30)$. So, using CLT, we can say that the mean score will be approximately normally distributed.**"
      ]
    },
    {
      "cell_type": "markdown",
      "metadata": {
        "id": "OXQPITYGzWIL"
      },
      "source": [
        "As the population standard deviation is known, the normal distribution will be used to calculate the confidence interval. The 95% confidence interval for the population mean can be calculated by using the `interval()` function of the `norm` class of `scipy.stats`\n",
        "\n",
        "* The `interval()` function calculates the endpoints within which the specified percentage of values of the distribution lie, where\n",
        "  * `alpha` denotes the confidence level\n",
        "  * `loc` denotes the mean\n",
        "  * `scale` denotes the standard deviation"
      ]
    },
    {
      "cell_type": "markdown",
      "metadata": {
        "id": "ACfqF0uzlYRE"
      },
      "source": [
        "It is known that the standard deviation of the scores is 10."
      ]
    },
    {
      "cell_type": "code",
      "execution_count": null,
      "metadata": {
        "id": "4T-lnE4bks9N"
      },
      "outputs": [],
      "source": [
        "# Given population standard deviation\n",
        "sigma = 10"
      ]
    },
    {
      "cell_type": "markdown",
      "metadata": {
        "id": "93ie1Qi2lJYX"
      },
      "source": [
        "We have 600 observations (scores) for each subject."
      ]
    },
    {
      "cell_type": "code",
      "execution_count": null,
      "metadata": {
        "id": "mp3Yju8-kw5g"
      },
      "outputs": [],
      "source": [
        "# Sample size\n",
        "n = 600"
      ]
    },
    {
      "cell_type": "markdown",
      "metadata": {
        "id": "JduVbJxSk68W"
      },
      "source": [
        "We want to build 95\\% confidence intervals."
      ]
    },
    {
      "cell_type": "code",
      "execution_count": null,
      "metadata": {
        "id": "oRCivhTGk2Sg"
      },
      "outputs": [],
      "source": [
        "# Confidence level (alpha) for the confidence interval\n",
        "alpha = 0.95"
      ]
    },
    {
      "cell_type": "markdown",
      "metadata": {
        "id": "NA5nWxTAVbZ4"
      },
      "source": [
        "### **Confidence Interval Calculation for '*Computer_Science*' Scores**"
      ]
    },
    {
      "cell_type": "code",
      "execution_count": null,
      "metadata": {
        "id": "FomBolG5fe3O"
      },
      "outputs": [],
      "source": [
        "# Calculate the value of the sample mean for the 'Computer_Science' subject\n",
        "score_1 = df['Computer_Science'].mean()"
      ]
    },
    {
      "cell_type": "code",
      "execution_count": null,
      "metadata": {
        "colab": {
          "base_uri": "https://localhost:8080/"
        },
        "id": "Tuhwpdgnvd4_",
        "outputId": "6be6b0e0-db29-40fe-e685-63a0cb5259c2"
      },
      "outputs": [
        {
          "name": "stdout",
          "output_type": "stream",
          "text": [
            "95% Confidence Interval: [84.12 85.72]\n"
          ]
        }
      ],
      "source": [
        "# Construct the 95% confidence interval for the mean score in 'Computer_Science'\n",
        "confidence_interval = np.round(norm.interval(alpha, loc=score_1, scale=sigma / np.sqrt(n)), 2)\n",
        "\n",
        "# Display the confidence interval\n",
        "print(\"95% Confidence Interval:\", confidence_interval)"
      ]
    },
    {
      "cell_type": "markdown",
      "metadata": {
        "id": "eQxiH97SV4D3"
      },
      "source": [
        "* The 95% confidence interval calculated for the mean score in *Computer Science* is [84.12, 85.72].\n",
        "* **This implies that there is a 95% probability that a student participating in the institute's program for *Computer Science* will achieve, on average, a score falling within the range of 84.12 to 85.72**"
      ]
    },
    {
      "cell_type": "markdown",
      "metadata": {
        "id": "ByIK9VkfVkn4"
      },
      "source": [
        "###**Confidence Interval Calculation for '*Chemistry*' Scores**"
      ]
    },
    {
      "cell_type": "code",
      "execution_count": null,
      "metadata": {
        "id": "nLS3UhWFFv0S"
      },
      "outputs": [],
      "source": [
        "# Calculate the value of the sample mean for the 'Computer_Science' subject\n",
        "score_2 = df['Chemistry'].mean()"
      ]
    },
    {
      "cell_type": "code",
      "execution_count": null,
      "metadata": {
        "colab": {
          "base_uri": "https://localhost:8080/"
        },
        "id": "xu7EYkDrOJCy",
        "outputId": "679db1e4-f28e-41f8-910d-bdc5d9b2937f"
      },
      "outputs": [
        {
          "name": "stdout",
          "output_type": "stream",
          "text": [
            "95% Confidence Interval: [84.93 86.53]\n"
          ]
        }
      ],
      "source": [
        "# Construct the 95% confidence interval for the mean score in 'Chemistry'\n",
        "confidence_interval = np.round(norm.interval(alpha, loc=score_2, scale=sigma / np.sqrt(n)), 2)\n",
        "\n",
        "# Display the confidence interval\n",
        "print(\"95% Confidence Interval:\", confidence_interval)"
      ]
    },
    {
      "cell_type": "markdown",
      "metadata": {
        "id": "-DVjySVqWWFs"
      },
      "source": [
        "* The 95% confidence interval calculated for the mean score in *Chemistry* is [84.93 86.53].\n",
        "* **This implies that there is a 95% probability that a student participating in the institute's program for *Chemistry* will achieve, on average, a score falling within the range of 84.93 to 86.53**"
      ]
    },
    {
      "cell_type": "markdown",
      "metadata": {
        "id": "bBGPAV0wVn3A"
      },
      "source": [
        "###**Confidence Interval Calculation for '*Mathematics*' Scores**"
      ]
    },
    {
      "cell_type": "code",
      "execution_count": null,
      "metadata": {
        "id": "RXTskJbiQhiH"
      },
      "outputs": [],
      "source": [
        "# Calculate the value of the sample mean for the 'Computer_Science' subject\n",
        "score_3 = df['Mathematics'].mean()"
      ]
    },
    {
      "cell_type": "code",
      "execution_count": null,
      "metadata": {
        "colab": {
          "base_uri": "https://localhost:8080/"
        },
        "id": "Wn_jMldyONfI",
        "outputId": "3f95fa56-e246-4e5e-f275-e2351649edc6"
      },
      "outputs": [
        {
          "name": "stdout",
          "output_type": "stream",
          "text": [
            "95% Confidence Interval: [80.93 82.53]\n"
          ]
        }
      ],
      "source": [
        "# Construct the 95% confidence interval for the mean score in 'Computer_Science'\n",
        "confidence_interval = np.round(norm.interval(alpha, loc=score_3, scale=sigma / np.sqrt(n)), 2)\n",
        "\n",
        "# Display the confidence interval\n",
        "print(\"95% Confidence Interval:\", confidence_interval)"
      ]
    },
    {
      "cell_type": "markdown",
      "metadata": {
        "id": "jnfop5Afbl3o"
      },
      "source": [
        "* The 95% confidence interval calculated for the mean score in *Mathematics* is [80.93 82.53].\n",
        "* **This implies that there is a 95% probability that a student participating in the institute's program for *Mathematics* will achieve, on average, a score falling within the range of 80.93 to 82.53**"
      ]
    },
    {
      "cell_type": "markdown",
      "metadata": {
        "id": "SyXVPjmbVsJ4"
      },
      "source": [
        "###**Confidence Interval Calculation for '*Physics*' Scores**"
      ]
    },
    {
      "cell_type": "code",
      "execution_count": null,
      "metadata": {
        "id": "Zj_RYQ_kQpMg"
      },
      "outputs": [],
      "source": [
        "# Calculate the value of the sample mean for the 'Computer_Science' subject\n",
        "score_4 = df['Physics'].mean()"
      ]
    },
    {
      "cell_type": "code",
      "execution_count": null,
      "metadata": {
        "colab": {
          "base_uri": "https://localhost:8080/"
        },
        "id": "0SX0OthdORJ8",
        "outputId": "980020b5-7ea0-4229-dcf1-89f75d603bd5"
      },
      "outputs": [
        {
          "name": "stdout",
          "output_type": "stream",
          "text": [
            "95% Confidence Interval: [81.88 83.48]\n"
          ]
        }
      ],
      "source": [
        "# Construct the 95% confidence interval for the mean score in 'Computer_Science'\n",
        "confidence_interval = np.round(norm.interval(alpha, loc=score_4, scale=sigma / np.sqrt(n)), 2)\n",
        "\n",
        "# Display the confidence interval\n",
        "print(\"95% Confidence Interval:\", confidence_interval)"
      ]
    },
    {
      "cell_type": "markdown",
      "metadata": {
        "id": "31jgzhLgb8Jg"
      },
      "source": [
        "* The 95% confidence interval calculated for the mean score in *Physics* is [81.88 83.48].\n",
        "* **This implies that there is a 95% probability that a student participating in the institute's program for *Physics* will achieve, on average, a score falling within the range of 81.88 to 83.48**"
      ]
    },
    {
      "cell_type": "markdown",
      "metadata": {
        "id": "pSXjoex_dUMC"
      },
      "source": [
        "## **Validating the critic's claim using a hypothesis test**"
      ]
    },
    {
      "cell_type": "markdown",
      "metadata": {
        "id": "2BXBwKZgdclx"
      },
      "source": [
        "To test the validity of the critic's claim that the mean score of the students from A2Z institute in subjects like physics and mathematics is less than last year’s cut-off score of 82. we will perform a hypothesis test the level of significance 5%\n",
        "\n"
      ]
    },
    {
      "cell_type": "markdown",
      "metadata": {
        "id": "L0PKfczLdeyZ"
      },
      "source": [
        "**Null and alternative hypotheses**\n",
        "\n",
        "Let $\\mu$ be the mean final score of all aspirants who enroll in the institute's program for physics and mathematics.\n",
        "\n",
        "The null hypothesis can be written as\n",
        "\n",
        ">$H_0: \\mu >= 82$\n",
        "\n",
        "against the alternate hypothesis\n",
        "\n",
        ">$H_a: \\mu < 82$"
      ]
    },
    {
      "cell_type": "markdown",
      "metadata": {
        "id": "5UdET2CifxTi"
      },
      "source": [
        "**Note**: The above hypotheses are true for both Physics and Mathematics."
      ]
    },
    {
      "cell_type": "markdown",
      "metadata": {
        "id": "HS2beY6PdhGM"
      },
      "source": [
        "For comparing a sample mean $\\bar{x}$ with a hypothesized population mean $\\mu$ where the sample size is $n$ and the population standard deviation is known to be $\\sigma$, the one-sample z-test is used. The test statistic of the z-test is given as:\n",
        "\n",
        "$$z = \\frac{(\\bar{x} - \\mu)}{\\sigma/\\sqrt{n}}\\sim N(0,1)$$\n",
        "\n",
        "The test statistic follows a standard normal distribution."
      ]
    },
    {
      "cell_type": "markdown",
      "metadata": {
        "id": "DB8YW3x3nGWX"
      },
      "source": [
        "**Are the assumptions of Z-test satisfied?**"
      ]
    },
    {
      "cell_type": "markdown",
      "metadata": {
        "id": "GajVUDjXnIya"
      },
      "source": [
        "*   Samples are drawn from a normal distribution - Since the sample size is 600(which is > 30), Central Limit Theorem states that the distribution of sample means will be approximately normal.  \n",
        "*   Observations are from a simple random sample - the institute collected a simple random sample\n",
        "*   Standard deviation is known - Yes\n",
        "\n",
        "\n",
        "Voila! We can use Z-test for this problem."
      ]
    },
    {
      "cell_type": "markdown",
      "metadata": {
        "id": "PwNDAjIpnAB2"
      },
      "source": [
        "It is known that the standard deviation of the scores is 10."
      ]
    },
    {
      "cell_type": "code",
      "execution_count": 22,
      "metadata": {
        "id": "a2MuxMsNnACE"
      },
      "outputs": [],
      "source": [
        "# Given population standard deviation\n",
        "sigma = 10"
      ]
    },
    {
      "cell_type": "markdown",
      "metadata": {
        "id": "DG8qszGkOc3Q"
      },
      "source": [
        "###**Mathematics**"
      ]
    },
    {
      "cell_type": "markdown",
      "metadata": {
        "id": "hiOzXQG3Op0c"
      },
      "source": [
        "**Calculate the Z-statistic value**"
      ]
    },
    {
      "cell_type": "code",
      "execution_count": 23,
      "metadata": {
        "colab": {
          "base_uri": "https://localhost:8080/"
        },
        "id": "szdE_3nOnvXb",
        "outputId": "72ab3554-e79b-417c-d6ad-83333710a4f8"
      },
      "outputs": [
        {
          "output_type": "execute_result",
          "data": {
            "text/plain": [
              "-0.6520949943579243"
            ]
          },
          "metadata": {},
          "execution_count": 23
        }
      ],
      "source": [
        "# set the values of population mean and population standard deviation\n",
        "mu = 82\n",
        "\n",
        "# calculate the value of the sample mean from the data\n",
        "score_3 = df.Mathematics.mean()\n",
        "\n",
        "# calculate the test statistic\n",
        "Mathematics_Score = (score_3 - mu) / (sigma/np.sqrt(600))\n",
        "Mathematics_Score"
      ]
    },
    {
      "cell_type": "markdown",
      "metadata": {
        "id": "CtVFy9M9OszU"
      },
      "source": [
        "**The Z-test statistic follows a standard normal distribution.**\n",
        "\n",
        "Let's plot the distribution of the Z-test statistic and see where the computed test statistic lies in the plot."
      ]
    },
    {
      "cell_type": "code",
      "execution_count": 24,
      "metadata": {
        "colab": {
          "base_uri": "https://localhost:8080/",
          "height": 449
        },
        "id": "eT_FDRtPOvy4",
        "outputId": "f58c7e39-ab0b-48fb-ff07-5061cab19c6f"
      },
      "outputs": [
        {
          "output_type": "display_data",
          "data": {
            "text/plain": [
              "<Figure size 640x480 with 1 Axes>"
            ],
            "image/png": "[encoded data removed]"
          },
          "metadata": {}
        }
      ],
      "source": [
        "# plotting the distribution of Z test statistic along with the computed test statistic\n",
        "# We are plotting the distributions here to better visualize the calculations\n",
        "x = np.linspace(-4, 4, 100) # create an array of 100 numbers starting from -4 and ending at 4\n",
        "plt.plot(x, norm.pdf(x, 0, 1)) # plot the pdf of the normal distribution\n",
        "plt.axvline(x = Mathematics_Score, c = 'r') # draw a vertical red line through the mentioned point\n",
        "plt.xlabel('Z Test Statistic - Mathematics')  # specify the x-axis label\n",
        "plt.ylabel('Probability Density Function (PDF)')  # specify the y-axis label\n",
        "plt.show() # display the plot"
      ]
    },
    {
      "cell_type": "code",
      "source": [
        "from scipy.stats import norm\n",
        "\n",
        "# find the critical values\n",
        "critical_val = norm.ppf(0.05)\n",
        "\n",
        "# plot the rejection and acceptance region\n",
        "# We are plotting the distributions here to better visualize the calculations\n",
        "x = np.linspace(-4, 4, 100) # create an array of 100 numbers starting from -4 and ending at 4\n",
        "plt.plot(x, norm.pdf(x, 0, 1)) # plot the pdf of the normal distribution\n",
        "plt.axvline(x = critical_val, c = 'r') # draw a vertical red line through the mentioned point\n",
        "x1 = np.linspace(critical_val, -4, 50) # create an array of 50 numbers starting from the critical value and ending at 4\n",
        "plt.fill_between(x1, norm.pdf(x1, 0, 1), color='r') # fill the area under the curve after the critical value with red color\n",
        "plt.axvline(x = Mathematics_Score , c = 'g', linestyle=':') # draw a vertical green line through the mentioned point\n",
        "plt.annotate('Reject Null', (critical_val-2 , 0.2), color='r')\n",
        "plt.annotate('Do Not Reject Null', (Mathematics_Score-.5, 0.2), color='g') # annotate the mentioned text at the mentioned location\n",
        "plt.show() # display the plot"
      ],
      "metadata": {
        "id": "FNbWtyIqIdNE",
        "outputId": "0eb85fb6-044c-47e2-bdce-9121281ab69f",
        "colab": {
          "base_uri": "https://localhost:8080/",
          "height": 430
        }
      },
      "execution_count": 35,
      "outputs": [
        {
          "output_type": "display_data",
          "data": {
            "text/plain": [
              "<Figure size 640x480 with 1 Axes>"
            ],
            "image/png": "[encoded data removed]"
          },
          "metadata": {}
        }
      ]
    },
    {
      "cell_type": "markdown",
      "metadata": {
        "id": "rn0IzhLfPYSc"
      },
      "source": [
        "**P-Value**\n",
        "\n",
        "As this is a left-tailed test, the p-value will be the area to the left of the test statistic under the standard normal curve."
      ]
    },
    {
      "cell_type": "code",
      "execution_count": null,
      "metadata": {
        "colab": {
          "base_uri": "https://localhost:8080/"
        },
        "id": "EZUi7aQzPNGU",
        "outputId": "00ce6ec7-566b-4069-e10f-efebf551ce8c"
      },
      "outputs": [
        {
          "data": {
            "text/plain": [
              "0.25716994651595226"
            ]
          },
          "execution_count": 53,
          "metadata": {},
          "output_type": "execute_result"
        }
      ],
      "source": [
        "# calculate the p-value using the cdf() function\n",
        "norm.cdf(Mathematics_Score)"
      ]
    },
    {
      "cell_type": "markdown",
      "metadata": {
        "id": "FAlDPLtflnqk"
      },
      "source": [
        "**Observation**\n",
        "\n",
        "* As the p-value ~0.26 is greater than the level of significance (0.05), we fail to reject the null hypothesis\n",
        "* We do not have enough statistical evidence to say that the mathematics score of all aspirants who enroll in the institute's program is less than last year's cutoff of 82\n"
      ]
    },
    {
      "cell_type": "markdown",
      "metadata": {
        "id": "TyZA0UhjOh1E"
      },
      "source": [
        "###**Physics**"
      ]
    },
    {
      "cell_type": "markdown",
      "metadata": {
        "id": "PYeNJVrVOzE2"
      },
      "source": [
        "**Calculate the Z-statistic value**"
      ]
    },
    {
      "cell_type": "code",
      "execution_count": 36,
      "metadata": {
        "colab": {
          "base_uri": "https://localhost:8080/"
        },
        "id": "yILmDQUVn1iA",
        "outputId": "7fedd343-05fe-414b-efb4-c654509770bd"
      },
      "outputs": [
        {
          "output_type": "execute_result",
          "data": {
            "text/plain": [
              "1.67622665581556"
            ]
          },
          "metadata": {},
          "execution_count": 36
        }
      ],
      "source": [
        "# set the values of population mean and population standard deviation\n",
        "mu = 82\n",
        "\n",
        "# calculate the value of the sample mean from the data\n",
        "score_4 = df.Physics.mean()\n",
        "\n",
        "\n",
        "# calculate the test statistic\n",
        "Physics_Score = (score_4 - mu) / (sigma/np.sqrt(600))\n",
        "Physics_Score"
      ]
    },
    {
      "cell_type": "markdown",
      "metadata": {
        "id": "1CluO23uqop7"
      },
      "source": [
        "**The Z-test statistic follows a standard normal distribution.**\n",
        "\n",
        "Let's plot the distribution of the Z-test statistic and see where the computed test statistic lies in the plot."
      ]
    },
    {
      "cell_type": "code",
      "execution_count": 37,
      "metadata": {
        "colab": {
          "base_uri": "https://localhost:8080/",
          "height": 449
        },
        "id": "VdKWSLKVPFgV",
        "outputId": "8ab266a5-7fef-4cbc-bb44-20c967926df6"
      },
      "outputs": [
        {
          "output_type": "display_data",
          "data": {
            "text/plain": [
              "<Figure size 640x480 with 1 Axes>"
            ],
            "image/png": "[encoded data removed]"
          },
          "metadata": {}
        }
      ],
      "source": [
        "# plotting the distribution of Z test statistic along with the computed test statistic\n",
        "# We are plotting the distributions here to better visualize the calculations\n",
        "x = np.linspace(-4, 4, 100) # create an array of 100 numbers starting from -4 and ending at 4\n",
        "plt.plot(x, norm.pdf(x, 0, 1)) # plot the pdf of the normal distribution\n",
        "plt.axvline(x = Physics_Score, c = 'r') # draw a vertical red line through the mentioned point\n",
        "plt.xlabel('Z Test Statistic - Physics')  # specify the x-axis label\n",
        "plt.ylabel('Probability Density Function (PDF)')  # specify the y-axis label\n",
        "plt.show() # display the plot"
      ]
    },
    {
      "cell_type": "code",
      "source": [
        "from scipy.stats import norm\n",
        "\n",
        "# find the critical values\n",
        "critical_val = norm.ppf(0.05)\n",
        "\n",
        "# plot the rejection and acceptance region\n",
        "# We are plotting the distributions here to better visualize the calculations\n",
        "x = np.linspace(-4, 4, 100) # create an array of 100 numbers starting from -4 and ending at 4\n",
        "plt.plot(x, norm.pdf(x, 0, 1)) # plot the pdf of the normal distribution\n",
        "plt.axvline(x = critical_val, c = 'r') # draw a vertical red line through the mentioned point\n",
        "x1 = np.linspace(critical_val, -4, 50) # create an array of 50 numbers starting from the critical value and ending at 4\n",
        "plt.fill_between(x1, norm.pdf(x1, 0, 1), color='r') # fill the area under the curve after the critical value with red color\n",
        "plt.axvline(x = Physics_Score , c = 'g', linestyle=':') # draw a vertical green line through the mentioned point\n",
        "plt.annotate('Reject Null', (critical_val-2 , 0.2), color='r')\n",
        "plt.annotate('Do Not Reject Null', (Mathematics_Score-.5, 0.2), color='g') # annotate the mentioned text at the mentioned location\n",
        "plt.show() # display the plot"
      ],
      "metadata": {
        "id": "GD9u3_5aMIS8",
        "outputId": "177aa094-172b-43a3-d000-467a55f46bb5",
        "colab": {
          "base_uri": "https://localhost:8080/",
          "height": 430
        }
      },
      "execution_count": 38,
      "outputs": [
        {
          "output_type": "display_data",
          "data": {
            "text/plain": [
              "<Figure size 640x480 with 1 Axes>"
            ],
            "image/png": "[encoded data removed]"
          },
          "metadata": {}
        }
      ]
    },
    {
      "cell_type": "markdown",
      "metadata": {
        "id": "nXk1xXYxPWl9"
      },
      "source": [
        "**P-Value**\n",
        "\n",
        "As this is a left-tailed test, the p-value will be the area to the left of the test statistic under the standard normal curve."
      ]
    },
    {
      "cell_type": "code",
      "execution_count": null,
      "metadata": {
        "colab": {
          "base_uri": "https://localhost:8080/"
        },
        "id": "uOURMOpLPPuL",
        "outputId": "fe7b3a4c-c447-452c-d047-fdae9044ab30"
      },
      "outputs": [
        {
          "data": {
            "text/plain": [
              "0.9531530975653392"
            ]
          },
          "execution_count": 56,
          "metadata": {},
          "output_type": "execute_result"
        }
      ],
      "source": [
        "# calculate the p-value using the cdf() function\n",
        "norm.cdf(Physics_Score)"
      ]
    },
    {
      "cell_type": "markdown",
      "metadata": {
        "id": "8eNazaVWmTJh"
      },
      "source": [
        "**Observation**\n",
        "\n",
        "* As the p-value ~0.96 is greater than the level of significance (0.05), we fail to reject the null hypothesis\n",
        "* We do not have enough statistical evidence to say that the physics score of all aspirants who enroll in the institute's program is less than last year's cutoff of 82\n"
      ]
    },
    {
      "cell_type": "markdown",
      "metadata": {
        "id": "_RWJmUSpjWYm"
      },
      "source": [
        "## **Validating the claim by investor using a hypothesis test**"
      ]
    },
    {
      "cell_type": "markdown",
      "metadata": {
        "id": "PrjSgiE0jsPW"
      },
      "source": [
        "To test the validity of the investor's belief that the mean score of the students from A2Z institute having subjects Computer Science and Chemistry is greater than or equal to the cutoff score of 85. we will perform a hypothesis test we will perform a hypothesis test  the level of significance 5%\n",
        "\n"
      ]
    },
    {
      "cell_type": "markdown",
      "metadata": {
        "id": "BfJrVrJupSUV"
      },
      "source": [
        "**Null and alternative hypotheses**\n",
        "\n",
        "Let $\\mu$ be the mean final score of all aspirants who enroll in the institute's program with Computer Science and Chemistry.\n",
        "\n",
        "The null hypothesis can be written as\n",
        "\n",
        ">$H_0: \\mu <= 85$\n",
        "\n",
        "against the alternate hypothesis\n",
        "\n",
        ">$H_a: \\mu > 85$"
      ]
    },
    {
      "cell_type": "markdown",
      "metadata": {
        "id": "LKZoeHATp1Fk"
      },
      "source": [
        "For comparing a sample mean $\\bar{x}$ with a hypothesized population mean $\\mu$ where the sample size is $n$ and the population standard deviation is known to be $\\sigma$, the one-sample z-test is used. The test statistic of the z-test is given as:\n",
        "\n",
        "$$z = \\frac{(\\bar{x} - \\mu)}{\\sigma/\\sqrt{n}}\\sim N(0,1)$$\n",
        "\n",
        "The test statistic follows a standard normal distribution."
      ]
    },
    {
      "cell_type": "markdown",
      "metadata": {
        "id": "XkSRhB0Cp7NF"
      },
      "source": [
        "**Are the assumptions of Z-test satisfied?**"
      ]
    },
    {
      "cell_type": "markdown",
      "metadata": {
        "id": "03vnpvAkp_C8"
      },
      "source": [
        "*   Samples are drawn from a normal distribution - Since the sample size is 600(which is > 30), Central Limit Theorem states that the distribution of sample means will be approximately normal.  \n",
        "*   Observations are from a simple random sample - the institute collected a simple random sample\n",
        "*   Standard deviation is known - Yes\n",
        "\n",
        "\n",
        "Voila! We can use Z-test for this problem."
      ]
    },
    {
      "cell_type": "markdown",
      "metadata": {
        "id": "SHYjizd_nsZB"
      },
      "source": [
        "It is known that the standard deviation of the scores is 10."
      ]
    },
    {
      "cell_type": "code",
      "execution_count": 39,
      "metadata": {
        "id": "PAih-BKnnsZQ"
      },
      "outputs": [],
      "source": [
        "# Given population standard deviation\n",
        "sigma = 10"
      ]
    },
    {
      "cell_type": "markdown",
      "metadata": {
        "id": "O7oO0ztWP-lq"
      },
      "source": [
        "###**Computer Science**"
      ]
    },
    {
      "cell_type": "markdown",
      "metadata": {
        "id": "-vEQiv_OqDT9"
      },
      "source": [
        "**Calculate the Z-statistic value**"
      ]
    },
    {
      "cell_type": "code",
      "execution_count": 40,
      "metadata": {
        "colab": {
          "base_uri": "https://localhost:8080/"
        },
        "id": "up1SnSxcqLVE",
        "outputId": "a5e1bbbf-c49a-43ef-a5cc-2e2715d6e648"
      },
      "outputs": [
        {
          "output_type": "execute_result",
          "data": {
            "text/plain": [
              "-0.19481608420934812"
            ]
          },
          "metadata": {},
          "execution_count": 40
        }
      ],
      "source": [
        "# set the values of population mean and population standard deviation\n",
        "mu = 85\n",
        "\n",
        "# calculate the value of the sample mean from the data\n",
        "score_1 = df.Computer_Science.mean()\n",
        "\n",
        "# calculate the test statistic\n",
        "Computer_Science_Score = (score_1 - mu) / (sigma/np.sqrt(600))\n",
        "Computer_Science_Score"
      ]
    },
    {
      "cell_type": "markdown",
      "metadata": {
        "id": "SmQNA59uQMB-"
      },
      "source": [
        "**The Z-test statistic follows a standard normal distribution.**\n",
        "\n",
        "Let's plot the distribution of the Z-test statistic and see where the computed test statistic lies in the plot."
      ]
    },
    {
      "cell_type": "code",
      "execution_count": null,
      "metadata": {
        "colab": {
          "base_uri": "https://localhost:8080/"
        },
        "id": "ix5veqlvQO1d",
        "outputId": "5dc9f9f3-ebbc-4348-a7db-82043f523b19"
      },
      "outputs": [
        {
          "data": {
            "image/png": "[encoded data removed]",
            "text/plain": [
              "<Figure size 432x288 with 1 Axes>"
            ]
          },
          "metadata": {
            "needs_background": "light"
          },
          "output_type": "display_data"
        }
      ],
      "source": [
        "# Plotting the distribution of Z test statistic along with the computed test statistic\n",
        "x = np.linspace(-4, 4, 100)  # create an array of 100 numbers starting from -4 and ending at 4\n",
        "plt.plot(x, norm.pdf(x, 0, 1) )  # plot the pdf of the normal distribution\n",
        "plt.axvline(x=Computer_Science_Score, c='r')  # draw a vertical red dashed line at Mathematics\n",
        "plt.xlabel('Z Test Statistic - Computer Science')  # specify the x-axis label\n",
        "plt.ylabel('Probability Density Function (PDF)')  # specify the y-axis label\n",
        "plt.show()  # display the plot"
      ]
    },
    {
      "cell_type": "code",
      "source": [
        "from scipy.stats import norm\n",
        "\n",
        "# find the critical values\n",
        "critical_val = norm.ppf(1-0.05)\n",
        "\n",
        "# plot the rejection and acceptance region\n",
        "# We are plotting the distributions here to better visualize the calculations\n",
        "x = np.linspace(-4, 4, 100) # create an array of 100 numbers starting from -4 and ending at 4\n",
        "plt.plot(x, norm.pdf(x, 0, 1)) # plot the pdf of the normal distribution\n",
        "plt.axvline(x = critical_val, c = 'r') # draw a vertical red line through the mentioned point\n",
        "x1 = np.linspace(critical_val, 4, 50) # create an array of 50 numbers starting from the critical value and ending at 4\n",
        "plt.fill_between(x1, norm.pdf(x1, 0, 1), color='r') # fill the area under the curve after the critical value with red color\n",
        "plt.axvline(x = Computer_Science_Score , c = 'g', linestyle=':') # draw a vertical green line through the mentioned point\n",
        "plt.annotate('Reject Null', (critical_val+.5 , 0.2), color='r')\n",
        "plt.annotate('Do Not Reject Null', (Computer_Science_Score-1, 0.2), color='g') # annotate the mentioned text at the mentioned location\n",
        "plt.show() # display the plot"
      ],
      "metadata": {
        "id": "Omsrqa5jPYFr",
        "outputId": "785c9562-76a5-47c7-a178-13db0bd42827",
        "colab": {
          "base_uri": "https://localhost:8080/",
          "height": 430
        }
      },
      "execution_count": 57,
      "outputs": [
        {
          "output_type": "display_data",
          "data": {
            "text/plain": [
              "<Figure size 640x480 with 1 Axes>"
            ],
            "image/png": "[encoded data removed]"
          },
          "metadata": {}
        }
      ]
    },
    {
      "cell_type": "markdown",
      "metadata": {
        "id": "Xpe8ATO4QT7G"
      },
      "source": [
        "**P-Value**\n",
        "\n",
        "As this is a right-tailed test, the p-value will be the area to the right of the test statistic under the standard normal curve."
      ]
    },
    {
      "cell_type": "code",
      "execution_count": null,
      "metadata": {
        "colab": {
          "base_uri": "https://localhost:8080/"
        },
        "id": "Igy8_Mu7QhiK",
        "outputId": "70da9580-3e50-49a3-e19c-52dbdad43901"
      },
      "outputs": [
        {
          "data": {
            "text/plain": [
              "0.5772315349175678"
            ]
          },
          "execution_count": 33,
          "metadata": {},
          "output_type": "execute_result"
        }
      ],
      "source": [
        "# calculate the p-value using the cdf() function\n",
        "1 - norm.cdf(Computer_Science_Score)"
      ]
    },
    {
      "cell_type": "markdown",
      "metadata": {
        "id": "7USwIe5nmyIp"
      },
      "source": [
        "**Observation**\n",
        "\n",
        "* As the p-value ~0.58 is greater than the level of significance (0.05), we fail to reject the null hypothesis\n",
        "* We do not have enough statistical evidence to say that the computer science score of all aspirants who enroll in the institute's program is greater than last year's cutoff of 85\n"
      ]
    },
    {
      "cell_type": "markdown",
      "metadata": {
        "id": "BFvKgjwSQHd_"
      },
      "source": [
        "###**Chemistry**"
      ]
    },
    {
      "cell_type": "markdown",
      "metadata": {
        "id": "pdqyqZPJTv5i"
      },
      "source": [
        "**Calculate the Z-statistic value**"
      ]
    },
    {
      "cell_type": "code",
      "execution_count": 47,
      "metadata": {
        "colab": {
          "base_uri": "https://localhost:8080/"
        },
        "id": "iNcqx4_DqQet",
        "outputId": "4bb75f07-48b5-420d-e245-65c3c92ac9f7"
      },
      "outputs": [
        {
          "output_type": "execute_result",
          "data": {
            "text/plain": [
              "1.7819629630457297"
            ]
          },
          "metadata": {},
          "execution_count": 47
        }
      ],
      "source": [
        "# set the values of population mean and population standard deviation\n",
        "mu, sigma = 85, 10\n",
        "\n",
        "# calculate the value of the sample mean from the data\n",
        "score_2 = df.Chemistry.mean()\n",
        "\n",
        "# calculate the test statistic\n",
        "Chemistry_Score = (score_2 - mu) / (sigma/np.sqrt(600))\n",
        "Chemistry_Score"
      ]
    },
    {
      "cell_type": "markdown",
      "metadata": {
        "id": "PB1AUslMyQH2"
      },
      "source": [
        "**The Z-test statistic follows a standard normal distribution.**\n",
        "\n",
        "Let's plot the distribution of the Z-test statistic and see where the computed test statistic lies in the plot."
      ]
    },
    {
      "cell_type": "code",
      "execution_count": 48,
      "metadata": {
        "colab": {
          "base_uri": "https://localhost:8080/",
          "height": 449
        },
        "id": "gT3szlOPyUwe",
        "outputId": "c8c43163-061a-414b-a5d8-fc4d99c726fe"
      },
      "outputs": [
        {
          "output_type": "display_data",
          "data": {
            "text/plain": [
              "<Figure size 640x480 with 1 Axes>"
            ],
            "image/png": "[encoded data removed]"
          },
          "metadata": {}
        }
      ],
      "source": [
        "# plotting the distribution of Z test statistic along with the computed test statistic\n",
        "# We are plotting the distributions here to better visualize the calculations\n",
        "x = np.linspace(-4, 4, 100) # create an array of 100 numbers starting from -4 and ending at 4\n",
        "plt.plot(x, norm.pdf(x, 0, 1)) # plot the pdf of the normal distribution\n",
        "plt.axvline(x = Chemistry_Score, c = 'r') # draw a vertical red line through the mentioned point\n",
        "plt.xlabel('Z Test Statistic - Chemistry')  # specify the x-axis label\n",
        "plt.ylabel('Probability Density Function (PDF)')  # specify the y-axis label\n",
        "plt.show() # display the plot"
      ]
    },
    {
      "cell_type": "code",
      "source": [
        "# find the critical values\n",
        "critical_val = norm.ppf(1-0.05)\n",
        "\n",
        "# plot the rejection and acceptance region\n",
        "# We are plotting the distributions here to better visualize the calculations\n",
        "x = np.linspace(-4, 4, 100) # create an array of 100 numbers starting from -4 and ending at 4\n",
        "plt.plot(x, norm.pdf(x, 0, 1)) # plot the pdf of the normal distribution\n",
        "plt.axvline(x = critical_val, c = 'r') # draw a vertical red line through the mentioned point\n",
        "x1 = np.linspace(critical_val, 4, 50) # create an array of 50 numbers starting from the critical value and ending at 4\n",
        "plt.fill_between(x1, norm.pdf(x1, 0, 1), color='r') # fill the area under the curve after the critical value with red color\n",
        "plt.axvline(x = Chemistry_Score , c = 'g', linestyle=':') # draw a vertical green line through the mentioned point\n",
        "plt.annotate('Reject Null', (critical_val+.5 , 0.2), color='r')\n",
        "plt.annotate('Do Not Reject Null', (Chemistry_Score-2.5, 0.2), color='g') # annotate the mentioned text at the mentioned location\n",
        "plt.show() # display the plot"
      ],
      "metadata": {
        "id": "mYashndBQLUS",
        "outputId": "834b80ab-342e-4585-ba2d-7cafb6167bdf",
        "colab": {
          "base_uri": "https://localhost:8080/",
          "height": 430
        }
      },
      "execution_count": 63,
      "outputs": [
        {
          "output_type": "display_data",
          "data": {
            "text/plain": [
              "<Figure size 640x480 with 1 Axes>"
            ],
            "image/png": "[encoded data removed]"
          },
          "metadata": {}
        }
      ]
    },
    {
      "cell_type": "markdown",
      "metadata": {
        "id": "muoGSdjtybpo"
      },
      "source": [
        "**P-Value**\n",
        "\n",
        "As this is a right-tailed test, the p-value will be the area to the right of the test statistic under the standard normal curve."
      ]
    },
    {
      "cell_type": "code",
      "execution_count": null,
      "metadata": {
        "colab": {
          "base_uri": "https://localhost:8080/"
        },
        "id": "j_rhlOtzyimG",
        "outputId": "3c3dbebc-1a95-4748-ec97-71722e2a5b8f"
      },
      "outputs": [
        {
          "data": {
            "text/plain": [
              "0.03737763584211673"
            ]
          },
          "execution_count": 63,
          "metadata": {},
          "output_type": "execute_result"
        }
      ],
      "source": [
        "# calculate the p-value using the cdf() function\n",
        "1 - norm.cdf(Chemistry_Score)"
      ]
    },
    {
      "cell_type": "markdown",
      "metadata": {
        "id": "uRqH05_Qn3Qr"
      },
      "source": [
        "**Observation**\n",
        "\n",
        "* As the p-value ~0.03 is less than the level of significance (0.05), we have to reject the null hypothesis\n",
        "* We have enough statistical evidence to say that the chemistry score of all aspirants who enroll in the institute's program is greater than last year's cutoff of 85\n"
      ]
    },
    {
      "cell_type": "markdown",
      "metadata": {
        "id": "JzXvUoscoK3B"
      },
      "source": [
        "## **Conclusions and Recommendations**"
      ]
    },
    {
      "cell_type": "markdown",
      "metadata": {
        "id": "8tBOaLMqoN2K"
      },
      "source": [
        "\n",
        "*  The average scores in Computer Science, Chemistry, Mathematics, and Physics for students enrolled in A2Z institute's program are 84.92, 85.73, 81.73, and 82.68, respectively.\n",
        "\n",
        "\n",
        "*   For each subject, a 95% confidence interval was constructed to provide a range of average scores with a high level of confidence.\n",
        "    - Computer Science: [84.12, 85.72]\n",
        "    - Chemistry: [84.93, 86.53]\n",
        "    - Mathematics: [80.93, 82.53]\n",
        "    - Physics: [81.88, 83.48]\n",
        "\n",
        "* There wasn't enough statistical evidence to support the critic's claim that the score of mathematics and physics for all aspirants who enroll in the institute's program is less than last year's cut-off of 82.\n",
        "\n",
        "* There wasn't enough statistical evidence to support the investor's belief that the score of chemistry for all aspirants who enroll in the institute's program is greater than last year's cutoff of 85.\n",
        "\n",
        "* For computerscience, enough statistcal evidence is present to support the investor's belief that the score of chemistry for all aspirants who enroll in the institute's program is greater than 85.\n",
        "\n",
        "* The institute can extend the time frame of the data (check 5-10 years of data) to get more reliable estimates of the effect of the institute's curriculum on the aspirants' performance\n",
        "\n",
        "* Overall the institute demonstrates strong performance in computer science, physics, and mathematics, where enrolled students excel. However, there is a notable opportunity for improvement in the  chemestry program.\n",
        "\n",
        "    - To address this, it is recommended to implement targeted interventions and support measures to enhance the academic performance of students in the chemetry program.\n",
        "\n",
        "\n",
        "\n",
        "\n"
      ]
    },
    {
      "cell_type": "markdown",
      "metadata": {
        "id": "s4YWav0Ps6Kl"
      },
      "source": [
        "___"
      ]
    }
  ],
  "metadata": {
    "colab": {
      "collapsed_sections": [
        "3BXeuML4rR7h",
        "Jk4B2nDFbUFC",
        "6WfFKuC8baxn",
        "YByu8AjAeqql",
        "6QslxB5mevN9",
        "hjxdsZmirkHa",
        "142FPzUWroO5",
        "_JvzZvFRr6A7",
        "uuKhP1hVsBOz",
        "KPS86Tdwi-jj",
        "TqnrRe5StV2a",
        "vbOHyOZXtdva",
        "eiz5_WQtuKCa",
        "Sp8KH9AJy7ap",
        "NA5nWxTAVbZ4",
        "ByIK9VkfVkn4",
        "bBGPAV0wVn3A",
        "SyXVPjmbVsJ4",
        "pSXjoex_dUMC",
        "DG8qszGkOc3Q",
        "TyZA0UhjOh1E",
        "_RWJmUSpjWYm",
        "O7oO0ztWP-lq",
        "BFvKgjwSQHd_",
        "JzXvUoscoK3B"
      ],
      "provenance": []
    },
    "kernelspec": {
      "display_name": "Python 3",
      "language": "python",
      "name": "python3"
    },
    "language_info": {
      "codemirror_mode": {
        "name": "ipython",
        "version": 3
      },
      "file_extension": ".py",
      "mimetype": "text/x-python",
      "name": "python",
      "nbconvert_exporter": "python",
      "pygments_lexer": "ipython3",
      "version": "3.8.5"
    }
  },
  "nbformat": 4,
  "nbformat_minor": 0
}