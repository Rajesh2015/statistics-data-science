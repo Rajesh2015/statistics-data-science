{
 "cells": [
  {
   "cell_type": "markdown",
   "metadata": {
    "id": "CFNnr-z0rLy7"
   },
   "source": [
    "<center><p float=\"center\">\n",
    "  <img src=\"https://upload.wikimedia.org/wikipedia/commons/e/e9/4_RGB_McCombs_School_Brand_Branded.png\" width=\"300\" height=\"100\"/>\n",
    "  <img src=\"https://mma.prnewswire.com/media/1458111/Great_Learning_Logo.jpg?p=facebook\" width=\"200\" height=\"100\"/>\n",
    "</p></center>\n",
    "\n",
    "<center><font size=10>Applied Statistics</center></font>\n",
    "<center><font size=5>Estimation and Hypothesis Testing - Week 2</font></center>\n",
    "\n",
    "\n"
   ]
  },
  {
   "cell_type": "markdown",
   "metadata": {
    "id": "Lo-je8R2rPDg"
   },
   "source": [
    "<center><img src=\"https://cdn.pixabay.com/photo/2023/01/07/05/28/hand-7702606_1280.jpg\" width=\"720\"></center>\n",
    "\n",
    "<b><center><font size=5> Talent Hunt Examination Case Study</font></center></b>"
   ]
  },
  {
   "cell_type": "markdown",
   "metadata": {
    "id": "3BXeuML4rR7h"
   },
   "source": [
    "## **Problem Statement**"
   ]
  },
  {
   "cell_type": "markdown",
   "metadata": {
    "id": "Jk4B2nDFbUFC"
   },
   "source": [
    "### **Business Context**"
   ]
  },
  {
   "cell_type": "markdown",
   "metadata": {
    "id": "DO-G6sNubV9E"
   },
   "source": [
    "A research institute conducts a Talent Hunt Examination every year to hire people who can work on various research projects in the field of Mathematics , Physics,Chemistry and Computer Science. **A2Z institute** provides a preparatory program to help the aspirants prepare for the Talent Hunt Exams. The institute has a good record of helping many students clear the exams. Before the application for the next batch starts, the institute wants to attract more aspirants to their program. For this, the institute wants to assure the aspiring students of the quality of results obtained by students enrolled in their program in recent years.\n",
    "\n",
    "However, one challenge in estimating an average score is that every year the exam’s difficulty level varies a little, and the distribution of scores also changes accordingly. However, it is known that the standard deviation of the scores of the students of the institute is 10. The institute keeps a track of the scores of various subjects for its alumni who attempted the exams previously. A dataset constituted of a simple random sample of scores of 600 aspirants from the last three years is prepared by the institute."
   ]
  },
  {
   "cell_type": "markdown",
   "metadata": {
    "id": "6WfFKuC8baxn"
   },
   "source": [
    "### **Objective**"
   ]
  },
  {
   "cell_type": "markdown",
   "metadata": {
    "id": "QNZtNG1bbaFV"
   },
   "source": [
    "The institute wants to get a more robust measure of the average scores secured by the students that accounts for the variability in scores across different years. This will help them get a better picture of the overall performance of the students and the information can also be used for marketing purposes.\n",
    "\n",
    "A renowned critic has recently taken to social media to mention that the institute's preparation material for Physics and Mathematics do not have the required rigor and that students, on average, failed to clear the cut-off of 82 in these subjects last year. The institute wants to verify the validity of the critic's claim and then respond to him. The goal is to determine whether there is significant evidence to support the claim that the average scores in Physics and Mathematics are lower than the specified cut-off.\n",
    "\n",
    "In light of recent increase in revenue of the institute, an investor believes that the increase is driven by an increasing amount of students clearing their exams in Computer Science and Chemistry in the last year. The institute wants to check if the investor's belief in factually correct and share an update. The aim is to assess whether there is significant evidence to support the claim that the average scores in Computer Science and Chemistry are higher than the cut-off score of 85."
   ]
  },
  {
   "cell_type": "markdown",
   "metadata": {
    "id": "YByu8AjAeqql"
   },
   "source": [
    "### **Data Dictionary**"
   ]
  },
  {
   "cell_type": "markdown",
   "metadata": {
    "id": "t77WOUezeySA"
   },
   "source": [
    "The dataset provided (*Talent_hunt.csv*) contains the scores of four subjects of 600 aspirants enrolled in the institute''s programs in the last three years. Each row in the dataset corresponds to a different student, and the values in each column indicate the respective performance scores of that student in the specified academic program.\n",
    "\n",
    "- **Computer_Science**: This column contains numerical values representing the performance scores of students in the Computer Science program.\n",
    "\n",
    "- **Chemistry**: This column contains numerical values representing the performance scores of students in the Chemistry program.\n",
    "\n",
    "- **Mathematics**: This column contains numerical values representing the performance scores of students in the Mathematics program.\n",
    "\n",
    "- **Physics**: This column contains numerical values representing the performance scores of students in the Physics program.\n",
    "\n"
   ]
  },
  {
   "cell_type": "markdown",
   "metadata": {
    "id": "6QslxB5mevN9"
   },
   "source": [
    "## **Solution Approach**"
   ]
  },
  {
   "cell_type": "markdown",
   "metadata": {
    "id": "-8gYi8gErZUR"
   },
   "source": [
    "> 1.  **To provide a more reliable estimate of the average scores:** We will construct a 95% confidence interval for the mean scores of students in Physics, Mathematics, Computer Science, and Chemistry who have enrolled in the institute's program. This approach offers a comprehensive range of scores, providing a robust estimate.\n",
    "\n",
    "> 2. **Critic's Claim:** To investigate the critic's claim that the mean scores of students in Physics and Mathematics are less than the previous year's cut-off of 82, we will perform a hypothesis test at a significance level of 5%. The null hypothesis will assume that the mean scores are equal to or greater than 82, and the alternative hypothesis will suggest that the mean scores are less than 82.\n",
    "\n",
    "> 3. **Investor's Claim:** To assess the investor's claim that the mean scores of students in Computer Science and Chemistry are higher than or equal to the most recent cut-off of 85, we will conduct a hypothesis test at a significance level of 5%. The null hypothesis will assume that the mean scores are equal to or less than 85, and the alternative hypothesis will suggest that the mean scores are greater than 85. These tests will provide statistical evidence to validate or refute both the critic's and investor's perspectives, contributing to a comprehensive evaluation of the institute's performance."
   ]
  },
  {
   "cell_type": "markdown",
   "metadata": {
    "id": "9tRIjr4im6uI"
   },
   "source": [
    "## **Let us start by importing the required libraries**"
   ]
  },
  {
   "cell_type": "code",
   "execution_count": 1,
   "metadata": {
    "id": "PXBkr210XS8F"
   },
   "outputs": [],
   "source": [
    "# Installing the libraries with the specified version.\n",
    "!pip install numpy==1.25.2 pandas==2.0.3 matplotlib==3.7.1 seaborn==0.13.1 scipy==1.11.4 -q --user"
   ]
  },
  {
   "cell_type": "markdown",
   "metadata": {
    "id": "Opd_TKlOzL11"
   },
   "source": [
    "**Note**: *After running the above cell, kindly restart the notebook kernel and run all cells sequentially from the start again.*"
   ]
  },
  {
   "cell_type": "markdown",
   "metadata": {
    "id": "hjxdsZmirkHa"
   },
   "source": [
    "## **Import the necessary libraries**\n",
    "\n"
   ]
  },
  {
   "cell_type": "code",
   "execution_count": 32,
   "metadata": {
    "id": "qMT4oqFojffp"
   },
   "outputs": [],
   "source": [
    "# Libraries to help with reading and manipulating data\n",
    "import pandas as pd\n",
    "import numpy as np\n",
    "\n",
    "# Libraries to help with data visualization\n",
    "import matplotlib.pyplot as plt\n",
    "import seaborn as sns\n",
    "%matplotlib inline\n",
    "\n",
    "# Library to help with statistical analysis\n",
    "import scipy.stats as stats\n",
    "\n",
    "# Function for handling normal distribution and statistical calculation\n",
    "from scipy.stats import norm"
   ]
  },
  {
   "cell_type": "markdown",
   "metadata": {
    "id": "142FPzUWroO5"
   },
   "source": [
    "## **Loading the dataset**"
   ]
  },
  {
   "cell_type": "code",
   "execution_count": 3,
   "metadata": {
    "id": "8NFWeGdGxlur"
   },
   "outputs": [],
   "source": [
    "# uncomment the below code cell to mount your google drive\n",
    "#  from google.colab import drive\n",
    "#  drive.mount('/content/drive')"
   ]
  },
  {
   "cell_type": "code",
   "execution_count": 34,
   "metadata": {
    "id": "n0LhX4CRjoKc"
   },
   "outputs": [],
   "source": [
    "path = \"talent_hunt_scores.csv\"\n",
    "data = pd.read_csv(path)"
   ]
  },
  {
   "cell_type": "code",
   "execution_count": 35,
   "metadata": {
    "id": "v1hQs1Kpkury"
   },
   "outputs": [],
   "source": [
    "# copying data to another variable to avoid any changes to original data\n",
    "df = data.copy()"
   ]
  },
  {
   "cell_type": "markdown",
   "metadata": {
    "id": "_JvzZvFRr6A7"
   },
   "source": [
    "## **Data Overview**"
   ]
  },
  {
   "cell_type": "markdown",
   "metadata": {
    "id": "6djF5OCxr9_0"
   },
   "source": [
    "The initial steps to get an overview of any dataset is to:\n",
    "- Observe the first few rows of the dataset, to check whether the dataset has been loaded properly or not\n",
    "- Get information about the number of rows and columns in the dataset\n",
    "- Find out the data types of the columns to ensure that data is stored in the preferred format and the value of each property is as expected.\n",
    "- Check the statistical summary of the dataset to get an overview of the numerical columns of the data"
   ]
  },
  {
   "cell_type": "markdown",
   "metadata": {
    "id": "uuKhP1hVsBOz"
   },
   "source": [
    "#### **Displaying the first few rows of the dataset**"
   ]
  },
  {
   "cell_type": "code",
   "execution_count": 36,
   "metadata": {
    "colab": {
     "base_uri": "https://localhost:8080/",
     "height": 0
    },
    "id": "SCm8whM3nqGC",
    "outputId": "7700f5fd-2358-4264-accd-977f71ef3141"
   },
   "outputs": [
    {
     "data": {
      "text/html": [
       "<div>\n",
       "<style scoped>\n",
       "    .dataframe tbody tr th:only-of-type {\n",
       "        vertical-align: middle;\n",
       "    }\n",
       "\n",
       "    .dataframe tbody tr th {\n",
       "        vertical-align: top;\n",
       "    }\n",
       "\n",
       "    .dataframe thead th {\n",
       "        text-align: right;\n",
       "    }\n",
       "</style>\n",
       "<table border=\"1\" class=\"dataframe\">\n",
       "  <thead>\n",
       "    <tr style=\"text-align: right;\">\n",
       "      <th></th>\n",
       "      <th>Computer_Science</th>\n",
       "      <th>Chemistry</th>\n",
       "      <th>Mathematics</th>\n",
       "      <th>Physics</th>\n",
       "    </tr>\n",
       "  </thead>\n",
       "  <tbody>\n",
       "    <tr>\n",
       "      <th>0</th>\n",
       "      <td>74.41</td>\n",
       "      <td>103.29</td>\n",
       "      <td>95.21</td>\n",
       "      <td>74.25</td>\n",
       "    </tr>\n",
       "    <tr>\n",
       "      <th>1</th>\n",
       "      <td>83.02</td>\n",
       "      <td>88.96</td>\n",
       "      <td>74.95</td>\n",
       "      <td>96.26</td>\n",
       "    </tr>\n",
       "    <tr>\n",
       "      <th>2</th>\n",
       "      <td>79.57</td>\n",
       "      <td>85.67</td>\n",
       "      <td>63.88</td>\n",
       "      <td>100.01</td>\n",
       "    </tr>\n",
       "    <tr>\n",
       "      <th>3</th>\n",
       "      <td>75.55</td>\n",
       "      <td>84.31</td>\n",
       "      <td>99.49</td>\n",
       "      <td>91.51</td>\n",
       "    </tr>\n",
       "    <tr>\n",
       "      <th>4</th>\n",
       "      <td>97.16</td>\n",
       "      <td>88.70</td>\n",
       "      <td>82.81</td>\n",
       "      <td>93.38</td>\n",
       "    </tr>\n",
       "  </tbody>\n",
       "</table>\n",
       "</div>"
      ],
      "text/plain": [
       "   Computer_Science  Chemistry  Mathematics  Physics\n",
       "0             74.41     103.29        95.21    74.25\n",
       "1             83.02      88.96        74.95    96.26\n",
       "2             79.57      85.67        63.88   100.01\n",
       "3             75.55      84.31        99.49    91.51\n",
       "4             97.16      88.70        82.81    93.38"
      ]
     },
     "execution_count": 36,
     "metadata": {},
     "output_type": "execute_result"
    }
   ],
   "source": [
    "# looking at head (5 observations)\n",
    "df.head()"
   ]
  },
  {
   "cell_type": "markdown",
   "metadata": {
    "id": "8vEReCHBsKGa"
   },
   "source": [
    "* There are total four column `Computer_Science`,`Chemistry`,`Mathematics` and `Physics` in the dataset which represents the score of the various subjects from a sample of the aspirants."
   ]
  },
  {
   "cell_type": "markdown",
   "metadata": {
    "id": "KPS86Tdwi-jj"
   },
   "source": [
    "#### **Checking the shape of the dataset**"
   ]
  },
  {
   "cell_type": "code",
   "execution_count": 37,
   "metadata": {
    "colab": {
     "base_uri": "https://localhost:8080/"
    },
    "id": "dtPbWZp2sD3P",
    "outputId": "b87caa26-fabf-4f9b-e40f-1f0d2ba5c35c"
   },
   "outputs": [
    {
     "data": {
      "text/plain": [
       "(600, 4)"
      ]
     },
     "execution_count": 37,
     "metadata": {},
     "output_type": "execute_result"
    }
   ],
   "source": [
    "df.shape"
   ]
  },
  {
   "cell_type": "markdown",
   "metadata": {
    "id": "jhWM21E0tLMa"
   },
   "source": [
    "* There is a total of 600 scores of 4 subjects in the sample."
   ]
  },
  {
   "cell_type": "markdown",
   "metadata": {
    "id": "TqnrRe5StV2a"
   },
   "source": [
    "#### **Checking the data types of the columns for the dataset**"
   ]
  },
  {
   "cell_type": "code",
   "execution_count": 38,
   "metadata": {
    "colab": {
     "base_uri": "https://localhost:8080/"
    },
    "id": "qpjp6gO5sHGN",
    "outputId": "a9a619fa-0b24-437a-f49a-01afed716d78"
   },
   "outputs": [
    {
     "name": "stdout",
     "output_type": "stream",
     "text": [
      "<class 'pandas.core.frame.DataFrame'>\n",
      "RangeIndex: 600 entries, 0 to 599\n",
      "Data columns (total 4 columns):\n",
      " #   Column            Non-Null Count  Dtype  \n",
      "---  ------            --------------  -----  \n",
      " 0   Computer_Science  600 non-null    float64\n",
      " 1   Chemistry         600 non-null    float64\n",
      " 2   Mathematics       600 non-null    float64\n",
      " 3   Physics           600 non-null    float64\n",
      "dtypes: float64(4)\n",
      "memory usage: 18.9 KB\n"
     ]
    }
   ],
   "source": [
    "df.info()"
   ]
  },
  {
   "cell_type": "markdown",
   "metadata": {
    "id": "mtaYIZOkta2j"
   },
   "source": [
    "* The scores of the aspirants are continuous in nature."
   ]
  },
  {
   "cell_type": "markdown",
   "metadata": {
    "id": "vbOHyOZXtdva"
   },
   "source": [
    "#### **Statistical summary of the dataset**"
   ]
  },
  {
   "cell_type": "code",
   "execution_count": 39,
   "metadata": {
    "colab": {
     "base_uri": "https://localhost:8080/",
     "height": 0
    },
    "id": "MFGeM_T5tX2U",
    "outputId": "b9b892bf-e008-49ae-b9b7-8ff1c12bb738"
   },
   "outputs": [
    {
     "data": {
      "text/html": [
       "<div>\n",
       "<style scoped>\n",
       "    .dataframe tbody tr th:only-of-type {\n",
       "        vertical-align: middle;\n",
       "    }\n",
       "\n",
       "    .dataframe tbody tr th {\n",
       "        vertical-align: top;\n",
       "    }\n",
       "\n",
       "    .dataframe thead th {\n",
       "        text-align: right;\n",
       "    }\n",
       "</style>\n",
       "<table border=\"1\" class=\"dataframe\">\n",
       "  <thead>\n",
       "    <tr style=\"text-align: right;\">\n",
       "      <th></th>\n",
       "      <th>Computer_Science</th>\n",
       "      <th>Chemistry</th>\n",
       "      <th>Mathematics</th>\n",
       "      <th>Physics</th>\n",
       "    </tr>\n",
       "  </thead>\n",
       "  <tbody>\n",
       "    <tr>\n",
       "      <th>count</th>\n",
       "      <td>600.000000</td>\n",
       "      <td>600.000000</td>\n",
       "      <td>600.000000</td>\n",
       "      <td>600.000000</td>\n",
       "    </tr>\n",
       "    <tr>\n",
       "      <th>mean</th>\n",
       "      <td>84.920467</td>\n",
       "      <td>85.727483</td>\n",
       "      <td>81.733783</td>\n",
       "      <td>82.684317</td>\n",
       "    </tr>\n",
       "    <tr>\n",
       "      <th>std</th>\n",
       "      <td>9.901397</td>\n",
       "      <td>9.765809</td>\n",
       "      <td>10.468294</td>\n",
       "      <td>10.263065</td>\n",
       "    </tr>\n",
       "    <tr>\n",
       "      <th>min</th>\n",
       "      <td>55.390000</td>\n",
       "      <td>58.900000</td>\n",
       "      <td>40.170000</td>\n",
       "      <td>40.710000</td>\n",
       "    </tr>\n",
       "    <tr>\n",
       "      <th>25%</th>\n",
       "      <td>78.215000</td>\n",
       "      <td>79.147500</td>\n",
       "      <td>75.345000</td>\n",
       "      <td>75.820000</td>\n",
       "    </tr>\n",
       "    <tr>\n",
       "      <th>50%</th>\n",
       "      <td>84.990000</td>\n",
       "      <td>85.700000</td>\n",
       "      <td>82.115000</td>\n",
       "      <td>82.920000</td>\n",
       "    </tr>\n",
       "    <tr>\n",
       "      <th>75%</th>\n",
       "      <td>91.180000</td>\n",
       "      <td>91.662500</td>\n",
       "      <td>88.092500</td>\n",
       "      <td>89.672500</td>\n",
       "    </tr>\n",
       "    <tr>\n",
       "      <th>max</th>\n",
       "      <td>119.390000</td>\n",
       "      <td>114.270000</td>\n",
       "      <td>110.820000</td>\n",
       "      <td>111.650000</td>\n",
       "    </tr>\n",
       "  </tbody>\n",
       "</table>\n",
       "</div>"
      ],
      "text/plain": [
       "       Computer_Science   Chemistry  Mathematics     Physics\n",
       "count        600.000000  600.000000   600.000000  600.000000\n",
       "mean          84.920467   85.727483    81.733783   82.684317\n",
       "std            9.901397    9.765809    10.468294   10.263065\n",
       "min           55.390000   58.900000    40.170000   40.710000\n",
       "25%           78.215000   79.147500    75.345000   75.820000\n",
       "50%           84.990000   85.700000    82.115000   82.920000\n",
       "75%           91.180000   91.662500    88.092500   89.672500\n",
       "max          119.390000  114.270000   110.820000  111.650000"
      ]
     },
     "execution_count": 39,
     "metadata": {},
     "output_type": "execute_result"
    }
   ],
   "source": [
    "df.describe()"
   ]
  },
  {
   "cell_type": "markdown",
   "metadata": {
    "id": "0kDZNWHyuEtz"
   },
   "source": [
    "#####**Observations:**\n",
    "* In Computer Science, the average score is 84.92, Chemistry exhibits an average of 85.73, Mathematics has an average of 81.73, and Physics shows an average of 82.68.\n",
    "* The median scores closely align with the averages: Computer Science (84.99), Chemistry (85.70), Mathematics (82.12), and Physics (82.92), suggesting a balanced distribution.\n",
    "* Standard deviations provide insights into the spread of scores: Computer Science (9.90), Chemistry (9.77), Mathematics (10.47), and Physics (10.26).\n",
    "* The minimum scores are 55.39 in Computer Science, 58.90 in Chemistry, 40.17 in Mathematics, and 40.71 in Physics, revealing the lowest performance levels.\n",
    "* No student scored below 78.22 in Computer Science, 79.15 in Chemistry, 75.35 in Mathematics, or 75.82 in Physics, indicating a certain threshold of competence.\n",
    "* The highest scores attained are 119.39 in Computer Science, 114.27 in Chemistry, 110.82 in Mathematics, and 111.65 in Physics, showcasing outstanding achievements in each subject."
   ]
  },
  {
   "cell_type": "markdown",
   "metadata": {
    "id": "eiz5_WQtuKCa"
   },
   "source": [
    "## **Exploratory Data Analysis**"
   ]
  },
  {
   "cell_type": "code",
   "execution_count": 41,
   "metadata": {
    "colab": {
     "base_uri": "https://localhost:8080/",
     "height": 0
    },
    "id": "fnef27ReyXLS",
    "outputId": "e702605c-decf-4939-d9bc-59bb131c60ad"
   },
   "outputs": [
    {
     "data": {
      "image/png": "[encoded data removed]",
      "text/plain": [
       "<Figure size 720x432 with 4 Axes>"
      ]
     },
     "metadata": {
      "needs_background": "light"
     },
     "output_type": "display_data"
    }
   ],
   "source": [
    "# plotting histograms of the distribution of the scores\n",
    "fig, axes = plt.subplots(2, 2, figsize=(10, 6))\n",
    "sns.histplot(df['Computer_Science'], kde=True, ax=axes[0, 0])\n",
    "sns.histplot(df['Chemistry'], kde=True, ax=axes[0, 1])\n",
    "sns.histplot(df['Mathematics'], kde=True, ax=axes[1, 0])\n",
    "sns.histplot(df['Physics'], kde=True, ax=axes[1, 1])\n",
    "plt.tight_layout()\n",
    "plt.show()"
   ]
  },
  {
   "cell_type": "markdown",
   "metadata": {
    "id": "xkHb6h75uzIS"
   },
   "source": [
    "* For computer science and chemistry, the distribution is approx. normal.\n",
    "* From the distribution of the scores it can be observed that for mathematics and physics the distribution is slightly left-skewed.\n",
    "  * There might be a few outliers at the left tail of the distribution."
   ]
  },
  {
   "cell_type": "code",
   "execution_count": 42,
   "metadata": {
    "colab": {
     "base_uri": "https://localhost:8080/",
     "height": 0
    },
    "id": "YKbghG8o0mxD",
    "outputId": "ae8ccdbd-f8bf-4faf-83ed-6c56a230f6e3"
   },
   "outputs": [
    {
     "data": {
      "image/png": "[encoded data removed]",
      "text/plain": [
       "<Figure size 720x432 with 4 Axes>"
      ]
     },
     "metadata": {
      "needs_background": "light"
     },
     "output_type": "display_data"
    }
   ],
   "source": [
    "# plotting boxplots to check outliers for scores\n",
    "fig, axes = plt.subplots(2, 2, figsize=(10, 6))\n",
    "sns.boxplot(x =df.Computer_Science, ax=axes[0, 0])\n",
    "sns.boxplot(x =df.Chemistry, ax=axes[0, 1])\n",
    "sns.boxplot(x =df.Mathematics, ax=axes[1, 0])\n",
    "sns.boxplot(x =df.Physics, ax=axes[1, 1])\n",
    "plt.show()"
   ]
  },
  {
   "cell_type": "markdown",
   "metadata": {
    "id": "oVIndUxYyphE"
   },
   "source": [
    "* As observed from the boxplots, there are a few outliers present in each distribution of the subject scores."
   ]
  },
  {
   "cell_type": "markdown",
   "metadata": {
    "id": "Sp8KH9AJy7ap"
   },
   "source": [
    "## **Reliable estimate of the average score using confidence intervals**"
   ]
  },
  {
   "cell_type": "markdown",
   "metadata": {
    "id": "QHftqiznzIP5"
   },
   "source": [
    "To provide a more reliable estimate of the average score using a range of scores instead of a single estimate, we will construct a 95% confidence interval for the mean score that an aspirant has scored after enrolling in the institute’s program."
   ]
  },
  {
   "cell_type": "markdown",
   "metadata": {
    "id": "fxmsoOBWzKeW"
   },
   "source": [
    "* We saw that the distribution of the scores is not strictly normal\n",
    "* For constructing a confidence interval for the mean score, we need to know the underlying distribution of the mean score, which is not available\n",
    "* The Central Limit Theorem (CLT) can help us with this"
   ]
  },
  {
   "cell_type": "markdown",
   "metadata": {
    "id": "8_MeENS6zQgN"
   },
   "source": [
    "**What is Central Limit Theorem (CLT)?**\n",
    "\n",
    "The Central Limit Theorem states that the sampling distribution of the sample means will approach a normal distribution as the sample size gets bigger, no matter what the shape of the population distribution is.\n",
    "\n",
    "Mathematically, if we are drawing multiple samples of size $n$ from a population with mean $\\mu$ and standard deviation $\\sigma$ and $\\bar{X}$ is the random variable representing the sample mean, then $\\bar{X}$ tends to follow a normal distribution as $n$ increases.\n",
    "\n",
    "* The mean of $\\bar{X}$ is equal to $\\mu$\n",
    "* The standard deviation of $\\bar{X}$ (also called as the standard error) is equal to $\\sigma/\\sqrt{n}$"
   ]
  },
  {
   "cell_type": "markdown",
   "metadata": {
    "id": "_mITasIrzUED"
   },
   "source": [
    "**As the data consists of 600 scores (data points), so $n=600 (>30)$. So, using CLT, we can say that the mean score will be approximately normally distributed.**"
   ]
  },
  {
   "cell_type": "markdown",
   "metadata": {
    "id": "OXQPITYGzWIL"
   },
   "source": [
    "As the population standard deviation is known, the normal distribution will be used to calculate the confidence interval. The 95% confidence interval for the population mean can be calculated by using the `interval()` function of the `norm` class of `scipy.stats`\n",
    "\n",
    "* The `interval()` function calculates the endpoints within which the specified percentage of values of the distribution lie, where\n",
    "  * `alpha` denotes the confidence level\n",
    "  * `loc` denotes the mean\n",
    "  * `scale` denotes the standard deviation"
   ]
  },
  {
   "cell_type": "markdown",
   "metadata": {
    "id": "ACfqF0uzlYRE"
   },
   "source": [
    "It is known that the standard deviation of the scores is 10."
   ]
  },
  {
   "cell_type": "code",
   "execution_count": 10,
   "metadata": {
    "id": "4T-lnE4bks9N"
   },
   "outputs": [],
   "source": [
    "# Given population standard deviation\n",
    "sigma = 10"
   ]
  },
  {
   "cell_type": "markdown",
   "metadata": {
    "id": "93ie1Qi2lJYX"
   },
   "source": [
    "We have 600 observations (scores) for each subject."
   ]
  },
  {
   "cell_type": "code",
   "execution_count": 11,
   "metadata": {
    "id": "mp3Yju8-kw5g"
   },
   "outputs": [],
   "source": [
    "# Sample size\n",
    "n = 600"
   ]
  },
  {
   "cell_type": "markdown",
   "metadata": {
    "id": "JduVbJxSk68W"
   },
   "source": [
    "We want to build 95\\% confidence intervals."
   ]
  },
  {
   "cell_type": "code",
   "execution_count": 12,
   "metadata": {
    "id": "oRCivhTGk2Sg"
   },
   "outputs": [],
   "source": [
    "# Confidence level (alpha) for the confidence interval\n",
    "alpha = 0.95"
   ]
  },
  {
   "cell_type": "markdown",
   "metadata": {
    "id": "NA5nWxTAVbZ4"
   },
   "source": [
    "### **Confidence Interval Calculation for '*Computer_Science*' Scores**"
   ]
  },
  {
   "cell_type": "code",
   "execution_count": 9,
   "metadata": {
    "id": "FomBolG5fe3O"
   },
   "outputs": [],
   "source": [
    "# Calculate the value of the sample mean for the 'Computer_Science' subject\n",
    "score_1 = df['Computer_Science'].mean()"
   ]
  },
  {
   "cell_type": "code",
   "execution_count": 43,
   "metadata": {
    "colab": {
     "base_uri": "https://localhost:8080/"
    },
    "id": "Tuhwpdgnvd4_",
    "outputId": "6be6b0e0-db29-40fe-e685-63a0cb5259c2"
   },
   "outputs": [
    {
     "name": "stdout",
     "output_type": "stream",
     "text": [
      "95% Confidence Interval: [84.12 85.72]\n"
     ]
    }
   ],
   "source": [
    "# Construct the 95% confidence interval for the mean score in 'Computer_Science'\n",
    "confidence_interval = np.round(norm.interval(alpha, loc=score_1, scale=sigma / np.sqrt(n)), 2)\n",
    "\n",
    "# Display the confidence interval\n",
    "print(\"95% Confidence Interval:\", confidence_interval)"
   ]
  },
  {
   "cell_type": "markdown",
   "metadata": {
    "id": "eQxiH97SV4D3"
   },
   "source": [
    "* The 95% confidence interval calculated for the mean score in *Computer Science* is [84.12, 85.72].\n",
    "* **This implies that there is a 95% probability that a student participating in the institute's program for *Computer Science* will achieve, on average, a score falling within the range of 84.12 to 85.72**"
   ]
  },
  {
   "cell_type": "markdown",
   "metadata": {
    "id": "ByIK9VkfVkn4"
   },
   "source": [
    "###**Confidence Interval Calculation for '*Chemistry*' Scores**"
   ]
  },
  {
   "cell_type": "code",
   "execution_count": 44,
   "metadata": {
    "id": "nLS3UhWFFv0S"
   },
   "outputs": [],
   "source": [
    "# Calculate the value of the sample mean for the 'Computer_Science' subject\n",
    "score_2 = df['Chemistry'].mean()"
   ]
  },
  {
   "cell_type": "code",
   "execution_count": 46,
   "metadata": {
    "colab": {
     "base_uri": "https://localhost:8080/"
    },
    "id": "xu7EYkDrOJCy",
    "outputId": "679db1e4-f28e-41f8-910d-bdc5d9b2937f"
   },
   "outputs": [
    {
     "name": "stdout",
     "output_type": "stream",
     "text": [
      "95% Confidence Interval: [84.93 86.53]\n"
     ]
    }
   ],
   "source": [
    "# Construct the 95% confidence interval for the mean score in 'Chemistry'\n",
    "confidence_interval = np.round(norm.interval(alpha, loc=score_2, scale=sigma / np.sqrt(n)), 2)\n",
    "\n",
    "# Display the confidence interval\n",
    "print(\"95% Confidence Interval:\", confidence_interval)"
   ]
  },
  {
   "cell_type": "markdown",
   "metadata": {
    "id": "-DVjySVqWWFs"
   },
   "source": [
    "* The 95% confidence interval calculated for the mean score in *Chemistry* is [84.93 86.53].\n",
    "* **This implies that there is a 95% probability that a student participating in the institute's program for *Chemistry* will achieve, on average, a score falling within the range of 84.93 to 86.53**"
   ]
  },
  {
   "cell_type": "markdown",
   "metadata": {
    "id": "bBGPAV0wVn3A"
   },
   "source": [
    "###**Confidence Interval Calculation for '*Mathematics*' Scores**"
   ]
  },
  {
   "cell_type": "code",
   "execution_count": 47,
   "metadata": {
    "id": "RXTskJbiQhiH"
   },
   "outputs": [],
   "source": [
    "# Calculate the value of the sample mean for the 'Computer_Science' subject\n",
    "score_3 = df['Mathematics'].mean()"
   ]
  },
  {
   "cell_type": "code",
   "execution_count": 48,
   "metadata": {
    "colab": {
     "base_uri": "https://localhost:8080/"
    },
    "id": "Wn_jMldyONfI",
    "outputId": "3f95fa56-e246-4e5e-f275-e2351649edc6"
   },
   "outputs": [
    {
     "name": "stdout",
     "output_type": "stream",
     "text": [
      "95% Confidence Interval: [80.93 82.53]\n"
     ]
    }
   ],
   "source": [
    "# Construct the 95% confidence interval for the mean score in 'Computer_Science'\n",
    "confidence_interval = np.round(norm.interval(alpha, loc=score_3, scale=sigma / np.sqrt(n)), 2)\n",
    "\n",
    "# Display the confidence interval\n",
    "print(\"95% Confidence Interval:\", confidence_interval)"
   ]
  },
  {
   "cell_type": "markdown",
   "metadata": {
    "id": "jnfop5Afbl3o"
   },
   "source": [
    "* The 95% confidence interval calculated for the mean score in *Mathematics* is [80.93 82.53].\n",
    "* **This implies that there is a 95% probability that a student participating in the institute's program for *Mathematics* will achieve, on average, a score falling within the range of 80.93 to 82.53**"
   ]
  },
  {
   "cell_type": "markdown",
   "metadata": {
    "id": "SyXVPjmbVsJ4"
   },
   "source": [
    "###**Confidence Interval Calculation for '*Physics*' Scores**"
   ]
  },
  {
   "cell_type": "code",
   "execution_count": 49,
   "metadata": {
    "id": "Zj_RYQ_kQpMg"
   },
   "outputs": [],
   "source": [
    "# Calculate the value of the sample mean for the 'Computer_Science' subject\n",
    "score_4 = df['Physics'].mean()"
   ]
  },
  {
   "cell_type": "code",
   "execution_count": 50,
   "metadata": {
    "colab": {
     "base_uri": "https://localhost:8080/"
    },
    "id": "0SX0OthdORJ8",
    "outputId": "980020b5-7ea0-4229-dcf1-89f75d603bd5"
   },
   "outputs": [
    {
     "name": "stdout",
     "output_type": "stream",
     "text": [
      "95% Confidence Interval: [81.88 83.48]\n"
     ]
    }
   ],
   "source": [
    "# Construct the 95% confidence interval for the mean score in 'Computer_Science'\n",
    "confidence_interval = np.round(norm.interval(alpha, loc=score_4, scale=sigma / np.sqrt(n)), 2)\n",
    "\n",
    "# Display the confidence interval\n",
    "print(\"95% Confidence Interval:\", confidence_interval)"
   ]
  },
  {
   "cell_type": "markdown",
   "metadata": {
    "id": "31jgzhLgb8Jg"
   },
   "source": [
    "* The 95% confidence interval calculated for the mean score in *Physics* is [81.88 83.48].\n",
    "* **This implies that there is a 95% probability that a student participating in the institute's program for *Physics* will achieve, on average, a score falling within the range of 81.88 to 83.48**"
   ]
  },
  {
   "cell_type": "markdown",
   "metadata": {
    "id": "pSXjoex_dUMC"
   },
   "source": [
    "## **Validating the critic's claim using a hypothesis test**"
   ]
  },
  {
   "cell_type": "markdown",
   "metadata": {
    "id": "2BXBwKZgdclx"
   },
   "source": [
    "To test the validity of the critic's claim that the mean score of the students from A2Z institute in subjects like physics and mathematics is less than last year’s cut-off score of 82. we will perform a hypothesis test the level of significance 5%\n",
    "\n"
   ]
  },
  {
   "cell_type": "markdown",
   "metadata": {
    "id": "L0PKfczLdeyZ"
   },
   "source": [
    "**Null and alternative hypotheses**\n",
    "\n",
    "Let $\\mu$ be the mean final score of all aspirants who enroll in the institute's program for physics and mathematics.\n",
    "\n",
    "The null hypothesis can be written as\n",
    "\n",
    ">$H_0: \\mu >= 82$\n",
    "\n",
    "against the alternate hypothesis\n",
    "\n",
    ">$H_a: \\mu < 82$"
   ]
  },
  {
   "cell_type": "markdown",
   "metadata": {
    "id": "5UdET2CifxTi"
   },
   "source": [
    "**Note**: The above hypotheses are true for both Physics and Mathematics."
   ]
  },
  {
   "cell_type": "markdown",
   "metadata": {
    "id": "HS2beY6PdhGM"
   },
   "source": [
    "For comparing a sample mean $\\bar{x}$ with a hypothesized population mean $\\mu$ where the sample size is $n$ and the population standard deviation is known to be $\\sigma$, the one-sample z-test is used. The test statistic of the z-test is given as:\n",
    "\n",
    "$$z = \\frac{(\\bar{x} - \\mu)}{\\sigma/\\sqrt{n}}\\sim N(0,1)$$\n",
    "\n",
    "The test statistic follows a standard normal distribution."
   ]
  },
  {
   "cell_type": "markdown",
   "metadata": {
    "id": "DB8YW3x3nGWX"
   },
   "source": [
    "**Are the assumptions of Z-test satisfied?**"
   ]
  },
  {
   "cell_type": "markdown",
   "metadata": {
    "id": "GajVUDjXnIya"
   },
   "source": [
    "*   Samples are drawn from a normal distribution - Since the sample size is 600(which is > 30), Central Limit Theorem states that the distribution of sample means will be approximately normal.  \n",
    "*   Observations are from a simple random sample - the institute collected a simple random sample\n",
    "*   Standard deviation is known - Yes\n",
    "\n",
    "\n",
    "Voila! We can use Z-test for this problem."
   ]
  },
  {
   "cell_type": "markdown",
   "metadata": {
    "id": "PwNDAjIpnAB2"
   },
   "source": [
    "It is known that the standard deviation of the scores is 10."
   ]
  },
  {
   "cell_type": "code",
   "execution_count": 51,
   "metadata": {
    "id": "a2MuxMsNnACE"
   },
   "outputs": [],
   "source": [
    "# Given population standard deviation\n",
    "sigma = 10"
   ]
  },
  {
   "cell_type": "markdown",
   "metadata": {
    "id": "DG8qszGkOc3Q"
   },
   "source": [
    "###**Mathematics**"
   ]
  },
  {
   "cell_type": "markdown",
   "metadata": {
    "id": "hiOzXQG3Op0c"
   },
   "source": [
    "**Calculate the Z-statistic value**"
   ]
  },
  {
   "cell_type": "code",
   "execution_count": 52,
   "metadata": {
    "colab": {
     "base_uri": "https://localhost:8080/"
    },
    "id": "szdE_3nOnvXb",
    "outputId": "b730c250-8d6a-4463-fa35-d66ffc00c920"
   },
   "outputs": [
    {
     "data": {
      "text/plain": [
       "-0.6520949943580288"
      ]
     },
     "execution_count": 52,
     "metadata": {},
     "output_type": "execute_result"
    }
   ],
   "source": [
    "# set the values of population mean and population standard deviation\n",
    "mu = 82\n",
    "\n",
    "# calculate the value of the sample mean from the data\n",
    "score_3 = df.Mathematics.mean()\n",
    "\n",
    "# calculate the test statistic\n",
    "Mathematics_Score = (score_3 - mu) / (sigma/np.sqrt(600))\n",
    "Mathematics_Score"
   ]
  },
  {
   "cell_type": "markdown",
   "metadata": {
    "id": "CtVFy9M9OszU"
   },
   "source": [
    "**The Z-test statistic follows a standard normal distribution.**\n",
    "\n",
    "Let's plot the distribution of the Z-test statistic and see where the computed test statistic lies in the plot."
   ]
  },
  {
   "cell_type": "code",
   "execution_count": 21,
   "metadata": {
    "colab": {
     "base_uri": "https://localhost:8080/",
     "height": 0
    },
    "id": "eT_FDRtPOvy4",
    "outputId": "625a5f6e-1622-4f68-9777-72635017c4e9"
   },
   "outputs": [
    {
     "data": {
      "image/png": "[encoded data removed]",
      "text/plain": [
       "<Figure size 432x288 with 1 Axes>"
      ]
     },
     "metadata": {
      "needs_background": "light"
     },
     "output_type": "display_data"
    }
   ],
   "source": [
    "# plotting the distribution of Z test statistic along with the computed test statistic\n",
    "# We are plotting the distributions here to better visualize the calculations\n",
    "x = np.linspace(-4, 4, 100) # create an array of 100 numbers starting from -4 and ending at 4\n",
    "plt.plot(x, norm.pdf(x, 0, 1)) # plot the pdf of the normal distribution\n",
    "plt.axvline(x = Mathematics_Score, c = 'r') # draw a vertical red line through the mentioned point\n",
    "plt.xlabel('Z Test Statistic - Mathematics')  # specify the x-axis label\n",
    "plt.ylabel('Probability Density Function (PDF)')  # specify the y-axis label\n",
    "plt.show() # display the plot"
   ]
  },
  {
   "cell_type": "markdown",
   "metadata": {
    "id": "rn0IzhLfPYSc"
   },
   "source": [
    "**P-Value**\n",
    "\n",
    "As this is a left-tailed test, the p-value will be the area to the left of the test statistic under the standard normal curve."
   ]
  },
  {
   "cell_type": "code",
   "execution_count": 53,
   "metadata": {
    "colab": {
     "base_uri": "https://localhost:8080/"
    },
    "id": "EZUi7aQzPNGU",
    "outputId": "00ce6ec7-566b-4069-e10f-efebf551ce8c"
   },
   "outputs": [
    {
     "data": {
      "text/plain": [
       "0.25716994651595226"
      ]
     },
     "execution_count": 53,
     "metadata": {},
     "output_type": "execute_result"
    }
   ],
   "source": [
    "# calculate the p-value using the cdf() function\n",
    "norm.cdf(Mathematics_Score)"
   ]
  },
  {
   "cell_type": "markdown",
   "metadata": {
    "id": "FAlDPLtflnqk"
   },
   "source": [
    "**Observation**\n",
    "\n",
    "* As the p-value ~0.26 is greater than the level of significance (0.05), we fail to reject the null hypothesis\n",
    "* We do not have enough statistical evidence to say that the mathematics score of all aspirants who enroll in the institute's program is less than last year's cutoff of 82\n"
   ]
  },
  {
   "cell_type": "markdown",
   "metadata": {
    "id": "TyZA0UhjOh1E"
   },
   "source": [
    "###**Physics**"
   ]
  },
  {
   "cell_type": "markdown",
   "metadata": {
    "id": "PYeNJVrVOzE2"
   },
   "source": [
    "**Calculate the Z-statistic value**"
   ]
  },
  {
   "cell_type": "code",
   "execution_count": 54,
   "metadata": {
    "colab": {
     "base_uri": "https://localhost:8080/"
    },
    "id": "yILmDQUVn1iA",
    "outputId": "8f387966-621b-485f-e0d2-f5240ed067b3"
   },
   "outputs": [
    {
     "data": {
      "text/plain": [
       "1.6762266558154904"
      ]
     },
     "execution_count": 54,
     "metadata": {},
     "output_type": "execute_result"
    }
   ],
   "source": [
    "# set the values of population mean and population standard deviation\n",
    "mu = 82\n",
    "\n",
    "# calculate the value of the sample mean from the data\n",
    "score_4 = df.Physics.mean()\n",
    "\n",
    "\n",
    "# calculate the test statistic\n",
    "Physics_Score = (score_4 - mu) / (sigma/np.sqrt(600))\n",
    "Physics_Score"
   ]
  },
  {
   "cell_type": "markdown",
   "metadata": {
    "id": "1CluO23uqop7"
   },
   "source": [
    "**The Z-test statistic follows a standard normal distribution.**\n",
    "\n",
    "Let's plot the distribution of the Z-test statistic and see where the computed test statistic lies in the plot."
   ]
  },
  {
   "cell_type": "code",
   "execution_count": 55,
   "metadata": {
    "colab": {
     "base_uri": "https://localhost:8080/",
     "height": 0
    },
    "id": "VdKWSLKVPFgV",
    "outputId": "fae27d9b-3abf-4561-ca9a-310236a1df02"
   },
   "outputs": [
    {
     "data": {
      "image/png": "[encoded data removed]",
      "text/plain": [
       "<Figure size 432x288 with 1 Axes>"
      ]
     },
     "metadata": {
      "needs_background": "light"
     },
     "output_type": "display_data"
    }
   ],
   "source": [
    "# plotting the distribution of Z test statistic along with the computed test statistic\n",
    "# We are plotting the distributions here to better visualize the calculations\n",
    "x = np.linspace(-4, 4, 100) # create an array of 100 numbers starting from -4 and ending at 4\n",
    "plt.plot(x, norm.pdf(x, 0, 1)) # plot the pdf of the normal distribution\n",
    "plt.axvline(x = Physics_Score, c = 'r') # draw a vertical red line through the mentioned point\n",
    "plt.xlabel('Z Test Statistic - Physics')  # specify the x-axis label\n",
    "plt.ylabel('Probability Density Function (PDF)')  # specify the y-axis label\n",
    "plt.show() # display the plot"
   ]
  },
  {
   "cell_type": "markdown",
   "metadata": {
    "id": "nXk1xXYxPWl9"
   },
   "source": [
    "**P-Value**\n",
    "\n",
    "As this is a left-tailed test, the p-value will be the area to the left of the test statistic under the standard normal curve."
   ]
  },
  {
   "cell_type": "code",
   "execution_count": 56,
   "metadata": {
    "colab": {
     "base_uri": "https://localhost:8080/"
    },
    "id": "uOURMOpLPPuL",
    "outputId": "fe7b3a4c-c447-452c-d047-fdae9044ab30"
   },
   "outputs": [
    {
     "data": {
      "text/plain": [
       "0.9531530975653392"
      ]
     },
     "execution_count": 56,
     "metadata": {},
     "output_type": "execute_result"
    }
   ],
   "source": [
    "# calculate the p-value using the cdf() function\n",
    "norm.cdf(Physics_Score)"
   ]
  },
  {
   "cell_type": "markdown",
   "metadata": {
    "id": "8eNazaVWmTJh"
   },
   "source": [
    "**Observation**\n",
    "\n",
    "* As the p-value ~0.96 is greater than the level of significance (0.05), we fail to reject the null hypothesis\n",
    "* We do not have enough statistical evidence to say that the physics score of all aspirants who enroll in the institute's program is less than last year's cutoff of 82\n"
   ]
  },
  {
   "cell_type": "markdown",
   "metadata": {
    "id": "_RWJmUSpjWYm"
   },
   "source": [
    "## **Validating the claim by investor using a hypothesis test**"
   ]
  },
  {
   "cell_type": "markdown",
   "metadata": {
    "id": "PrjSgiE0jsPW"
   },
   "source": [
    "To test the validity of the investor's belief that the mean score of the students from A2Z institute having subjects Computer Science and Chemistry is greater than or equal to the cutoff score of 85. we will perform a hypothesis test we will perform a hypothesis test  the level of significance 5%\n",
    "\n"
   ]
  },
  {
   "cell_type": "markdown",
   "metadata": {
    "id": "BfJrVrJupSUV"
   },
   "source": [
    "**Null and alternative hypotheses**\n",
    "\n",
    "Let $\\mu$ be the mean final score of all aspirants who enroll in the institute's program with Computer Science and Chemistry.\n",
    "\n",
    "The null hypothesis can be written as\n",
    "\n",
    ">$H_0: \\mu <= 85$\n",
    "\n",
    "against the alternate hypothesis\n",
    "\n",
    ">$H_a: \\mu > 85$"
   ]
  },
  {
   "cell_type": "markdown",
   "metadata": {
    "id": "LKZoeHATp1Fk"
   },
   "source": [
    "For comparing a sample mean $\\bar{x}$ with a hypothesized population mean $\\mu$ where the sample size is $n$ and the population standard deviation is known to be $\\sigma$, the one-sample z-test is used. The test statistic of the z-test is given as:\n",
    "\n",
    "$$z = \\frac{(\\bar{x} - \\mu)}{\\sigma/\\sqrt{n}}\\sim N(0,1)$$\n",
    "\n",
    "The test statistic follows a standard normal distribution."
   ]
  },
  {
   "cell_type": "markdown",
   "metadata": {
    "id": "XkSRhB0Cp7NF"
   },
   "source": [
    "**Are the assumptions of Z-test satisfied?**"
   ]
  },
  {
   "cell_type": "markdown",
   "metadata": {
    "id": "03vnpvAkp_C8"
   },
   "source": [
    "*   Samples are drawn from a normal distribution - Since the sample size is 600(which is > 30), Central Limit Theorem states that the distribution of sample means will be approximately normal.  \n",
    "*   Observations are from a simple random sample - the institute collected a simple random sample\n",
    "*   Standard deviation is known - Yes\n",
    "\n",
    "\n",
    "Voila! We can use Z-test for this problem."
   ]
  },
  {
   "cell_type": "markdown",
   "metadata": {
    "id": "SHYjizd_nsZB"
   },
   "source": [
    "It is known that the standard deviation of the scores is 10."
   ]
  },
  {
   "cell_type": "code",
   "execution_count": 58,
   "metadata": {
    "id": "PAih-BKnnsZQ"
   },
   "outputs": [],
   "source": [
    "# Given population standard deviation\n",
    "sigma = 10"
   ]
  },
  {
   "cell_type": "markdown",
   "metadata": {
    "id": "O7oO0ztWP-lq"
   },
   "source": [
    "###**Computer Science**"
   ]
  },
  {
   "cell_type": "markdown",
   "metadata": {
    "id": "-vEQiv_OqDT9"
   },
   "source": [
    "**Calculate the Z-statistic value**"
   ]
  },
  {
   "cell_type": "code",
   "execution_count": 59,
   "metadata": {
    "colab": {
     "base_uri": "https://localhost:8080/"
    },
    "id": "up1SnSxcqLVE",
    "outputId": "a16ff1e4-577e-4d15-8870-8eb54759c193"
   },
   "outputs": [
    {
     "data": {
      "text/plain": [
       "-0.1948160842096614"
      ]
     },
     "execution_count": 59,
     "metadata": {},
     "output_type": "execute_result"
    }
   ],
   "source": [
    "# set the values of population mean and population standard deviation\n",
    "mu = 85\n",
    "\n",
    "# calculate the value of the sample mean from the data\n",
    "score_1 = df.Computer_Science.mean()\n",
    "\n",
    "# calculate the test statistic\n",
    "Computer_Science_Score = (score_1 - mu) / (sigma/np.sqrt(600))\n",
    "Computer_Science_Score"
   ]
  },
  {
   "cell_type": "markdown",
   "metadata": {
    "id": "SmQNA59uQMB-"
   },
   "source": [
    "**The Z-test statistic follows a standard normal distribution.**\n",
    "\n",
    "Let's plot the distribution of the Z-test statistic and see where the computed test statistic lies in the plot."
   ]
  },
  {
   "cell_type": "code",
   "execution_count": 60,
   "metadata": {
    "colab": {
     "base_uri": "https://localhost:8080/",
     "height": 0
    },
    "id": "ix5veqlvQO1d",
    "outputId": "5dc9f9f3-ebbc-4348-a7db-82043f523b19"
   },
   "outputs": [
    {
     "data": {
      "image/png": "[encoded data removed]",
      "text/plain": [
       "<Figure size 432x288 with 1 Axes>"
      ]
     },
     "metadata": {
      "needs_background": "light"
     },
     "output_type": "display_data"
    }
   ],
   "source": [
    "# Plotting the distribution of Z test statistic along with the computed test statistic\n",
    "x = np.linspace(-4, 4, 100)  # create an array of 100 numbers starting from -4 and ending at 4\n",
    "plt.plot(x, norm.pdf(x, 0, 1) )  # plot the pdf of the normal distribution\n",
    "plt.axvline(x=Computer_Science_Score, c='r')  # draw a vertical red dashed line at Mathematics\n",
    "plt.xlabel('Z Test Statistic - Computer Science')  # specify the x-axis label\n",
    "plt.ylabel('Probability Density Function (PDF)')  # specify the y-axis label\n",
    "plt.show()  # display the plot"
   ]
  },
  {
   "cell_type": "markdown",
   "metadata": {
    "id": "Xpe8ATO4QT7G"
   },
   "source": [
    "**P-Value**\n",
    "\n",
    "As this is a right-tailed test, the p-value will be the area to the right of the test statistic under the standard normal curve."
   ]
  },
  {
   "cell_type": "code",
   "execution_count": 33,
   "metadata": {
    "colab": {
     "base_uri": "https://localhost:8080/"
    },
    "id": "Igy8_Mu7QhiK",
    "outputId": "70da9580-3e50-49a3-e19c-52dbdad43901"
   },
   "outputs": [
    {
     "data": {
      "text/plain": [
       "0.5772315349175678"
      ]
     },
     "execution_count": 33,
     "metadata": {},
     "output_type": "execute_result"
    }
   ],
   "source": [
    "# calculate the p-value using the cdf() function\n",
    "1 - norm.cdf(Computer_Science_Score)"
   ]
  },
  {
   "cell_type": "markdown",
   "metadata": {
    "id": "7USwIe5nmyIp"
   },
   "source": [
    "**Observation**\n",
    "\n",
    "* As the p-value ~0.58 is greater than the level of significance (0.05), we fail to reject the null hypothesis\n",
    "* We do not have enough statistical evidence to say that the computer science score of all aspirants who enroll in the institute's program is greater than last year's cutoff of 85\n"
   ]
  },
  {
   "cell_type": "markdown",
   "metadata": {
    "id": "BFvKgjwSQHd_"
   },
   "source": [
    "###**Chemistry**"
   ]
  },
  {
   "cell_type": "markdown",
   "metadata": {
    "id": "pdqyqZPJTv5i"
   },
   "source": [
    "**Calculate the Z-statistic value**"
   ]
  },
  {
   "cell_type": "code",
   "execution_count": 61,
   "metadata": {
    "colab": {
     "base_uri": "https://localhost:8080/"
    },
    "id": "iNcqx4_DqQet",
    "outputId": "40843e68-7541-4bfe-f8e0-047944fb6768"
   },
   "outputs": [
    {
     "data": {
      "text/plain": [
       "1.7819629630458689"
      ]
     },
     "execution_count": 61,
     "metadata": {},
     "output_type": "execute_result"
    }
   ],
   "source": [
    "# set the values of population mean and population standard deviation\n",
    "mu, sigma = 85, 10\n",
    "\n",
    "# calculate the value of the sample mean from the data\n",
    "score_2 = df.Chemistry.mean()\n",
    "\n",
    "# calculate the test statistic\n",
    "Chemistry_Score = (score_2 - mu) / (sigma/np.sqrt(600))\n",
    "Chemistry_Score"
   ]
  },
  {
   "cell_type": "markdown",
   "metadata": {
    "id": "PB1AUslMyQH2"
   },
   "source": [
    "**The Z-test statistic follows a standard normal distribution.**\n",
    "\n",
    "Let's plot the distribution of the Z-test statistic and see where the computed test statistic lies in the plot."
   ]
  },
  {
   "cell_type": "code",
   "execution_count": 62,
   "metadata": {
    "colab": {
     "base_uri": "https://localhost:8080/",
     "height": 449
    },
    "id": "gT3szlOPyUwe",
    "outputId": "1b36c684-0498-4574-8c92-bb9ef70fd258"
   },
   "outputs": [
    {
     "data": {
      "image/png": "[encoded data removed]",
      "text/plain": [
       "<Figure size 432x288 with 1 Axes>"
      ]
     },
     "metadata": {
      "needs_background": "light"
     },
     "output_type": "display_data"
    }
   ],
   "source": [
    "# plotting the distribution of Z test statistic along with the computed test statistic\n",
    "# We are plotting the distributions here to better visualize the calculations\n",
    "x = np.linspace(-4, 4, 100) # create an array of 100 numbers starting from -4 and ending at 4\n",
    "plt.plot(x, norm.pdf(x, 0, 1)) # plot the pdf of the normal distribution\n",
    "plt.axvline(x = Chemistry_Score, c = 'r') # draw a vertical red line through the mentioned point\n",
    "plt.xlabel('Z Test Statistic - Chemistry')  # specify the x-axis label\n",
    "plt.ylabel('Probability Density Function (PDF)')  # specify the y-axis label\n",
    "plt.show() # display the plot"
   ]
  },
  {
   "cell_type": "markdown",
   "metadata": {
    "id": "muoGSdjtybpo"
   },
   "source": [
    "**P-Value**\n",
    "\n",
    "As this is a right-tailed test, the p-value will be the area to the right of the test statistic under the standard normal curve."
   ]
  },
  {
   "cell_type": "code",
   "execution_count": 63,
   "metadata": {
    "colab": {
     "base_uri": "https://localhost:8080/"
    },
    "id": "j_rhlOtzyimG",
    "outputId": "3c3dbebc-1a95-4748-ec97-71722e2a5b8f"
   },
   "outputs": [
    {
     "data": {
      "text/plain": [
       "0.03737763584211673"
      ]
     },
     "execution_count": 63,
     "metadata": {},
     "output_type": "execute_result"
    }
   ],
   "source": [
    "# calculate the p-value using the cdf() function\n",
    "1 - norm.cdf(Chemistry_Score)"
   ]
  },
  {
   "cell_type": "markdown",
   "metadata": {
    "id": "uRqH05_Qn3Qr"
   },
   "source": [
    "**Observation**\n",
    "\n",
    "* As the p-value ~0.03 is less than the level of significance (0.05), we have to reject the null hypothesis\n",
    "* We have enough statistical evidence to say that the chemistry score of all aspirants who enroll in the institute's program is greater than last year's cutoff of 85\n"
   ]
  },
  {
   "cell_type": "markdown",
   "metadata": {
    "id": "JzXvUoscoK3B"
   },
   "source": [
    "## **Conclusions and Recommendations**"
   ]
  },
  {
   "cell_type": "markdown",
   "metadata": {
    "id": "8tBOaLMqoN2K"
   },
   "source": [
    "\n",
    "*  The average scores in Computer Science, Chemistry, Mathematics, and Physics for students enrolled in A2Z institute's program are 84.92, 85.73, 81.73, and 82.68, respectively.\n",
    "\n",
    "\n",
    "*   For each subject, a 95% confidence interval was constructed to provide a range of average scores with a high level of confidence.\n",
    "    - Computer Science: [84.12, 85.72]\n",
    "    - Chemistry: [84.93, 86.53]\n",
    "    - Mathematics: [80.93, 82.53]\n",
    "    - Physics: [81.88, 83.48]\n",
    "\n",
    "* There wasn't enough statistical evidence to support the critic's claim that the score of mathematics and physics for all aspirants who enroll in the institute's program is less than last year's cut-off of 82.\n",
    "\n",
    "* There wasn't enough statistical evidence to support the investor's belief that the score of computer science for all aspirants who enroll in the institute's program is greater than last year's cutoff of 85.\n",
    "\n",
    "* For chemistry, enough statistcal evidence is present to support the investor's belief that the score of chemistry for all aspirants who enroll in the institute's program is greater than 85.\n",
    "\n",
    "* The institute can extend the time frame of the data (check 5-10 years of data) to get more reliable estimates of the effect of the institute's curriculum on the aspirants' performance\n",
    "\n",
    "* Overall the institute demonstrates strong performance in chemistry, physics, and mathematics, where enrolled students excel. However, there is a notable opportunity for improvement in the computer science program.\n",
    "\n",
    "    - To address this, it is recommended to implement targeted interventions and support measures to enhance the academic performance of students in the computer science program.\n",
    "\n",
    "\n",
    "\n",
    "\n"
   ]
  },
  {
   "cell_type": "markdown",
   "metadata": {
    "id": "s4YWav0Ps6Kl"
   },
   "source": [
    "___"
   ]
  }
 ],
 "metadata": {
  "colab": {
   "collapsed_sections": [
    "3BXeuML4rR7h",
    "Jk4B2nDFbUFC",
    "6WfFKuC8baxn",
    "YByu8AjAeqql",
    "6QslxB5mevN9",
    "hjxdsZmirkHa",
    "142FPzUWroO5",
    "_JvzZvFRr6A7",
    "uuKhP1hVsBOz",
    "KPS86Tdwi-jj",
    "TqnrRe5StV2a",
    "vbOHyOZXtdva",
    "eiz5_WQtuKCa",
    "Sp8KH9AJy7ap",
    "NA5nWxTAVbZ4",
    "ByIK9VkfVkn4",
    "bBGPAV0wVn3A",
    "SyXVPjmbVsJ4",
    "pSXjoex_dUMC",
    "DG8qszGkOc3Q",
    "TyZA0UhjOh1E",
    "_RWJmUSpjWYm",
    "O7oO0ztWP-lq",
    "BFvKgjwSQHd_",
    "JzXvUoscoK3B"
   ],
   "provenance": []
  },
  "kernelspec": {
   "display_name": "Python 3",
   "language": "python",
   "name": "python3"
  },
  "language_info": {
   "codemirror_mode": {
    "name": "ipython",
    "version": 3
   },
   "file_extension": ".py",
   "mimetype": "text/x-python",
   "name": "python",
   "nbconvert_exporter": "python",
   "pygments_lexer": "ipython3",
   "version": "3.8.5"
  }
 },
 "nbformat": 4,
 "nbformat_minor": 1
}
